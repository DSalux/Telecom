{
 "cells": [
  {
   "cell_type": "markdown",
   "metadata": {},
   "source": [
    "# Проект Телеком "
   ]
  },
  {
   "cell_type": "markdown",
   "metadata": {},
   "source": [
    "## Исследовательский анализ данных по проекту"
   ]
  },
  {
   "cell_type": "markdown",
   "metadata": {},
   "source": [
    "### Описание задачи"
   ]
  },
  {
   "cell_type": "markdown",
   "metadata": {},
   "source": [
    "Оператор связи «Ниединогоразрыва.ком» хочет научиться прогнозировать отток клиентов. \n",
    "\n",
    "Если выяснится, что пользователь планирует уйти, ему будут предложены промокоды и специальные условия. \n",
    "\n",
    "Команда оператора собрала персональные данные о некоторых клиентах, информацию об их тарифах и договорах.\n",
    "\n",
    "Есть следующие файлы - contract.csv, internet.csv, phone.csv, personal.csv\n",
    "\n",
    "Также доступны такие услуги:\n",
    "\n",
    "- Интернет-безопасность: антивирус (*DeviceProtection*) и блокировка небезопасных сайтов (*OnlineSecurity*);\n",
    "- Выделенная линия технической поддержки (*TechSupport*);\n",
    "- Облачное хранилище файлов для резервного копирования данных (*OnlineBackup*);\n",
    "- Стриминговое телевидение (*StreamingTV*) и каталог фильмов (*StreamingMovies*).\n",
    "\n",
    "За услуги клиенты могут платить каждый месяц или заключить договор на 1–2 года. Доступны различные способы расчёта и возможность получения электронного чека.\n",
    "\n",
    "Для начала напишем наш план работ по проекту (в 1-2 предложения необходимые шаги для получения нужного результата для заказчика)"
   ]
  },
  {
   "cell_type": "markdown",
   "metadata": {},
   "source": [
    "### План работ по проекту:"
   ]
  },
  {
   "cell_type": "markdown",
   "metadata": {},
   "source": [
    "1. Загрузим и проанализируем данные. Посмотрим тип данных, пропуски, дубликаты(хотя скорее всего customerID уникальное значение). \n",
    "\n",
    "2. Займемся углубленным анализов данных, посмотрим на влияние признаков друг на друга и на таргет. Создадим новые признаки при необходимости, у нас задача классификации - посмотри баланс классов.\n",
    "\n",
    "3. Приготовим наши данные к работе моделей - разделим на данные на выборки (сделаем размер тестовой выборки - 0.2). Возьмем 2-4 модели на выбор. Гиперпараметры для теста подберем кросс-валидацией. Выберем лучшую модель и запустим ее с выбранными гиперпарматрами на тестовой выборке. Необходимо достичь результат значения >= 0.85 на метрике AUC-ROC.\n",
    "\n",
    "4. Сделаем отчет о нашем исследовании, в который включим графики и результаты тестирования моделей. "
   ]
  },
  {
   "cell_type": "markdown",
   "metadata": {},
   "source": [
    "### Анализ данных и выводы"
   ]
  },
  {
   "cell_type": "markdown",
   "metadata": {},
   "source": [
    "Импортируем необходимые библиотеки"
   ]
  },
  {
   "cell_type": "code",
   "execution_count": 94,
   "metadata": {},
   "outputs": [],
   "source": [
    "import pandas as pd\n",
    "# Позднее добавлю остальные библиотеки в данное поле\n",
    "\n",
    "import numpy as np\n",
    "import matplotlib.pyplot as plt\n",
    "from sklearn.model_selection import train_test_split\n",
    "from sklearn.metrics import accuracy_score\n",
    "from sklearn.metrics import f1_score\n",
    "from sklearn.metrics import roc_auc_score\n",
    "from sklearn.metrics import roc_curve\n",
    "from sklearn.metrics import recall_score\n",
    "from sklearn.pipeline import make_pipeline\n",
    "from sklearn.preprocessing import OrdinalEncoder\n",
    "from sklearn.preprocessing import StandardScaler\n",
    "from sklearn.ensemble import RandomForestClassifier\n",
    "from sklearn.tree import DecisionTreeClassifier\n",
    "from sklearn.linear_model import LogisticRegression\n",
    "from sklearn.utils import shuffle\n",
    "from sklearn.model_selection import GridSearchCV\n",
    "from catboost import CatBoostClassifier\n",
    "import time"
   ]
  },
  {
   "cell_type": "code",
   "execution_count": 95,
   "metadata": {},
   "outputs": [
    {
     "name": "stdout",
     "output_type": "stream",
     "text": [
      "Requirement already satisfied: phik==0.10.0 in /opt/conda/lib/python3.9/site-packages (0.10.0)\n",
      "Requirement already satisfied: joblib>=0.14.1 in /opt/conda/lib/python3.9/site-packages (from phik==0.10.0) (1.1.0)\n",
      "Requirement already satisfied: numba>=0.38.1 in /opt/conda/lib/python3.9/site-packages (from phik==0.10.0) (0.56.0)\n",
      "Requirement already satisfied: matplotlib>=2.2.3 in /opt/conda/lib/python3.9/site-packages (from phik==0.10.0) (3.3.4)\n",
      "Requirement already satisfied: numpy>=1.15.4 in /opt/conda/lib/python3.9/site-packages (from phik==0.10.0) (1.21.1)\n",
      "Requirement already satisfied: scipy>=1.1.0 in /opt/conda/lib/python3.9/site-packages (from phik==0.10.0) (1.9.1)\n",
      "Requirement already satisfied: pandas>=0.23.4 in /opt/conda/lib/python3.9/site-packages (from phik==0.10.0) (1.2.4)\n",
      "Requirement already satisfied: pyparsing!=2.0.4,!=2.1.2,!=2.1.6,>=2.0.3 in /opt/conda/lib/python3.9/site-packages (from matplotlib>=2.2.3->phik==0.10.0) (2.4.7)\n",
      "Requirement already satisfied: cycler>=0.10 in /opt/conda/lib/python3.9/site-packages (from matplotlib>=2.2.3->phik==0.10.0) (0.11.0)\n",
      "Requirement already satisfied: kiwisolver>=1.0.1 in /opt/conda/lib/python3.9/site-packages (from matplotlib>=2.2.3->phik==0.10.0) (1.4.4)\n",
      "Requirement already satisfied: python-dateutil>=2.1 in /opt/conda/lib/python3.9/site-packages (from matplotlib>=2.2.3->phik==0.10.0) (2.8.1)\n",
      "Requirement already satisfied: pillow>=6.2.0 in /opt/conda/lib/python3.9/site-packages (from matplotlib>=2.2.3->phik==0.10.0) (8.4.0)\n",
      "Requirement already satisfied: llvmlite<0.40,>=0.39.0dev0 in /opt/conda/lib/python3.9/site-packages (from numba>=0.38.1->phik==0.10.0) (0.39.0)\n",
      "Requirement already satisfied: setuptools in /opt/conda/lib/python3.9/site-packages (from numba>=0.38.1->phik==0.10.0) (49.6.0.post20210108)\n",
      "Requirement already satisfied: pytz>=2017.3 in /opt/conda/lib/python3.9/site-packages (from pandas>=0.23.4->phik==0.10.0) (2021.1)\n",
      "Requirement already satisfied: six>=1.5 in /opt/conda/lib/python3.9/site-packages (from python-dateutil>=2.1->matplotlib>=2.2.3->phik==0.10.0) (1.16.0)\n",
      "Note: you may need to restart the kernel to use updated packages.\n"
     ]
    }
   ],
   "source": [
    "pip install phik==0.10.0"
   ]
  },
  {
   "cell_type": "code",
   "execution_count": 96,
   "metadata": {},
   "outputs": [],
   "source": [
    "import phik\n",
    "from phik.report import plot_correlation_matrix\n",
    "from phik import report"
   ]
  },
  {
   "cell_type": "markdown",
   "metadata": {},
   "source": [
    "Прочитаем наши файлы csv"
   ]
  },
  {
   "cell_type": "code",
   "execution_count": 97,
   "metadata": {},
   "outputs": [],
   "source": [
    "contract = pd.read_csv('/datasets/final_provider/contract.csv')\n",
    "internet = pd.read_csv('/datasets/final_provider/internet.csv')\n",
    "phone = pd.read_csv('/datasets/final_provider/phone.csv')\n",
    "personal = pd.read_csv('/datasets/final_provider/personal.csv')"
   ]
  },
  {
   "cell_type": "markdown",
   "metadata": {},
   "source": [
    "По очереди выведем информацию по каждой таблице методами info(), describe(), head(). Также проанализируем полученные результаты ниже"
   ]
  },
  {
   "cell_type": "code",
   "execution_count": 98,
   "metadata": {
    "scrolled": true
   },
   "outputs": [
    {
     "name": "stdout",
     "output_type": "stream",
     "text": [
      "<class 'pandas.core.frame.DataFrame'>\n",
      "RangeIndex: 7043 entries, 0 to 7042\n",
      "Data columns (total 8 columns):\n",
      " #   Column            Non-Null Count  Dtype  \n",
      "---  ------            --------------  -----  \n",
      " 0   customerID        7043 non-null   object \n",
      " 1   BeginDate         7043 non-null   object \n",
      " 2   EndDate           7043 non-null   object \n",
      " 3   Type              7043 non-null   object \n",
      " 4   PaperlessBilling  7043 non-null   object \n",
      " 5   PaymentMethod     7043 non-null   object \n",
      " 6   MonthlyCharges    7043 non-null   float64\n",
      " 7   TotalCharges      7043 non-null   object \n",
      "dtypes: float64(1), object(7)\n",
      "memory usage: 440.3+ KB\n"
     ]
    }
   ],
   "source": [
    "contract.info()"
   ]
  },
  {
   "cell_type": "code",
   "execution_count": 99,
   "metadata": {},
   "outputs": [
    {
     "data": {
      "text/html": [
       "<div>\n",
       "<style scoped>\n",
       "    .dataframe tbody tr th:only-of-type {\n",
       "        vertical-align: middle;\n",
       "    }\n",
       "\n",
       "    .dataframe tbody tr th {\n",
       "        vertical-align: top;\n",
       "    }\n",
       "\n",
       "    .dataframe thead th {\n",
       "        text-align: right;\n",
       "    }\n",
       "</style>\n",
       "<table border=\"1\" class=\"dataframe\">\n",
       "  <thead>\n",
       "    <tr style=\"text-align: right;\">\n",
       "      <th></th>\n",
       "      <th>MonthlyCharges</th>\n",
       "    </tr>\n",
       "  </thead>\n",
       "  <tbody>\n",
       "    <tr>\n",
       "      <th>count</th>\n",
       "      <td>7043.000000</td>\n",
       "    </tr>\n",
       "    <tr>\n",
       "      <th>mean</th>\n",
       "      <td>64.761692</td>\n",
       "    </tr>\n",
       "    <tr>\n",
       "      <th>std</th>\n",
       "      <td>30.090047</td>\n",
       "    </tr>\n",
       "    <tr>\n",
       "      <th>min</th>\n",
       "      <td>18.250000</td>\n",
       "    </tr>\n",
       "    <tr>\n",
       "      <th>25%</th>\n",
       "      <td>35.500000</td>\n",
       "    </tr>\n",
       "    <tr>\n",
       "      <th>50%</th>\n",
       "      <td>70.350000</td>\n",
       "    </tr>\n",
       "    <tr>\n",
       "      <th>75%</th>\n",
       "      <td>89.850000</td>\n",
       "    </tr>\n",
       "    <tr>\n",
       "      <th>max</th>\n",
       "      <td>118.750000</td>\n",
       "    </tr>\n",
       "  </tbody>\n",
       "</table>\n",
       "</div>"
      ],
      "text/plain": [
       "       MonthlyCharges\n",
       "count     7043.000000\n",
       "mean        64.761692\n",
       "std         30.090047\n",
       "min         18.250000\n",
       "25%         35.500000\n",
       "50%         70.350000\n",
       "75%         89.850000\n",
       "max        118.750000"
      ]
     },
     "execution_count": 99,
     "metadata": {},
     "output_type": "execute_result"
    }
   ],
   "source": [
    "contract.describe()"
   ]
  },
  {
   "cell_type": "code",
   "execution_count": 100,
   "metadata": {},
   "outputs": [
    {
     "data": {
      "text/html": [
       "<div>\n",
       "<style scoped>\n",
       "    .dataframe tbody tr th:only-of-type {\n",
       "        vertical-align: middle;\n",
       "    }\n",
       "\n",
       "    .dataframe tbody tr th {\n",
       "        vertical-align: top;\n",
       "    }\n",
       "\n",
       "    .dataframe thead th {\n",
       "        text-align: right;\n",
       "    }\n",
       "</style>\n",
       "<table border=\"1\" class=\"dataframe\">\n",
       "  <thead>\n",
       "    <tr style=\"text-align: right;\">\n",
       "      <th></th>\n",
       "      <th>customerID</th>\n",
       "      <th>BeginDate</th>\n",
       "      <th>EndDate</th>\n",
       "      <th>Type</th>\n",
       "      <th>PaperlessBilling</th>\n",
       "      <th>PaymentMethod</th>\n",
       "      <th>MonthlyCharges</th>\n",
       "      <th>TotalCharges</th>\n",
       "    </tr>\n",
       "  </thead>\n",
       "  <tbody>\n",
       "    <tr>\n",
       "      <th>0</th>\n",
       "      <td>7590-VHVEG</td>\n",
       "      <td>2020-01-01</td>\n",
       "      <td>No</td>\n",
       "      <td>Month-to-month</td>\n",
       "      <td>Yes</td>\n",
       "      <td>Electronic check</td>\n",
       "      <td>29.85</td>\n",
       "      <td>29.85</td>\n",
       "    </tr>\n",
       "    <tr>\n",
       "      <th>1</th>\n",
       "      <td>5575-GNVDE</td>\n",
       "      <td>2017-04-01</td>\n",
       "      <td>No</td>\n",
       "      <td>One year</td>\n",
       "      <td>No</td>\n",
       "      <td>Mailed check</td>\n",
       "      <td>56.95</td>\n",
       "      <td>1889.5</td>\n",
       "    </tr>\n",
       "    <tr>\n",
       "      <th>2</th>\n",
       "      <td>3668-QPYBK</td>\n",
       "      <td>2019-10-01</td>\n",
       "      <td>2019-12-01 00:00:00</td>\n",
       "      <td>Month-to-month</td>\n",
       "      <td>Yes</td>\n",
       "      <td>Mailed check</td>\n",
       "      <td>53.85</td>\n",
       "      <td>108.15</td>\n",
       "    </tr>\n",
       "    <tr>\n",
       "      <th>3</th>\n",
       "      <td>7795-CFOCW</td>\n",
       "      <td>2016-05-01</td>\n",
       "      <td>No</td>\n",
       "      <td>One year</td>\n",
       "      <td>No</td>\n",
       "      <td>Bank transfer (automatic)</td>\n",
       "      <td>42.30</td>\n",
       "      <td>1840.75</td>\n",
       "    </tr>\n",
       "    <tr>\n",
       "      <th>4</th>\n",
       "      <td>9237-HQITU</td>\n",
       "      <td>2019-09-01</td>\n",
       "      <td>2019-11-01 00:00:00</td>\n",
       "      <td>Month-to-month</td>\n",
       "      <td>Yes</td>\n",
       "      <td>Electronic check</td>\n",
       "      <td>70.70</td>\n",
       "      <td>151.65</td>\n",
       "    </tr>\n",
       "    <tr>\n",
       "      <th>5</th>\n",
       "      <td>9305-CDSKC</td>\n",
       "      <td>2019-03-01</td>\n",
       "      <td>2019-11-01 00:00:00</td>\n",
       "      <td>Month-to-month</td>\n",
       "      <td>Yes</td>\n",
       "      <td>Electronic check</td>\n",
       "      <td>99.65</td>\n",
       "      <td>820.5</td>\n",
       "    </tr>\n",
       "    <tr>\n",
       "      <th>6</th>\n",
       "      <td>1452-KIOVK</td>\n",
       "      <td>2018-04-01</td>\n",
       "      <td>No</td>\n",
       "      <td>Month-to-month</td>\n",
       "      <td>Yes</td>\n",
       "      <td>Credit card (automatic)</td>\n",
       "      <td>89.10</td>\n",
       "      <td>1949.4</td>\n",
       "    </tr>\n",
       "    <tr>\n",
       "      <th>7</th>\n",
       "      <td>6713-OKOMC</td>\n",
       "      <td>2019-04-01</td>\n",
       "      <td>No</td>\n",
       "      <td>Month-to-month</td>\n",
       "      <td>No</td>\n",
       "      <td>Mailed check</td>\n",
       "      <td>29.75</td>\n",
       "      <td>301.9</td>\n",
       "    </tr>\n",
       "    <tr>\n",
       "      <th>8</th>\n",
       "      <td>7892-POOKP</td>\n",
       "      <td>2017-07-01</td>\n",
       "      <td>2019-11-01 00:00:00</td>\n",
       "      <td>Month-to-month</td>\n",
       "      <td>Yes</td>\n",
       "      <td>Electronic check</td>\n",
       "      <td>104.80</td>\n",
       "      <td>3046.05</td>\n",
       "    </tr>\n",
       "    <tr>\n",
       "      <th>9</th>\n",
       "      <td>6388-TABGU</td>\n",
       "      <td>2014-12-01</td>\n",
       "      <td>No</td>\n",
       "      <td>One year</td>\n",
       "      <td>No</td>\n",
       "      <td>Bank transfer (automatic)</td>\n",
       "      <td>56.15</td>\n",
       "      <td>3487.95</td>\n",
       "    </tr>\n",
       "  </tbody>\n",
       "</table>\n",
       "</div>"
      ],
      "text/plain": [
       "   customerID   BeginDate              EndDate            Type  \\\n",
       "0  7590-VHVEG  2020-01-01                   No  Month-to-month   \n",
       "1  5575-GNVDE  2017-04-01                   No        One year   \n",
       "2  3668-QPYBK  2019-10-01  2019-12-01 00:00:00  Month-to-month   \n",
       "3  7795-CFOCW  2016-05-01                   No        One year   \n",
       "4  9237-HQITU  2019-09-01  2019-11-01 00:00:00  Month-to-month   \n",
       "5  9305-CDSKC  2019-03-01  2019-11-01 00:00:00  Month-to-month   \n",
       "6  1452-KIOVK  2018-04-01                   No  Month-to-month   \n",
       "7  6713-OKOMC  2019-04-01                   No  Month-to-month   \n",
       "8  7892-POOKP  2017-07-01  2019-11-01 00:00:00  Month-to-month   \n",
       "9  6388-TABGU  2014-12-01                   No        One year   \n",
       "\n",
       "  PaperlessBilling              PaymentMethod  MonthlyCharges TotalCharges  \n",
       "0              Yes           Electronic check           29.85        29.85  \n",
       "1               No               Mailed check           56.95       1889.5  \n",
       "2              Yes               Mailed check           53.85       108.15  \n",
       "3               No  Bank transfer (automatic)           42.30      1840.75  \n",
       "4              Yes           Electronic check           70.70       151.65  \n",
       "5              Yes           Electronic check           99.65        820.5  \n",
       "6              Yes    Credit card (automatic)           89.10       1949.4  \n",
       "7               No               Mailed check           29.75        301.9  \n",
       "8              Yes           Electronic check          104.80      3046.05  \n",
       "9               No  Bank transfer (automatic)           56.15      3487.95  "
      ]
     },
     "execution_count": 100,
     "metadata": {},
     "output_type": "execute_result"
    }
   ],
   "source": [
    "contract.head(10)"
   ]
  },
  {
   "cell_type": "code",
   "execution_count": 101,
   "metadata": {
    "scrolled": true
   },
   "outputs": [
    {
     "name": "stdout",
     "output_type": "stream",
     "text": [
      "<class 'pandas.core.frame.DataFrame'>\n",
      "RangeIndex: 5517 entries, 0 to 5516\n",
      "Data columns (total 8 columns):\n",
      " #   Column            Non-Null Count  Dtype \n",
      "---  ------            --------------  ----- \n",
      " 0   customerID        5517 non-null   object\n",
      " 1   InternetService   5517 non-null   object\n",
      " 2   OnlineSecurity    5517 non-null   object\n",
      " 3   OnlineBackup      5517 non-null   object\n",
      " 4   DeviceProtection  5517 non-null   object\n",
      " 5   TechSupport       5517 non-null   object\n",
      " 6   StreamingTV       5517 non-null   object\n",
      " 7   StreamingMovies   5517 non-null   object\n",
      "dtypes: object(8)\n",
      "memory usage: 344.9+ KB\n"
     ]
    }
   ],
   "source": [
    "internet.info()"
   ]
  },
  {
   "cell_type": "code",
   "execution_count": 102,
   "metadata": {
    "scrolled": true
   },
   "outputs": [
    {
     "data": {
      "text/html": [
       "<div>\n",
       "<style scoped>\n",
       "    .dataframe tbody tr th:only-of-type {\n",
       "        vertical-align: middle;\n",
       "    }\n",
       "\n",
       "    .dataframe tbody tr th {\n",
       "        vertical-align: top;\n",
       "    }\n",
       "\n",
       "    .dataframe thead th {\n",
       "        text-align: right;\n",
       "    }\n",
       "</style>\n",
       "<table border=\"1\" class=\"dataframe\">\n",
       "  <thead>\n",
       "    <tr style=\"text-align: right;\">\n",
       "      <th></th>\n",
       "      <th>customerID</th>\n",
       "      <th>InternetService</th>\n",
       "      <th>OnlineSecurity</th>\n",
       "      <th>OnlineBackup</th>\n",
       "      <th>DeviceProtection</th>\n",
       "      <th>TechSupport</th>\n",
       "      <th>StreamingTV</th>\n",
       "      <th>StreamingMovies</th>\n",
       "    </tr>\n",
       "  </thead>\n",
       "  <tbody>\n",
       "    <tr>\n",
       "      <th>count</th>\n",
       "      <td>5517</td>\n",
       "      <td>5517</td>\n",
       "      <td>5517</td>\n",
       "      <td>5517</td>\n",
       "      <td>5517</td>\n",
       "      <td>5517</td>\n",
       "      <td>5517</td>\n",
       "      <td>5517</td>\n",
       "    </tr>\n",
       "    <tr>\n",
       "      <th>unique</th>\n",
       "      <td>5517</td>\n",
       "      <td>2</td>\n",
       "      <td>2</td>\n",
       "      <td>2</td>\n",
       "      <td>2</td>\n",
       "      <td>2</td>\n",
       "      <td>2</td>\n",
       "      <td>2</td>\n",
       "    </tr>\n",
       "    <tr>\n",
       "      <th>top</th>\n",
       "      <td>5433-KYGHE</td>\n",
       "      <td>Fiber optic</td>\n",
       "      <td>No</td>\n",
       "      <td>No</td>\n",
       "      <td>No</td>\n",
       "      <td>No</td>\n",
       "      <td>No</td>\n",
       "      <td>No</td>\n",
       "    </tr>\n",
       "    <tr>\n",
       "      <th>freq</th>\n",
       "      <td>1</td>\n",
       "      <td>3096</td>\n",
       "      <td>3498</td>\n",
       "      <td>3088</td>\n",
       "      <td>3095</td>\n",
       "      <td>3473</td>\n",
       "      <td>2810</td>\n",
       "      <td>2785</td>\n",
       "    </tr>\n",
       "  </tbody>\n",
       "</table>\n",
       "</div>"
      ],
      "text/plain": [
       "        customerID InternetService OnlineSecurity OnlineBackup  \\\n",
       "count         5517            5517           5517         5517   \n",
       "unique        5517               2              2            2   \n",
       "top     5433-KYGHE     Fiber optic             No           No   \n",
       "freq             1            3096           3498         3088   \n",
       "\n",
       "       DeviceProtection TechSupport StreamingTV StreamingMovies  \n",
       "count              5517        5517        5517            5517  \n",
       "unique                2           2           2               2  \n",
       "top                  No          No          No              No  \n",
       "freq               3095        3473        2810            2785  "
      ]
     },
     "execution_count": 102,
     "metadata": {},
     "output_type": "execute_result"
    }
   ],
   "source": [
    "internet.describe()"
   ]
  },
  {
   "cell_type": "code",
   "execution_count": 103,
   "metadata": {},
   "outputs": [
    {
     "data": {
      "text/html": [
       "<div>\n",
       "<style scoped>\n",
       "    .dataframe tbody tr th:only-of-type {\n",
       "        vertical-align: middle;\n",
       "    }\n",
       "\n",
       "    .dataframe tbody tr th {\n",
       "        vertical-align: top;\n",
       "    }\n",
       "\n",
       "    .dataframe thead th {\n",
       "        text-align: right;\n",
       "    }\n",
       "</style>\n",
       "<table border=\"1\" class=\"dataframe\">\n",
       "  <thead>\n",
       "    <tr style=\"text-align: right;\">\n",
       "      <th></th>\n",
       "      <th>customerID</th>\n",
       "      <th>InternetService</th>\n",
       "      <th>OnlineSecurity</th>\n",
       "      <th>OnlineBackup</th>\n",
       "      <th>DeviceProtection</th>\n",
       "      <th>TechSupport</th>\n",
       "      <th>StreamingTV</th>\n",
       "      <th>StreamingMovies</th>\n",
       "    </tr>\n",
       "  </thead>\n",
       "  <tbody>\n",
       "    <tr>\n",
       "      <th>0</th>\n",
       "      <td>7590-VHVEG</td>\n",
       "      <td>DSL</td>\n",
       "      <td>No</td>\n",
       "      <td>Yes</td>\n",
       "      <td>No</td>\n",
       "      <td>No</td>\n",
       "      <td>No</td>\n",
       "      <td>No</td>\n",
       "    </tr>\n",
       "    <tr>\n",
       "      <th>1</th>\n",
       "      <td>5575-GNVDE</td>\n",
       "      <td>DSL</td>\n",
       "      <td>Yes</td>\n",
       "      <td>No</td>\n",
       "      <td>Yes</td>\n",
       "      <td>No</td>\n",
       "      <td>No</td>\n",
       "      <td>No</td>\n",
       "    </tr>\n",
       "    <tr>\n",
       "      <th>2</th>\n",
       "      <td>3668-QPYBK</td>\n",
       "      <td>DSL</td>\n",
       "      <td>Yes</td>\n",
       "      <td>Yes</td>\n",
       "      <td>No</td>\n",
       "      <td>No</td>\n",
       "      <td>No</td>\n",
       "      <td>No</td>\n",
       "    </tr>\n",
       "    <tr>\n",
       "      <th>3</th>\n",
       "      <td>7795-CFOCW</td>\n",
       "      <td>DSL</td>\n",
       "      <td>Yes</td>\n",
       "      <td>No</td>\n",
       "      <td>Yes</td>\n",
       "      <td>Yes</td>\n",
       "      <td>No</td>\n",
       "      <td>No</td>\n",
       "    </tr>\n",
       "    <tr>\n",
       "      <th>4</th>\n",
       "      <td>9237-HQITU</td>\n",
       "      <td>Fiber optic</td>\n",
       "      <td>No</td>\n",
       "      <td>No</td>\n",
       "      <td>No</td>\n",
       "      <td>No</td>\n",
       "      <td>No</td>\n",
       "      <td>No</td>\n",
       "    </tr>\n",
       "    <tr>\n",
       "      <th>5</th>\n",
       "      <td>9305-CDSKC</td>\n",
       "      <td>Fiber optic</td>\n",
       "      <td>No</td>\n",
       "      <td>No</td>\n",
       "      <td>Yes</td>\n",
       "      <td>No</td>\n",
       "      <td>Yes</td>\n",
       "      <td>Yes</td>\n",
       "    </tr>\n",
       "    <tr>\n",
       "      <th>6</th>\n",
       "      <td>1452-KIOVK</td>\n",
       "      <td>Fiber optic</td>\n",
       "      <td>No</td>\n",
       "      <td>Yes</td>\n",
       "      <td>No</td>\n",
       "      <td>No</td>\n",
       "      <td>Yes</td>\n",
       "      <td>No</td>\n",
       "    </tr>\n",
       "    <tr>\n",
       "      <th>7</th>\n",
       "      <td>6713-OKOMC</td>\n",
       "      <td>DSL</td>\n",
       "      <td>Yes</td>\n",
       "      <td>No</td>\n",
       "      <td>No</td>\n",
       "      <td>No</td>\n",
       "      <td>No</td>\n",
       "      <td>No</td>\n",
       "    </tr>\n",
       "    <tr>\n",
       "      <th>8</th>\n",
       "      <td>7892-POOKP</td>\n",
       "      <td>Fiber optic</td>\n",
       "      <td>No</td>\n",
       "      <td>No</td>\n",
       "      <td>Yes</td>\n",
       "      <td>Yes</td>\n",
       "      <td>Yes</td>\n",
       "      <td>Yes</td>\n",
       "    </tr>\n",
       "    <tr>\n",
       "      <th>9</th>\n",
       "      <td>6388-TABGU</td>\n",
       "      <td>DSL</td>\n",
       "      <td>Yes</td>\n",
       "      <td>Yes</td>\n",
       "      <td>No</td>\n",
       "      <td>No</td>\n",
       "      <td>No</td>\n",
       "      <td>No</td>\n",
       "    </tr>\n",
       "  </tbody>\n",
       "</table>\n",
       "</div>"
      ],
      "text/plain": [
       "   customerID InternetService OnlineSecurity OnlineBackup DeviceProtection  \\\n",
       "0  7590-VHVEG             DSL             No          Yes               No   \n",
       "1  5575-GNVDE             DSL            Yes           No              Yes   \n",
       "2  3668-QPYBK             DSL            Yes          Yes               No   \n",
       "3  7795-CFOCW             DSL            Yes           No              Yes   \n",
       "4  9237-HQITU     Fiber optic             No           No               No   \n",
       "5  9305-CDSKC     Fiber optic             No           No              Yes   \n",
       "6  1452-KIOVK     Fiber optic             No          Yes               No   \n",
       "7  6713-OKOMC             DSL            Yes           No               No   \n",
       "8  7892-POOKP     Fiber optic             No           No              Yes   \n",
       "9  6388-TABGU             DSL            Yes          Yes               No   \n",
       "\n",
       "  TechSupport StreamingTV StreamingMovies  \n",
       "0          No          No              No  \n",
       "1          No          No              No  \n",
       "2          No          No              No  \n",
       "3         Yes          No              No  \n",
       "4          No          No              No  \n",
       "5          No         Yes             Yes  \n",
       "6          No         Yes              No  \n",
       "7          No          No              No  \n",
       "8         Yes         Yes             Yes  \n",
       "9          No          No              No  "
      ]
     },
     "execution_count": 103,
     "metadata": {},
     "output_type": "execute_result"
    }
   ],
   "source": [
    "internet.head(10)"
   ]
  },
  {
   "cell_type": "code",
   "execution_count": 104,
   "metadata": {
    "scrolled": true
   },
   "outputs": [
    {
     "name": "stdout",
     "output_type": "stream",
     "text": [
      "<class 'pandas.core.frame.DataFrame'>\n",
      "RangeIndex: 6361 entries, 0 to 6360\n",
      "Data columns (total 2 columns):\n",
      " #   Column         Non-Null Count  Dtype \n",
      "---  ------         --------------  ----- \n",
      " 0   customerID     6361 non-null   object\n",
      " 1   MultipleLines  6361 non-null   object\n",
      "dtypes: object(2)\n",
      "memory usage: 99.5+ KB\n"
     ]
    }
   ],
   "source": [
    "phone.info()"
   ]
  },
  {
   "cell_type": "code",
   "execution_count": 105,
   "metadata": {
    "scrolled": true
   },
   "outputs": [
    {
     "data": {
      "text/html": [
       "<div>\n",
       "<style scoped>\n",
       "    .dataframe tbody tr th:only-of-type {\n",
       "        vertical-align: middle;\n",
       "    }\n",
       "\n",
       "    .dataframe tbody tr th {\n",
       "        vertical-align: top;\n",
       "    }\n",
       "\n",
       "    .dataframe thead th {\n",
       "        text-align: right;\n",
       "    }\n",
       "</style>\n",
       "<table border=\"1\" class=\"dataframe\">\n",
       "  <thead>\n",
       "    <tr style=\"text-align: right;\">\n",
       "      <th></th>\n",
       "      <th>customerID</th>\n",
       "      <th>MultipleLines</th>\n",
       "    </tr>\n",
       "  </thead>\n",
       "  <tbody>\n",
       "    <tr>\n",
       "      <th>count</th>\n",
       "      <td>6361</td>\n",
       "      <td>6361</td>\n",
       "    </tr>\n",
       "    <tr>\n",
       "      <th>unique</th>\n",
       "      <td>6361</td>\n",
       "      <td>2</td>\n",
       "    </tr>\n",
       "    <tr>\n",
       "      <th>top</th>\n",
       "      <td>1755-RMCXH</td>\n",
       "      <td>No</td>\n",
       "    </tr>\n",
       "    <tr>\n",
       "      <th>freq</th>\n",
       "      <td>1</td>\n",
       "      <td>3390</td>\n",
       "    </tr>\n",
       "  </tbody>\n",
       "</table>\n",
       "</div>"
      ],
      "text/plain": [
       "        customerID MultipleLines\n",
       "count         6361          6361\n",
       "unique        6361             2\n",
       "top     1755-RMCXH            No\n",
       "freq             1          3390"
      ]
     },
     "execution_count": 105,
     "metadata": {},
     "output_type": "execute_result"
    }
   ],
   "source": [
    "phone.describe()"
   ]
  },
  {
   "cell_type": "code",
   "execution_count": 106,
   "metadata": {},
   "outputs": [
    {
     "data": {
      "text/html": [
       "<div>\n",
       "<style scoped>\n",
       "    .dataframe tbody tr th:only-of-type {\n",
       "        vertical-align: middle;\n",
       "    }\n",
       "\n",
       "    .dataframe tbody tr th {\n",
       "        vertical-align: top;\n",
       "    }\n",
       "\n",
       "    .dataframe thead th {\n",
       "        text-align: right;\n",
       "    }\n",
       "</style>\n",
       "<table border=\"1\" class=\"dataframe\">\n",
       "  <thead>\n",
       "    <tr style=\"text-align: right;\">\n",
       "      <th></th>\n",
       "      <th>customerID</th>\n",
       "      <th>MultipleLines</th>\n",
       "    </tr>\n",
       "  </thead>\n",
       "  <tbody>\n",
       "    <tr>\n",
       "      <th>0</th>\n",
       "      <td>5575-GNVDE</td>\n",
       "      <td>No</td>\n",
       "    </tr>\n",
       "    <tr>\n",
       "      <th>1</th>\n",
       "      <td>3668-QPYBK</td>\n",
       "      <td>No</td>\n",
       "    </tr>\n",
       "    <tr>\n",
       "      <th>2</th>\n",
       "      <td>9237-HQITU</td>\n",
       "      <td>No</td>\n",
       "    </tr>\n",
       "    <tr>\n",
       "      <th>3</th>\n",
       "      <td>9305-CDSKC</td>\n",
       "      <td>Yes</td>\n",
       "    </tr>\n",
       "    <tr>\n",
       "      <th>4</th>\n",
       "      <td>1452-KIOVK</td>\n",
       "      <td>Yes</td>\n",
       "    </tr>\n",
       "    <tr>\n",
       "      <th>5</th>\n",
       "      <td>7892-POOKP</td>\n",
       "      <td>Yes</td>\n",
       "    </tr>\n",
       "    <tr>\n",
       "      <th>6</th>\n",
       "      <td>6388-TABGU</td>\n",
       "      <td>No</td>\n",
       "    </tr>\n",
       "    <tr>\n",
       "      <th>7</th>\n",
       "      <td>9763-GRSKD</td>\n",
       "      <td>No</td>\n",
       "    </tr>\n",
       "    <tr>\n",
       "      <th>8</th>\n",
       "      <td>7469-LKBCI</td>\n",
       "      <td>No</td>\n",
       "    </tr>\n",
       "    <tr>\n",
       "      <th>9</th>\n",
       "      <td>8091-TTVAX</td>\n",
       "      <td>Yes</td>\n",
       "    </tr>\n",
       "  </tbody>\n",
       "</table>\n",
       "</div>"
      ],
      "text/plain": [
       "   customerID MultipleLines\n",
       "0  5575-GNVDE            No\n",
       "1  3668-QPYBK            No\n",
       "2  9237-HQITU            No\n",
       "3  9305-CDSKC           Yes\n",
       "4  1452-KIOVK           Yes\n",
       "5  7892-POOKP           Yes\n",
       "6  6388-TABGU            No\n",
       "7  9763-GRSKD            No\n",
       "8  7469-LKBCI            No\n",
       "9  8091-TTVAX           Yes"
      ]
     },
     "execution_count": 106,
     "metadata": {},
     "output_type": "execute_result"
    }
   ],
   "source": [
    "phone.head(10)"
   ]
  },
  {
   "cell_type": "code",
   "execution_count": 107,
   "metadata": {
    "scrolled": false
   },
   "outputs": [
    {
     "name": "stdout",
     "output_type": "stream",
     "text": [
      "<class 'pandas.core.frame.DataFrame'>\n",
      "RangeIndex: 7043 entries, 0 to 7042\n",
      "Data columns (total 5 columns):\n",
      " #   Column         Non-Null Count  Dtype \n",
      "---  ------         --------------  ----- \n",
      " 0   customerID     7043 non-null   object\n",
      " 1   gender         7043 non-null   object\n",
      " 2   SeniorCitizen  7043 non-null   int64 \n",
      " 3   Partner        7043 non-null   object\n",
      " 4   Dependents     7043 non-null   object\n",
      "dtypes: int64(1), object(4)\n",
      "memory usage: 275.2+ KB\n"
     ]
    }
   ],
   "source": [
    "personal.info()"
   ]
  },
  {
   "cell_type": "code",
   "execution_count": 108,
   "metadata": {},
   "outputs": [
    {
     "data": {
      "text/html": [
       "<div>\n",
       "<style scoped>\n",
       "    .dataframe tbody tr th:only-of-type {\n",
       "        vertical-align: middle;\n",
       "    }\n",
       "\n",
       "    .dataframe tbody tr th {\n",
       "        vertical-align: top;\n",
       "    }\n",
       "\n",
       "    .dataframe thead th {\n",
       "        text-align: right;\n",
       "    }\n",
       "</style>\n",
       "<table border=\"1\" class=\"dataframe\">\n",
       "  <thead>\n",
       "    <tr style=\"text-align: right;\">\n",
       "      <th></th>\n",
       "      <th>SeniorCitizen</th>\n",
       "    </tr>\n",
       "  </thead>\n",
       "  <tbody>\n",
       "    <tr>\n",
       "      <th>count</th>\n",
       "      <td>7043.000000</td>\n",
       "    </tr>\n",
       "    <tr>\n",
       "      <th>mean</th>\n",
       "      <td>0.162147</td>\n",
       "    </tr>\n",
       "    <tr>\n",
       "      <th>std</th>\n",
       "      <td>0.368612</td>\n",
       "    </tr>\n",
       "    <tr>\n",
       "      <th>min</th>\n",
       "      <td>0.000000</td>\n",
       "    </tr>\n",
       "    <tr>\n",
       "      <th>25%</th>\n",
       "      <td>0.000000</td>\n",
       "    </tr>\n",
       "    <tr>\n",
       "      <th>50%</th>\n",
       "      <td>0.000000</td>\n",
       "    </tr>\n",
       "    <tr>\n",
       "      <th>75%</th>\n",
       "      <td>0.000000</td>\n",
       "    </tr>\n",
       "    <tr>\n",
       "      <th>max</th>\n",
       "      <td>1.000000</td>\n",
       "    </tr>\n",
       "  </tbody>\n",
       "</table>\n",
       "</div>"
      ],
      "text/plain": [
       "       SeniorCitizen\n",
       "count    7043.000000\n",
       "mean        0.162147\n",
       "std         0.368612\n",
       "min         0.000000\n",
       "25%         0.000000\n",
       "50%         0.000000\n",
       "75%         0.000000\n",
       "max         1.000000"
      ]
     },
     "execution_count": 108,
     "metadata": {},
     "output_type": "execute_result"
    }
   ],
   "source": [
    "personal.describe()"
   ]
  },
  {
   "cell_type": "code",
   "execution_count": 109,
   "metadata": {
    "scrolled": true
   },
   "outputs": [
    {
     "data": {
      "text/html": [
       "<div>\n",
       "<style scoped>\n",
       "    .dataframe tbody tr th:only-of-type {\n",
       "        vertical-align: middle;\n",
       "    }\n",
       "\n",
       "    .dataframe tbody tr th {\n",
       "        vertical-align: top;\n",
       "    }\n",
       "\n",
       "    .dataframe thead th {\n",
       "        text-align: right;\n",
       "    }\n",
       "</style>\n",
       "<table border=\"1\" class=\"dataframe\">\n",
       "  <thead>\n",
       "    <tr style=\"text-align: right;\">\n",
       "      <th></th>\n",
       "      <th>customerID</th>\n",
       "      <th>gender</th>\n",
       "      <th>SeniorCitizen</th>\n",
       "      <th>Partner</th>\n",
       "      <th>Dependents</th>\n",
       "    </tr>\n",
       "  </thead>\n",
       "  <tbody>\n",
       "    <tr>\n",
       "      <th>0</th>\n",
       "      <td>7590-VHVEG</td>\n",
       "      <td>Female</td>\n",
       "      <td>0</td>\n",
       "      <td>Yes</td>\n",
       "      <td>No</td>\n",
       "    </tr>\n",
       "    <tr>\n",
       "      <th>1</th>\n",
       "      <td>5575-GNVDE</td>\n",
       "      <td>Male</td>\n",
       "      <td>0</td>\n",
       "      <td>No</td>\n",
       "      <td>No</td>\n",
       "    </tr>\n",
       "    <tr>\n",
       "      <th>2</th>\n",
       "      <td>3668-QPYBK</td>\n",
       "      <td>Male</td>\n",
       "      <td>0</td>\n",
       "      <td>No</td>\n",
       "      <td>No</td>\n",
       "    </tr>\n",
       "    <tr>\n",
       "      <th>3</th>\n",
       "      <td>7795-CFOCW</td>\n",
       "      <td>Male</td>\n",
       "      <td>0</td>\n",
       "      <td>No</td>\n",
       "      <td>No</td>\n",
       "    </tr>\n",
       "    <tr>\n",
       "      <th>4</th>\n",
       "      <td>9237-HQITU</td>\n",
       "      <td>Female</td>\n",
       "      <td>0</td>\n",
       "      <td>No</td>\n",
       "      <td>No</td>\n",
       "    </tr>\n",
       "    <tr>\n",
       "      <th>5</th>\n",
       "      <td>9305-CDSKC</td>\n",
       "      <td>Female</td>\n",
       "      <td>0</td>\n",
       "      <td>No</td>\n",
       "      <td>No</td>\n",
       "    </tr>\n",
       "    <tr>\n",
       "      <th>6</th>\n",
       "      <td>1452-KIOVK</td>\n",
       "      <td>Male</td>\n",
       "      <td>0</td>\n",
       "      <td>No</td>\n",
       "      <td>Yes</td>\n",
       "    </tr>\n",
       "    <tr>\n",
       "      <th>7</th>\n",
       "      <td>6713-OKOMC</td>\n",
       "      <td>Female</td>\n",
       "      <td>0</td>\n",
       "      <td>No</td>\n",
       "      <td>No</td>\n",
       "    </tr>\n",
       "    <tr>\n",
       "      <th>8</th>\n",
       "      <td>7892-POOKP</td>\n",
       "      <td>Female</td>\n",
       "      <td>0</td>\n",
       "      <td>Yes</td>\n",
       "      <td>No</td>\n",
       "    </tr>\n",
       "    <tr>\n",
       "      <th>9</th>\n",
       "      <td>6388-TABGU</td>\n",
       "      <td>Male</td>\n",
       "      <td>0</td>\n",
       "      <td>No</td>\n",
       "      <td>Yes</td>\n",
       "    </tr>\n",
       "  </tbody>\n",
       "</table>\n",
       "</div>"
      ],
      "text/plain": [
       "   customerID  gender  SeniorCitizen Partner Dependents\n",
       "0  7590-VHVEG  Female              0     Yes         No\n",
       "1  5575-GNVDE    Male              0      No         No\n",
       "2  3668-QPYBK    Male              0      No         No\n",
       "3  7795-CFOCW    Male              0      No         No\n",
       "4  9237-HQITU  Female              0      No         No\n",
       "5  9305-CDSKC  Female              0      No         No\n",
       "6  1452-KIOVK    Male              0      No        Yes\n",
       "7  6713-OKOMC  Female              0      No         No\n",
       "8  7892-POOKP  Female              0     Yes         No\n",
       "9  6388-TABGU    Male              0      No        Yes"
      ]
     },
     "execution_count": 109,
     "metadata": {},
     "output_type": "execute_result"
    }
   ],
   "source": [
    "personal.head(10)"
   ]
  },
  {
   "cell_type": "markdown",
   "metadata": {},
   "source": [
    "### Выводы по первичному анализу данных\n",
    "Небольшие выводы по итогу просмотра данных и их анализу:\n",
    "\n",
    "- У нас 4 таблицы, которые объединены одним общим полем customerID, по которому можно будет соединить интересующие нас признаки в единую таблицу\n",
    "\n",
    "- В остальных таблицах у нас данные по договору (contract), данные по клиенту (personal), подключена ли телефоная и какого типа (phone), и также с интернетом (internet)\n",
    "\n",
    "- На данный момент не вижу таргета в данных(фактически он есть - но в неудобной для ML форме). У нас задача классификации - уйдет ли клиент или нет (стандартные 0-1). Будем использовать метрики классификации (по заданию AUC-ROC) . Таргет можно создать через поле с датой окончания договора в таблице contract\n",
    "\n",
    "- Также есть 2 таблицы - интернет и телефония. Есть клиенты кто пользуется и той и той услугой от компании. Есть кто пользуется кто-то одной. При объединении будут пропуски, недопустимые в моделях. Наших данных мало для удаления данных - будем ставить заглушку, скорее всего. "
   ]
  },
  {
   "cell_type": "markdown",
   "metadata": {},
   "source": [
    "### Вопросы по проекту и данным\n",
    "\n",
    "1. Можно ли в данном проекте попробовать модели сначала на минимально измененых данных, без генерации новых признаков на 1-2 моделях и далее уже с этими же моделями провести анализ и попробовать снова?\n",
    "\n",
    "2. Все остальные вопросы вроде разобрали на вебинаре, пока все понятно"
   ]
  },
  {
   "cell_type": "markdown",
   "metadata": {},
   "source": [
    "## Дополнительный анализ данных и их подготовка. Выбор моделей под метрику AUC-ROC"
   ]
  },
  {
   "cell_type": "markdown",
   "metadata": {},
   "source": [
    "### Дополнительный анализ данный"
   ]
  },
  {
   "cell_type": "markdown",
   "metadata": {},
   "source": [
    "Для начала сделаем таргет понятный для наших моделей - напишем функцию target"
   ]
  },
  {
   "cell_type": "code",
   "execution_count": 110,
   "metadata": {},
   "outputs": [],
   "source": [
    "# Сделаем следующие значения 0 - клиент остался в рамках договора, 1 - клиент прекратил работать с компанией в рамках договора\n",
    "def target(func):\n",
    "    if 'No' in func:\n",
    "        return 0\n",
    "    else:\n",
    "        return 1\n",
    "    \n",
    "contract['target'] = contract['EndDate'].apply(target)"
   ]
  },
  {
   "cell_type": "code",
   "execution_count": 111,
   "metadata": {
    "scrolled": false
   },
   "outputs": [
    {
     "data": {
      "text/html": [
       "<div>\n",
       "<style scoped>\n",
       "    .dataframe tbody tr th:only-of-type {\n",
       "        vertical-align: middle;\n",
       "    }\n",
       "\n",
       "    .dataframe tbody tr th {\n",
       "        vertical-align: top;\n",
       "    }\n",
       "\n",
       "    .dataframe thead th {\n",
       "        text-align: right;\n",
       "    }\n",
       "</style>\n",
       "<table border=\"1\" class=\"dataframe\">\n",
       "  <thead>\n",
       "    <tr style=\"text-align: right;\">\n",
       "      <th></th>\n",
       "      <th>customerID</th>\n",
       "      <th>BeginDate</th>\n",
       "      <th>EndDate</th>\n",
       "      <th>Type</th>\n",
       "      <th>PaperlessBilling</th>\n",
       "      <th>PaymentMethod</th>\n",
       "      <th>MonthlyCharges</th>\n",
       "      <th>TotalCharges</th>\n",
       "      <th>target</th>\n",
       "    </tr>\n",
       "  </thead>\n",
       "  <tbody>\n",
       "    <tr>\n",
       "      <th>0</th>\n",
       "      <td>7590-VHVEG</td>\n",
       "      <td>2020-01-01</td>\n",
       "      <td>No</td>\n",
       "      <td>Month-to-month</td>\n",
       "      <td>Yes</td>\n",
       "      <td>Electronic check</td>\n",
       "      <td>29.85</td>\n",
       "      <td>29.85</td>\n",
       "      <td>0</td>\n",
       "    </tr>\n",
       "    <tr>\n",
       "      <th>1</th>\n",
       "      <td>5575-GNVDE</td>\n",
       "      <td>2017-04-01</td>\n",
       "      <td>No</td>\n",
       "      <td>One year</td>\n",
       "      <td>No</td>\n",
       "      <td>Mailed check</td>\n",
       "      <td>56.95</td>\n",
       "      <td>1889.5</td>\n",
       "      <td>0</td>\n",
       "    </tr>\n",
       "    <tr>\n",
       "      <th>2</th>\n",
       "      <td>3668-QPYBK</td>\n",
       "      <td>2019-10-01</td>\n",
       "      <td>2019-12-01 00:00:00</td>\n",
       "      <td>Month-to-month</td>\n",
       "      <td>Yes</td>\n",
       "      <td>Mailed check</td>\n",
       "      <td>53.85</td>\n",
       "      <td>108.15</td>\n",
       "      <td>1</td>\n",
       "    </tr>\n",
       "    <tr>\n",
       "      <th>3</th>\n",
       "      <td>7795-CFOCW</td>\n",
       "      <td>2016-05-01</td>\n",
       "      <td>No</td>\n",
       "      <td>One year</td>\n",
       "      <td>No</td>\n",
       "      <td>Bank transfer (automatic)</td>\n",
       "      <td>42.30</td>\n",
       "      <td>1840.75</td>\n",
       "      <td>0</td>\n",
       "    </tr>\n",
       "    <tr>\n",
       "      <th>4</th>\n",
       "      <td>9237-HQITU</td>\n",
       "      <td>2019-09-01</td>\n",
       "      <td>2019-11-01 00:00:00</td>\n",
       "      <td>Month-to-month</td>\n",
       "      <td>Yes</td>\n",
       "      <td>Electronic check</td>\n",
       "      <td>70.70</td>\n",
       "      <td>151.65</td>\n",
       "      <td>1</td>\n",
       "    </tr>\n",
       "  </tbody>\n",
       "</table>\n",
       "</div>"
      ],
      "text/plain": [
       "   customerID   BeginDate              EndDate            Type  \\\n",
       "0  7590-VHVEG  2020-01-01                   No  Month-to-month   \n",
       "1  5575-GNVDE  2017-04-01                   No        One year   \n",
       "2  3668-QPYBK  2019-10-01  2019-12-01 00:00:00  Month-to-month   \n",
       "3  7795-CFOCW  2016-05-01                   No        One year   \n",
       "4  9237-HQITU  2019-09-01  2019-11-01 00:00:00  Month-to-month   \n",
       "\n",
       "  PaperlessBilling              PaymentMethod  MonthlyCharges TotalCharges  \\\n",
       "0              Yes           Electronic check           29.85        29.85   \n",
       "1               No               Mailed check           56.95       1889.5   \n",
       "2              Yes               Mailed check           53.85       108.15   \n",
       "3               No  Bank transfer (automatic)           42.30      1840.75   \n",
       "4              Yes           Electronic check           70.70       151.65   \n",
       "\n",
       "   target  \n",
       "0       0  \n",
       "1       0  \n",
       "2       1  \n",
       "3       0  \n",
       "4       1  "
      ]
     },
     "execution_count": 111,
     "metadata": {},
     "output_type": "execute_result"
    }
   ],
   "source": [
    "#Посмотрим результат методом head()\n",
    "contract.head()"
   ]
  },
  {
   "cell_type": "code",
   "execution_count": 112,
   "metadata": {
    "scrolled": true
   },
   "outputs": [
    {
     "data": {
      "text/plain": [
       "0    5174\n",
       "1    1869\n",
       "Name: target, dtype: int64"
      ]
     },
     "execution_count": 112,
     "metadata": {},
     "output_type": "execute_result"
    }
   ],
   "source": [
    "contract['target'].value_counts()"
   ]
  },
  {
   "cell_type": "markdown",
   "metadata": {},
   "source": [
    "Построим график"
   ]
  },
  {
   "cell_type": "code",
   "execution_count": 113,
   "metadata": {},
   "outputs": [
    {
     "name": "stdout",
     "output_type": "stream",
     "text": [
      "0    0.73463\n",
      "1    0.26537\n",
      "Name: target, dtype: float64\n"
     ]
    },
    {
     "data": {
      "text/plain": [
       "<AxesSubplot:>"
      ]
     },
     "execution_count": 113,
     "metadata": {},
     "output_type": "execute_result"
    },
    {
     "data": {
      "image/png": "[encoded data removed]",
      "text/plain": [
       "<Figure size 432x288 with 1 Axes>"
      ]
     },
     "metadata": {
      "needs_background": "light"
     },
     "output_type": "display_data"
    }
   ],
   "source": [
    "class_frequency = contract['target'].value_counts(normalize=True)\n",
    "print(class_frequency)\n",
    "class_frequency.plot(kind='bar')"
   ]
  },
  {
   "cell_type": "markdown",
   "metadata": {},
   "source": [
    "По итогу видим дисбаланс классов - ушло клиентов в 3 раза меньше, чем осталось. Будем думать как проработать этот дисбаланс в самих моделях"
   ]
  },
  {
   "cell_type": "markdown",
   "metadata": {},
   "source": [
    "Создадим новую фичу, количество месяцев, которые клиент платил за услуги компании. Для этого переведем тип данных в столбце TotalCharges в float64"
   ]
  },
  {
   "cell_type": "code",
   "execution_count": 114,
   "metadata": {},
   "outputs": [],
   "source": [
    "contract['TotalCharges']=pd.to_numeric(contract['TotalCharges'], errors='coerce')"
   ]
  },
  {
   "cell_type": "code",
   "execution_count": 115,
   "metadata": {
    "scrolled": true
   },
   "outputs": [
    {
     "name": "stdout",
     "output_type": "stream",
     "text": [
      "<class 'pandas.core.frame.DataFrame'>\n",
      "RangeIndex: 7043 entries, 0 to 7042\n",
      "Data columns (total 9 columns):\n",
      " #   Column            Non-Null Count  Dtype  \n",
      "---  ------            --------------  -----  \n",
      " 0   customerID        7043 non-null   object \n",
      " 1   BeginDate         7043 non-null   object \n",
      " 2   EndDate           7043 non-null   object \n",
      " 3   Type              7043 non-null   object \n",
      " 4   PaperlessBilling  7043 non-null   object \n",
      " 5   PaymentMethod     7043 non-null   object \n",
      " 6   MonthlyCharges    7043 non-null   float64\n",
      " 7   TotalCharges      7032 non-null   float64\n",
      " 8   target            7043 non-null   int64  \n",
      "dtypes: float64(2), int64(1), object(6)\n",
      "memory usage: 495.3+ KB\n"
     ]
    }
   ],
   "source": [
    "contract.info()"
   ]
  },
  {
   "cell_type": "code",
   "execution_count": 116,
   "metadata": {},
   "outputs": [],
   "source": [
    "contract['month'] = (contract['TotalCharges']/contract['MonthlyCharges']).round()"
   ]
  },
  {
   "cell_type": "code",
   "execution_count": 117,
   "metadata": {
    "scrolled": true
   },
   "outputs": [
    {
     "data": {
      "text/html": [
       "<div>\n",
       "<style scoped>\n",
       "    .dataframe tbody tr th:only-of-type {\n",
       "        vertical-align: middle;\n",
       "    }\n",
       "\n",
       "    .dataframe tbody tr th {\n",
       "        vertical-align: top;\n",
       "    }\n",
       "\n",
       "    .dataframe thead th {\n",
       "        text-align: right;\n",
       "    }\n",
       "</style>\n",
       "<table border=\"1\" class=\"dataframe\">\n",
       "  <thead>\n",
       "    <tr style=\"text-align: right;\">\n",
       "      <th></th>\n",
       "      <th>customerID</th>\n",
       "      <th>BeginDate</th>\n",
       "      <th>EndDate</th>\n",
       "      <th>Type</th>\n",
       "      <th>PaperlessBilling</th>\n",
       "      <th>PaymentMethod</th>\n",
       "      <th>MonthlyCharges</th>\n",
       "      <th>TotalCharges</th>\n",
       "      <th>target</th>\n",
       "      <th>month</th>\n",
       "    </tr>\n",
       "  </thead>\n",
       "  <tbody>\n",
       "    <tr>\n",
       "      <th>0</th>\n",
       "      <td>7590-VHVEG</td>\n",
       "      <td>2020-01-01</td>\n",
       "      <td>No</td>\n",
       "      <td>Month-to-month</td>\n",
       "      <td>Yes</td>\n",
       "      <td>Electronic check</td>\n",
       "      <td>29.85</td>\n",
       "      <td>29.85</td>\n",
       "      <td>0</td>\n",
       "      <td>1.0</td>\n",
       "    </tr>\n",
       "    <tr>\n",
       "      <th>1</th>\n",
       "      <td>5575-GNVDE</td>\n",
       "      <td>2017-04-01</td>\n",
       "      <td>No</td>\n",
       "      <td>One year</td>\n",
       "      <td>No</td>\n",
       "      <td>Mailed check</td>\n",
       "      <td>56.95</td>\n",
       "      <td>1889.50</td>\n",
       "      <td>0</td>\n",
       "      <td>33.0</td>\n",
       "    </tr>\n",
       "    <tr>\n",
       "      <th>2</th>\n",
       "      <td>3668-QPYBK</td>\n",
       "      <td>2019-10-01</td>\n",
       "      <td>2019-12-01 00:00:00</td>\n",
       "      <td>Month-to-month</td>\n",
       "      <td>Yes</td>\n",
       "      <td>Mailed check</td>\n",
       "      <td>53.85</td>\n",
       "      <td>108.15</td>\n",
       "      <td>1</td>\n",
       "      <td>2.0</td>\n",
       "    </tr>\n",
       "    <tr>\n",
       "      <th>3</th>\n",
       "      <td>7795-CFOCW</td>\n",
       "      <td>2016-05-01</td>\n",
       "      <td>No</td>\n",
       "      <td>One year</td>\n",
       "      <td>No</td>\n",
       "      <td>Bank transfer (automatic)</td>\n",
       "      <td>42.30</td>\n",
       "      <td>1840.75</td>\n",
       "      <td>0</td>\n",
       "      <td>44.0</td>\n",
       "    </tr>\n",
       "    <tr>\n",
       "      <th>4</th>\n",
       "      <td>9237-HQITU</td>\n",
       "      <td>2019-09-01</td>\n",
       "      <td>2019-11-01 00:00:00</td>\n",
       "      <td>Month-to-month</td>\n",
       "      <td>Yes</td>\n",
       "      <td>Electronic check</td>\n",
       "      <td>70.70</td>\n",
       "      <td>151.65</td>\n",
       "      <td>1</td>\n",
       "      <td>2.0</td>\n",
       "    </tr>\n",
       "    <tr>\n",
       "      <th>5</th>\n",
       "      <td>9305-CDSKC</td>\n",
       "      <td>2019-03-01</td>\n",
       "      <td>2019-11-01 00:00:00</td>\n",
       "      <td>Month-to-month</td>\n",
       "      <td>Yes</td>\n",
       "      <td>Electronic check</td>\n",
       "      <td>99.65</td>\n",
       "      <td>820.50</td>\n",
       "      <td>1</td>\n",
       "      <td>8.0</td>\n",
       "    </tr>\n",
       "    <tr>\n",
       "      <th>6</th>\n",
       "      <td>1452-KIOVK</td>\n",
       "      <td>2018-04-01</td>\n",
       "      <td>No</td>\n",
       "      <td>Month-to-month</td>\n",
       "      <td>Yes</td>\n",
       "      <td>Credit card (automatic)</td>\n",
       "      <td>89.10</td>\n",
       "      <td>1949.40</td>\n",
       "      <td>0</td>\n",
       "      <td>22.0</td>\n",
       "    </tr>\n",
       "    <tr>\n",
       "      <th>7</th>\n",
       "      <td>6713-OKOMC</td>\n",
       "      <td>2019-04-01</td>\n",
       "      <td>No</td>\n",
       "      <td>Month-to-month</td>\n",
       "      <td>No</td>\n",
       "      <td>Mailed check</td>\n",
       "      <td>29.75</td>\n",
       "      <td>301.90</td>\n",
       "      <td>0</td>\n",
       "      <td>10.0</td>\n",
       "    </tr>\n",
       "    <tr>\n",
       "      <th>8</th>\n",
       "      <td>7892-POOKP</td>\n",
       "      <td>2017-07-01</td>\n",
       "      <td>2019-11-01 00:00:00</td>\n",
       "      <td>Month-to-month</td>\n",
       "      <td>Yes</td>\n",
       "      <td>Electronic check</td>\n",
       "      <td>104.80</td>\n",
       "      <td>3046.05</td>\n",
       "      <td>1</td>\n",
       "      <td>29.0</td>\n",
       "    </tr>\n",
       "    <tr>\n",
       "      <th>9</th>\n",
       "      <td>6388-TABGU</td>\n",
       "      <td>2014-12-01</td>\n",
       "      <td>No</td>\n",
       "      <td>One year</td>\n",
       "      <td>No</td>\n",
       "      <td>Bank transfer (automatic)</td>\n",
       "      <td>56.15</td>\n",
       "      <td>3487.95</td>\n",
       "      <td>0</td>\n",
       "      <td>62.0</td>\n",
       "    </tr>\n",
       "    <tr>\n",
       "      <th>10</th>\n",
       "      <td>9763-GRSKD</td>\n",
       "      <td>2019-01-01</td>\n",
       "      <td>No</td>\n",
       "      <td>Month-to-month</td>\n",
       "      <td>Yes</td>\n",
       "      <td>Mailed check</td>\n",
       "      <td>49.95</td>\n",
       "      <td>587.45</td>\n",
       "      <td>0</td>\n",
       "      <td>12.0</td>\n",
       "    </tr>\n",
       "    <tr>\n",
       "      <th>11</th>\n",
       "      <td>7469-LKBCI</td>\n",
       "      <td>2018-10-01</td>\n",
       "      <td>No</td>\n",
       "      <td>Two year</td>\n",
       "      <td>No</td>\n",
       "      <td>Credit card (automatic)</td>\n",
       "      <td>18.95</td>\n",
       "      <td>326.80</td>\n",
       "      <td>0</td>\n",
       "      <td>17.0</td>\n",
       "    </tr>\n",
       "    <tr>\n",
       "      <th>12</th>\n",
       "      <td>8091-TTVAX</td>\n",
       "      <td>2015-04-01</td>\n",
       "      <td>No</td>\n",
       "      <td>One year</td>\n",
       "      <td>No</td>\n",
       "      <td>Credit card (automatic)</td>\n",
       "      <td>100.35</td>\n",
       "      <td>5681.10</td>\n",
       "      <td>0</td>\n",
       "      <td>57.0</td>\n",
       "    </tr>\n",
       "    <tr>\n",
       "      <th>13</th>\n",
       "      <td>0280-XJGEX</td>\n",
       "      <td>2015-09-01</td>\n",
       "      <td>2019-10-01 00:00:00</td>\n",
       "      <td>Month-to-month</td>\n",
       "      <td>Yes</td>\n",
       "      <td>Bank transfer (automatic)</td>\n",
       "      <td>103.70</td>\n",
       "      <td>5036.30</td>\n",
       "      <td>1</td>\n",
       "      <td>49.0</td>\n",
       "    </tr>\n",
       "    <tr>\n",
       "      <th>14</th>\n",
       "      <td>5129-JLPIS</td>\n",
       "      <td>2018-01-01</td>\n",
       "      <td>No</td>\n",
       "      <td>Month-to-month</td>\n",
       "      <td>Yes</td>\n",
       "      <td>Electronic check</td>\n",
       "      <td>105.50</td>\n",
       "      <td>2686.05</td>\n",
       "      <td>0</td>\n",
       "      <td>25.0</td>\n",
       "    </tr>\n",
       "  </tbody>\n",
       "</table>\n",
       "</div>"
      ],
      "text/plain": [
       "    customerID   BeginDate              EndDate            Type  \\\n",
       "0   7590-VHVEG  2020-01-01                   No  Month-to-month   \n",
       "1   5575-GNVDE  2017-04-01                   No        One year   \n",
       "2   3668-QPYBK  2019-10-01  2019-12-01 00:00:00  Month-to-month   \n",
       "3   7795-CFOCW  2016-05-01                   No        One year   \n",
       "4   9237-HQITU  2019-09-01  2019-11-01 00:00:00  Month-to-month   \n",
       "5   9305-CDSKC  2019-03-01  2019-11-01 00:00:00  Month-to-month   \n",
       "6   1452-KIOVK  2018-04-01                   No  Month-to-month   \n",
       "7   6713-OKOMC  2019-04-01                   No  Month-to-month   \n",
       "8   7892-POOKP  2017-07-01  2019-11-01 00:00:00  Month-to-month   \n",
       "9   6388-TABGU  2014-12-01                   No        One year   \n",
       "10  9763-GRSKD  2019-01-01                   No  Month-to-month   \n",
       "11  7469-LKBCI  2018-10-01                   No        Two year   \n",
       "12  8091-TTVAX  2015-04-01                   No        One year   \n",
       "13  0280-XJGEX  2015-09-01  2019-10-01 00:00:00  Month-to-month   \n",
       "14  5129-JLPIS  2018-01-01                   No  Month-to-month   \n",
       "\n",
       "   PaperlessBilling              PaymentMethod  MonthlyCharges  TotalCharges  \\\n",
       "0               Yes           Electronic check           29.85         29.85   \n",
       "1                No               Mailed check           56.95       1889.50   \n",
       "2               Yes               Mailed check           53.85        108.15   \n",
       "3                No  Bank transfer (automatic)           42.30       1840.75   \n",
       "4               Yes           Electronic check           70.70        151.65   \n",
       "5               Yes           Electronic check           99.65        820.50   \n",
       "6               Yes    Credit card (automatic)           89.10       1949.40   \n",
       "7                No               Mailed check           29.75        301.90   \n",
       "8               Yes           Electronic check          104.80       3046.05   \n",
       "9                No  Bank transfer (automatic)           56.15       3487.95   \n",
       "10              Yes               Mailed check           49.95        587.45   \n",
       "11               No    Credit card (automatic)           18.95        326.80   \n",
       "12               No    Credit card (automatic)          100.35       5681.10   \n",
       "13              Yes  Bank transfer (automatic)          103.70       5036.30   \n",
       "14              Yes           Electronic check          105.50       2686.05   \n",
       "\n",
       "    target  month  \n",
       "0        0    1.0  \n",
       "1        0   33.0  \n",
       "2        1    2.0  \n",
       "3        0   44.0  \n",
       "4        1    2.0  \n",
       "5        1    8.0  \n",
       "6        0   22.0  \n",
       "7        0   10.0  \n",
       "8        1   29.0  \n",
       "9        0   62.0  \n",
       "10       0   12.0  \n",
       "11       0   17.0  \n",
       "12       0   57.0  \n",
       "13       1   49.0  \n",
       "14       0   25.0  "
      ]
     },
     "execution_count": 117,
     "metadata": {},
     "output_type": "execute_result"
    }
   ],
   "source": [
    "contract.head(15)"
   ]
  },
  {
   "cell_type": "markdown",
   "metadata": {},
   "source": [
    "Вторым пунктом помимо месяца - добавим количество дней, которыми пользовался клиент пользовался услугами компании. Для этого переведем даты в формат datetime, заменим пропуски "
   ]
  },
  {
   "cell_type": "code",
   "execution_count": 118,
   "metadata": {},
   "outputs": [],
   "source": [
    "contract['EndDate']=pd.to_datetime(contract['EndDate'], dayfirst=True, errors='coerce')\n",
    "contract['BeginDate']=pd.to_datetime(contract['BeginDate'], dayfirst=True, errors='coerce')\n",
    "contract['EndDate'].fillna('2020-02-01', inplace=True)\n",
    "contract['EndDate']=pd.to_datetime(contract['EndDate'], dayfirst=True, errors='coerce')"
   ]
  },
  {
   "cell_type": "code",
   "execution_count": 119,
   "metadata": {
    "scrolled": true
   },
   "outputs": [
    {
     "name": "stdout",
     "output_type": "stream",
     "text": [
      "<class 'pandas.core.frame.DataFrame'>\n",
      "RangeIndex: 7043 entries, 0 to 7042\n",
      "Data columns (total 10 columns):\n",
      " #   Column            Non-Null Count  Dtype         \n",
      "---  ------            --------------  -----         \n",
      " 0   customerID        7043 non-null   object        \n",
      " 1   BeginDate         7043 non-null   datetime64[ns]\n",
      " 2   EndDate           7043 non-null   datetime64[ns]\n",
      " 3   Type              7043 non-null   object        \n",
      " 4   PaperlessBilling  7043 non-null   object        \n",
      " 5   PaymentMethod     7043 non-null   object        \n",
      " 6   MonthlyCharges    7043 non-null   float64       \n",
      " 7   TotalCharges      7032 non-null   float64       \n",
      " 8   target            7043 non-null   int64         \n",
      " 9   month             7032 non-null   float64       \n",
      "dtypes: datetime64[ns](2), float64(3), int64(1), object(4)\n",
      "memory usage: 550.4+ KB\n"
     ]
    },
    {
     "data": {
      "text/html": [
       "<div>\n",
       "<style scoped>\n",
       "    .dataframe tbody tr th:only-of-type {\n",
       "        vertical-align: middle;\n",
       "    }\n",
       "\n",
       "    .dataframe tbody tr th {\n",
       "        vertical-align: top;\n",
       "    }\n",
       "\n",
       "    .dataframe thead th {\n",
       "        text-align: right;\n",
       "    }\n",
       "</style>\n",
       "<table border=\"1\" class=\"dataframe\">\n",
       "  <thead>\n",
       "    <tr style=\"text-align: right;\">\n",
       "      <th></th>\n",
       "      <th>customerID</th>\n",
       "      <th>BeginDate</th>\n",
       "      <th>EndDate</th>\n",
       "      <th>Type</th>\n",
       "      <th>PaperlessBilling</th>\n",
       "      <th>PaymentMethod</th>\n",
       "      <th>MonthlyCharges</th>\n",
       "      <th>TotalCharges</th>\n",
       "      <th>target</th>\n",
       "      <th>month</th>\n",
       "    </tr>\n",
       "  </thead>\n",
       "  <tbody>\n",
       "    <tr>\n",
       "      <th>0</th>\n",
       "      <td>7590-VHVEG</td>\n",
       "      <td>2020-01-01</td>\n",
       "      <td>2020-02-01</td>\n",
       "      <td>Month-to-month</td>\n",
       "      <td>Yes</td>\n",
       "      <td>Electronic check</td>\n",
       "      <td>29.85</td>\n",
       "      <td>29.85</td>\n",
       "      <td>0</td>\n",
       "      <td>1.0</td>\n",
       "    </tr>\n",
       "    <tr>\n",
       "      <th>1</th>\n",
       "      <td>5575-GNVDE</td>\n",
       "      <td>2017-04-01</td>\n",
       "      <td>2020-02-01</td>\n",
       "      <td>One year</td>\n",
       "      <td>No</td>\n",
       "      <td>Mailed check</td>\n",
       "      <td>56.95</td>\n",
       "      <td>1889.50</td>\n",
       "      <td>0</td>\n",
       "      <td>33.0</td>\n",
       "    </tr>\n",
       "    <tr>\n",
       "      <th>2</th>\n",
       "      <td>3668-QPYBK</td>\n",
       "      <td>2019-10-01</td>\n",
       "      <td>2019-12-01</td>\n",
       "      <td>Month-to-month</td>\n",
       "      <td>Yes</td>\n",
       "      <td>Mailed check</td>\n",
       "      <td>53.85</td>\n",
       "      <td>108.15</td>\n",
       "      <td>1</td>\n",
       "      <td>2.0</td>\n",
       "    </tr>\n",
       "    <tr>\n",
       "      <th>3</th>\n",
       "      <td>7795-CFOCW</td>\n",
       "      <td>2016-05-01</td>\n",
       "      <td>2020-02-01</td>\n",
       "      <td>One year</td>\n",
       "      <td>No</td>\n",
       "      <td>Bank transfer (automatic)</td>\n",
       "      <td>42.30</td>\n",
       "      <td>1840.75</td>\n",
       "      <td>0</td>\n",
       "      <td>44.0</td>\n",
       "    </tr>\n",
       "    <tr>\n",
       "      <th>4</th>\n",
       "      <td>9237-HQITU</td>\n",
       "      <td>2019-09-01</td>\n",
       "      <td>2019-11-01</td>\n",
       "      <td>Month-to-month</td>\n",
       "      <td>Yes</td>\n",
       "      <td>Electronic check</td>\n",
       "      <td>70.70</td>\n",
       "      <td>151.65</td>\n",
       "      <td>1</td>\n",
       "      <td>2.0</td>\n",
       "    </tr>\n",
       "  </tbody>\n",
       "</table>\n",
       "</div>"
      ],
      "text/plain": [
       "   customerID  BeginDate    EndDate            Type PaperlessBilling  \\\n",
       "0  7590-VHVEG 2020-01-01 2020-02-01  Month-to-month              Yes   \n",
       "1  5575-GNVDE 2017-04-01 2020-02-01        One year               No   \n",
       "2  3668-QPYBK 2019-10-01 2019-12-01  Month-to-month              Yes   \n",
       "3  7795-CFOCW 2016-05-01 2020-02-01        One year               No   \n",
       "4  9237-HQITU 2019-09-01 2019-11-01  Month-to-month              Yes   \n",
       "\n",
       "               PaymentMethod  MonthlyCharges  TotalCharges  target  month  \n",
       "0           Electronic check           29.85         29.85       0    1.0  \n",
       "1               Mailed check           56.95       1889.50       0   33.0  \n",
       "2               Mailed check           53.85        108.15       1    2.0  \n",
       "3  Bank transfer (automatic)           42.30       1840.75       0   44.0  \n",
       "4           Electronic check           70.70        151.65       1    2.0  "
      ]
     },
     "execution_count": 119,
     "metadata": {},
     "output_type": "execute_result"
    }
   ],
   "source": [
    "contract.info()\n",
    "contract.head()"
   ]
  },
  {
   "cell_type": "markdown",
   "metadata": {},
   "source": [
    "Создадим признак - дни. Решим что позже удалить, месяц или дни"
   ]
  },
  {
   "cell_type": "code",
   "execution_count": 120,
   "metadata": {},
   "outputs": [],
   "source": [
    "contract['days'] = contract['EndDate'] - contract['BeginDate']"
   ]
  },
  {
   "cell_type": "code",
   "execution_count": 121,
   "metadata": {},
   "outputs": [],
   "source": [
    "contract['days'] = contract['days'].dt.components.days"
   ]
  },
  {
   "cell_type": "code",
   "execution_count": 122,
   "metadata": {},
   "outputs": [
    {
     "name": "stdout",
     "output_type": "stream",
     "text": [
      "<class 'pandas.core.frame.DataFrame'>\n",
      "RangeIndex: 7043 entries, 0 to 7042\n",
      "Data columns (total 11 columns):\n",
      " #   Column            Non-Null Count  Dtype         \n",
      "---  ------            --------------  -----         \n",
      " 0   customerID        7043 non-null   object        \n",
      " 1   BeginDate         7043 non-null   datetime64[ns]\n",
      " 2   EndDate           7043 non-null   datetime64[ns]\n",
      " 3   Type              7043 non-null   object        \n",
      " 4   PaperlessBilling  7043 non-null   object        \n",
      " 5   PaymentMethod     7043 non-null   object        \n",
      " 6   MonthlyCharges    7043 non-null   float64       \n",
      " 7   TotalCharges      7032 non-null   float64       \n",
      " 8   target            7043 non-null   int64         \n",
      " 9   month             7032 non-null   float64       \n",
      " 10  days              7043 non-null   int64         \n",
      "dtypes: datetime64[ns](2), float64(3), int64(2), object(4)\n",
      "memory usage: 605.4+ KB\n"
     ]
    }
   ],
   "source": [
    "contract.info()"
   ]
  },
  {
   "cell_type": "code",
   "execution_count": 123,
   "metadata": {
    "scrolled": true
   },
   "outputs": [
    {
     "data": {
      "text/html": [
       "<div>\n",
       "<style scoped>\n",
       "    .dataframe tbody tr th:only-of-type {\n",
       "        vertical-align: middle;\n",
       "    }\n",
       "\n",
       "    .dataframe tbody tr th {\n",
       "        vertical-align: top;\n",
       "    }\n",
       "\n",
       "    .dataframe thead th {\n",
       "        text-align: right;\n",
       "    }\n",
       "</style>\n",
       "<table border=\"1\" class=\"dataframe\">\n",
       "  <thead>\n",
       "    <tr style=\"text-align: right;\">\n",
       "      <th></th>\n",
       "      <th>customerID</th>\n",
       "      <th>BeginDate</th>\n",
       "      <th>EndDate</th>\n",
       "      <th>Type</th>\n",
       "      <th>PaperlessBilling</th>\n",
       "      <th>PaymentMethod</th>\n",
       "      <th>MonthlyCharges</th>\n",
       "      <th>TotalCharges</th>\n",
       "      <th>target</th>\n",
       "      <th>month</th>\n",
       "      <th>days</th>\n",
       "    </tr>\n",
       "  </thead>\n",
       "  <tbody>\n",
       "    <tr>\n",
       "      <th>0</th>\n",
       "      <td>7590-VHVEG</td>\n",
       "      <td>2020-01-01</td>\n",
       "      <td>2020-02-01</td>\n",
       "      <td>Month-to-month</td>\n",
       "      <td>Yes</td>\n",
       "      <td>Electronic check</td>\n",
       "      <td>29.85</td>\n",
       "      <td>29.85</td>\n",
       "      <td>0</td>\n",
       "      <td>1.0</td>\n",
       "      <td>31</td>\n",
       "    </tr>\n",
       "    <tr>\n",
       "      <th>1</th>\n",
       "      <td>5575-GNVDE</td>\n",
       "      <td>2017-04-01</td>\n",
       "      <td>2020-02-01</td>\n",
       "      <td>One year</td>\n",
       "      <td>No</td>\n",
       "      <td>Mailed check</td>\n",
       "      <td>56.95</td>\n",
       "      <td>1889.50</td>\n",
       "      <td>0</td>\n",
       "      <td>33.0</td>\n",
       "      <td>1036</td>\n",
       "    </tr>\n",
       "    <tr>\n",
       "      <th>2</th>\n",
       "      <td>3668-QPYBK</td>\n",
       "      <td>2019-10-01</td>\n",
       "      <td>2019-12-01</td>\n",
       "      <td>Month-to-month</td>\n",
       "      <td>Yes</td>\n",
       "      <td>Mailed check</td>\n",
       "      <td>53.85</td>\n",
       "      <td>108.15</td>\n",
       "      <td>1</td>\n",
       "      <td>2.0</td>\n",
       "      <td>61</td>\n",
       "    </tr>\n",
       "    <tr>\n",
       "      <th>3</th>\n",
       "      <td>7795-CFOCW</td>\n",
       "      <td>2016-05-01</td>\n",
       "      <td>2020-02-01</td>\n",
       "      <td>One year</td>\n",
       "      <td>No</td>\n",
       "      <td>Bank transfer (automatic)</td>\n",
       "      <td>42.30</td>\n",
       "      <td>1840.75</td>\n",
       "      <td>0</td>\n",
       "      <td>44.0</td>\n",
       "      <td>1371</td>\n",
       "    </tr>\n",
       "    <tr>\n",
       "      <th>4</th>\n",
       "      <td>9237-HQITU</td>\n",
       "      <td>2019-09-01</td>\n",
       "      <td>2019-11-01</td>\n",
       "      <td>Month-to-month</td>\n",
       "      <td>Yes</td>\n",
       "      <td>Electronic check</td>\n",
       "      <td>70.70</td>\n",
       "      <td>151.65</td>\n",
       "      <td>1</td>\n",
       "      <td>2.0</td>\n",
       "      <td>61</td>\n",
       "    </tr>\n",
       "  </tbody>\n",
       "</table>\n",
       "</div>"
      ],
      "text/plain": [
       "   customerID  BeginDate    EndDate            Type PaperlessBilling  \\\n",
       "0  7590-VHVEG 2020-01-01 2020-02-01  Month-to-month              Yes   \n",
       "1  5575-GNVDE 2017-04-01 2020-02-01        One year               No   \n",
       "2  3668-QPYBK 2019-10-01 2019-12-01  Month-to-month              Yes   \n",
       "3  7795-CFOCW 2016-05-01 2020-02-01        One year               No   \n",
       "4  9237-HQITU 2019-09-01 2019-11-01  Month-to-month              Yes   \n",
       "\n",
       "               PaymentMethod  MonthlyCharges  TotalCharges  target  month  \\\n",
       "0           Electronic check           29.85         29.85       0    1.0   \n",
       "1               Mailed check           56.95       1889.50       0   33.0   \n",
       "2               Mailed check           53.85        108.15       1    2.0   \n",
       "3  Bank transfer (automatic)           42.30       1840.75       0   44.0   \n",
       "4           Electronic check           70.70        151.65       1    2.0   \n",
       "\n",
       "   days  \n",
       "0    31  \n",
       "1  1036  \n",
       "2    61  \n",
       "3  1371  \n",
       "4    61  "
      ]
     },
     "execution_count": 123,
     "metadata": {},
     "output_type": "execute_result"
    }
   ],
   "source": [
    "contract.head()"
   ]
  },
  {
   "cell_type": "markdown",
   "metadata": {
    "scrolled": true
   },
   "source": [
    "Следующим пунктом объединим таблицы для большего числа признаков "
   ]
  },
  {
   "cell_type": "code",
   "execution_count": 124,
   "metadata": {},
   "outputs": [],
   "source": [
    "df1=pd.merge(contract, internet, how='left', on='customerID', \n",
    "             left_on=None, right_on=None, left_index=False, right_index=False)\n",
    "            \n",
    "df2=pd.merge(df1, phone, how='left', on='customerID', \n",
    "            left_on=None, right_on=None, left_index=False, right_index=False) \n",
    "# Добавил данные из таблицы personal в общую таблицу\n",
    "df=pd.merge(df2, personal, how='left', on='customerID', \n",
    "            left_on=None, right_on=None, left_index=False, right_index=False) "
   ]
  },
  {
   "cell_type": "markdown",
   "metadata": {},
   "source": [
    "Проверим результат нашего объединения"
   ]
  },
  {
   "cell_type": "code",
   "execution_count": 125,
   "metadata": {
    "scrolled": true
   },
   "outputs": [
    {
     "name": "stdout",
     "output_type": "stream",
     "text": [
      "<class 'pandas.core.frame.DataFrame'>\n",
      "Int64Index: 7043 entries, 0 to 7042\n",
      "Data columns (total 23 columns):\n",
      " #   Column            Non-Null Count  Dtype         \n",
      "---  ------            --------------  -----         \n",
      " 0   customerID        7043 non-null   object        \n",
      " 1   BeginDate         7043 non-null   datetime64[ns]\n",
      " 2   EndDate           7043 non-null   datetime64[ns]\n",
      " 3   Type              7043 non-null   object        \n",
      " 4   PaperlessBilling  7043 non-null   object        \n",
      " 5   PaymentMethod     7043 non-null   object        \n",
      " 6   MonthlyCharges    7043 non-null   float64       \n",
      " 7   TotalCharges      7032 non-null   float64       \n",
      " 8   target            7043 non-null   int64         \n",
      " 9   month             7032 non-null   float64       \n",
      " 10  days              7043 non-null   int64         \n",
      " 11  InternetService   5517 non-null   object        \n",
      " 12  OnlineSecurity    5517 non-null   object        \n",
      " 13  OnlineBackup      5517 non-null   object        \n",
      " 14  DeviceProtection  5517 non-null   object        \n",
      " 15  TechSupport       5517 non-null   object        \n",
      " 16  StreamingTV       5517 non-null   object        \n",
      " 17  StreamingMovies   5517 non-null   object        \n",
      " 18  MultipleLines     6361 non-null   object        \n",
      " 19  gender            7043 non-null   object        \n",
      " 20  SeniorCitizen     7043 non-null   int64         \n",
      " 21  Partner           7043 non-null   object        \n",
      " 22  Dependents        7043 non-null   object        \n",
      "dtypes: datetime64[ns](2), float64(3), int64(3), object(15)\n",
      "memory usage: 1.3+ MB\n"
     ]
    },
    {
     "data": {
      "text/html": [
       "<div>\n",
       "<style scoped>\n",
       "    .dataframe tbody tr th:only-of-type {\n",
       "        vertical-align: middle;\n",
       "    }\n",
       "\n",
       "    .dataframe tbody tr th {\n",
       "        vertical-align: top;\n",
       "    }\n",
       "\n",
       "    .dataframe thead th {\n",
       "        text-align: right;\n",
       "    }\n",
       "</style>\n",
       "<table border=\"1\" class=\"dataframe\">\n",
       "  <thead>\n",
       "    <tr style=\"text-align: right;\">\n",
       "      <th></th>\n",
       "      <th>customerID</th>\n",
       "      <th>BeginDate</th>\n",
       "      <th>EndDate</th>\n",
       "      <th>Type</th>\n",
       "      <th>PaperlessBilling</th>\n",
       "      <th>PaymentMethod</th>\n",
       "      <th>MonthlyCharges</th>\n",
       "      <th>TotalCharges</th>\n",
       "      <th>target</th>\n",
       "      <th>month</th>\n",
       "      <th>...</th>\n",
       "      <th>OnlineBackup</th>\n",
       "      <th>DeviceProtection</th>\n",
       "      <th>TechSupport</th>\n",
       "      <th>StreamingTV</th>\n",
       "      <th>StreamingMovies</th>\n",
       "      <th>MultipleLines</th>\n",
       "      <th>gender</th>\n",
       "      <th>SeniorCitizen</th>\n",
       "      <th>Partner</th>\n",
       "      <th>Dependents</th>\n",
       "    </tr>\n",
       "  </thead>\n",
       "  <tbody>\n",
       "    <tr>\n",
       "      <th>0</th>\n",
       "      <td>7590-VHVEG</td>\n",
       "      <td>2020-01-01</td>\n",
       "      <td>2020-02-01</td>\n",
       "      <td>Month-to-month</td>\n",
       "      <td>Yes</td>\n",
       "      <td>Electronic check</td>\n",
       "      <td>29.85</td>\n",
       "      <td>29.85</td>\n",
       "      <td>0</td>\n",
       "      <td>1.0</td>\n",
       "      <td>...</td>\n",
       "      <td>Yes</td>\n",
       "      <td>No</td>\n",
       "      <td>No</td>\n",
       "      <td>No</td>\n",
       "      <td>No</td>\n",
       "      <td>NaN</td>\n",
       "      <td>Female</td>\n",
       "      <td>0</td>\n",
       "      <td>Yes</td>\n",
       "      <td>No</td>\n",
       "    </tr>\n",
       "    <tr>\n",
       "      <th>1</th>\n",
       "      <td>5575-GNVDE</td>\n",
       "      <td>2017-04-01</td>\n",
       "      <td>2020-02-01</td>\n",
       "      <td>One year</td>\n",
       "      <td>No</td>\n",
       "      <td>Mailed check</td>\n",
       "      <td>56.95</td>\n",
       "      <td>1889.50</td>\n",
       "      <td>0</td>\n",
       "      <td>33.0</td>\n",
       "      <td>...</td>\n",
       "      <td>No</td>\n",
       "      <td>Yes</td>\n",
       "      <td>No</td>\n",
       "      <td>No</td>\n",
       "      <td>No</td>\n",
       "      <td>No</td>\n",
       "      <td>Male</td>\n",
       "      <td>0</td>\n",
       "      <td>No</td>\n",
       "      <td>No</td>\n",
       "    </tr>\n",
       "    <tr>\n",
       "      <th>2</th>\n",
       "      <td>3668-QPYBK</td>\n",
       "      <td>2019-10-01</td>\n",
       "      <td>2019-12-01</td>\n",
       "      <td>Month-to-month</td>\n",
       "      <td>Yes</td>\n",
       "      <td>Mailed check</td>\n",
       "      <td>53.85</td>\n",
       "      <td>108.15</td>\n",
       "      <td>1</td>\n",
       "      <td>2.0</td>\n",
       "      <td>...</td>\n",
       "      <td>Yes</td>\n",
       "      <td>No</td>\n",
       "      <td>No</td>\n",
       "      <td>No</td>\n",
       "      <td>No</td>\n",
       "      <td>No</td>\n",
       "      <td>Male</td>\n",
       "      <td>0</td>\n",
       "      <td>No</td>\n",
       "      <td>No</td>\n",
       "    </tr>\n",
       "    <tr>\n",
       "      <th>3</th>\n",
       "      <td>7795-CFOCW</td>\n",
       "      <td>2016-05-01</td>\n",
       "      <td>2020-02-01</td>\n",
       "      <td>One year</td>\n",
       "      <td>No</td>\n",
       "      <td>Bank transfer (automatic)</td>\n",
       "      <td>42.30</td>\n",
       "      <td>1840.75</td>\n",
       "      <td>0</td>\n",
       "      <td>44.0</td>\n",
       "      <td>...</td>\n",
       "      <td>No</td>\n",
       "      <td>Yes</td>\n",
       "      <td>Yes</td>\n",
       "      <td>No</td>\n",
       "      <td>No</td>\n",
       "      <td>NaN</td>\n",
       "      <td>Male</td>\n",
       "      <td>0</td>\n",
       "      <td>No</td>\n",
       "      <td>No</td>\n",
       "    </tr>\n",
       "    <tr>\n",
       "      <th>4</th>\n",
       "      <td>9237-HQITU</td>\n",
       "      <td>2019-09-01</td>\n",
       "      <td>2019-11-01</td>\n",
       "      <td>Month-to-month</td>\n",
       "      <td>Yes</td>\n",
       "      <td>Electronic check</td>\n",
       "      <td>70.70</td>\n",
       "      <td>151.65</td>\n",
       "      <td>1</td>\n",
       "      <td>2.0</td>\n",
       "      <td>...</td>\n",
       "      <td>No</td>\n",
       "      <td>No</td>\n",
       "      <td>No</td>\n",
       "      <td>No</td>\n",
       "      <td>No</td>\n",
       "      <td>No</td>\n",
       "      <td>Female</td>\n",
       "      <td>0</td>\n",
       "      <td>No</td>\n",
       "      <td>No</td>\n",
       "    </tr>\n",
       "    <tr>\n",
       "      <th>5</th>\n",
       "      <td>9305-CDSKC</td>\n",
       "      <td>2019-03-01</td>\n",
       "      <td>2019-11-01</td>\n",
       "      <td>Month-to-month</td>\n",
       "      <td>Yes</td>\n",
       "      <td>Electronic check</td>\n",
       "      <td>99.65</td>\n",
       "      <td>820.50</td>\n",
       "      <td>1</td>\n",
       "      <td>8.0</td>\n",
       "      <td>...</td>\n",
       "      <td>No</td>\n",
       "      <td>Yes</td>\n",
       "      <td>No</td>\n",
       "      <td>Yes</td>\n",
       "      <td>Yes</td>\n",
       "      <td>Yes</td>\n",
       "      <td>Female</td>\n",
       "      <td>0</td>\n",
       "      <td>No</td>\n",
       "      <td>No</td>\n",
       "    </tr>\n",
       "    <tr>\n",
       "      <th>6</th>\n",
       "      <td>1452-KIOVK</td>\n",
       "      <td>2018-04-01</td>\n",
       "      <td>2020-02-01</td>\n",
       "      <td>Month-to-month</td>\n",
       "      <td>Yes</td>\n",
       "      <td>Credit card (automatic)</td>\n",
       "      <td>89.10</td>\n",
       "      <td>1949.40</td>\n",
       "      <td>0</td>\n",
       "      <td>22.0</td>\n",
       "      <td>...</td>\n",
       "      <td>Yes</td>\n",
       "      <td>No</td>\n",
       "      <td>No</td>\n",
       "      <td>Yes</td>\n",
       "      <td>No</td>\n",
       "      <td>Yes</td>\n",
       "      <td>Male</td>\n",
       "      <td>0</td>\n",
       "      <td>No</td>\n",
       "      <td>Yes</td>\n",
       "    </tr>\n",
       "    <tr>\n",
       "      <th>7</th>\n",
       "      <td>6713-OKOMC</td>\n",
       "      <td>2019-04-01</td>\n",
       "      <td>2020-02-01</td>\n",
       "      <td>Month-to-month</td>\n",
       "      <td>No</td>\n",
       "      <td>Mailed check</td>\n",
       "      <td>29.75</td>\n",
       "      <td>301.90</td>\n",
       "      <td>0</td>\n",
       "      <td>10.0</td>\n",
       "      <td>...</td>\n",
       "      <td>No</td>\n",
       "      <td>No</td>\n",
       "      <td>No</td>\n",
       "      <td>No</td>\n",
       "      <td>No</td>\n",
       "      <td>NaN</td>\n",
       "      <td>Female</td>\n",
       "      <td>0</td>\n",
       "      <td>No</td>\n",
       "      <td>No</td>\n",
       "    </tr>\n",
       "    <tr>\n",
       "      <th>8</th>\n",
       "      <td>7892-POOKP</td>\n",
       "      <td>2017-07-01</td>\n",
       "      <td>2019-11-01</td>\n",
       "      <td>Month-to-month</td>\n",
       "      <td>Yes</td>\n",
       "      <td>Electronic check</td>\n",
       "      <td>104.80</td>\n",
       "      <td>3046.05</td>\n",
       "      <td>1</td>\n",
       "      <td>29.0</td>\n",
       "      <td>...</td>\n",
       "      <td>No</td>\n",
       "      <td>Yes</td>\n",
       "      <td>Yes</td>\n",
       "      <td>Yes</td>\n",
       "      <td>Yes</td>\n",
       "      <td>Yes</td>\n",
       "      <td>Female</td>\n",
       "      <td>0</td>\n",
       "      <td>Yes</td>\n",
       "      <td>No</td>\n",
       "    </tr>\n",
       "    <tr>\n",
       "      <th>9</th>\n",
       "      <td>6388-TABGU</td>\n",
       "      <td>2014-12-01</td>\n",
       "      <td>2020-02-01</td>\n",
       "      <td>One year</td>\n",
       "      <td>No</td>\n",
       "      <td>Bank transfer (automatic)</td>\n",
       "      <td>56.15</td>\n",
       "      <td>3487.95</td>\n",
       "      <td>0</td>\n",
       "      <td>62.0</td>\n",
       "      <td>...</td>\n",
       "      <td>Yes</td>\n",
       "      <td>No</td>\n",
       "      <td>No</td>\n",
       "      <td>No</td>\n",
       "      <td>No</td>\n",
       "      <td>No</td>\n",
       "      <td>Male</td>\n",
       "      <td>0</td>\n",
       "      <td>No</td>\n",
       "      <td>Yes</td>\n",
       "    </tr>\n",
       "  </tbody>\n",
       "</table>\n",
       "<p>10 rows × 23 columns</p>\n",
       "</div>"
      ],
      "text/plain": [
       "   customerID  BeginDate    EndDate            Type PaperlessBilling  \\\n",
       "0  7590-VHVEG 2020-01-01 2020-02-01  Month-to-month              Yes   \n",
       "1  5575-GNVDE 2017-04-01 2020-02-01        One year               No   \n",
       "2  3668-QPYBK 2019-10-01 2019-12-01  Month-to-month              Yes   \n",
       "3  7795-CFOCW 2016-05-01 2020-02-01        One year               No   \n",
       "4  9237-HQITU 2019-09-01 2019-11-01  Month-to-month              Yes   \n",
       "5  9305-CDSKC 2019-03-01 2019-11-01  Month-to-month              Yes   \n",
       "6  1452-KIOVK 2018-04-01 2020-02-01  Month-to-month              Yes   \n",
       "7  6713-OKOMC 2019-04-01 2020-02-01  Month-to-month               No   \n",
       "8  7892-POOKP 2017-07-01 2019-11-01  Month-to-month              Yes   \n",
       "9  6388-TABGU 2014-12-01 2020-02-01        One year               No   \n",
       "\n",
       "               PaymentMethod  MonthlyCharges  TotalCharges  target  month  \\\n",
       "0           Electronic check           29.85         29.85       0    1.0   \n",
       "1               Mailed check           56.95       1889.50       0   33.0   \n",
       "2               Mailed check           53.85        108.15       1    2.0   \n",
       "3  Bank transfer (automatic)           42.30       1840.75       0   44.0   \n",
       "4           Electronic check           70.70        151.65       1    2.0   \n",
       "5           Electronic check           99.65        820.50       1    8.0   \n",
       "6    Credit card (automatic)           89.10       1949.40       0   22.0   \n",
       "7               Mailed check           29.75        301.90       0   10.0   \n",
       "8           Electronic check          104.80       3046.05       1   29.0   \n",
       "9  Bank transfer (automatic)           56.15       3487.95       0   62.0   \n",
       "\n",
       "   ...  OnlineBackup DeviceProtection TechSupport StreamingTV StreamingMovies  \\\n",
       "0  ...           Yes               No          No          No              No   \n",
       "1  ...            No              Yes          No          No              No   \n",
       "2  ...           Yes               No          No          No              No   \n",
       "3  ...            No              Yes         Yes          No              No   \n",
       "4  ...            No               No          No          No              No   \n",
       "5  ...            No              Yes          No         Yes             Yes   \n",
       "6  ...           Yes               No          No         Yes              No   \n",
       "7  ...            No               No          No          No              No   \n",
       "8  ...            No              Yes         Yes         Yes             Yes   \n",
       "9  ...           Yes               No          No          No              No   \n",
       "\n",
       "  MultipleLines  gender SeniorCitizen Partner Dependents  \n",
       "0           NaN  Female             0     Yes         No  \n",
       "1            No    Male             0      No         No  \n",
       "2            No    Male             0      No         No  \n",
       "3           NaN    Male             0      No         No  \n",
       "4            No  Female             0      No         No  \n",
       "5           Yes  Female             0      No         No  \n",
       "6           Yes    Male             0      No        Yes  \n",
       "7           NaN  Female             0      No         No  \n",
       "8           Yes  Female             0     Yes         No  \n",
       "9            No    Male             0      No        Yes  \n",
       "\n",
       "[10 rows x 23 columns]"
      ]
     },
     "execution_count": 125,
     "metadata": {},
     "output_type": "execute_result"
    }
   ],
   "source": [
    "df.info()\n",
    "df.head(10)"
   ]
  },
  {
   "cell_type": "markdown",
   "metadata": {},
   "source": [
    "После объединения всех 3 необходимых таблиц мы имеем некоторое количество пропусков и надо с ними разобраться до начала работы над моделями\n",
    "\n",
    "Пропуски возникли по причине, что одни клиенты пользуются только услугами телефонии, а другие клиенты пользуются услугами только интернета\n",
    "\n",
    "Некоторые признаки можем также удалить - они нам не нужны, например customerID, BeginDate, EndDate, остальные данные можно закодировать после разделения выборок. Также удалим созданный столбец с месяцами, он будет сильно коррелировать со столбцом с днями\n"
   ]
  },
  {
   "cell_type": "code",
   "execution_count": 126,
   "metadata": {},
   "outputs": [],
   "source": [
    "df = df.drop(['customerID', 'BeginDate', 'EndDate','month', 'DeviceProtection', 'PaymentMethod'], axis=1)"
   ]
  },
  {
   "cell_type": "markdown",
   "metadata": {},
   "source": [
    "Далее разберемся с пропусками (заодно проверим удаление ненужных столбцов)"
   ]
  },
  {
   "cell_type": "code",
   "execution_count": 127,
   "metadata": {
    "scrolled": true
   },
   "outputs": [
    {
     "data": {
      "text/plain": [
       "Type                   0\n",
       "PaperlessBilling       0\n",
       "MonthlyCharges         0\n",
       "TotalCharges          11\n",
       "target                 0\n",
       "days                   0\n",
       "InternetService     1526\n",
       "OnlineSecurity      1526\n",
       "OnlineBackup        1526\n",
       "TechSupport         1526\n",
       "StreamingTV         1526\n",
       "StreamingMovies     1526\n",
       "MultipleLines        682\n",
       "gender                 0\n",
       "SeniorCitizen          0\n",
       "Partner                0\n",
       "Dependents             0\n",
       "dtype: int64"
      ]
     },
     "execution_count": 127,
     "metadata": {},
     "output_type": "execute_result"
    }
   ],
   "source": [
    "df.isna().sum()"
   ]
  },
  {
   "cell_type": "markdown",
   "metadata": {},
   "source": [
    "Пропуски в интернете и телефонии заполним заглушкой (нулевым значением - так как будем приводить признаки к 0-1, где 0 означает отсутствие услуги у пользователя) и предварительно удалим 11 пропусков в нашей созданной фиче с оплатой за месяц и общей оплатой"
   ]
  },
  {
   "cell_type": "code",
   "execution_count": 128,
   "metadata": {},
   "outputs": [],
   "source": [
    "df.dropna(subset = ['TotalCharges'], inplace = True)"
   ]
  },
  {
   "cell_type": "code",
   "execution_count": 129,
   "metadata": {
    "scrolled": false
   },
   "outputs": [
    {
     "data": {
      "text/plain": [
       "Fiber optic    3096\n",
       "DSL            2416\n",
       "Name: InternetService, dtype: int64"
      ]
     },
     "execution_count": 129,
     "metadata": {},
     "output_type": "execute_result"
    }
   ],
   "source": [
    "df['InternetService'].value_counts()"
   ]
  },
  {
   "cell_type": "code",
   "execution_count": 130,
   "metadata": {
    "scrolled": false
   },
   "outputs": [],
   "source": [
    "# В столбце, который мы рассмотрели выше - есть 2 значения DSL и Fiber optic. Пропуски заменим на No\n",
    "df['InternetService']=df['InternetService'].fillna('No')\n",
    "\n",
    "# В остальных признаках с пропусками есть четкое разделение Yes - услуга подключена, No - услуга не подключена\n",
    "# у клиентов, которые пользуются телефонией без интернета при слиянии таблиц образовались пропуски (и наоборот)\n",
    "# Для таких пропусков заменим Nan на NO - услуга этому клиенту не предоставляется\n",
    "df['OnlineSecurity']=df['OnlineSecurity'].fillna('No')\n",
    "df['OnlineBackup']=df['OnlineBackup'].fillna('No')\n",
    "#df['DeviceProtection']=df['DeviceProtection'].fillna('No')\n",
    "df['TechSupport']=df['TechSupport'].fillna('No')\n",
    "df['StreamingTV']=df['StreamingTV'].fillna('No')\n",
    "df['StreamingMovies']=df['StreamingMovies'].fillna('No')\n",
    "df['MultipleLines']=df['MultipleLines'].fillna('No')"
   ]
  },
  {
   "cell_type": "markdown",
   "metadata": {
    "scrolled": false
   },
   "source": [
    "Проверим на пропуски наш общий датасет после всех преобразований"
   ]
  },
  {
   "cell_type": "code",
   "execution_count": 131,
   "metadata": {
    "scrolled": false
   },
   "outputs": [
    {
     "name": "stdout",
     "output_type": "stream",
     "text": [
      "<class 'pandas.core.frame.DataFrame'>\n",
      "Int64Index: 7032 entries, 0 to 7042\n",
      "Data columns (total 17 columns):\n",
      " #   Column            Non-Null Count  Dtype  \n",
      "---  ------            --------------  -----  \n",
      " 0   Type              7032 non-null   object \n",
      " 1   PaperlessBilling  7032 non-null   object \n",
      " 2   MonthlyCharges    7032 non-null   float64\n",
      " 3   TotalCharges      7032 non-null   float64\n",
      " 4   target            7032 non-null   int64  \n",
      " 5   days              7032 non-null   int64  \n",
      " 6   InternetService   7032 non-null   object \n",
      " 7   OnlineSecurity    7032 non-null   object \n",
      " 8   OnlineBackup      7032 non-null   object \n",
      " 9   TechSupport       7032 non-null   object \n",
      " 10  StreamingTV       7032 non-null   object \n",
      " 11  StreamingMovies   7032 non-null   object \n",
      " 12  MultipleLines     7032 non-null   object \n",
      " 13  gender            7032 non-null   object \n",
      " 14  SeniorCitizen     7032 non-null   int64  \n",
      " 15  Partner           7032 non-null   object \n",
      " 16  Dependents        7032 non-null   object \n",
      "dtypes: float64(2), int64(3), object(12)\n",
      "memory usage: 988.9+ KB\n"
     ]
    }
   ],
   "source": [
    "df.info()"
   ]
  },
  {
   "cell_type": "code",
   "execution_count": 132,
   "metadata": {},
   "outputs": [
    {
     "data": {
      "text/html": [
       "<div>\n",
       "<style scoped>\n",
       "    .dataframe tbody tr th:only-of-type {\n",
       "        vertical-align: middle;\n",
       "    }\n",
       "\n",
       "    .dataframe tbody tr th {\n",
       "        vertical-align: top;\n",
       "    }\n",
       "\n",
       "    .dataframe thead th {\n",
       "        text-align: right;\n",
       "    }\n",
       "</style>\n",
       "<table border=\"1\" class=\"dataframe\">\n",
       "  <thead>\n",
       "    <tr style=\"text-align: right;\">\n",
       "      <th></th>\n",
       "      <th>Type</th>\n",
       "      <th>PaperlessBilling</th>\n",
       "      <th>MonthlyCharges</th>\n",
       "      <th>TotalCharges</th>\n",
       "      <th>target</th>\n",
       "      <th>days</th>\n",
       "      <th>InternetService</th>\n",
       "      <th>OnlineSecurity</th>\n",
       "      <th>OnlineBackup</th>\n",
       "      <th>TechSupport</th>\n",
       "      <th>StreamingTV</th>\n",
       "      <th>StreamingMovies</th>\n",
       "      <th>MultipleLines</th>\n",
       "      <th>gender</th>\n",
       "      <th>SeniorCitizen</th>\n",
       "      <th>Partner</th>\n",
       "      <th>Dependents</th>\n",
       "    </tr>\n",
       "  </thead>\n",
       "  <tbody>\n",
       "    <tr>\n",
       "      <th>0</th>\n",
       "      <td>Month-to-month</td>\n",
       "      <td>Yes</td>\n",
       "      <td>29.85</td>\n",
       "      <td>29.85</td>\n",
       "      <td>0</td>\n",
       "      <td>31</td>\n",
       "      <td>DSL</td>\n",
       "      <td>No</td>\n",
       "      <td>Yes</td>\n",
       "      <td>No</td>\n",
       "      <td>No</td>\n",
       "      <td>No</td>\n",
       "      <td>No</td>\n",
       "      <td>Female</td>\n",
       "      <td>0</td>\n",
       "      <td>Yes</td>\n",
       "      <td>No</td>\n",
       "    </tr>\n",
       "    <tr>\n",
       "      <th>1</th>\n",
       "      <td>One year</td>\n",
       "      <td>No</td>\n",
       "      <td>56.95</td>\n",
       "      <td>1889.50</td>\n",
       "      <td>0</td>\n",
       "      <td>1036</td>\n",
       "      <td>DSL</td>\n",
       "      <td>Yes</td>\n",
       "      <td>No</td>\n",
       "      <td>No</td>\n",
       "      <td>No</td>\n",
       "      <td>No</td>\n",
       "      <td>No</td>\n",
       "      <td>Male</td>\n",
       "      <td>0</td>\n",
       "      <td>No</td>\n",
       "      <td>No</td>\n",
       "    </tr>\n",
       "    <tr>\n",
       "      <th>2</th>\n",
       "      <td>Month-to-month</td>\n",
       "      <td>Yes</td>\n",
       "      <td>53.85</td>\n",
       "      <td>108.15</td>\n",
       "      <td>1</td>\n",
       "      <td>61</td>\n",
       "      <td>DSL</td>\n",
       "      <td>Yes</td>\n",
       "      <td>Yes</td>\n",
       "      <td>No</td>\n",
       "      <td>No</td>\n",
       "      <td>No</td>\n",
       "      <td>No</td>\n",
       "      <td>Male</td>\n",
       "      <td>0</td>\n",
       "      <td>No</td>\n",
       "      <td>No</td>\n",
       "    </tr>\n",
       "    <tr>\n",
       "      <th>3</th>\n",
       "      <td>One year</td>\n",
       "      <td>No</td>\n",
       "      <td>42.30</td>\n",
       "      <td>1840.75</td>\n",
       "      <td>0</td>\n",
       "      <td>1371</td>\n",
       "      <td>DSL</td>\n",
       "      <td>Yes</td>\n",
       "      <td>No</td>\n",
       "      <td>Yes</td>\n",
       "      <td>No</td>\n",
       "      <td>No</td>\n",
       "      <td>No</td>\n",
       "      <td>Male</td>\n",
       "      <td>0</td>\n",
       "      <td>No</td>\n",
       "      <td>No</td>\n",
       "    </tr>\n",
       "    <tr>\n",
       "      <th>4</th>\n",
       "      <td>Month-to-month</td>\n",
       "      <td>Yes</td>\n",
       "      <td>70.70</td>\n",
       "      <td>151.65</td>\n",
       "      <td>1</td>\n",
       "      <td>61</td>\n",
       "      <td>Fiber optic</td>\n",
       "      <td>No</td>\n",
       "      <td>No</td>\n",
       "      <td>No</td>\n",
       "      <td>No</td>\n",
       "      <td>No</td>\n",
       "      <td>No</td>\n",
       "      <td>Female</td>\n",
       "      <td>0</td>\n",
       "      <td>No</td>\n",
       "      <td>No</td>\n",
       "    </tr>\n",
       "  </tbody>\n",
       "</table>\n",
       "</div>"
      ],
      "text/plain": [
       "             Type PaperlessBilling  MonthlyCharges  TotalCharges  target  \\\n",
       "0  Month-to-month              Yes           29.85         29.85       0   \n",
       "1        One year               No           56.95       1889.50       0   \n",
       "2  Month-to-month              Yes           53.85        108.15       1   \n",
       "3        One year               No           42.30       1840.75       0   \n",
       "4  Month-to-month              Yes           70.70        151.65       1   \n",
       "\n",
       "   days InternetService OnlineSecurity OnlineBackup TechSupport StreamingTV  \\\n",
       "0    31             DSL             No          Yes          No          No   \n",
       "1  1036             DSL            Yes           No          No          No   \n",
       "2    61             DSL            Yes          Yes          No          No   \n",
       "3  1371             DSL            Yes           No         Yes          No   \n",
       "4    61     Fiber optic             No           No          No          No   \n",
       "\n",
       "  StreamingMovies MultipleLines  gender  SeniorCitizen Partner Dependents  \n",
       "0              No            No  Female              0     Yes         No  \n",
       "1              No            No    Male              0      No         No  \n",
       "2              No            No    Male              0      No         No  \n",
       "3              No            No    Male              0      No         No  \n",
       "4              No            No  Female              0      No         No  "
      ]
     },
     "execution_count": 132,
     "metadata": {},
     "output_type": "execute_result"
    }
   ],
   "source": [
    "df.head()"
   ]
  },
  {
   "cell_type": "markdown",
   "metadata": {},
   "source": [
    "Проверили результат - у нас нет пропусков в данных. Следующим шагом сделам кодировку данных, обратим все наши Yes/No в понятные 0-1"
   ]
  },
  {
   "cell_type": "markdown",
   "metadata": {},
   "source": [
    "Проверим оставшиеся столбцы на мультеколлениарность с нашим таргетом перед обучением моделей с помощью phik"
   ]
  },
  {
   "cell_type": "code",
   "execution_count": 133,
   "metadata": {
    "scrolled": true
   },
   "outputs": [
    {
     "name": "stdout",
     "output_type": "stream",
     "text": [
      "interval columns not set, guessing: ['MonthlyCharges', 'TotalCharges', 'target', 'days', 'SeniorCitizen']\n"
     ]
    },
    {
     "data": {
      "text/html": [
       "<div>\n",
       "<style scoped>\n",
       "    .dataframe tbody tr th:only-of-type {\n",
       "        vertical-align: middle;\n",
       "    }\n",
       "\n",
       "    .dataframe tbody tr th {\n",
       "        vertical-align: top;\n",
       "    }\n",
       "\n",
       "    .dataframe thead th {\n",
       "        text-align: right;\n",
       "    }\n",
       "</style>\n",
       "<table border=\"1\" class=\"dataframe\">\n",
       "  <thead>\n",
       "    <tr style=\"text-align: right;\">\n",
       "      <th></th>\n",
       "      <th>Type</th>\n",
       "      <th>PaperlessBilling</th>\n",
       "      <th>MonthlyCharges</th>\n",
       "      <th>TotalCharges</th>\n",
       "      <th>target</th>\n",
       "      <th>days</th>\n",
       "      <th>InternetService</th>\n",
       "      <th>OnlineSecurity</th>\n",
       "      <th>OnlineBackup</th>\n",
       "      <th>TechSupport</th>\n",
       "      <th>StreamingTV</th>\n",
       "      <th>StreamingMovies</th>\n",
       "      <th>MultipleLines</th>\n",
       "      <th>gender</th>\n",
       "      <th>SeniorCitizen</th>\n",
       "      <th>Partner</th>\n",
       "      <th>Dependents</th>\n",
       "    </tr>\n",
       "  </thead>\n",
       "  <tbody>\n",
       "    <tr>\n",
       "      <th>Type</th>\n",
       "      <td>1.000000</td>\n",
       "      <td>0.106151</td>\n",
       "      <td>0.388557</td>\n",
       "      <td>0.507638</td>\n",
       "      <td>0.251283</td>\n",
       "      <td>0.666958</td>\n",
       "      <td>0.503776</td>\n",
       "      <td>0.152239</td>\n",
       "      <td>0.099016</td>\n",
       "      <td>0.180169</td>\n",
       "      <td>0.067123</td>\n",
       "      <td>0.070375</td>\n",
       "      <td>0.065750</td>\n",
       "      <td>0.000000</td>\n",
       "      <td>0.085800</td>\n",
       "      <td>0.179294</td>\n",
       "      <td>0.146126</td>\n",
       "    </tr>\n",
       "    <tr>\n",
       "      <th>PaperlessBilling</th>\n",
       "      <td>0.106151</td>\n",
       "      <td>1.000000</td>\n",
       "      <td>0.467547</td>\n",
       "      <td>0.205050</td>\n",
       "      <td>0.295194</td>\n",
       "      <td>0.000000</td>\n",
       "      <td>0.231145</td>\n",
       "      <td>0.000000</td>\n",
       "      <td>0.196937</td>\n",
       "      <td>0.055354</td>\n",
       "      <td>0.344114</td>\n",
       "      <td>0.325351</td>\n",
       "      <td>0.253299</td>\n",
       "      <td>0.000000</td>\n",
       "      <td>0.241715</td>\n",
       "      <td>0.010489</td>\n",
       "      <td>0.170650</td>\n",
       "    </tr>\n",
       "    <tr>\n",
       "      <th>MonthlyCharges</th>\n",
       "      <td>0.388557</td>\n",
       "      <td>0.467547</td>\n",
       "      <td>1.000000</td>\n",
       "      <td>0.762904</td>\n",
       "      <td>0.359623</td>\n",
       "      <td>0.409989</td>\n",
       "      <td>0.919005</td>\n",
       "      <td>0.550855</td>\n",
       "      <td>0.629276</td>\n",
       "      <td>0.576163</td>\n",
       "      <td>0.835680</td>\n",
       "      <td>0.833111</td>\n",
       "      <td>0.676393</td>\n",
       "      <td>0.005522</td>\n",
       "      <td>0.304546</td>\n",
       "      <td>0.204575</td>\n",
       "      <td>0.182283</td>\n",
       "    </tr>\n",
       "    <tr>\n",
       "      <th>TotalCharges</th>\n",
       "      <td>0.507638</td>\n",
       "      <td>0.205050</td>\n",
       "      <td>0.762904</td>\n",
       "      <td>1.000000</td>\n",
       "      <td>0.280973</td>\n",
       "      <td>0.842068</td>\n",
       "      <td>0.507972</td>\n",
       "      <td>0.545578</td>\n",
       "      <td>0.656039</td>\n",
       "      <td>0.567056</td>\n",
       "      <td>0.660452</td>\n",
       "      <td>0.666068</td>\n",
       "      <td>0.606423</td>\n",
       "      <td>0.000000</td>\n",
       "      <td>0.148024</td>\n",
       "      <td>0.424655</td>\n",
       "      <td>0.118247</td>\n",
       "    </tr>\n",
       "    <tr>\n",
       "      <th>target</th>\n",
       "      <td>0.251283</td>\n",
       "      <td>0.295194</td>\n",
       "      <td>0.359623</td>\n",
       "      <td>0.280973</td>\n",
       "      <td>1.000000</td>\n",
       "      <td>0.473761</td>\n",
       "      <td>0.195860</td>\n",
       "      <td>0.264645</td>\n",
       "      <td>0.127052</td>\n",
       "      <td>0.254678</td>\n",
       "      <td>0.096903</td>\n",
       "      <td>0.093088</td>\n",
       "      <td>0.059462</td>\n",
       "      <td>0.000000</td>\n",
       "      <td>0.232897</td>\n",
       "      <td>0.232215</td>\n",
       "      <td>0.252268</td>\n",
       "    </tr>\n",
       "    <tr>\n",
       "      <th>days</th>\n",
       "      <td>0.666958</td>\n",
       "      <td>0.000000</td>\n",
       "      <td>0.409989</td>\n",
       "      <td>0.842068</td>\n",
       "      <td>0.473761</td>\n",
       "      <td>1.000000</td>\n",
       "      <td>0.012927</td>\n",
       "      <td>0.425021</td>\n",
       "      <td>0.466439</td>\n",
       "      <td>0.424046</td>\n",
       "      <td>0.361518</td>\n",
       "      <td>0.368627</td>\n",
       "      <td>0.433857</td>\n",
       "      <td>0.000000</td>\n",
       "      <td>0.028044</td>\n",
       "      <td>0.492490</td>\n",
       "      <td>0.214108</td>\n",
       "    </tr>\n",
       "    <tr>\n",
       "      <th>InternetService</th>\n",
       "      <td>0.503776</td>\n",
       "      <td>0.231145</td>\n",
       "      <td>0.919005</td>\n",
       "      <td>0.507972</td>\n",
       "      <td>0.195860</td>\n",
       "      <td>0.012927</td>\n",
       "      <td>1.000000</td>\n",
       "      <td>0.240905</td>\n",
       "      <td>0.233205</td>\n",
       "      <td>0.239149</td>\n",
       "      <td>0.272629</td>\n",
       "      <td>0.272562</td>\n",
       "      <td>0.225602</td>\n",
       "      <td>0.000000</td>\n",
       "      <td>0.160452</td>\n",
       "      <td>0.000000</td>\n",
       "      <td>0.107328</td>\n",
       "    </tr>\n",
       "    <tr>\n",
       "      <th>OnlineSecurity</th>\n",
       "      <td>0.152239</td>\n",
       "      <td>0.000000</td>\n",
       "      <td>0.550855</td>\n",
       "      <td>0.545578</td>\n",
       "      <td>0.264645</td>\n",
       "      <td>0.425021</td>\n",
       "      <td>0.240905</td>\n",
       "      <td>1.000000</td>\n",
       "      <td>0.429646</td>\n",
       "      <td>0.527759</td>\n",
       "      <td>0.271134</td>\n",
       "      <td>0.289137</td>\n",
       "      <td>0.152640</td>\n",
       "      <td>0.016788</td>\n",
       "      <td>0.056897</td>\n",
       "      <td>0.222040</td>\n",
       "      <td>0.124648</td>\n",
       "    </tr>\n",
       "    <tr>\n",
       "      <th>OnlineBackup</th>\n",
       "      <td>0.099016</td>\n",
       "      <td>0.196937</td>\n",
       "      <td>0.629276</td>\n",
       "      <td>0.656039</td>\n",
       "      <td>0.127052</td>\n",
       "      <td>0.466439</td>\n",
       "      <td>0.233205</td>\n",
       "      <td>0.429646</td>\n",
       "      <td>1.000000</td>\n",
       "      <td>0.444385</td>\n",
       "      <td>0.427288</td>\n",
       "      <td>0.417200</td>\n",
       "      <td>0.311389</td>\n",
       "      <td>0.007277</td>\n",
       "      <td>0.102206</td>\n",
       "      <td>0.219762</td>\n",
       "      <td>0.031464</td>\n",
       "    </tr>\n",
       "    <tr>\n",
       "      <th>TechSupport</th>\n",
       "      <td>0.180169</td>\n",
       "      <td>0.055354</td>\n",
       "      <td>0.576163</td>\n",
       "      <td>0.567056</td>\n",
       "      <td>0.254678</td>\n",
       "      <td>0.424046</td>\n",
       "      <td>0.239149</td>\n",
       "      <td>0.527759</td>\n",
       "      <td>0.444385</td>\n",
       "      <td>1.000000</td>\n",
       "      <td>0.421497</td>\n",
       "      <td>0.425211</td>\n",
       "      <td>0.155502</td>\n",
       "      <td>0.000000</td>\n",
       "      <td>0.092485</td>\n",
       "      <td>0.186312</td>\n",
       "      <td>0.096565</td>\n",
       "    </tr>\n",
       "    <tr>\n",
       "      <th>StreamingTV</th>\n",
       "      <td>0.067123</td>\n",
       "      <td>0.344114</td>\n",
       "      <td>0.835680</td>\n",
       "      <td>0.660452</td>\n",
       "      <td>0.096903</td>\n",
       "      <td>0.361518</td>\n",
       "      <td>0.272629</td>\n",
       "      <td>0.271134</td>\n",
       "      <td>0.427288</td>\n",
       "      <td>0.421497</td>\n",
       "      <td>1.000000</td>\n",
       "      <td>0.742780</td>\n",
       "      <td>0.393180</td>\n",
       "      <td>0.000000</td>\n",
       "      <td>0.163223</td>\n",
       "      <td>0.192973</td>\n",
       "      <td>0.017176</td>\n",
       "    </tr>\n",
       "    <tr>\n",
       "      <th>StreamingMovies</th>\n",
       "      <td>0.070375</td>\n",
       "      <td>0.325351</td>\n",
       "      <td>0.833111</td>\n",
       "      <td>0.666068</td>\n",
       "      <td>0.093088</td>\n",
       "      <td>0.368627</td>\n",
       "      <td>0.272562</td>\n",
       "      <td>0.289137</td>\n",
       "      <td>0.417200</td>\n",
       "      <td>0.425211</td>\n",
       "      <td>0.742780</td>\n",
       "      <td>1.000000</td>\n",
       "      <td>0.395191</td>\n",
       "      <td>0.000000</td>\n",
       "      <td>0.185621</td>\n",
       "      <td>0.183090</td>\n",
       "      <td>0.056742</td>\n",
       "    </tr>\n",
       "    <tr>\n",
       "      <th>MultipleLines</th>\n",
       "      <td>0.065750</td>\n",
       "      <td>0.253299</td>\n",
       "      <td>0.676393</td>\n",
       "      <td>0.606423</td>\n",
       "      <td>0.059462</td>\n",
       "      <td>0.433857</td>\n",
       "      <td>0.225602</td>\n",
       "      <td>0.152640</td>\n",
       "      <td>0.311389</td>\n",
       "      <td>0.155502</td>\n",
       "      <td>0.393180</td>\n",
       "      <td>0.395191</td>\n",
       "      <td>1.000000</td>\n",
       "      <td>0.000000</td>\n",
       "      <td>0.221386</td>\n",
       "      <td>0.220874</td>\n",
       "      <td>0.032697</td>\n",
       "    </tr>\n",
       "    <tr>\n",
       "      <th>gender</th>\n",
       "      <td>0.000000</td>\n",
       "      <td>0.000000</td>\n",
       "      <td>0.005522</td>\n",
       "      <td>0.000000</td>\n",
       "      <td>0.000000</td>\n",
       "      <td>0.000000</td>\n",
       "      <td>0.000000</td>\n",
       "      <td>0.016788</td>\n",
       "      <td>0.007277</td>\n",
       "      <td>0.000000</td>\n",
       "      <td>0.000000</td>\n",
       "      <td>0.000000</td>\n",
       "      <td>0.000000</td>\n",
       "      <td>1.000000</td>\n",
       "      <td>0.000000</td>\n",
       "      <td>0.000000</td>\n",
       "      <td>0.000000</td>\n",
       "    </tr>\n",
       "    <tr>\n",
       "      <th>SeniorCitizen</th>\n",
       "      <td>0.085800</td>\n",
       "      <td>0.241715</td>\n",
       "      <td>0.304546</td>\n",
       "      <td>0.148024</td>\n",
       "      <td>0.232897</td>\n",
       "      <td>0.028044</td>\n",
       "      <td>0.160452</td>\n",
       "      <td>0.056897</td>\n",
       "      <td>0.102206</td>\n",
       "      <td>0.092485</td>\n",
       "      <td>0.163223</td>\n",
       "      <td>0.185621</td>\n",
       "      <td>0.221386</td>\n",
       "      <td>0.000000</td>\n",
       "      <td>1.000000</td>\n",
       "      <td>0.018075</td>\n",
       "      <td>0.323629</td>\n",
       "    </tr>\n",
       "    <tr>\n",
       "      <th>Partner</th>\n",
       "      <td>0.179294</td>\n",
       "      <td>0.010489</td>\n",
       "      <td>0.204575</td>\n",
       "      <td>0.424655</td>\n",
       "      <td>0.232215</td>\n",
       "      <td>0.492490</td>\n",
       "      <td>0.000000</td>\n",
       "      <td>0.222040</td>\n",
       "      <td>0.219762</td>\n",
       "      <td>0.186312</td>\n",
       "      <td>0.192973</td>\n",
       "      <td>0.183090</td>\n",
       "      <td>0.220874</td>\n",
       "      <td>0.000000</td>\n",
       "      <td>0.018075</td>\n",
       "      <td>1.000000</td>\n",
       "      <td>0.651635</td>\n",
       "    </tr>\n",
       "    <tr>\n",
       "      <th>Dependents</th>\n",
       "      <td>0.146126</td>\n",
       "      <td>0.170650</td>\n",
       "      <td>0.182283</td>\n",
       "      <td>0.118247</td>\n",
       "      <td>0.252268</td>\n",
       "      <td>0.214108</td>\n",
       "      <td>0.107328</td>\n",
       "      <td>0.124648</td>\n",
       "      <td>0.031464</td>\n",
       "      <td>0.096565</td>\n",
       "      <td>0.017176</td>\n",
       "      <td>0.056742</td>\n",
       "      <td>0.032697</td>\n",
       "      <td>0.000000</td>\n",
       "      <td>0.323629</td>\n",
       "      <td>0.651635</td>\n",
       "      <td>1.000000</td>\n",
       "    </tr>\n",
       "  </tbody>\n",
       "</table>\n",
       "</div>"
      ],
      "text/plain": [
       "                      Type  PaperlessBilling  MonthlyCharges  TotalCharges  \\\n",
       "Type              1.000000          0.106151        0.388557      0.507638   \n",
       "PaperlessBilling  0.106151          1.000000        0.467547      0.205050   \n",
       "MonthlyCharges    0.388557          0.467547        1.000000      0.762904   \n",
       "TotalCharges      0.507638          0.205050        0.762904      1.000000   \n",
       "target            0.251283          0.295194        0.359623      0.280973   \n",
       "days              0.666958          0.000000        0.409989      0.842068   \n",
       "InternetService   0.503776          0.231145        0.919005      0.507972   \n",
       "OnlineSecurity    0.152239          0.000000        0.550855      0.545578   \n",
       "OnlineBackup      0.099016          0.196937        0.629276      0.656039   \n",
       "TechSupport       0.180169          0.055354        0.576163      0.567056   \n",
       "StreamingTV       0.067123          0.344114        0.835680      0.660452   \n",
       "StreamingMovies   0.070375          0.325351        0.833111      0.666068   \n",
       "MultipleLines     0.065750          0.253299        0.676393      0.606423   \n",
       "gender            0.000000          0.000000        0.005522      0.000000   \n",
       "SeniorCitizen     0.085800          0.241715        0.304546      0.148024   \n",
       "Partner           0.179294          0.010489        0.204575      0.424655   \n",
       "Dependents        0.146126          0.170650        0.182283      0.118247   \n",
       "\n",
       "                    target      days  InternetService  OnlineSecurity  \\\n",
       "Type              0.251283  0.666958         0.503776        0.152239   \n",
       "PaperlessBilling  0.295194  0.000000         0.231145        0.000000   \n",
       "MonthlyCharges    0.359623  0.409989         0.919005        0.550855   \n",
       "TotalCharges      0.280973  0.842068         0.507972        0.545578   \n",
       "target            1.000000  0.473761         0.195860        0.264645   \n",
       "days              0.473761  1.000000         0.012927        0.425021   \n",
       "InternetService   0.195860  0.012927         1.000000        0.240905   \n",
       "OnlineSecurity    0.264645  0.425021         0.240905        1.000000   \n",
       "OnlineBackup      0.127052  0.466439         0.233205        0.429646   \n",
       "TechSupport       0.254678  0.424046         0.239149        0.527759   \n",
       "StreamingTV       0.096903  0.361518         0.272629        0.271134   \n",
       "StreamingMovies   0.093088  0.368627         0.272562        0.289137   \n",
       "MultipleLines     0.059462  0.433857         0.225602        0.152640   \n",
       "gender            0.000000  0.000000         0.000000        0.016788   \n",
       "SeniorCitizen     0.232897  0.028044         0.160452        0.056897   \n",
       "Partner           0.232215  0.492490         0.000000        0.222040   \n",
       "Dependents        0.252268  0.214108         0.107328        0.124648   \n",
       "\n",
       "                  OnlineBackup  TechSupport  StreamingTV  StreamingMovies  \\\n",
       "Type                  0.099016     0.180169     0.067123         0.070375   \n",
       "PaperlessBilling      0.196937     0.055354     0.344114         0.325351   \n",
       "MonthlyCharges        0.629276     0.576163     0.835680         0.833111   \n",
       "TotalCharges          0.656039     0.567056     0.660452         0.666068   \n",
       "target                0.127052     0.254678     0.096903         0.093088   \n",
       "days                  0.466439     0.424046     0.361518         0.368627   \n",
       "InternetService       0.233205     0.239149     0.272629         0.272562   \n",
       "OnlineSecurity        0.429646     0.527759     0.271134         0.289137   \n",
       "OnlineBackup          1.000000     0.444385     0.427288         0.417200   \n",
       "TechSupport           0.444385     1.000000     0.421497         0.425211   \n",
       "StreamingTV           0.427288     0.421497     1.000000         0.742780   \n",
       "StreamingMovies       0.417200     0.425211     0.742780         1.000000   \n",
       "MultipleLines         0.311389     0.155502     0.393180         0.395191   \n",
       "gender                0.007277     0.000000     0.000000         0.000000   \n",
       "SeniorCitizen         0.102206     0.092485     0.163223         0.185621   \n",
       "Partner               0.219762     0.186312     0.192973         0.183090   \n",
       "Dependents            0.031464     0.096565     0.017176         0.056742   \n",
       "\n",
       "                  MultipleLines    gender  SeniorCitizen   Partner  Dependents  \n",
       "Type                   0.065750  0.000000       0.085800  0.179294    0.146126  \n",
       "PaperlessBilling       0.253299  0.000000       0.241715  0.010489    0.170650  \n",
       "MonthlyCharges         0.676393  0.005522       0.304546  0.204575    0.182283  \n",
       "TotalCharges           0.606423  0.000000       0.148024  0.424655    0.118247  \n",
       "target                 0.059462  0.000000       0.232897  0.232215    0.252268  \n",
       "days                   0.433857  0.000000       0.028044  0.492490    0.214108  \n",
       "InternetService        0.225602  0.000000       0.160452  0.000000    0.107328  \n",
       "OnlineSecurity         0.152640  0.016788       0.056897  0.222040    0.124648  \n",
       "OnlineBackup           0.311389  0.007277       0.102206  0.219762    0.031464  \n",
       "TechSupport            0.155502  0.000000       0.092485  0.186312    0.096565  \n",
       "StreamingTV            0.393180  0.000000       0.163223  0.192973    0.017176  \n",
       "StreamingMovies        0.395191  0.000000       0.185621  0.183090    0.056742  \n",
       "MultipleLines          1.000000  0.000000       0.221386  0.220874    0.032697  \n",
       "gender                 0.000000  1.000000       0.000000  0.000000    0.000000  \n",
       "SeniorCitizen          0.221386  0.000000       1.000000  0.018075    0.323629  \n",
       "Partner                0.220874  0.000000       0.018075  1.000000    0.651635  \n",
       "Dependents             0.032697  0.000000       0.323629  0.651635    1.000000  "
      ]
     },
     "execution_count": 133,
     "metadata": {},
     "output_type": "execute_result"
    }
   ],
   "source": [
    "df.phik_matrix()"
   ]
  },
  {
   "cell_type": "markdown",
   "metadata": {},
   "source": [
    "Смотря по таблице мультеколлениарности есть влияние 2 признаков на наш таргет - это признак MonthlyCharges (0.35) и наш созданный days (0.47).\n",
    "\n",
    "Думаю их оставить - корреляция конечно выше чем у других признаков - но прям прямой зависимости нет"
   ]
  },
  {
   "cell_type": "markdown",
   "metadata": {},
   "source": [
    "### Разделение выборок и их кодировка методом OHE"
   ]
  },
  {
   "cell_type": "markdown",
   "metadata": {},
   "source": [
    "Выделим наш таргет и признаки"
   ]
  },
  {
   "cell_type": "code",
   "execution_count": 134,
   "metadata": {
    "scrolled": false
   },
   "outputs": [],
   "source": [
    "target=df['target']\n",
    "features=df.drop('target', axis=1)"
   ]
  },
  {
   "cell_type": "markdown",
   "metadata": {},
   "source": [
    "Сделаем разделение на тест и треин - в размере 80% тренировочная выборка и 25% тестовая"
   ]
  },
  {
   "cell_type": "code",
   "execution_count": 135,
   "metadata": {
    "scrolled": false
   },
   "outputs": [],
   "source": [
    "features_train, features_test, target_train, target_test = train_test_split(features, target, test_size=0.20, random_state=190922)"
   ]
  },
  {
   "cell_type": "markdown",
   "metadata": {},
   "source": [
    "Проверим размер выборок для моделей"
   ]
  },
  {
   "cell_type": "code",
   "execution_count": 136,
   "metadata": {
    "scrolled": false
   },
   "outputs": [
    {
     "name": "stdout",
     "output_type": "stream",
     "text": [
      "(5625, 16)\n",
      "(1407, 16)\n"
     ]
    }
   ],
   "source": [
    "print(features_train.shape)\n",
    "print(features_test.shape)"
   ]
  },
  {
   "cell_type": "markdown",
   "metadata": {},
   "source": [
    "Все корректно - выборок будет 2 - train и test из-за недостатка данных"
   ]
  },
  {
   "cell_type": "markdown",
   "metadata": {},
   "source": [
    "Закодируем в тренировочной выборки наши признаки для улучшения работы модели методом OHE, чтобы не попасть в дамми ловушку уберем первый столбец."
   ]
  },
  {
   "cell_type": "code",
   "execution_count": 137,
   "metadata": {},
   "outputs": [],
   "source": [
    "features_train_ohe=pd.get_dummies(features_train, drop_first=True)\n",
    "features_test_ohe=pd.get_dummies(features_test, drop_first=True)"
   ]
  },
  {
   "cell_type": "code",
   "execution_count": 138,
   "metadata": {},
   "outputs": [
    {
     "data": {
      "text/html": [
       "<div>\n",
       "<style scoped>\n",
       "    .dataframe tbody tr th:only-of-type {\n",
       "        vertical-align: middle;\n",
       "    }\n",
       "\n",
       "    .dataframe tbody tr th {\n",
       "        vertical-align: top;\n",
       "    }\n",
       "\n",
       "    .dataframe thead th {\n",
       "        text-align: right;\n",
       "    }\n",
       "</style>\n",
       "<table border=\"1\" class=\"dataframe\">\n",
       "  <thead>\n",
       "    <tr style=\"text-align: right;\">\n",
       "      <th></th>\n",
       "      <th>MonthlyCharges</th>\n",
       "      <th>TotalCharges</th>\n",
       "      <th>days</th>\n",
       "      <th>SeniorCitizen</th>\n",
       "      <th>Type_One year</th>\n",
       "      <th>Type_Two year</th>\n",
       "      <th>PaperlessBilling_Yes</th>\n",
       "      <th>InternetService_Fiber optic</th>\n",
       "      <th>InternetService_No</th>\n",
       "      <th>OnlineSecurity_Yes</th>\n",
       "      <th>OnlineBackup_Yes</th>\n",
       "      <th>TechSupport_Yes</th>\n",
       "      <th>StreamingTV_Yes</th>\n",
       "      <th>StreamingMovies_Yes</th>\n",
       "      <th>MultipleLines_Yes</th>\n",
       "      <th>gender_Male</th>\n",
       "      <th>Partner_Yes</th>\n",
       "      <th>Dependents_Yes</th>\n",
       "    </tr>\n",
       "  </thead>\n",
       "  <tbody>\n",
       "    <tr>\n",
       "      <th>1710</th>\n",
       "      <td>82.75</td>\n",
       "      <td>417.75</td>\n",
       "      <td>153</td>\n",
       "      <td>0</td>\n",
       "      <td>0</td>\n",
       "      <td>0</td>\n",
       "      <td>1</td>\n",
       "      <td>1</td>\n",
       "      <td>0</td>\n",
       "      <td>0</td>\n",
       "      <td>0</td>\n",
       "      <td>1</td>\n",
       "      <td>0</td>\n",
       "      <td>0</td>\n",
       "      <td>1</td>\n",
       "      <td>0</td>\n",
       "      <td>0</td>\n",
       "      <td>0</td>\n",
       "    </tr>\n",
       "    <tr>\n",
       "      <th>3620</th>\n",
       "      <td>50.00</td>\n",
       "      <td>1750.85</td>\n",
       "      <td>1006</td>\n",
       "      <td>1</td>\n",
       "      <td>0</td>\n",
       "      <td>0</td>\n",
       "      <td>1</td>\n",
       "      <td>0</td>\n",
       "      <td>0</td>\n",
       "      <td>0</td>\n",
       "      <td>1</td>\n",
       "      <td>1</td>\n",
       "      <td>1</td>\n",
       "      <td>0</td>\n",
       "      <td>0</td>\n",
       "      <td>1</td>\n",
       "      <td>1</td>\n",
       "      <td>0</td>\n",
       "    </tr>\n",
       "    <tr>\n",
       "      <th>908</th>\n",
       "      <td>19.95</td>\n",
       "      <td>170.90</td>\n",
       "      <td>245</td>\n",
       "      <td>0</td>\n",
       "      <td>0</td>\n",
       "      <td>0</td>\n",
       "      <td>0</td>\n",
       "      <td>0</td>\n",
       "      <td>1</td>\n",
       "      <td>0</td>\n",
       "      <td>0</td>\n",
       "      <td>0</td>\n",
       "      <td>0</td>\n",
       "      <td>0</td>\n",
       "      <td>0</td>\n",
       "      <td>0</td>\n",
       "      <td>0</td>\n",
       "      <td>1</td>\n",
       "    </tr>\n",
       "    <tr>\n",
       "      <th>2251</th>\n",
       "      <td>69.35</td>\n",
       "      <td>712.25</td>\n",
       "      <td>337</td>\n",
       "      <td>0</td>\n",
       "      <td>0</td>\n",
       "      <td>0</td>\n",
       "      <td>1</td>\n",
       "      <td>0</td>\n",
       "      <td>0</td>\n",
       "      <td>0</td>\n",
       "      <td>0</td>\n",
       "      <td>0</td>\n",
       "      <td>1</td>\n",
       "      <td>1</td>\n",
       "      <td>0</td>\n",
       "      <td>1</td>\n",
       "      <td>0</td>\n",
       "      <td>0</td>\n",
       "    </tr>\n",
       "    <tr>\n",
       "      <th>5573</th>\n",
       "      <td>69.85</td>\n",
       "      <td>69.85</td>\n",
       "      <td>31</td>\n",
       "      <td>1</td>\n",
       "      <td>0</td>\n",
       "      <td>0</td>\n",
       "      <td>1</td>\n",
       "      <td>1</td>\n",
       "      <td>0</td>\n",
       "      <td>0</td>\n",
       "      <td>0</td>\n",
       "      <td>0</td>\n",
       "      <td>0</td>\n",
       "      <td>0</td>\n",
       "      <td>0</td>\n",
       "      <td>0</td>\n",
       "      <td>0</td>\n",
       "      <td>0</td>\n",
       "    </tr>\n",
       "    <tr>\n",
       "      <th>3598</th>\n",
       "      <td>46.30</td>\n",
       "      <td>46.30</td>\n",
       "      <td>31</td>\n",
       "      <td>1</td>\n",
       "      <td>0</td>\n",
       "      <td>0</td>\n",
       "      <td>0</td>\n",
       "      <td>0</td>\n",
       "      <td>0</td>\n",
       "      <td>0</td>\n",
       "      <td>0</td>\n",
       "      <td>0</td>\n",
       "      <td>0</td>\n",
       "      <td>0</td>\n",
       "      <td>0</td>\n",
       "      <td>1</td>\n",
       "      <td>0</td>\n",
       "      <td>0</td>\n",
       "    </tr>\n",
       "    <tr>\n",
       "      <th>2101</th>\n",
       "      <td>99.20</td>\n",
       "      <td>3754.60</td>\n",
       "      <td>1125</td>\n",
       "      <td>0</td>\n",
       "      <td>1</td>\n",
       "      <td>0</td>\n",
       "      <td>1</td>\n",
       "      <td>1</td>\n",
       "      <td>0</td>\n",
       "      <td>1</td>\n",
       "      <td>0</td>\n",
       "      <td>1</td>\n",
       "      <td>0</td>\n",
       "      <td>1</td>\n",
       "      <td>1</td>\n",
       "      <td>0</td>\n",
       "      <td>1</td>\n",
       "      <td>0</td>\n",
       "    </tr>\n",
       "    <tr>\n",
       "      <th>1857</th>\n",
       "      <td>58.90</td>\n",
       "      <td>3857.10</td>\n",
       "      <td>1979</td>\n",
       "      <td>0</td>\n",
       "      <td>0</td>\n",
       "      <td>1</td>\n",
       "      <td>0</td>\n",
       "      <td>0</td>\n",
       "      <td>0</td>\n",
       "      <td>1</td>\n",
       "      <td>0</td>\n",
       "      <td>1</td>\n",
       "      <td>0</td>\n",
       "      <td>0</td>\n",
       "      <td>0</td>\n",
       "      <td>0</td>\n",
       "      <td>1</td>\n",
       "      <td>0</td>\n",
       "    </tr>\n",
       "    <tr>\n",
       "      <th>1389</th>\n",
       "      <td>94.25</td>\n",
       "      <td>3217.55</td>\n",
       "      <td>1033</td>\n",
       "      <td>1</td>\n",
       "      <td>0</td>\n",
       "      <td>0</td>\n",
       "      <td>1</td>\n",
       "      <td>1</td>\n",
       "      <td>0</td>\n",
       "      <td>0</td>\n",
       "      <td>1</td>\n",
       "      <td>0</td>\n",
       "      <td>0</td>\n",
       "      <td>1</td>\n",
       "      <td>1</td>\n",
       "      <td>0</td>\n",
       "      <td>1</td>\n",
       "      <td>0</td>\n",
       "    </tr>\n",
       "    <tr>\n",
       "      <th>3465</th>\n",
       "      <td>45.90</td>\n",
       "      <td>199.75</td>\n",
       "      <td>123</td>\n",
       "      <td>0</td>\n",
       "      <td>0</td>\n",
       "      <td>0</td>\n",
       "      <td>1</td>\n",
       "      <td>0</td>\n",
       "      <td>0</td>\n",
       "      <td>0</td>\n",
       "      <td>0</td>\n",
       "      <td>0</td>\n",
       "      <td>0</td>\n",
       "      <td>0</td>\n",
       "      <td>0</td>\n",
       "      <td>1</td>\n",
       "      <td>0</td>\n",
       "      <td>0</td>\n",
       "    </tr>\n",
       "  </tbody>\n",
       "</table>\n",
       "</div>"
      ],
      "text/plain": [
       "      MonthlyCharges  TotalCharges  days  SeniorCitizen  Type_One year  \\\n",
       "1710           82.75        417.75   153              0              0   \n",
       "3620           50.00       1750.85  1006              1              0   \n",
       "908            19.95        170.90   245              0              0   \n",
       "2251           69.35        712.25   337              0              0   \n",
       "5573           69.85         69.85    31              1              0   \n",
       "3598           46.30         46.30    31              1              0   \n",
       "2101           99.20       3754.60  1125              0              1   \n",
       "1857           58.90       3857.10  1979              0              0   \n",
       "1389           94.25       3217.55  1033              1              0   \n",
       "3465           45.90        199.75   123              0              0   \n",
       "\n",
       "      Type_Two year  PaperlessBilling_Yes  InternetService_Fiber optic  \\\n",
       "1710              0                     1                            1   \n",
       "3620              0                     1                            0   \n",
       "908               0                     0                            0   \n",
       "2251              0                     1                            0   \n",
       "5573              0                     1                            1   \n",
       "3598              0                     0                            0   \n",
       "2101              0                     1                            1   \n",
       "1857              1                     0                            0   \n",
       "1389              0                     1                            1   \n",
       "3465              0                     1                            0   \n",
       "\n",
       "      InternetService_No  OnlineSecurity_Yes  OnlineBackup_Yes  \\\n",
       "1710                   0                   0                 0   \n",
       "3620                   0                   0                 1   \n",
       "908                    1                   0                 0   \n",
       "2251                   0                   0                 0   \n",
       "5573                   0                   0                 0   \n",
       "3598                   0                   0                 0   \n",
       "2101                   0                   1                 0   \n",
       "1857                   0                   1                 0   \n",
       "1389                   0                   0                 1   \n",
       "3465                   0                   0                 0   \n",
       "\n",
       "      TechSupport_Yes  StreamingTV_Yes  StreamingMovies_Yes  \\\n",
       "1710                1                0                    0   \n",
       "3620                1                1                    0   \n",
       "908                 0                0                    0   \n",
       "2251                0                1                    1   \n",
       "5573                0                0                    0   \n",
       "3598                0                0                    0   \n",
       "2101                1                0                    1   \n",
       "1857                1                0                    0   \n",
       "1389                0                0                    1   \n",
       "3465                0                0                    0   \n",
       "\n",
       "      MultipleLines_Yes  gender_Male  Partner_Yes  Dependents_Yes  \n",
       "1710                  1            0            0               0  \n",
       "3620                  0            1            1               0  \n",
       "908                   0            0            0               1  \n",
       "2251                  0            1            0               0  \n",
       "5573                  0            0            0               0  \n",
       "3598                  0            1            0               0  \n",
       "2101                  1            0            1               0  \n",
       "1857                  0            0            1               0  \n",
       "1389                  1            0            1               0  \n",
       "3465                  0            1            0               0  "
      ]
     },
     "execution_count": 138,
     "metadata": {},
     "output_type": "execute_result"
    }
   ],
   "source": [
    "features_train_ohe.head(10)"
   ]
  },
  {
   "cell_type": "markdown",
   "metadata": {},
   "source": [
    "Сработало - отлично, проверим еще раз размер выборок на соответсвие друг другу для обучения моделей"
   ]
  },
  {
   "cell_type": "code",
   "execution_count": 139,
   "metadata": {
    "scrolled": true
   },
   "outputs": [
    {
     "name": "stdout",
     "output_type": "stream",
     "text": [
      "(5625, 18)\n",
      "(1407, 18)\n"
     ]
    }
   ],
   "source": [
    "print(features_train_ohe.shape)\n",
    "print(features_test_ohe.shape)"
   ]
  },
  {
   "cell_type": "code",
   "execution_count": 140,
   "metadata": {},
   "outputs": [],
   "source": [
    "features_train_ohe_lin = features_train_ohe\n",
    "features_test_ohe_lin = features_test_ohe"
   ]
  },
  {
   "cell_type": "code",
   "execution_count": 141,
   "metadata": {},
   "outputs": [
    {
     "name": "stdout",
     "output_type": "stream",
     "text": [
      "(5625, 18)\n",
      "(1407, 18)\n"
     ]
    }
   ],
   "source": [
    "print(features_train_ohe_lin.shape)\n",
    "print(features_test_ohe_lin.shape)"
   ]
  },
  {
   "cell_type": "markdown",
   "metadata": {},
   "source": [
    "Следующим шагом разберемся с числовыми признаками - сделаем их одинаково важными для модели с учетом разброса данных с помощью StandartScaler для Линейной модели"
   ]
  },
  {
   "cell_type": "code",
   "execution_count": 142,
   "metadata": {},
   "outputs": [],
   "source": [
    "numeric=['MonthlyCharges', 'TotalCharges', 'days']"
   ]
  },
  {
   "cell_type": "code",
   "execution_count": 143,
   "metadata": {
    "scrolled": false
   },
   "outputs": [],
   "source": [
    "scaler = StandardScaler()\n",
    "scaler.fit(features_train_ohe_lin[numeric])\n",
    "features_train_ohe_lin[numeric] = scaler.transform(features_train_ohe_lin[numeric])\n",
    "features_test_ohe_lin[numeric] = scaler.transform(features_test_ohe_lin[numeric])"
   ]
  },
  {
   "cell_type": "markdown",
   "metadata": {},
   "source": [
    "Приступаем к обучению моделей"
   ]
  },
  {
   "cell_type": "markdown",
   "metadata": {},
   "source": [
    "### Обучение и выбор модели для финального тестирования"
   ]
  },
  {
   "cell_type": "markdown",
   "metadata": {},
   "source": [
    "#### Выбор моделей и работа с ними "
   ]
  },
  {
   "cell_type": "markdown",
   "metadata": {},
   "source": [
    "Для нашего проекта выберем 3 модели - DesicionTreeClassifier, LinearClassifier, RandomForestClassifier"
   ]
  },
  {
   "cell_type": "markdown",
   "metadata": {},
   "source": [
    "#### Модель RandomForestClassifier"
   ]
  },
  {
   "cell_type": "code",
   "execution_count": 144,
   "metadata": {},
   "outputs": [],
   "source": [
    "model_for = RandomForestClassifier(random_state=190922, class_weight='balanced')"
   ]
  },
  {
   "cell_type": "code",
   "execution_count": 145,
   "metadata": {},
   "outputs": [],
   "source": [
    "parametrs = { 'n_estimators': range (30, 61, 10),\n",
    "              'max_depth': range (7,14, 2),\n",
    "              'min_samples_leaf': range (5,8),\n",
    "              'min_samples_split': range (6,10,2) }"
   ]
  },
  {
   "cell_type": "code",
   "execution_count": 146,
   "metadata": {
    "scrolled": true
   },
   "outputs": [
    {
     "name": "stdout",
     "output_type": "stream",
     "text": [
      "Fitting 5 folds for each of 96 candidates, totalling 480 fits\n",
      "[CV] END max_depth=7, min_samples_leaf=5, min_samples_split=6, n_estimators=30; total time=   0.1s\n",
      "[CV] END max_depth=7, min_samples_leaf=5, min_samples_split=6, n_estimators=30; total time=   0.1s\n",
      "[CV] END max_depth=7, min_samples_leaf=5, min_samples_split=6, n_estimators=30; total time=   0.1s\n",
      "[CV] END max_depth=7, min_samples_leaf=5, min_samples_split=6, n_estimators=30; total time=   0.1s\n",
      "[CV] END max_depth=7, min_samples_leaf=5, min_samples_split=6, n_estimators=30; total time=   0.1s\n",
      "[CV] END max_depth=7, min_samples_leaf=5, min_samples_split=6, n_estimators=40; total time=   0.1s\n",
      "[CV] END max_depth=7, min_samples_leaf=5, min_samples_split=6, n_estimators=40; total time=   0.1s\n",
      "[CV] END max_depth=7, min_samples_leaf=5, min_samples_split=6, n_estimators=40; total time=   0.1s\n",
      "[CV] END max_depth=7, min_samples_leaf=5, min_samples_split=6, n_estimators=40; total time=   0.1s\n",
      "[CV] END max_depth=7, min_samples_leaf=5, min_samples_split=6, n_estimators=40; total time=   0.1s\n",
      "[CV] END max_depth=7, min_samples_leaf=5, min_samples_split=6, n_estimators=50; total time=   0.2s\n",
      "[CV] END max_depth=7, min_samples_leaf=5, min_samples_split=6, n_estimators=50; total time=   0.2s\n",
      "[CV] END max_depth=7, min_samples_leaf=5, min_samples_split=6, n_estimators=50; total time=   0.2s\n",
      "[CV] END max_depth=7, min_samples_leaf=5, min_samples_split=6, n_estimators=50; total time=   0.2s\n",
      "[CV] END max_depth=7, min_samples_leaf=5, min_samples_split=6, n_estimators=50; total time=   0.2s\n",
      "[CV] END max_depth=7, min_samples_leaf=5, min_samples_split=6, n_estimators=60; total time=   0.2s\n",
      "[CV] END max_depth=7, min_samples_leaf=5, min_samples_split=6, n_estimators=60; total time=   0.2s\n",
      "[CV] END max_depth=7, min_samples_leaf=5, min_samples_split=6, n_estimators=60; total time=   0.2s\n",
      "[CV] END max_depth=7, min_samples_leaf=5, min_samples_split=6, n_estimators=60; total time=   0.2s\n",
      "[CV] END max_depth=7, min_samples_leaf=5, min_samples_split=6, n_estimators=60; total time=   0.2s\n",
      "[CV] END max_depth=7, min_samples_leaf=5, min_samples_split=8, n_estimators=30; total time=   0.1s\n",
      "[CV] END max_depth=7, min_samples_leaf=5, min_samples_split=8, n_estimators=30; total time=   0.1s\n",
      "[CV] END max_depth=7, min_samples_leaf=5, min_samples_split=8, n_estimators=30; total time=   0.1s\n",
      "[CV] END max_depth=7, min_samples_leaf=5, min_samples_split=8, n_estimators=30; total time=   0.1s\n",
      "[CV] END max_depth=7, min_samples_leaf=5, min_samples_split=8, n_estimators=30; total time=   0.1s\n",
      "[CV] END max_depth=7, min_samples_leaf=5, min_samples_split=8, n_estimators=40; total time=   0.1s\n",
      "[CV] END max_depth=7, min_samples_leaf=5, min_samples_split=8, n_estimators=40; total time=   0.1s\n",
      "[CV] END max_depth=7, min_samples_leaf=5, min_samples_split=8, n_estimators=40; total time=   0.1s\n",
      "[CV] END max_depth=7, min_samples_leaf=5, min_samples_split=8, n_estimators=40; total time=   0.1s\n",
      "[CV] END max_depth=7, min_samples_leaf=5, min_samples_split=8, n_estimators=40; total time=   0.1s\n",
      "[CV] END max_depth=7, min_samples_leaf=5, min_samples_split=8, n_estimators=50; total time=   0.2s\n",
      "[CV] END max_depth=7, min_samples_leaf=5, min_samples_split=8, n_estimators=50; total time=   0.2s\n",
      "[CV] END max_depth=7, min_samples_leaf=5, min_samples_split=8, n_estimators=50; total time=   0.2s\n",
      "[CV] END max_depth=7, min_samples_leaf=5, min_samples_split=8, n_estimators=50; total time=   0.2s\n",
      "[CV] END max_depth=7, min_samples_leaf=5, min_samples_split=8, n_estimators=50; total time=   0.2s\n",
      "[CV] END max_depth=7, min_samples_leaf=5, min_samples_split=8, n_estimators=60; total time=   0.2s\n",
      "[CV] END max_depth=7, min_samples_leaf=5, min_samples_split=8, n_estimators=60; total time=   0.2s\n",
      "[CV] END max_depth=7, min_samples_leaf=5, min_samples_split=8, n_estimators=60; total time=   0.2s\n",
      "[CV] END max_depth=7, min_samples_leaf=5, min_samples_split=8, n_estimators=60; total time=   0.2s\n",
      "[CV] END max_depth=7, min_samples_leaf=5, min_samples_split=8, n_estimators=60; total time=   0.2s\n",
      "[CV] END max_depth=7, min_samples_leaf=6, min_samples_split=6, n_estimators=30; total time=   0.1s\n",
      "[CV] END max_depth=7, min_samples_leaf=6, min_samples_split=6, n_estimators=30; total time=   0.1s\n",
      "[CV] END max_depth=7, min_samples_leaf=6, min_samples_split=6, n_estimators=30; total time=   0.1s\n",
      "[CV] END max_depth=7, min_samples_leaf=6, min_samples_split=6, n_estimators=30; total time=   0.1s\n",
      "[CV] END max_depth=7, min_samples_leaf=6, min_samples_split=6, n_estimators=30; total time=   0.1s\n",
      "[CV] END max_depth=7, min_samples_leaf=6, min_samples_split=6, n_estimators=40; total time=   0.1s\n",
      "[CV] END max_depth=7, min_samples_leaf=6, min_samples_split=6, n_estimators=40; total time=   0.1s\n",
      "[CV] END max_depth=7, min_samples_leaf=6, min_samples_split=6, n_estimators=40; total time=   0.1s\n",
      "[CV] END max_depth=7, min_samples_leaf=6, min_samples_split=6, n_estimators=40; total time=   0.1s\n",
      "[CV] END max_depth=7, min_samples_leaf=6, min_samples_split=6, n_estimators=40; total time=   0.1s\n",
      "[CV] END max_depth=7, min_samples_leaf=6, min_samples_split=6, n_estimators=50; total time=   0.2s\n",
      "[CV] END max_depth=7, min_samples_leaf=6, min_samples_split=6, n_estimators=50; total time=   0.2s\n",
      "[CV] END max_depth=7, min_samples_leaf=6, min_samples_split=6, n_estimators=50; total time=   0.2s\n",
      "[CV] END max_depth=7, min_samples_leaf=6, min_samples_split=6, n_estimators=50; total time=   0.2s\n",
      "[CV] END max_depth=7, min_samples_leaf=6, min_samples_split=6, n_estimators=50; total time=   0.2s\n",
      "[CV] END max_depth=7, min_samples_leaf=6, min_samples_split=6, n_estimators=60; total time=   0.2s\n",
      "[CV] END max_depth=7, min_samples_leaf=6, min_samples_split=6, n_estimators=60; total time=   0.2s\n",
      "[CV] END max_depth=7, min_samples_leaf=6, min_samples_split=6, n_estimators=60; total time=   0.2s\n",
      "[CV] END max_depth=7, min_samples_leaf=6, min_samples_split=6, n_estimators=60; total time=   0.2s\n",
      "[CV] END max_depth=7, min_samples_leaf=6, min_samples_split=6, n_estimators=60; total time=   0.2s\n",
      "[CV] END max_depth=7, min_samples_leaf=6, min_samples_split=8, n_estimators=30; total time=   0.1s\n",
      "[CV] END max_depth=7, min_samples_leaf=6, min_samples_split=8, n_estimators=30; total time=   0.1s\n",
      "[CV] END max_depth=7, min_samples_leaf=6, min_samples_split=8, n_estimators=30; total time=   0.1s\n",
      "[CV] END max_depth=7, min_samples_leaf=6, min_samples_split=8, n_estimators=30; total time=   0.1s\n",
      "[CV] END max_depth=7, min_samples_leaf=6, min_samples_split=8, n_estimators=30; total time=   0.1s\n",
      "[CV] END max_depth=7, min_samples_leaf=6, min_samples_split=8, n_estimators=40; total time=   0.1s\n",
      "[CV] END max_depth=7, min_samples_leaf=6, min_samples_split=8, n_estimators=40; total time=   0.1s\n",
      "[CV] END max_depth=7, min_samples_leaf=6, min_samples_split=8, n_estimators=40; total time=   0.1s\n",
      "[CV] END max_depth=7, min_samples_leaf=6, min_samples_split=8, n_estimators=40; total time=   0.1s\n",
      "[CV] END max_depth=7, min_samples_leaf=6, min_samples_split=8, n_estimators=40; total time=   0.1s\n",
      "[CV] END max_depth=7, min_samples_leaf=6, min_samples_split=8, n_estimators=50; total time=   0.2s\n",
      "[CV] END max_depth=7, min_samples_leaf=6, min_samples_split=8, n_estimators=50; total time=   0.2s\n",
      "[CV] END max_depth=7, min_samples_leaf=6, min_samples_split=8, n_estimators=50; total time=   0.2s\n",
      "[CV] END max_depth=7, min_samples_leaf=6, min_samples_split=8, n_estimators=50; total time=   0.2s\n",
      "[CV] END max_depth=7, min_samples_leaf=6, min_samples_split=8, n_estimators=50; total time=   0.2s\n",
      "[CV] END max_depth=7, min_samples_leaf=6, min_samples_split=8, n_estimators=60; total time=   0.2s\n",
      "[CV] END max_depth=7, min_samples_leaf=6, min_samples_split=8, n_estimators=60; total time=   0.2s\n",
      "[CV] END max_depth=7, min_samples_leaf=6, min_samples_split=8, n_estimators=60; total time=   0.2s\n",
      "[CV] END max_depth=7, min_samples_leaf=6, min_samples_split=8, n_estimators=60; total time=   0.2s\n",
      "[CV] END max_depth=7, min_samples_leaf=6, min_samples_split=8, n_estimators=60; total time=   0.2s\n",
      "[CV] END max_depth=7, min_samples_leaf=7, min_samples_split=6, n_estimators=30; total time=   0.1s\n",
      "[CV] END max_depth=7, min_samples_leaf=7, min_samples_split=6, n_estimators=30; total time=   0.1s\n",
      "[CV] END max_depth=7, min_samples_leaf=7, min_samples_split=6, n_estimators=30; total time=   0.1s\n",
      "[CV] END max_depth=7, min_samples_leaf=7, min_samples_split=6, n_estimators=30; total time=   0.1s\n",
      "[CV] END max_depth=7, min_samples_leaf=7, min_samples_split=6, n_estimators=30; total time=   0.1s\n",
      "[CV] END max_depth=7, min_samples_leaf=7, min_samples_split=6, n_estimators=40; total time=   0.1s\n",
      "[CV] END max_depth=7, min_samples_leaf=7, min_samples_split=6, n_estimators=40; total time=   0.2s\n",
      "[CV] END max_depth=7, min_samples_leaf=7, min_samples_split=6, n_estimators=40; total time=   0.1s\n",
      "[CV] END max_depth=7, min_samples_leaf=7, min_samples_split=6, n_estimators=40; total time=   0.1s\n",
      "[CV] END max_depth=7, min_samples_leaf=7, min_samples_split=6, n_estimators=40; total time=   0.2s\n",
      "[CV] END max_depth=7, min_samples_leaf=7, min_samples_split=6, n_estimators=50; total time=   0.2s\n",
      "[CV] END max_depth=7, min_samples_leaf=7, min_samples_split=6, n_estimators=50; total time=   0.2s\n",
      "[CV] END max_depth=7, min_samples_leaf=7, min_samples_split=6, n_estimators=50; total time=   0.2s\n",
      "[CV] END max_depth=7, min_samples_leaf=7, min_samples_split=6, n_estimators=50; total time=   0.2s\n",
      "[CV] END max_depth=7, min_samples_leaf=7, min_samples_split=6, n_estimators=50; total time=   0.2s\n",
      "[CV] END max_depth=7, min_samples_leaf=7, min_samples_split=6, n_estimators=60; total time=   0.2s\n",
      "[CV] END max_depth=7, min_samples_leaf=7, min_samples_split=6, n_estimators=60; total time=   0.2s\n",
      "[CV] END max_depth=7, min_samples_leaf=7, min_samples_split=6, n_estimators=60; total time=   0.2s\n",
      "[CV] END max_depth=7, min_samples_leaf=7, min_samples_split=6, n_estimators=60; total time=   0.2s\n",
      "[CV] END max_depth=7, min_samples_leaf=7, min_samples_split=6, n_estimators=60; total time=   0.2s\n",
      "[CV] END max_depth=7, min_samples_leaf=7, min_samples_split=8, n_estimators=30; total time=   0.1s\n",
      "[CV] END max_depth=7, min_samples_leaf=7, min_samples_split=8, n_estimators=30; total time=   0.1s\n",
      "[CV] END max_depth=7, min_samples_leaf=7, min_samples_split=8, n_estimators=30; total time=   0.1s\n",
      "[CV] END max_depth=7, min_samples_leaf=7, min_samples_split=8, n_estimators=30; total time=   0.1s\n",
      "[CV] END max_depth=7, min_samples_leaf=7, min_samples_split=8, n_estimators=30; total time=   0.1s\n",
      "[CV] END max_depth=7, min_samples_leaf=7, min_samples_split=8, n_estimators=40; total time=   0.1s\n",
      "[CV] END max_depth=7, min_samples_leaf=7, min_samples_split=8, n_estimators=40; total time=   0.1s\n",
      "[CV] END max_depth=7, min_samples_leaf=7, min_samples_split=8, n_estimators=40; total time=   0.1s\n",
      "[CV] END max_depth=7, min_samples_leaf=7, min_samples_split=8, n_estimators=40; total time=   0.1s\n",
      "[CV] END max_depth=7, min_samples_leaf=7, min_samples_split=8, n_estimators=40; total time=   0.1s\n",
      "[CV] END max_depth=7, min_samples_leaf=7, min_samples_split=8, n_estimators=50; total time=   0.2s\n",
      "[CV] END max_depth=7, min_samples_leaf=7, min_samples_split=8, n_estimators=50; total time=   0.2s\n",
      "[CV] END max_depth=7, min_samples_leaf=7, min_samples_split=8, n_estimators=50; total time=   0.2s\n",
      "[CV] END max_depth=7, min_samples_leaf=7, min_samples_split=8, n_estimators=50; total time=   0.2s\n",
      "[CV] END max_depth=7, min_samples_leaf=7, min_samples_split=8, n_estimators=50; total time=   0.2s\n",
      "[CV] END max_depth=7, min_samples_leaf=7, min_samples_split=8, n_estimators=60; total time=   0.2s\n",
      "[CV] END max_depth=7, min_samples_leaf=7, min_samples_split=8, n_estimators=60; total time=   0.2s\n",
      "[CV] END max_depth=7, min_samples_leaf=7, min_samples_split=8, n_estimators=60; total time=   0.2s\n",
      "[CV] END max_depth=7, min_samples_leaf=7, min_samples_split=8, n_estimators=60; total time=   0.3s\n",
      "[CV] END max_depth=7, min_samples_leaf=7, min_samples_split=8, n_estimators=60; total time=   0.2s\n",
      "[CV] END max_depth=9, min_samples_leaf=5, min_samples_split=6, n_estimators=30; total time=   0.1s\n",
      "[CV] END max_depth=9, min_samples_leaf=5, min_samples_split=6, n_estimators=30; total time=   0.1s\n",
      "[CV] END max_depth=9, min_samples_leaf=5, min_samples_split=6, n_estimators=30; total time=   0.1s\n",
      "[CV] END max_depth=9, min_samples_leaf=5, min_samples_split=6, n_estimators=30; total time=   0.1s\n",
      "[CV] END max_depth=9, min_samples_leaf=5, min_samples_split=6, n_estimators=30; total time=   0.1s\n",
      "[CV] END max_depth=9, min_samples_leaf=5, min_samples_split=6, n_estimators=40; total time=   0.2s\n",
      "[CV] END max_depth=9, min_samples_leaf=5, min_samples_split=6, n_estimators=40; total time=   0.2s\n",
      "[CV] END max_depth=9, min_samples_leaf=5, min_samples_split=6, n_estimators=40; total time=   0.3s\n",
      "[CV] END max_depth=9, min_samples_leaf=5, min_samples_split=6, n_estimators=40; total time=   0.2s\n",
      "[CV] END max_depth=9, min_samples_leaf=5, min_samples_split=6, n_estimators=40; total time=   0.2s\n",
      "[CV] END max_depth=9, min_samples_leaf=5, min_samples_split=6, n_estimators=50; total time=   0.2s\n",
      "[CV] END max_depth=9, min_samples_leaf=5, min_samples_split=6, n_estimators=50; total time=   0.2s\n",
      "[CV] END max_depth=9, min_samples_leaf=5, min_samples_split=6, n_estimators=50; total time=   0.2s\n",
      "[CV] END max_depth=9, min_samples_leaf=5, min_samples_split=6, n_estimators=50; total time=   0.2s\n",
      "[CV] END max_depth=9, min_samples_leaf=5, min_samples_split=6, n_estimators=50; total time=   0.2s\n",
      "[CV] END max_depth=9, min_samples_leaf=5, min_samples_split=6, n_estimators=60; total time=   0.2s\n",
      "[CV] END max_depth=9, min_samples_leaf=5, min_samples_split=6, n_estimators=60; total time=   0.2s\n",
      "[CV] END max_depth=9, min_samples_leaf=5, min_samples_split=6, n_estimators=60; total time=   0.2s\n",
      "[CV] END max_depth=9, min_samples_leaf=5, min_samples_split=6, n_estimators=60; total time=   0.2s\n",
      "[CV] END max_depth=9, min_samples_leaf=5, min_samples_split=6, n_estimators=60; total time=   0.2s\n",
      "[CV] END max_depth=9, min_samples_leaf=5, min_samples_split=8, n_estimators=30; total time=   0.1s\n",
      "[CV] END max_depth=9, min_samples_leaf=5, min_samples_split=8, n_estimators=30; total time=   0.1s\n",
      "[CV] END max_depth=9, min_samples_leaf=5, min_samples_split=8, n_estimators=30; total time=   0.1s\n",
      "[CV] END max_depth=9, min_samples_leaf=5, min_samples_split=8, n_estimators=30; total time=   0.1s\n",
      "[CV] END max_depth=9, min_samples_leaf=5, min_samples_split=8, n_estimators=30; total time=   0.1s\n",
      "[CV] END max_depth=9, min_samples_leaf=5, min_samples_split=8, n_estimators=40; total time=   0.1s\n",
      "[CV] END max_depth=9, min_samples_leaf=5, min_samples_split=8, n_estimators=40; total time=   0.1s\n",
      "[CV] END max_depth=9, min_samples_leaf=5, min_samples_split=8, n_estimators=40; total time=   0.1s\n",
      "[CV] END max_depth=9, min_samples_leaf=5, min_samples_split=8, n_estimators=40; total time=   0.1s\n",
      "[CV] END max_depth=9, min_samples_leaf=5, min_samples_split=8, n_estimators=40; total time=   0.1s\n",
      "[CV] END max_depth=9, min_samples_leaf=5, min_samples_split=8, n_estimators=50; total time=   0.2s\n",
      "[CV] END max_depth=9, min_samples_leaf=5, min_samples_split=8, n_estimators=50; total time=   0.2s\n",
      "[CV] END max_depth=9, min_samples_leaf=5, min_samples_split=8, n_estimators=50; total time=   0.2s\n",
      "[CV] END max_depth=9, min_samples_leaf=5, min_samples_split=8, n_estimators=50; total time=   0.2s\n",
      "[CV] END max_depth=9, min_samples_leaf=5, min_samples_split=8, n_estimators=50; total time=   0.2s\n",
      "[CV] END max_depth=9, min_samples_leaf=5, min_samples_split=8, n_estimators=60; total time=   0.2s\n",
      "[CV] END max_depth=9, min_samples_leaf=5, min_samples_split=8, n_estimators=60; total time=   0.2s\n",
      "[CV] END max_depth=9, min_samples_leaf=5, min_samples_split=8, n_estimators=60; total time=   0.2s\n",
      "[CV] END max_depth=9, min_samples_leaf=5, min_samples_split=8, n_estimators=60; total time=   0.2s\n",
      "[CV] END max_depth=9, min_samples_leaf=5, min_samples_split=8, n_estimators=60; total time=   0.2s\n",
      "[CV] END max_depth=9, min_samples_leaf=6, min_samples_split=6, n_estimators=30; total time=   0.1s\n",
      "[CV] END max_depth=9, min_samples_leaf=6, min_samples_split=6, n_estimators=30; total time=   0.1s\n",
      "[CV] END max_depth=9, min_samples_leaf=6, min_samples_split=6, n_estimators=30; total time=   0.1s\n",
      "[CV] END max_depth=9, min_samples_leaf=6, min_samples_split=6, n_estimators=30; total time=   0.1s\n",
      "[CV] END max_depth=9, min_samples_leaf=6, min_samples_split=6, n_estimators=30; total time=   0.1s\n",
      "[CV] END max_depth=9, min_samples_leaf=6, min_samples_split=6, n_estimators=40; total time=   0.1s\n",
      "[CV] END max_depth=9, min_samples_leaf=6, min_samples_split=6, n_estimators=40; total time=   0.1s\n",
      "[CV] END max_depth=9, min_samples_leaf=6, min_samples_split=6, n_estimators=40; total time=   0.1s\n",
      "[CV] END max_depth=9, min_samples_leaf=6, min_samples_split=6, n_estimators=40; total time=   0.1s\n",
      "[CV] END max_depth=9, min_samples_leaf=6, min_samples_split=6, n_estimators=40; total time=   0.1s\n",
      "[CV] END max_depth=9, min_samples_leaf=6, min_samples_split=6, n_estimators=50; total time=   0.2s\n",
      "[CV] END max_depth=9, min_samples_leaf=6, min_samples_split=6, n_estimators=50; total time=   0.2s\n",
      "[CV] END max_depth=9, min_samples_leaf=6, min_samples_split=6, n_estimators=50; total time=   0.2s\n",
      "[CV] END max_depth=9, min_samples_leaf=6, min_samples_split=6, n_estimators=50; total time=   0.2s\n",
      "[CV] END max_depth=9, min_samples_leaf=6, min_samples_split=6, n_estimators=50; total time=   0.2s\n",
      "[CV] END max_depth=9, min_samples_leaf=6, min_samples_split=6, n_estimators=60; total time=   0.2s\n",
      "[CV] END max_depth=9, min_samples_leaf=6, min_samples_split=6, n_estimators=60; total time=   0.2s\n",
      "[CV] END max_depth=9, min_samples_leaf=6, min_samples_split=6, n_estimators=60; total time=   0.2s\n",
      "[CV] END max_depth=9, min_samples_leaf=6, min_samples_split=6, n_estimators=60; total time=   0.3s\n",
      "[CV] END max_depth=9, min_samples_leaf=6, min_samples_split=6, n_estimators=60; total time=   0.2s\n",
      "[CV] END max_depth=9, min_samples_leaf=6, min_samples_split=8, n_estimators=30; total time=   0.1s\n",
      "[CV] END max_depth=9, min_samples_leaf=6, min_samples_split=8, n_estimators=30; total time=   0.1s\n",
      "[CV] END max_depth=9, min_samples_leaf=6, min_samples_split=8, n_estimators=30; total time=   0.1s\n",
      "[CV] END max_depth=9, min_samples_leaf=6, min_samples_split=8, n_estimators=30; total time=   0.1s\n",
      "[CV] END max_depth=9, min_samples_leaf=6, min_samples_split=8, n_estimators=30; total time=   0.1s\n",
      "[CV] END max_depth=9, min_samples_leaf=6, min_samples_split=8, n_estimators=40; total time=   0.2s\n",
      "[CV] END max_depth=9, min_samples_leaf=6, min_samples_split=8, n_estimators=40; total time=   0.2s\n",
      "[CV] END max_depth=9, min_samples_leaf=6, min_samples_split=8, n_estimators=40; total time=   0.2s\n",
      "[CV] END max_depth=9, min_samples_leaf=6, min_samples_split=8, n_estimators=40; total time=   0.1s\n",
      "[CV] END max_depth=9, min_samples_leaf=6, min_samples_split=8, n_estimators=40; total time=   0.2s\n",
      "[CV] END max_depth=9, min_samples_leaf=6, min_samples_split=8, n_estimators=50; total time=   0.2s\n",
      "[CV] END max_depth=9, min_samples_leaf=6, min_samples_split=8, n_estimators=50; total time=   0.2s\n",
      "[CV] END max_depth=9, min_samples_leaf=6, min_samples_split=8, n_estimators=50; total time=   0.3s\n",
      "[CV] END max_depth=9, min_samples_leaf=6, min_samples_split=8, n_estimators=50; total time=   0.2s\n",
      "[CV] END max_depth=9, min_samples_leaf=6, min_samples_split=8, n_estimators=50; total time=   0.2s\n",
      "[CV] END max_depth=9, min_samples_leaf=6, min_samples_split=8, n_estimators=60; total time=   0.2s\n",
      "[CV] END max_depth=9, min_samples_leaf=6, min_samples_split=8, n_estimators=60; total time=   0.2s\n",
      "[CV] END max_depth=9, min_samples_leaf=6, min_samples_split=8, n_estimators=60; total time=   0.2s\n",
      "[CV] END max_depth=9, min_samples_leaf=6, min_samples_split=8, n_estimators=60; total time=   0.2s\n",
      "[CV] END max_depth=9, min_samples_leaf=6, min_samples_split=8, n_estimators=60; total time=   0.2s\n",
      "[CV] END max_depth=9, min_samples_leaf=7, min_samples_split=6, n_estimators=30; total time=   0.1s\n",
      "[CV] END max_depth=9, min_samples_leaf=7, min_samples_split=6, n_estimators=30; total time=   0.1s\n",
      "[CV] END max_depth=9, min_samples_leaf=7, min_samples_split=6, n_estimators=30; total time=   0.1s\n",
      "[CV] END max_depth=9, min_samples_leaf=7, min_samples_split=6, n_estimators=30; total time=   0.1s\n",
      "[CV] END max_depth=9, min_samples_leaf=7, min_samples_split=6, n_estimators=30; total time=   0.1s\n",
      "[CV] END max_depth=9, min_samples_leaf=7, min_samples_split=6, n_estimators=40; total time=   0.1s\n",
      "[CV] END max_depth=9, min_samples_leaf=7, min_samples_split=6, n_estimators=40; total time=   0.2s\n",
      "[CV] END max_depth=9, min_samples_leaf=7, min_samples_split=6, n_estimators=40; total time=   0.1s\n",
      "[CV] END max_depth=9, min_samples_leaf=7, min_samples_split=6, n_estimators=40; total time=   0.1s\n",
      "[CV] END max_depth=9, min_samples_leaf=7, min_samples_split=6, n_estimators=40; total time=   0.2s\n",
      "[CV] END max_depth=9, min_samples_leaf=7, min_samples_split=6, n_estimators=50; total time=   0.2s\n",
      "[CV] END max_depth=9, min_samples_leaf=7, min_samples_split=6, n_estimators=50; total time=   0.2s\n",
      "[CV] END max_depth=9, min_samples_leaf=7, min_samples_split=6, n_estimators=50; total time=   0.2s\n",
      "[CV] END max_depth=9, min_samples_leaf=7, min_samples_split=6, n_estimators=50; total time=   0.2s\n",
      "[CV] END max_depth=9, min_samples_leaf=7, min_samples_split=6, n_estimators=50; total time=   0.2s\n",
      "[CV] END max_depth=9, min_samples_leaf=7, min_samples_split=6, n_estimators=60; total time=   0.2s\n",
      "[CV] END max_depth=9, min_samples_leaf=7, min_samples_split=6, n_estimators=60; total time=   0.2s\n",
      "[CV] END max_depth=9, min_samples_leaf=7, min_samples_split=6, n_estimators=60; total time=   0.3s\n",
      "[CV] END max_depth=9, min_samples_leaf=7, min_samples_split=6, n_estimators=60; total time=   0.2s\n",
      "[CV] END max_depth=9, min_samples_leaf=7, min_samples_split=6, n_estimators=60; total time=   0.2s\n",
      "[CV] END max_depth=9, min_samples_leaf=7, min_samples_split=8, n_estimators=30; total time=   0.1s\n",
      "[CV] END max_depth=9, min_samples_leaf=7, min_samples_split=8, n_estimators=30; total time=   0.1s\n",
      "[CV] END max_depth=9, min_samples_leaf=7, min_samples_split=8, n_estimators=30; total time=   0.1s\n",
      "[CV] END max_depth=9, min_samples_leaf=7, min_samples_split=8, n_estimators=30; total time=   0.1s\n",
      "[CV] END max_depth=9, min_samples_leaf=7, min_samples_split=8, n_estimators=30; total time=   0.1s\n",
      "[CV] END max_depth=9, min_samples_leaf=7, min_samples_split=8, n_estimators=40; total time=   0.2s\n",
      "[CV] END max_depth=9, min_samples_leaf=7, min_samples_split=8, n_estimators=40; total time=   0.1s\n",
      "[CV] END max_depth=9, min_samples_leaf=7, min_samples_split=8, n_estimators=40; total time=   0.2s\n",
      "[CV] END max_depth=9, min_samples_leaf=7, min_samples_split=8, n_estimators=40; total time=   0.2s\n",
      "[CV] END max_depth=9, min_samples_leaf=7, min_samples_split=8, n_estimators=40; total time=   0.2s\n",
      "[CV] END max_depth=9, min_samples_leaf=7, min_samples_split=8, n_estimators=50; total time=   0.2s\n",
      "[CV] END max_depth=9, min_samples_leaf=7, min_samples_split=8, n_estimators=50; total time=   0.2s\n",
      "[CV] END max_depth=9, min_samples_leaf=7, min_samples_split=8, n_estimators=50; total time=   0.2s\n",
      "[CV] END max_depth=9, min_samples_leaf=7, min_samples_split=8, n_estimators=50; total time=   0.2s\n",
      "[CV] END max_depth=9, min_samples_leaf=7, min_samples_split=8, n_estimators=50; total time=   0.2s\n",
      "[CV] END max_depth=9, min_samples_leaf=7, min_samples_split=8, n_estimators=60; total time=   0.2s\n",
      "[CV] END max_depth=9, min_samples_leaf=7, min_samples_split=8, n_estimators=60; total time=   0.3s\n",
      "[CV] END max_depth=9, min_samples_leaf=7, min_samples_split=8, n_estimators=60; total time=   0.3s\n",
      "[CV] END max_depth=9, min_samples_leaf=7, min_samples_split=8, n_estimators=60; total time=   0.2s\n",
      "[CV] END max_depth=9, min_samples_leaf=7, min_samples_split=8, n_estimators=60; total time=   0.2s\n",
      "[CV] END max_depth=11, min_samples_leaf=5, min_samples_split=6, n_estimators=30; total time=   0.1s\n",
      "[CV] END max_depth=11, min_samples_leaf=5, min_samples_split=6, n_estimators=30; total time=   0.1s\n",
      "[CV] END max_depth=11, min_samples_leaf=5, min_samples_split=6, n_estimators=30; total time=   0.1s\n",
      "[CV] END max_depth=11, min_samples_leaf=5, min_samples_split=6, n_estimators=30; total time=   0.2s\n",
      "[CV] END max_depth=11, min_samples_leaf=5, min_samples_split=6, n_estimators=30; total time=   0.1s\n",
      "[CV] END max_depth=11, min_samples_leaf=5, min_samples_split=6, n_estimators=40; total time=   0.2s\n",
      "[CV] END max_depth=11, min_samples_leaf=5, min_samples_split=6, n_estimators=40; total time=   0.2s\n",
      "[CV] END max_depth=11, min_samples_leaf=5, min_samples_split=6, n_estimators=40; total time=   0.2s\n",
      "[CV] END max_depth=11, min_samples_leaf=5, min_samples_split=6, n_estimators=40; total time=   0.2s\n",
      "[CV] END max_depth=11, min_samples_leaf=5, min_samples_split=6, n_estimators=40; total time=   0.2s\n",
      "[CV] END max_depth=11, min_samples_leaf=5, min_samples_split=6, n_estimators=50; total time=   0.2s\n",
      "[CV] END max_depth=11, min_samples_leaf=5, min_samples_split=6, n_estimators=50; total time=   0.2s\n",
      "[CV] END max_depth=11, min_samples_leaf=5, min_samples_split=6, n_estimators=50; total time=   0.2s\n",
      "[CV] END max_depth=11, min_samples_leaf=5, min_samples_split=6, n_estimators=50; total time=   0.2s\n",
      "[CV] END max_depth=11, min_samples_leaf=5, min_samples_split=6, n_estimators=50; total time=   0.2s\n",
      "[CV] END max_depth=11, min_samples_leaf=5, min_samples_split=6, n_estimators=60; total time=   0.2s\n",
      "[CV] END max_depth=11, min_samples_leaf=5, min_samples_split=6, n_estimators=60; total time=   0.2s\n",
      "[CV] END max_depth=11, min_samples_leaf=5, min_samples_split=6, n_estimators=60; total time=   0.2s\n",
      "[CV] END max_depth=11, min_samples_leaf=5, min_samples_split=6, n_estimators=60; total time=   0.3s\n",
      "[CV] END max_depth=11, min_samples_leaf=5, min_samples_split=6, n_estimators=60; total time=   0.2s\n",
      "[CV] END max_depth=11, min_samples_leaf=5, min_samples_split=8, n_estimators=30; total time=   0.1s\n",
      "[CV] END max_depth=11, min_samples_leaf=5, min_samples_split=8, n_estimators=30; total time=   0.1s\n",
      "[CV] END max_depth=11, min_samples_leaf=5, min_samples_split=8, n_estimators=30; total time=   0.1s\n",
      "[CV] END max_depth=11, min_samples_leaf=5, min_samples_split=8, n_estimators=30; total time=   0.1s\n",
      "[CV] END max_depth=11, min_samples_leaf=5, min_samples_split=8, n_estimators=30; total time=   0.1s\n",
      "[CV] END max_depth=11, min_samples_leaf=5, min_samples_split=8, n_estimators=40; total time=   0.1s\n",
      "[CV] END max_depth=11, min_samples_leaf=5, min_samples_split=8, n_estimators=40; total time=   0.1s\n",
      "[CV] END max_depth=11, min_samples_leaf=5, min_samples_split=8, n_estimators=40; total time=   0.2s\n",
      "[CV] END max_depth=11, min_samples_leaf=5, min_samples_split=8, n_estimators=40; total time=   0.2s\n",
      "[CV] END max_depth=11, min_samples_leaf=5, min_samples_split=8, n_estimators=40; total time=   0.2s\n",
      "[CV] END max_depth=11, min_samples_leaf=5, min_samples_split=8, n_estimators=50; total time=   0.2s\n",
      "[CV] END max_depth=11, min_samples_leaf=5, min_samples_split=8, n_estimators=50; total time=   0.2s\n",
      "[CV] END max_depth=11, min_samples_leaf=5, min_samples_split=8, n_estimators=50; total time=   0.2s\n",
      "[CV] END max_depth=11, min_samples_leaf=5, min_samples_split=8, n_estimators=50; total time=   0.2s\n",
      "[CV] END max_depth=11, min_samples_leaf=5, min_samples_split=8, n_estimators=50; total time=   0.2s\n",
      "[CV] END max_depth=11, min_samples_leaf=5, min_samples_split=8, n_estimators=60; total time=   0.2s\n",
      "[CV] END max_depth=11, min_samples_leaf=5, min_samples_split=8, n_estimators=60; total time=   0.2s\n",
      "[CV] END max_depth=11, min_samples_leaf=5, min_samples_split=8, n_estimators=60; total time=   0.2s\n",
      "[CV] END max_depth=11, min_samples_leaf=5, min_samples_split=8, n_estimators=60; total time=   0.2s\n",
      "[CV] END max_depth=11, min_samples_leaf=5, min_samples_split=8, n_estimators=60; total time=   0.2s\n",
      "[CV] END max_depth=11, min_samples_leaf=6, min_samples_split=6, n_estimators=30; total time=   0.1s\n",
      "[CV] END max_depth=11, min_samples_leaf=6, min_samples_split=6, n_estimators=30; total time=   0.1s\n",
      "[CV] END max_depth=11, min_samples_leaf=6, min_samples_split=6, n_estimators=30; total time=   0.1s\n",
      "[CV] END max_depth=11, min_samples_leaf=6, min_samples_split=6, n_estimators=30; total time=   0.1s\n",
      "[CV] END max_depth=11, min_samples_leaf=6, min_samples_split=6, n_estimators=30; total time=   0.1s\n",
      "[CV] END max_depth=11, min_samples_leaf=6, min_samples_split=6, n_estimators=40; total time=   0.2s\n",
      "[CV] END max_depth=11, min_samples_leaf=6, min_samples_split=6, n_estimators=40; total time=   0.1s\n",
      "[CV] END max_depth=11, min_samples_leaf=6, min_samples_split=6, n_estimators=40; total time=   0.2s\n",
      "[CV] END max_depth=11, min_samples_leaf=6, min_samples_split=6, n_estimators=40; total time=   0.2s\n",
      "[CV] END max_depth=11, min_samples_leaf=6, min_samples_split=6, n_estimators=40; total time=   0.2s\n",
      "[CV] END max_depth=11, min_samples_leaf=6, min_samples_split=6, n_estimators=50; total time=   0.2s\n",
      "[CV] END max_depth=11, min_samples_leaf=6, min_samples_split=6, n_estimators=50; total time=   0.2s\n",
      "[CV] END max_depth=11, min_samples_leaf=6, min_samples_split=6, n_estimators=50; total time=   0.2s\n",
      "[CV] END max_depth=11, min_samples_leaf=6, min_samples_split=6, n_estimators=50; total time=   0.2s\n",
      "[CV] END max_depth=11, min_samples_leaf=6, min_samples_split=6, n_estimators=50; total time=   0.2s\n",
      "[CV] END max_depth=11, min_samples_leaf=6, min_samples_split=6, n_estimators=60; total time=   0.2s\n",
      "[CV] END max_depth=11, min_samples_leaf=6, min_samples_split=6, n_estimators=60; total time=   0.2s\n",
      "[CV] END max_depth=11, min_samples_leaf=6, min_samples_split=6, n_estimators=60; total time=   0.2s\n",
      "[CV] END max_depth=11, min_samples_leaf=6, min_samples_split=6, n_estimators=60; total time=   0.3s\n",
      "[CV] END max_depth=11, min_samples_leaf=6, min_samples_split=6, n_estimators=60; total time=   0.2s\n",
      "[CV] END max_depth=11, min_samples_leaf=6, min_samples_split=8, n_estimators=30; total time=   0.1s\n",
      "[CV] END max_depth=11, min_samples_leaf=6, min_samples_split=8, n_estimators=30; total time=   0.1s\n",
      "[CV] END max_depth=11, min_samples_leaf=6, min_samples_split=8, n_estimators=30; total time=   0.1s\n",
      "[CV] END max_depth=11, min_samples_leaf=6, min_samples_split=8, n_estimators=30; total time=   0.1s\n",
      "[CV] END max_depth=11, min_samples_leaf=6, min_samples_split=8, n_estimators=30; total time=   0.1s\n",
      "[CV] END max_depth=11, min_samples_leaf=6, min_samples_split=8, n_estimators=40; total time=   0.2s\n",
      "[CV] END max_depth=11, min_samples_leaf=6, min_samples_split=8, n_estimators=40; total time=   0.2s\n",
      "[CV] END max_depth=11, min_samples_leaf=6, min_samples_split=8, n_estimators=40; total time=   0.2s\n",
      "[CV] END max_depth=11, min_samples_leaf=6, min_samples_split=8, n_estimators=40; total time=   0.2s\n",
      "[CV] END max_depth=11, min_samples_leaf=6, min_samples_split=8, n_estimators=40; total time=   0.2s\n",
      "[CV] END max_depth=11, min_samples_leaf=6, min_samples_split=8, n_estimators=50; total time=   0.2s\n",
      "[CV] END max_depth=11, min_samples_leaf=6, min_samples_split=8, n_estimators=50; total time=   0.2s\n",
      "[CV] END max_depth=11, min_samples_leaf=6, min_samples_split=8, n_estimators=50; total time=   0.2s\n",
      "[CV] END max_depth=11, min_samples_leaf=6, min_samples_split=8, n_estimators=50; total time=   0.2s\n",
      "[CV] END max_depth=11, min_samples_leaf=6, min_samples_split=8, n_estimators=50; total time=   0.2s\n",
      "[CV] END max_depth=11, min_samples_leaf=6, min_samples_split=8, n_estimators=60; total time=   0.2s\n",
      "[CV] END max_depth=11, min_samples_leaf=6, min_samples_split=8, n_estimators=60; total time=   0.2s\n",
      "[CV] END max_depth=11, min_samples_leaf=6, min_samples_split=8, n_estimators=60; total time=   0.2s\n",
      "[CV] END max_depth=11, min_samples_leaf=6, min_samples_split=8, n_estimators=60; total time=   0.2s\n",
      "[CV] END max_depth=11, min_samples_leaf=6, min_samples_split=8, n_estimators=60; total time=   0.2s\n",
      "[CV] END max_depth=11, min_samples_leaf=7, min_samples_split=6, n_estimators=30; total time=   0.1s\n",
      "[CV] END max_depth=11, min_samples_leaf=7, min_samples_split=6, n_estimators=30; total time=   0.1s\n",
      "[CV] END max_depth=11, min_samples_leaf=7, min_samples_split=6, n_estimators=30; total time=   0.1s\n",
      "[CV] END max_depth=11, min_samples_leaf=7, min_samples_split=6, n_estimators=30; total time=   0.1s\n",
      "[CV] END max_depth=11, min_samples_leaf=7, min_samples_split=6, n_estimators=30; total time=   0.1s\n",
      "[CV] END max_depth=11, min_samples_leaf=7, min_samples_split=6, n_estimators=40; total time=   0.1s\n",
      "[CV] END max_depth=11, min_samples_leaf=7, min_samples_split=6, n_estimators=40; total time=   0.1s\n",
      "[CV] END max_depth=11, min_samples_leaf=7, min_samples_split=6, n_estimators=40; total time=   0.1s\n",
      "[CV] END max_depth=11, min_samples_leaf=7, min_samples_split=6, n_estimators=40; total time=   0.2s\n",
      "[CV] END max_depth=11, min_samples_leaf=7, min_samples_split=6, n_estimators=40; total time=   0.2s\n",
      "[CV] END max_depth=11, min_samples_leaf=7, min_samples_split=6, n_estimators=50; total time=   0.2s\n",
      "[CV] END max_depth=11, min_samples_leaf=7, min_samples_split=6, n_estimators=50; total time=   0.2s\n",
      "[CV] END max_depth=11, min_samples_leaf=7, min_samples_split=6, n_estimators=50; total time=   0.2s\n",
      "[CV] END max_depth=11, min_samples_leaf=7, min_samples_split=6, n_estimators=50; total time=   0.2s\n",
      "[CV] END max_depth=11, min_samples_leaf=7, min_samples_split=6, n_estimators=50; total time=   0.2s\n",
      "[CV] END max_depth=11, min_samples_leaf=7, min_samples_split=6, n_estimators=60; total time=   0.2s\n",
      "[CV] END max_depth=11, min_samples_leaf=7, min_samples_split=6, n_estimators=60; total time=   0.2s\n",
      "[CV] END max_depth=11, min_samples_leaf=7, min_samples_split=6, n_estimators=60; total time=   0.2s\n",
      "[CV] END max_depth=11, min_samples_leaf=7, min_samples_split=6, n_estimators=60; total time=   0.2s\n",
      "[CV] END max_depth=11, min_samples_leaf=7, min_samples_split=6, n_estimators=60; total time=   0.2s\n",
      "[CV] END max_depth=11, min_samples_leaf=7, min_samples_split=8, n_estimators=30; total time=   0.1s\n",
      "[CV] END max_depth=11, min_samples_leaf=7, min_samples_split=8, n_estimators=30; total time=   0.1s\n",
      "[CV] END max_depth=11, min_samples_leaf=7, min_samples_split=8, n_estimators=30; total time=   0.1s\n",
      "[CV] END max_depth=11, min_samples_leaf=7, min_samples_split=8, n_estimators=30; total time=   0.1s\n",
      "[CV] END max_depth=11, min_samples_leaf=7, min_samples_split=8, n_estimators=30; total time=   0.1s\n",
      "[CV] END max_depth=11, min_samples_leaf=7, min_samples_split=8, n_estimators=40; total time=   0.1s\n",
      "[CV] END max_depth=11, min_samples_leaf=7, min_samples_split=8, n_estimators=40; total time=   0.1s\n",
      "[CV] END max_depth=11, min_samples_leaf=7, min_samples_split=8, n_estimators=40; total time=   0.2s\n",
      "[CV] END max_depth=11, min_samples_leaf=7, min_samples_split=8, n_estimators=40; total time=   0.2s\n",
      "[CV] END max_depth=11, min_samples_leaf=7, min_samples_split=8, n_estimators=40; total time=   0.2s\n",
      "[CV] END max_depth=11, min_samples_leaf=7, min_samples_split=8, n_estimators=50; total time=   0.2s\n",
      "[CV] END max_depth=11, min_samples_leaf=7, min_samples_split=8, n_estimators=50; total time=   0.2s\n",
      "[CV] END max_depth=11, min_samples_leaf=7, min_samples_split=8, n_estimators=50; total time=   0.2s\n",
      "[CV] END max_depth=11, min_samples_leaf=7, min_samples_split=8, n_estimators=50; total time=   0.2s\n",
      "[CV] END max_depth=11, min_samples_leaf=7, min_samples_split=8, n_estimators=50; total time=   0.2s\n",
      "[CV] END max_depth=11, min_samples_leaf=7, min_samples_split=8, n_estimators=60; total time=   0.2s\n",
      "[CV] END max_depth=11, min_samples_leaf=7, min_samples_split=8, n_estimators=60; total time=   0.2s\n",
      "[CV] END max_depth=11, min_samples_leaf=7, min_samples_split=8, n_estimators=60; total time=   0.2s\n",
      "[CV] END max_depth=11, min_samples_leaf=7, min_samples_split=8, n_estimators=60; total time=   0.2s\n",
      "[CV] END max_depth=11, min_samples_leaf=7, min_samples_split=8, n_estimators=60; total time=   0.2s\n",
      "[CV] END max_depth=13, min_samples_leaf=5, min_samples_split=6, n_estimators=30; total time=   0.1s\n",
      "[CV] END max_depth=13, min_samples_leaf=5, min_samples_split=6, n_estimators=30; total time=   0.1s\n",
      "[CV] END max_depth=13, min_samples_leaf=5, min_samples_split=6, n_estimators=30; total time=   0.1s\n",
      "[CV] END max_depth=13, min_samples_leaf=5, min_samples_split=6, n_estimators=30; total time=   0.1s\n",
      "[CV] END max_depth=13, min_samples_leaf=5, min_samples_split=6, n_estimators=30; total time=   0.1s\n",
      "[CV] END max_depth=13, min_samples_leaf=5, min_samples_split=6, n_estimators=40; total time=   0.2s\n",
      "[CV] END max_depth=13, min_samples_leaf=5, min_samples_split=6, n_estimators=40; total time=   0.2s\n",
      "[CV] END max_depth=13, min_samples_leaf=5, min_samples_split=6, n_estimators=40; total time=   0.2s\n",
      "[CV] END max_depth=13, min_samples_leaf=5, min_samples_split=6, n_estimators=40; total time=   0.2s\n",
      "[CV] END max_depth=13, min_samples_leaf=5, min_samples_split=6, n_estimators=40; total time=   0.2s\n",
      "[CV] END max_depth=13, min_samples_leaf=5, min_samples_split=6, n_estimators=50; total time=   0.2s\n",
      "[CV] END max_depth=13, min_samples_leaf=5, min_samples_split=6, n_estimators=50; total time=   0.2s\n",
      "[CV] END max_depth=13, min_samples_leaf=5, min_samples_split=6, n_estimators=50; total time=   0.2s\n",
      "[CV] END max_depth=13, min_samples_leaf=5, min_samples_split=6, n_estimators=50; total time=   0.2s\n",
      "[CV] END max_depth=13, min_samples_leaf=5, min_samples_split=6, n_estimators=50; total time=   0.2s\n",
      "[CV] END max_depth=13, min_samples_leaf=5, min_samples_split=6, n_estimators=60; total time=   0.2s\n",
      "[CV] END max_depth=13, min_samples_leaf=5, min_samples_split=6, n_estimators=60; total time=   0.2s\n",
      "[CV] END max_depth=13, min_samples_leaf=5, min_samples_split=6, n_estimators=60; total time=   0.2s\n",
      "[CV] END max_depth=13, min_samples_leaf=5, min_samples_split=6, n_estimators=60; total time=   0.2s\n",
      "[CV] END max_depth=13, min_samples_leaf=5, min_samples_split=6, n_estimators=60; total time=   0.2s\n",
      "[CV] END max_depth=13, min_samples_leaf=5, min_samples_split=8, n_estimators=30; total time=   0.1s\n",
      "[CV] END max_depth=13, min_samples_leaf=5, min_samples_split=8, n_estimators=30; total time=   0.1s\n",
      "[CV] END max_depth=13, min_samples_leaf=5, min_samples_split=8, n_estimators=30; total time=   0.1s\n",
      "[CV] END max_depth=13, min_samples_leaf=5, min_samples_split=8, n_estimators=30; total time=   0.1s\n",
      "[CV] END max_depth=13, min_samples_leaf=5, min_samples_split=8, n_estimators=30; total time=   0.1s\n",
      "[CV] END max_depth=13, min_samples_leaf=5, min_samples_split=8, n_estimators=40; total time=   0.2s\n",
      "[CV] END max_depth=13, min_samples_leaf=5, min_samples_split=8, n_estimators=40; total time=   0.2s\n",
      "[CV] END max_depth=13, min_samples_leaf=5, min_samples_split=8, n_estimators=40; total time=   0.2s\n",
      "[CV] END max_depth=13, min_samples_leaf=5, min_samples_split=8, n_estimators=40; total time=   0.2s\n",
      "[CV] END max_depth=13, min_samples_leaf=5, min_samples_split=8, n_estimators=40; total time=   0.2s\n",
      "[CV] END max_depth=13, min_samples_leaf=5, min_samples_split=8, n_estimators=50; total time=   0.2s\n",
      "[CV] END max_depth=13, min_samples_leaf=5, min_samples_split=8, n_estimators=50; total time=   0.2s\n",
      "[CV] END max_depth=13, min_samples_leaf=5, min_samples_split=8, n_estimators=50; total time=   0.2s\n",
      "[CV] END max_depth=13, min_samples_leaf=5, min_samples_split=8, n_estimators=50; total time=   0.2s\n",
      "[CV] END max_depth=13, min_samples_leaf=5, min_samples_split=8, n_estimators=50; total time=   0.2s\n",
      "[CV] END max_depth=13, min_samples_leaf=5, min_samples_split=8, n_estimators=60; total time=   0.2s\n",
      "[CV] END max_depth=13, min_samples_leaf=5, min_samples_split=8, n_estimators=60; total time=   0.2s\n",
      "[CV] END max_depth=13, min_samples_leaf=5, min_samples_split=8, n_estimators=60; total time=   0.2s\n",
      "[CV] END max_depth=13, min_samples_leaf=5, min_samples_split=8, n_estimators=60; total time=   0.2s\n",
      "[CV] END max_depth=13, min_samples_leaf=5, min_samples_split=8, n_estimators=60; total time=   0.2s\n",
      "[CV] END max_depth=13, min_samples_leaf=6, min_samples_split=6, n_estimators=30; total time=   0.1s\n",
      "[CV] END max_depth=13, min_samples_leaf=6, min_samples_split=6, n_estimators=30; total time=   0.1s\n",
      "[CV] END max_depth=13, min_samples_leaf=6, min_samples_split=6, n_estimators=30; total time=   0.1s\n",
      "[CV] END max_depth=13, min_samples_leaf=6, min_samples_split=6, n_estimators=30; total time=   0.1s\n",
      "[CV] END max_depth=13, min_samples_leaf=6, min_samples_split=6, n_estimators=30; total time=   0.1s\n",
      "[CV] END max_depth=13, min_samples_leaf=6, min_samples_split=6, n_estimators=40; total time=   0.1s\n",
      "[CV] END max_depth=13, min_samples_leaf=6, min_samples_split=6, n_estimators=40; total time=   0.2s\n",
      "[CV] END max_depth=13, min_samples_leaf=6, min_samples_split=6, n_estimators=40; total time=   0.2s\n",
      "[CV] END max_depth=13, min_samples_leaf=6, min_samples_split=6, n_estimators=40; total time=   0.2s\n",
      "[CV] END max_depth=13, min_samples_leaf=6, min_samples_split=6, n_estimators=40; total time=   0.2s\n",
      "[CV] END max_depth=13, min_samples_leaf=6, min_samples_split=6, n_estimators=50; total time=   0.2s\n",
      "[CV] END max_depth=13, min_samples_leaf=6, min_samples_split=6, n_estimators=50; total time=   0.2s\n",
      "[CV] END max_depth=13, min_samples_leaf=6, min_samples_split=6, n_estimators=50; total time=   0.2s\n",
      "[CV] END max_depth=13, min_samples_leaf=6, min_samples_split=6, n_estimators=50; total time=   0.2s\n",
      "[CV] END max_depth=13, min_samples_leaf=6, min_samples_split=6, n_estimators=50; total time=   0.2s\n",
      "[CV] END max_depth=13, min_samples_leaf=6, min_samples_split=6, n_estimators=60; total time=   0.2s\n",
      "[CV] END max_depth=13, min_samples_leaf=6, min_samples_split=6, n_estimators=60; total time=   0.2s\n",
      "[CV] END max_depth=13, min_samples_leaf=6, min_samples_split=6, n_estimators=60; total time=   0.2s\n",
      "[CV] END max_depth=13, min_samples_leaf=6, min_samples_split=6, n_estimators=60; total time=   0.2s\n",
      "[CV] END max_depth=13, min_samples_leaf=6, min_samples_split=6, n_estimators=60; total time=   0.2s\n",
      "[CV] END max_depth=13, min_samples_leaf=6, min_samples_split=8, n_estimators=30; total time=   0.1s\n",
      "[CV] END max_depth=13, min_samples_leaf=6, min_samples_split=8, n_estimators=30; total time=   0.1s\n",
      "[CV] END max_depth=13, min_samples_leaf=6, min_samples_split=8, n_estimators=30; total time=   0.1s\n",
      "[CV] END max_depth=13, min_samples_leaf=6, min_samples_split=8, n_estimators=30; total time=   0.1s\n",
      "[CV] END max_depth=13, min_samples_leaf=6, min_samples_split=8, n_estimators=30; total time=   0.1s\n",
      "[CV] END max_depth=13, min_samples_leaf=6, min_samples_split=8, n_estimators=40; total time=   0.1s\n",
      "[CV] END max_depth=13, min_samples_leaf=6, min_samples_split=8, n_estimators=40; total time=   0.1s\n",
      "[CV] END max_depth=13, min_samples_leaf=6, min_samples_split=8, n_estimators=40; total time=   0.2s\n",
      "[CV] END max_depth=13, min_samples_leaf=6, min_samples_split=8, n_estimators=40; total time=   0.1s\n",
      "[CV] END max_depth=13, min_samples_leaf=6, min_samples_split=8, n_estimators=40; total time=   0.2s\n",
      "[CV] END max_depth=13, min_samples_leaf=6, min_samples_split=8, n_estimators=50; total time=   0.2s\n",
      "[CV] END max_depth=13, min_samples_leaf=6, min_samples_split=8, n_estimators=50; total time=   0.2s\n",
      "[CV] END max_depth=13, min_samples_leaf=6, min_samples_split=8, n_estimators=50; total time=   0.2s\n",
      "[CV] END max_depth=13, min_samples_leaf=6, min_samples_split=8, n_estimators=50; total time=   0.2s\n",
      "[CV] END max_depth=13, min_samples_leaf=6, min_samples_split=8, n_estimators=50; total time=   0.2s\n",
      "[CV] END max_depth=13, min_samples_leaf=6, min_samples_split=8, n_estimators=60; total time=   0.3s\n",
      "[CV] END max_depth=13, min_samples_leaf=6, min_samples_split=8, n_estimators=60; total time=   0.2s\n",
      "[CV] END max_depth=13, min_samples_leaf=6, min_samples_split=8, n_estimators=60; total time=   0.3s\n",
      "[CV] END max_depth=13, min_samples_leaf=6, min_samples_split=8, n_estimators=60; total time=   0.2s\n",
      "[CV] END max_depth=13, min_samples_leaf=6, min_samples_split=8, n_estimators=60; total time=   0.3s\n",
      "[CV] END max_depth=13, min_samples_leaf=7, min_samples_split=6, n_estimators=30; total time=   0.1s\n",
      "[CV] END max_depth=13, min_samples_leaf=7, min_samples_split=6, n_estimators=30; total time=   0.1s\n",
      "[CV] END max_depth=13, min_samples_leaf=7, min_samples_split=6, n_estimators=30; total time=   0.1s\n",
      "[CV] END max_depth=13, min_samples_leaf=7, min_samples_split=6, n_estimators=30; total time=   0.1s\n",
      "[CV] END max_depth=13, min_samples_leaf=7, min_samples_split=6, n_estimators=30; total time=   0.1s\n",
      "[CV] END max_depth=13, min_samples_leaf=7, min_samples_split=6, n_estimators=40; total time=   0.2s\n",
      "[CV] END max_depth=13, min_samples_leaf=7, min_samples_split=6, n_estimators=40; total time=   0.2s\n",
      "[CV] END max_depth=13, min_samples_leaf=7, min_samples_split=6, n_estimators=40; total time=   0.2s\n",
      "[CV] END max_depth=13, min_samples_leaf=7, min_samples_split=6, n_estimators=40; total time=   0.2s\n",
      "[CV] END max_depth=13, min_samples_leaf=7, min_samples_split=6, n_estimators=40; total time=   0.2s\n",
      "[CV] END max_depth=13, min_samples_leaf=7, min_samples_split=6, n_estimators=50; total time=   0.2s\n",
      "[CV] END max_depth=13, min_samples_leaf=7, min_samples_split=6, n_estimators=50; total time=   0.2s\n",
      "[CV] END max_depth=13, min_samples_leaf=7, min_samples_split=6, n_estimators=50; total time=   0.2s\n",
      "[CV] END max_depth=13, min_samples_leaf=7, min_samples_split=6, n_estimators=50; total time=   0.2s\n",
      "[CV] END max_depth=13, min_samples_leaf=7, min_samples_split=6, n_estimators=50; total time=   0.2s\n",
      "[CV] END max_depth=13, min_samples_leaf=7, min_samples_split=6, n_estimators=60; total time=   0.2s\n",
      "[CV] END max_depth=13, min_samples_leaf=7, min_samples_split=6, n_estimators=60; total time=   0.3s\n",
      "[CV] END max_depth=13, min_samples_leaf=7, min_samples_split=6, n_estimators=60; total time=   0.2s\n",
      "[CV] END max_depth=13, min_samples_leaf=7, min_samples_split=6, n_estimators=60; total time=   0.2s\n",
      "[CV] END max_depth=13, min_samples_leaf=7, min_samples_split=6, n_estimators=60; total time=   0.2s\n",
      "[CV] END max_depth=13, min_samples_leaf=7, min_samples_split=8, n_estimators=30; total time=   0.2s\n",
      "[CV] END max_depth=13, min_samples_leaf=7, min_samples_split=8, n_estimators=30; total time=   0.1s\n",
      "[CV] END max_depth=13, min_samples_leaf=7, min_samples_split=8, n_estimators=30; total time=   0.1s\n",
      "[CV] END max_depth=13, min_samples_leaf=7, min_samples_split=8, n_estimators=30; total time=   0.1s\n",
      "[CV] END max_depth=13, min_samples_leaf=7, min_samples_split=8, n_estimators=30; total time=   0.1s\n",
      "[CV] END max_depth=13, min_samples_leaf=7, min_samples_split=8, n_estimators=40; total time=   0.1s\n",
      "[CV] END max_depth=13, min_samples_leaf=7, min_samples_split=8, n_estimators=40; total time=   0.1s\n",
      "[CV] END max_depth=13, min_samples_leaf=7, min_samples_split=8, n_estimators=40; total time=   0.2s\n",
      "[CV] END max_depth=13, min_samples_leaf=7, min_samples_split=8, n_estimators=40; total time=   0.2s\n",
      "[CV] END max_depth=13, min_samples_leaf=7, min_samples_split=8, n_estimators=40; total time=   0.2s\n",
      "[CV] END max_depth=13, min_samples_leaf=7, min_samples_split=8, n_estimators=50; total time=   0.2s\n",
      "[CV] END max_depth=13, min_samples_leaf=7, min_samples_split=8, n_estimators=50; total time=   0.2s\n",
      "[CV] END max_depth=13, min_samples_leaf=7, min_samples_split=8, n_estimators=50; total time=   0.2s\n",
      "[CV] END max_depth=13, min_samples_leaf=7, min_samples_split=8, n_estimators=50; total time=   0.2s\n",
      "[CV] END max_depth=13, min_samples_leaf=7, min_samples_split=8, n_estimators=50; total time=   0.2s\n",
      "[CV] END max_depth=13, min_samples_leaf=7, min_samples_split=8, n_estimators=60; total time=   0.2s\n",
      "[CV] END max_depth=13, min_samples_leaf=7, min_samples_split=8, n_estimators=60; total time=   0.2s\n",
      "[CV] END max_depth=13, min_samples_leaf=7, min_samples_split=8, n_estimators=60; total time=   0.2s\n",
      "[CV] END max_depth=13, min_samples_leaf=7, min_samples_split=8, n_estimators=60; total time=   0.2s\n",
      "[CV] END max_depth=13, min_samples_leaf=7, min_samples_split=8, n_estimators=60; total time=   0.2s\n",
      "CPU times: user 1min 19s, sys: 645 ms, total: 1min 20s\n",
      "Wall time: 1min 21s\n"
     ]
    },
    {
     "data": {
      "text/plain": [
       "GridSearchCV(cv=5,\n",
       "             estimator=RandomForestClassifier(class_weight='balanced',\n",
       "                                              random_state=190922),\n",
       "             param_grid={'max_depth': range(7, 14, 2),\n",
       "                         'min_samples_leaf': range(5, 8),\n",
       "                         'min_samples_split': range(6, 10, 2),\n",
       "                         'n_estimators': range(30, 61, 10)},\n",
       "             scoring='roc_auc', verbose=2)"
      ]
     },
     "execution_count": 146,
     "metadata": {},
     "output_type": "execute_result"
    }
   ],
   "source": [
    "%%time\n",
    "grid_forest = GridSearchCV(model_for, parametrs, cv=5, verbose=2, scoring='roc_auc')\n",
    "grid_forest.fit(features_train_ohe, target_train)"
   ]
  },
  {
   "cell_type": "code",
   "execution_count": 147,
   "metadata": {
    "scrolled": false
   },
   "outputs": [
    {
     "data": {
      "text/plain": [
       "{'max_depth': 9,\n",
       " 'min_samples_leaf': 5,\n",
       " 'min_samples_split': 6,\n",
       " 'n_estimators': 60}"
      ]
     },
     "execution_count": 147,
     "metadata": {},
     "output_type": "execute_result"
    }
   ],
   "source": [
    "grid_forest.best_params_"
   ]
  },
  {
   "cell_type": "code",
   "execution_count": 148,
   "metadata": {},
   "outputs": [
    {
     "data": {
      "text/plain": [
       "0.8594698075683128"
      ]
     },
     "execution_count": 148,
     "metadata": {},
     "output_type": "execute_result"
    }
   ],
   "source": [
    "grid_forest.best_score_"
   ]
  },
  {
   "cell_type": "code",
   "execution_count": 149,
   "metadata": {},
   "outputs": [],
   "source": [
    "forest_auc=grid_forest.best_score_"
   ]
  },
  {
   "cell_type": "markdown",
   "metadata": {},
   "source": [
    "#### Модель LogisticRegression"
   ]
  },
  {
   "cell_type": "code",
   "execution_count": 150,
   "metadata": {},
   "outputs": [],
   "source": [
    "model_lin=LogisticRegression(random_state=190922, solver='liblinear')"
   ]
  },
  {
   "cell_type": "code",
   "execution_count": 151,
   "metadata": {},
   "outputs": [
    {
     "data": {
      "text/plain": [
       "GridSearchCV(cv=5,\n",
       "             estimator=LogisticRegression(random_state=190922,\n",
       "                                          solver='liblinear'),\n",
       "             param_grid={'C': array([1.e-03, 1.e-02, 1.e-01, 1.e+00, 1.e+01, 1.e+02, 1.e+03]),\n",
       "                         'penalty': ['l1', 'l2']},\n",
       "             scoring='roc_auc')"
      ]
     },
     "execution_count": 151,
     "metadata": {},
     "output_type": "execute_result"
    }
   ],
   "source": [
    "parametrs= {\"C\":np.logspace(-3,3,7), \"penalty\":[\"l1\",\"l2\"]}\n",
    "\n",
    "grid_lr = GridSearchCV(model_lin, parametrs, cv=5, scoring='roc_auc')\n",
    "\n",
    "grid_lr.fit(features_train_ohe_lin, target_train)"
   ]
  },
  {
   "cell_type": "code",
   "execution_count": 152,
   "metadata": {},
   "outputs": [
    {
     "data": {
      "text/plain": [
       "{'C': 10.0, 'penalty': 'l2'}"
      ]
     },
     "execution_count": 152,
     "metadata": {},
     "output_type": "execute_result"
    }
   ],
   "source": [
    "grid_lr.best_params_"
   ]
  },
  {
   "cell_type": "code",
   "execution_count": 153,
   "metadata": {},
   "outputs": [
    {
     "data": {
      "text/plain": [
       "0.8433345236775718"
      ]
     },
     "execution_count": 153,
     "metadata": {},
     "output_type": "execute_result"
    }
   ],
   "source": [
    "grid_lr.best_score_"
   ]
  },
  {
   "cell_type": "code",
   "execution_count": 154,
   "metadata": {},
   "outputs": [],
   "source": [
    "lr_auc=grid_lr.best_score_"
   ]
  },
  {
   "cell_type": "markdown",
   "metadata": {},
   "source": [
    "#### Модель DecisionTreeClassifier"
   ]
  },
  {
   "cell_type": "code",
   "execution_count": 155,
   "metadata": {
    "scrolled": false
   },
   "outputs": [],
   "source": [
    "model_destree = DecisionTreeClassifier(random_state=190922, class_weight='balanced')"
   ]
  },
  {
   "cell_type": "code",
   "execution_count": 156,
   "metadata": {},
   "outputs": [],
   "source": [
    "parametrs = { 'max_depth': range (7,14, 2),\n",
    "              'min_samples_leaf': range (5,8),\n",
    "              'min_samples_split': range (6,10,2) }"
   ]
  },
  {
   "cell_type": "code",
   "execution_count": 157,
   "metadata": {
    "scrolled": true
   },
   "outputs": [
    {
     "name": "stdout",
     "output_type": "stream",
     "text": [
      "Fitting 5 folds for each of 24 candidates, totalling 120 fits\n",
      "[CV] END max_depth=7, min_samples_leaf=5, min_samples_split=6; total time=   0.0s\n",
      "[CV] END max_depth=7, min_samples_leaf=5, min_samples_split=6; total time=   0.0s\n",
      "[CV] END max_depth=7, min_samples_leaf=5, min_samples_split=6; total time=   0.0s\n",
      "[CV] END max_depth=7, min_samples_leaf=5, min_samples_split=6; total time=   0.0s\n",
      "[CV] END max_depth=7, min_samples_leaf=5, min_samples_split=6; total time=   0.0s\n",
      "[CV] END max_depth=7, min_samples_leaf=5, min_samples_split=8; total time=   0.0s\n",
      "[CV] END max_depth=7, min_samples_leaf=5, min_samples_split=8; total time=   0.0s\n",
      "[CV] END max_depth=7, min_samples_leaf=5, min_samples_split=8; total time=   0.0s\n",
      "[CV] END max_depth=7, min_samples_leaf=5, min_samples_split=8; total time=   0.0s\n",
      "[CV] END max_depth=7, min_samples_leaf=5, min_samples_split=8; total time=   0.0s\n",
      "[CV] END max_depth=7, min_samples_leaf=6, min_samples_split=6; total time=   0.0s\n",
      "[CV] END max_depth=7, min_samples_leaf=6, min_samples_split=6; total time=   0.0s\n",
      "[CV] END max_depth=7, min_samples_leaf=6, min_samples_split=6; total time=   0.0s\n",
      "[CV] END max_depth=7, min_samples_leaf=6, min_samples_split=6; total time=   0.0s\n",
      "[CV] END max_depth=7, min_samples_leaf=6, min_samples_split=6; total time=   0.0s\n",
      "[CV] END max_depth=7, min_samples_leaf=6, min_samples_split=8; total time=   0.0s\n",
      "[CV] END max_depth=7, min_samples_leaf=6, min_samples_split=8; total time=   0.0s\n",
      "[CV] END max_depth=7, min_samples_leaf=6, min_samples_split=8; total time=   0.0s\n",
      "[CV] END max_depth=7, min_samples_leaf=6, min_samples_split=8; total time=   0.0s\n",
      "[CV] END max_depth=7, min_samples_leaf=6, min_samples_split=8; total time=   0.0s\n",
      "[CV] END max_depth=7, min_samples_leaf=7, min_samples_split=6; total time=   0.0s\n",
      "[CV] END max_depth=7, min_samples_leaf=7, min_samples_split=6; total time=   0.0s\n",
      "[CV] END max_depth=7, min_samples_leaf=7, min_samples_split=6; total time=   0.0s\n",
      "[CV] END max_depth=7, min_samples_leaf=7, min_samples_split=6; total time=   0.0s\n",
      "[CV] END max_depth=7, min_samples_leaf=7, min_samples_split=6; total time=   0.0s\n",
      "[CV] END max_depth=7, min_samples_leaf=7, min_samples_split=8; total time=   0.0s\n",
      "[CV] END max_depth=7, min_samples_leaf=7, min_samples_split=8; total time=   0.0s\n",
      "[CV] END max_depth=7, min_samples_leaf=7, min_samples_split=8; total time=   0.0s\n",
      "[CV] END max_depth=7, min_samples_leaf=7, min_samples_split=8; total time=   0.0s\n",
      "[CV] END max_depth=7, min_samples_leaf=7, min_samples_split=8; total time=   0.0s\n",
      "[CV] END max_depth=9, min_samples_leaf=5, min_samples_split=6; total time=   0.0s\n",
      "[CV] END max_depth=9, min_samples_leaf=5, min_samples_split=6; total time=   0.0s\n",
      "[CV] END max_depth=9, min_samples_leaf=5, min_samples_split=6; total time=   0.0s\n",
      "[CV] END max_depth=9, min_samples_leaf=5, min_samples_split=6; total time=   0.0s\n",
      "[CV] END max_depth=9, min_samples_leaf=5, min_samples_split=6; total time=   0.0s\n",
      "[CV] END max_depth=9, min_samples_leaf=5, min_samples_split=8; total time=   0.0s\n",
      "[CV] END max_depth=9, min_samples_leaf=5, min_samples_split=8; total time=   0.0s\n",
      "[CV] END max_depth=9, min_samples_leaf=5, min_samples_split=8; total time=   0.0s\n",
      "[CV] END max_depth=9, min_samples_leaf=5, min_samples_split=8; total time=   0.0s\n",
      "[CV] END max_depth=9, min_samples_leaf=5, min_samples_split=8; total time=   0.0s\n",
      "[CV] END max_depth=9, min_samples_leaf=6, min_samples_split=6; total time=   0.0s\n",
      "[CV] END max_depth=9, min_samples_leaf=6, min_samples_split=6; total time=   0.0s\n",
      "[CV] END max_depth=9, min_samples_leaf=6, min_samples_split=6; total time=   0.0s\n",
      "[CV] END max_depth=9, min_samples_leaf=6, min_samples_split=6; total time=   0.0s\n",
      "[CV] END max_depth=9, min_samples_leaf=6, min_samples_split=6; total time=   0.0s\n",
      "[CV] END max_depth=9, min_samples_leaf=6, min_samples_split=8; total time=   0.0s\n",
      "[CV] END max_depth=9, min_samples_leaf=6, min_samples_split=8; total time=   0.0s\n",
      "[CV] END max_depth=9, min_samples_leaf=6, min_samples_split=8; total time=   0.0s\n",
      "[CV] END max_depth=9, min_samples_leaf=6, min_samples_split=8; total time=   0.0s\n",
      "[CV] END max_depth=9, min_samples_leaf=6, min_samples_split=8; total time=   0.0s\n",
      "[CV] END max_depth=9, min_samples_leaf=7, min_samples_split=6; total time=   0.0s\n",
      "[CV] END max_depth=9, min_samples_leaf=7, min_samples_split=6; total time=   0.0s\n",
      "[CV] END max_depth=9, min_samples_leaf=7, min_samples_split=6; total time=   0.0s\n",
      "[CV] END max_depth=9, min_samples_leaf=7, min_samples_split=6; total time=   0.0s\n",
      "[CV] END max_depth=9, min_samples_leaf=7, min_samples_split=6; total time=   0.0s\n",
      "[CV] END max_depth=9, min_samples_leaf=7, min_samples_split=8; total time=   0.0s\n",
      "[CV] END max_depth=9, min_samples_leaf=7, min_samples_split=8; total time=   0.0s\n",
      "[CV] END max_depth=9, min_samples_leaf=7, min_samples_split=8; total time=   0.0s\n",
      "[CV] END max_depth=9, min_samples_leaf=7, min_samples_split=8; total time=   0.0s\n",
      "[CV] END max_depth=9, min_samples_leaf=7, min_samples_split=8; total time=   0.0s\n",
      "[CV] END max_depth=11, min_samples_leaf=5, min_samples_split=6; total time=   0.0s\n",
      "[CV] END max_depth=11, min_samples_leaf=5, min_samples_split=6; total time=   0.0s\n",
      "[CV] END max_depth=11, min_samples_leaf=5, min_samples_split=6; total time=   0.0s\n",
      "[CV] END max_depth=11, min_samples_leaf=5, min_samples_split=6; total time=   0.0s\n",
      "[CV] END max_depth=11, min_samples_leaf=5, min_samples_split=6; total time=   0.0s\n",
      "[CV] END max_depth=11, min_samples_leaf=5, min_samples_split=8; total time=   0.0s\n",
      "[CV] END max_depth=11, min_samples_leaf=5, min_samples_split=8; total time=   0.0s\n",
      "[CV] END max_depth=11, min_samples_leaf=5, min_samples_split=8; total time=   0.0s\n",
      "[CV] END max_depth=11, min_samples_leaf=5, min_samples_split=8; total time=   0.0s\n",
      "[CV] END max_depth=11, min_samples_leaf=5, min_samples_split=8; total time=   0.0s\n",
      "[CV] END max_depth=11, min_samples_leaf=6, min_samples_split=6; total time=   0.0s\n",
      "[CV] END max_depth=11, min_samples_leaf=6, min_samples_split=6; total time=   0.0s\n",
      "[CV] END max_depth=11, min_samples_leaf=6, min_samples_split=6; total time=   0.0s\n",
      "[CV] END max_depth=11, min_samples_leaf=6, min_samples_split=6; total time=   0.0s\n",
      "[CV] END max_depth=11, min_samples_leaf=6, min_samples_split=6; total time=   0.0s\n",
      "[CV] END max_depth=11, min_samples_leaf=6, min_samples_split=8; total time=   0.0s\n",
      "[CV] END max_depth=11, min_samples_leaf=6, min_samples_split=8; total time=   0.0s\n",
      "[CV] END max_depth=11, min_samples_leaf=6, min_samples_split=8; total time=   0.0s\n",
      "[CV] END max_depth=11, min_samples_leaf=6, min_samples_split=8; total time=   0.0s\n",
      "[CV] END max_depth=11, min_samples_leaf=6, min_samples_split=8; total time=   0.0s\n",
      "[CV] END max_depth=11, min_samples_leaf=7, min_samples_split=6; total time=   0.0s\n",
      "[CV] END max_depth=11, min_samples_leaf=7, min_samples_split=6; total time=   0.0s\n",
      "[CV] END max_depth=11, min_samples_leaf=7, min_samples_split=6; total time=   0.0s\n",
      "[CV] END max_depth=11, min_samples_leaf=7, min_samples_split=6; total time=   0.0s\n",
      "[CV] END max_depth=11, min_samples_leaf=7, min_samples_split=6; total time=   0.0s\n",
      "[CV] END max_depth=11, min_samples_leaf=7, min_samples_split=8; total time=   0.0s\n",
      "[CV] END max_depth=11, min_samples_leaf=7, min_samples_split=8; total time=   0.0s\n",
      "[CV] END max_depth=11, min_samples_leaf=7, min_samples_split=8; total time=   0.0s\n",
      "[CV] END max_depth=11, min_samples_leaf=7, min_samples_split=8; total time=   0.0s\n",
      "[CV] END max_depth=11, min_samples_leaf=7, min_samples_split=8; total time=   0.0s\n",
      "[CV] END max_depth=13, min_samples_leaf=5, min_samples_split=6; total time=   0.0s\n",
      "[CV] END max_depth=13, min_samples_leaf=5, min_samples_split=6; total time=   0.0s\n",
      "[CV] END max_depth=13, min_samples_leaf=5, min_samples_split=6; total time=   0.0s\n",
      "[CV] END max_depth=13, min_samples_leaf=5, min_samples_split=6; total time=   0.0s\n",
      "[CV] END max_depth=13, min_samples_leaf=5, min_samples_split=6; total time=   0.0s\n",
      "[CV] END max_depth=13, min_samples_leaf=5, min_samples_split=8; total time=   0.0s\n",
      "[CV] END max_depth=13, min_samples_leaf=5, min_samples_split=8; total time=   0.0s\n",
      "[CV] END max_depth=13, min_samples_leaf=5, min_samples_split=8; total time=   0.0s\n",
      "[CV] END max_depth=13, min_samples_leaf=5, min_samples_split=8; total time=   0.0s\n",
      "[CV] END max_depth=13, min_samples_leaf=5, min_samples_split=8; total time=   0.0s\n",
      "[CV] END max_depth=13, min_samples_leaf=6, min_samples_split=6; total time=   0.0s\n",
      "[CV] END max_depth=13, min_samples_leaf=6, min_samples_split=6; total time=   0.0s\n",
      "[CV] END max_depth=13, min_samples_leaf=6, min_samples_split=6; total time=   0.0s\n",
      "[CV] END max_depth=13, min_samples_leaf=6, min_samples_split=6; total time=   0.0s\n",
      "[CV] END max_depth=13, min_samples_leaf=6, min_samples_split=6; total time=   0.0s\n",
      "[CV] END max_depth=13, min_samples_leaf=6, min_samples_split=8; total time=   0.0s\n",
      "[CV] END max_depth=13, min_samples_leaf=6, min_samples_split=8; total time=   0.0s\n",
      "[CV] END max_depth=13, min_samples_leaf=6, min_samples_split=8; total time=   0.0s\n",
      "[CV] END max_depth=13, min_samples_leaf=6, min_samples_split=8; total time=   0.0s\n",
      "[CV] END max_depth=13, min_samples_leaf=6, min_samples_split=8; total time=   0.0s\n",
      "[CV] END max_depth=13, min_samples_leaf=7, min_samples_split=6; total time=   0.0s\n",
      "[CV] END max_depth=13, min_samples_leaf=7, min_samples_split=6; total time=   0.0s\n",
      "[CV] END max_depth=13, min_samples_leaf=7, min_samples_split=6; total time=   0.0s\n",
      "[CV] END max_depth=13, min_samples_leaf=7, min_samples_split=6; total time=   0.0s\n",
      "[CV] END max_depth=13, min_samples_leaf=7, min_samples_split=6; total time=   0.0s\n",
      "[CV] END max_depth=13, min_samples_leaf=7, min_samples_split=8; total time=   0.0s\n",
      "[CV] END max_depth=13, min_samples_leaf=7, min_samples_split=8; total time=   0.0s\n",
      "[CV] END max_depth=13, min_samples_leaf=7, min_samples_split=8; total time=   0.0s\n",
      "[CV] END max_depth=13, min_samples_leaf=7, min_samples_split=8; total time=   0.0s\n",
      "[CV] END max_depth=13, min_samples_leaf=7, min_samples_split=8; total time=   0.0s\n",
      "CPU times: user 2.2 s, sys: 23.7 ms, total: 2.22 s\n",
      "Wall time: 2.26 s\n"
     ]
    },
    {
     "data": {
      "text/plain": [
       "GridSearchCV(cv=5,\n",
       "             estimator=DecisionTreeClassifier(class_weight='balanced',\n",
       "                                              random_state=190922),\n",
       "             param_grid={'max_depth': range(7, 14, 2),\n",
       "                         'min_samples_leaf': range(5, 8),\n",
       "                         'min_samples_split': range(6, 10, 2)},\n",
       "             scoring='roc_auc', verbose=2)"
      ]
     },
     "execution_count": 157,
     "metadata": {},
     "output_type": "execute_result"
    }
   ],
   "source": [
    "%%time\n",
    "grid_forest = GridSearchCV(model_destree, parametrs, cv=5, verbose=2, scoring='roc_auc')\n",
    "grid_forest.fit(features_train_ohe, target_train)"
   ]
  },
  {
   "cell_type": "code",
   "execution_count": 158,
   "metadata": {
    "scrolled": true
   },
   "outputs": [
    {
     "data": {
      "text/plain": [
       "{'max_depth': 7, 'min_samples_leaf': 7, 'min_samples_split': 6}"
      ]
     },
     "execution_count": 158,
     "metadata": {},
     "output_type": "execute_result"
    }
   ],
   "source": [
    "grid_forest.best_params_"
   ]
  },
  {
   "cell_type": "code",
   "execution_count": 159,
   "metadata": {
    "scrolled": true
   },
   "outputs": [
    {
     "data": {
      "text/plain": [
       "0.8397071080837077"
      ]
     },
     "execution_count": 159,
     "metadata": {},
     "output_type": "execute_result"
    }
   ],
   "source": [
    "grid_forest.best_score_"
   ]
  },
  {
   "cell_type": "code",
   "execution_count": 160,
   "metadata": {},
   "outputs": [],
   "source": [
    "destree=grid_forest.best_score_"
   ]
  },
  {
   "cell_type": "markdown",
   "metadata": {},
   "source": [
    "#### Итоговые результаты моделей на кроссвалидации"
   ]
  },
  {
   "cell_type": "code",
   "execution_count": 161,
   "metadata": {},
   "outputs": [],
   "source": [
    "after_cv = pd.DataFrame(\n",
    "    {'model': ['RandomForrestClassifier', 'LogisticRegression', 'DecisionTreeClassifier'], \n",
    "     'AUC_ROC': [forest_auc, lr_auc, destree]})"
   ]
  },
  {
   "cell_type": "code",
   "execution_count": 162,
   "metadata": {
    "scrolled": false
   },
   "outputs": [
    {
     "data": {
      "text/html": [
       "<div>\n",
       "<style scoped>\n",
       "    .dataframe tbody tr th:only-of-type {\n",
       "        vertical-align: middle;\n",
       "    }\n",
       "\n",
       "    .dataframe tbody tr th {\n",
       "        vertical-align: top;\n",
       "    }\n",
       "\n",
       "    .dataframe thead th {\n",
       "        text-align: right;\n",
       "    }\n",
       "</style>\n",
       "<table border=\"1\" class=\"dataframe\">\n",
       "  <thead>\n",
       "    <tr style=\"text-align: right;\">\n",
       "      <th></th>\n",
       "      <th>model</th>\n",
       "      <th>AUC_ROC</th>\n",
       "    </tr>\n",
       "  </thead>\n",
       "  <tbody>\n",
       "    <tr>\n",
       "      <th>0</th>\n",
       "      <td>RandomForrestClassifier</td>\n",
       "      <td>0.859470</td>\n",
       "    </tr>\n",
       "    <tr>\n",
       "      <th>1</th>\n",
       "      <td>LogisticRegression</td>\n",
       "      <td>0.843335</td>\n",
       "    </tr>\n",
       "    <tr>\n",
       "      <th>2</th>\n",
       "      <td>DecisionTreeClassifier</td>\n",
       "      <td>0.839707</td>\n",
       "    </tr>\n",
       "  </tbody>\n",
       "</table>\n",
       "</div>"
      ],
      "text/plain": [
       "                     model   AUC_ROC\n",
       "0  RandomForrestClassifier  0.859470\n",
       "1       LogisticRegression  0.843335\n",
       "2   DecisionTreeClassifier  0.839707"
      ]
     },
     "execution_count": 162,
     "metadata": {},
     "output_type": "execute_result"
    }
   ],
   "source": [
    "after_cv"
   ]
  },
  {
   "cell_type": "markdown",
   "metadata": {},
   "source": [
    "Лучшей моделью стала RandomForrestClassifier (0.859470) - его и попробуем на тестовой выборке и посмотрим на метрику AUC-ROC. Также построим график"
   ]
  },
  {
   "cell_type": "markdown",
   "metadata": {},
   "source": [
    "#### Тест модели и график AUC-ROC, важность признаков для модели"
   ]
  },
  {
   "cell_type": "code",
   "execution_count": 163,
   "metadata": {},
   "outputs": [],
   "source": [
    "model_final = RandomForestClassifier(max_depth=9, min_samples_leaf=5, min_samples_split=6, n_estimators=60, random_state=190922)"
   ]
  },
  {
   "cell_type": "code",
   "execution_count": 164,
   "metadata": {
    "scrolled": true
   },
   "outputs": [
    {
     "name": "stdout",
     "output_type": "stream",
     "text": [
      "CPU times: user 217 ms, sys: 42 µs, total: 217 ms\n",
      "Wall time: 240 ms\n"
     ]
    },
    {
     "data": {
      "text/plain": [
       "RandomForestClassifier(max_depth=9, min_samples_leaf=5, min_samples_split=6,\n",
       "                       n_estimators=60, random_state=190922)"
      ]
     },
     "execution_count": 164,
     "metadata": {},
     "output_type": "execute_result"
    }
   ],
   "source": [
    "%%time\n",
    "model_final.fit(features_train_ohe, target_train)"
   ]
  },
  {
   "cell_type": "code",
   "execution_count": 165,
   "metadata": {},
   "outputs": [
    {
     "name": "stdout",
     "output_type": "stream",
     "text": [
      "CPU times: user 21.3 ms, sys: 131 µs, total: 21.4 ms\n",
      "Wall time: 20 ms\n"
     ]
    }
   ],
   "source": [
    "%%time\n",
    "prediction = model_final.predict(features_test_ohe)"
   ]
  },
  {
   "cell_type": "code",
   "execution_count": 166,
   "metadata": {},
   "outputs": [
    {
     "data": {
      "text/plain": [
       "0.8315565031982942"
      ]
     },
     "execution_count": 166,
     "metadata": {},
     "output_type": "execute_result"
    }
   ],
   "source": [
    "accuracy_score(target_test, prediction)"
   ]
  },
  {
   "cell_type": "code",
   "execution_count": 167,
   "metadata": {},
   "outputs": [
    {
     "data": {
      "text/plain": [
       "0.8666215230206348"
      ]
     },
     "execution_count": 167,
     "metadata": {},
     "output_type": "execute_result"
    }
   ],
   "source": [
    "probabilities_valid_final = model_final.predict_proba(features_test_ohe)\n",
    "probabilities_one_valid_final = probabilities_valid_final[:, 1]\n",
    "fpr, tpr, thresholds = roc_curve(target_test, probabilities_one_valid_final)\n",
    "roc_auc_score(target_test, probabilities_one_valid_final)"
   ]
  },
  {
   "cell_type": "markdown",
   "metadata": {},
   "source": [
    "Задача выполнена - наш AUC-ROC больше 0.85"
   ]
  },
  {
   "cell_type": "markdown",
   "metadata": {},
   "source": [
    "Построим график нашей метрики. AUC-ROC это площадь под кривой в отношении истинно верных ответов (TPR) и ложно положительным ответам (FPR)"
   ]
  },
  {
   "cell_type": "code",
   "execution_count": 168,
   "metadata": {
    "scrolled": true
   },
   "outputs": [
    {
     "data": {
      "text/plain": [
       "Text(0.5, 1.0, 'ROC-кривая модели RandomForrestClassifier')"
      ]
     },
     "execution_count": 168,
     "metadata": {},
     "output_type": "execute_result"
    },
    {
     "data": {
      "image/png": "[encoded data removed]",
      "text/plain": [
       "<Figure size 432x288 with 1 Axes>"
      ]
     },
     "metadata": {
      "needs_background": "light"
     },
     "output_type": "display_data"
    }
   ],
   "source": [
    "plt.figure()\n",
    "plt.plot([0, 1], [0, 1], linestyle='--')\n",
    "\n",
    "plt.plot(fpr, tpr)\n",
    "plt.xlim([0.0, 1.0])\n",
    "plt.ylim([0.0, 1.0])\n",
    "plt.xlabel('FPR')\n",
    "plt.ylabel('TPR')\n",
    "plt.title('ROC-кривая модели RandomForrestClassifier')"
   ]
  },
  {
   "cell_type": "markdown",
   "metadata": {},
   "source": [
    "Также построим график важности признаков для нашей финальной модели RandomForrestClassifier"
   ]
  },
  {
   "cell_type": "code",
   "execution_count": 169,
   "metadata": {
    "scrolled": true
   },
   "outputs": [
    {
     "data": {
      "image/png": "[encoded data removed]",
      "text/plain": [
       "<Figure size 1152x1008 with 1 Axes>"
      ]
     },
     "metadata": {
      "needs_background": "light"
     },
     "output_type": "display_data"
    }
   ],
   "source": [
    "features_importance = pd.Series(model_final.feature_importances_,\n",
    "                         features_train_ohe.columns)\n",
    "fig, ax = plt.subplots(figsize=(16,14))\n",
    "features_importance.sort_values(ascending=False).plot.bar(ax=ax)\n",
    "ax.set_title(\"Важность признаков для финальной модели RandomForrestClassifier\")\n",
    "ax.set_ylabel('Важность, %')\n",
    "fig.tight_layout()"
   ]
  },
  {
   "cell_type": "markdown",
   "metadata": {},
   "source": [
    "#### Выводы по моделям и метрикам"
   ]
  },
  {
   "cell_type": "markdown",
   "metadata": {},
   "source": [
    "- Были рассмотрены 3 модели DecisionTreeClassifier, RandomForrestClassifier, LogisticRegression \n",
    "\n",
    "- Наилучшую метрику AUC-ROC показала модель RandomForrestClassifier - 0.866. Финальная задача выполнена!\n",
    "\n",
    "- Во всех моделях использовал подбор гиперпараметров для выбора лучшей модели на тестирование\n",
    "\n",
    "- Для финальной метрики был построен график ROC кривой и график важности признаков для данной модели Features importance\n",
    "\n",
    "- Часть признаков по данному графику очень важна для модели - месячный платеж, общая уплаченная сумма, количество дней,  \n",
    "\n",
    "- Есть же часть признаков совершенно ненужных для модели - например тип подключения по сети интернет, стриминговое ТВ. Часть из них удалил согласно\n"
   ]
  },
  {
   "cell_type": "markdown",
   "metadata": {},
   "source": [
    "## Отчет об исследовании и проделанной работе"
   ]
  },
  {
   "cell_type": "markdown",
   "metadata": {},
   "source": [
    "### Повторим кратко нашу задачу и данные с которыми мы работали"
   ]
  },
  {
   "cell_type": "markdown",
   "metadata": {},
   "source": [
    "#### Задача проекта Телеком"
   ]
  },
  {
   "cell_type": "markdown",
   "metadata": {},
   "source": [
    "Оператор связи «Ниединогоразрыва.ком» хочет научиться прогнозировать отток клиентов.\n",
    "\n",
    "Если выяснится, что пользователь планирует уйти, ему будут предложены промокоды и специальные условия.\n",
    "\n",
    "Команда оператора собрала персональные данные о некоторых клиентах, информацию об их тарифах и договорах.\n",
    "\n",
    "Есть следующие файлы - contract.csv, internet.csv, phone.csv, personal.csv"
   ]
  },
  {
   "cell_type": "markdown",
   "metadata": {},
   "source": [
    "#### Описание исходных данных для проекта"
   ]
  },
  {
   "cell_type": "markdown",
   "metadata": {},
   "source": [
    "В наших 4 файлах (contract.csv, internet.csv, phone.csv, personal.csv) есть все необходимые данные для решения данной задачи.\n",
    "\n",
    "Рассмотрим каждый файл по отдельности"
   ]
  },
  {
   "cell_type": "markdown",
   "metadata": {},
   "source": [
    "#### Contract.csv"
   ]
  },
  {
   "cell_type": "markdown",
   "metadata": {},
   "source": [
    "Это основной файл для нашего проекта - в нем содержится самая важная метрика 'EndDate', а именно срок окончания договора. Поскольку этот столбец содержит данные в формате даты окончания договора, мною было принято решение создать на основании данного столбца свой новый таргет - 'target'. Где 1 - клиент ушел и 0 - клиент остался с компанией.\n",
    "\n",
    "Помимо основной цели нашего исседования в данном файле содержится информация по способу оплаты для клиента, сроку заключения договора, месячному платежу, общей сумме оплат для клиента в рамках договора. "
   ]
  },
  {
   "cell_type": "markdown",
   "metadata": {},
   "source": [
    "Также следует отметить важный момент - в рамках создания удобного для машинного обучения таргета, был выявлен дисбаланс классов."
   ]
  },
  {
   "cell_type": "code",
   "execution_count": 170,
   "metadata": {},
   "outputs": [
    {
     "data": {
      "text/plain": [
       "<AxesSubplot:>"
      ]
     },
     "execution_count": 170,
     "metadata": {},
     "output_type": "execute_result"
    },
    {
     "data": {
      "image/png": "[encoded data removed]",
      "text/plain": [
       "<Figure size 432x288 with 1 Axes>"
      ]
     },
     "metadata": {
      "needs_background": "light"
     },
     "output_type": "display_data"
    }
   ],
   "source": [
    "class_frequency.plot(kind='bar')"
   ]
  },
  {
   "cell_type": "markdown",
   "metadata": {},
   "source": [
    "Cоотношение клиентов 3:1, ушло клиентов в 3 раза меньше, чем продолжило работу с компанией"
   ]
  },
  {
   "cell_type": "code",
   "execution_count": 171,
   "metadata": {
    "scrolled": true
   },
   "outputs": [
    {
     "name": "stdout",
     "output_type": "stream",
     "text": [
      "<class 'pandas.core.frame.DataFrame'>\n",
      "RangeIndex: 7043 entries, 0 to 7042\n",
      "Data columns (total 11 columns):\n",
      " #   Column            Non-Null Count  Dtype         \n",
      "---  ------            --------------  -----         \n",
      " 0   customerID        7043 non-null   object        \n",
      " 1   BeginDate         7043 non-null   datetime64[ns]\n",
      " 2   EndDate           7043 non-null   datetime64[ns]\n",
      " 3   Type              7043 non-null   object        \n",
      " 4   PaperlessBilling  7043 non-null   object        \n",
      " 5   PaymentMethod     7043 non-null   object        \n",
      " 6   MonthlyCharges    7043 non-null   float64       \n",
      " 7   TotalCharges      7032 non-null   float64       \n",
      " 8   target            7043 non-null   int64         \n",
      " 9   month             7032 non-null   float64       \n",
      " 10  days              7043 non-null   int64         \n",
      "dtypes: datetime64[ns](2), float64(3), int64(2), object(4)\n",
      "memory usage: 605.4+ KB\n"
     ]
    }
   ],
   "source": [
    "contract.info()"
   ]
  },
  {
   "cell_type": "markdown",
   "metadata": {},
   "source": [
    "#### Phone.csv"
   ]
  },
  {
   "cell_type": "markdown",
   "metadata": {},
   "source": [
    "Данный файл представляет собой таблицу из 2 полей - наш общий customerId и второй столбец - какой линией пользуются абоненты, мультиканальной или одноканальной. Отдельно отмечу, что не все абоненты пользуются телефонией от компании"
   ]
  },
  {
   "cell_type": "code",
   "execution_count": 172,
   "metadata": {},
   "outputs": [
    {
     "name": "stdout",
     "output_type": "stream",
     "text": [
      "<class 'pandas.core.frame.DataFrame'>\n",
      "RangeIndex: 6361 entries, 0 to 6360\n",
      "Data columns (total 2 columns):\n",
      " #   Column         Non-Null Count  Dtype \n",
      "---  ------         --------------  ----- \n",
      " 0   customerID     6361 non-null   object\n",
      " 1   MultipleLines  6361 non-null   object\n",
      "dtypes: object(2)\n",
      "memory usage: 99.5+ KB\n"
     ]
    }
   ],
   "source": [
    "phone.info()"
   ]
  },
  {
   "cell_type": "markdown",
   "metadata": {},
   "source": [
    "#### Personal.csv"
   ]
  },
  {
   "cell_type": "markdown",
   "metadata": {},
   "source": [
    "В данной таблице идет описание личных особенностец каждого клиента - пол, семейное положение, является ли клиент пенсионером и есть ли у клиента дети, либо кто-то на иждивении. Связь с остальными таблицами по customerID"
   ]
  },
  {
   "cell_type": "code",
   "execution_count": 173,
   "metadata": {},
   "outputs": [
    {
     "name": "stdout",
     "output_type": "stream",
     "text": [
      "<class 'pandas.core.frame.DataFrame'>\n",
      "RangeIndex: 7043 entries, 0 to 7042\n",
      "Data columns (total 5 columns):\n",
      " #   Column         Non-Null Count  Dtype \n",
      "---  ------         --------------  ----- \n",
      " 0   customerID     7043 non-null   object\n",
      " 1   gender         7043 non-null   object\n",
      " 2   SeniorCitizen  7043 non-null   int64 \n",
      " 3   Partner        7043 non-null   object\n",
      " 4   Dependents     7043 non-null   object\n",
      "dtypes: int64(1), object(4)\n",
      "memory usage: 275.2+ KB\n"
     ]
    }
   ],
   "source": [
    "personal.info()"
   ]
  },
  {
   "cell_type": "markdown",
   "metadata": {},
   "source": [
    "#### Internet.csv"
   ]
  },
  {
   "cell_type": "markdown",
   "metadata": {},
   "source": [
    "Таблица internet самая большая - тут собраны те клиенты, кто пользуется услугами интернета от компании. В данной таблице есть такие поля как - тип подключения к сети, различные настройки, подключени ли антивирус и прочее"
   ]
  },
  {
   "cell_type": "code",
   "execution_count": 174,
   "metadata": {},
   "outputs": [
    {
     "name": "stdout",
     "output_type": "stream",
     "text": [
      "<class 'pandas.core.frame.DataFrame'>\n",
      "RangeIndex: 5517 entries, 0 to 5516\n",
      "Data columns (total 8 columns):\n",
      " #   Column            Non-Null Count  Dtype \n",
      "---  ------            --------------  ----- \n",
      " 0   customerID        5517 non-null   object\n",
      " 1   InternetService   5517 non-null   object\n",
      " 2   OnlineSecurity    5517 non-null   object\n",
      " 3   OnlineBackup      5517 non-null   object\n",
      " 4   DeviceProtection  5517 non-null   object\n",
      " 5   TechSupport       5517 non-null   object\n",
      " 6   StreamingTV       5517 non-null   object\n",
      " 7   StreamingMovies   5517 non-null   object\n",
      "dtypes: object(8)\n",
      "memory usage: 344.9+ KB\n"
     ]
    }
   ],
   "source": [
    "internet.info()"
   ]
  },
  {
   "cell_type": "markdown",
   "metadata": {},
   "source": [
    "### Соответствие нашему плану работ"
   ]
  },
  {
   "cell_type": "markdown",
   "metadata": {},
   "source": [
    "В самом начале работ по проекту был предложен план действия для достижения результата в заданные сроки. В целом удалось сохранить структуру плана в нашей работе и выполнить все ключевые пункты прописанные в нем.\n",
    "Кратко напишу пункты плана:\n",
    "\n",
    "1 - Первичное знакомство с данными, посмотреть тип данных, пропуски, как выглядит таблица - Пункт выполнен!\n",
    "\n",
    "2 - Более глубокий анализ данных, возможно создание дополнительных признаков, объединим все таблицы в одну, заполним пропуски, обязательно посмотрим на влияние признаков друг на друга (чтобы не было утечки целевого признака). Выделим таргеты и признаки, разделим наши данные на 2 выборки - Пункт выполнен!\n",
    "\n",
    "3 - Переходим к работе с моделями - были выбраны 3 модели RandomForrestClassifier, LogisticRegression, DecisionTreeClassifier. Для этих моделей потребовалось закодировать наши признаки методом OHE, также для линейной модели сделал масштабирование признаков. В моделях использовал встроенные функции борьбы с дисбалансом классов. - Пункт выполнен!\n",
    "\n",
    "4 - Формирование отчета по итогам проделанной работы. \n",
    "\n",
    "В данный момент пишу отчет. Критических отклонений от плана не выявлено!"
   ]
  },
  {
   "cell_type": "markdown",
   "metadata": {},
   "source": [
    "### Особенности проекта, ключевые шаги и сложности, процесс предобработки данных"
   ]
  },
  {
   "cell_type": "markdown",
   "metadata": {},
   "source": [
    "#### Особенности проекта и предобработка данных"
   ]
  },
  {
   "cell_type": "markdown",
   "metadata": {},
   "source": [
    "В рамках работы над проектом были и сложности и достаточно легкие моменты. В данной абзаце опищу особенности проекта. \n",
    "\n",
    "- В первую очередь это состав данных для проекта - 4 отдельных файла, объединенные общим ключом - полем customerID. \n",
    "\n",
    "- Второе, в рамках проекта нет нужного для машинного обучения таргета - его нужно создавать путем добавления нового столбца по исходным данным\n",
    "\n",
    "- В рамках работы над проектом много времени нужно уделить обработке признаков, необходимая метрика 0.85 sp достигается за счет хорошей предобработки признаков и работы с гиперпараметрами модели\n",
    "\n",
    "- Данные хранятся в 4 разных таблицах, при их объединении в одну возникают пропуски, которые недопустимы для ML. Было решено действовать по алгоритму - объединить таблицы и заполнить их заглушкой ('No'). Так мы не изменяя структуру данных даем модели понять что человек этим не пользуется\n",
    "\n",
    "- Во время исследования данных было принято решение создать 2 новых признака - месяц и дней, по количеству соответсвенно с даты заключения договора и до даты расторжения (дату расторжения оставшихся клиентов проставил последнюю по ТЗ)"
   ]
  },
  {
   "cell_type": "markdown",
   "metadata": {},
   "source": [
    "#### Сложности проекта и их решение"
   ]
  },
  {
   "cell_type": "markdown",
   "metadata": {},
   "source": [
    "В проекте были следующие сложности:\n",
    "\n",
    "- Было много разных типов данных у столбцов - это сложность успешно решена заменой типа данных в столбцах\n",
    "\n",
    "- При слиянии таблиц обнаруживались пропуски в тех местах, где у клиентов подключена или телефония или интернет. Заполнять пришлось заглушками для дальнейшего исследования\n",
    "\n",
    "- Использовал стандартные модели, для них необходимо было закодировать данные, а для линейной модели также масштабировать данные"
   ]
  },
  {
   "cell_type": "markdown",
   "metadata": {},
   "source": [
    "### Используемые модели и их гиперпараметры"
   ]
  },
  {
   "cell_type": "markdown",
   "metadata": {},
   "source": [
    "В проекте были использованы 3 модели - DecisionTreeClassifier, RandomForrestClassifier, LogisticRegression\n",
    "\n",
    "Для каждой модели гиперпараметры подбирались с помощью подбора GridSearch с кросс-валидацией (разбиением данных на 5 выборок)\n",
    "\n",
    "Также на этапе подбора гиперпараметров мы искали лучшую метрику - AUC-ROC. "
   ]
  },
  {
   "cell_type": "markdown",
   "metadata": {},
   "source": [
    "Сводная таблица наших моделей на этапе подбора гиперпараметров и кросс-валидации"
   ]
  },
  {
   "cell_type": "code",
   "execution_count": 175,
   "metadata": {},
   "outputs": [
    {
     "data": {
      "text/html": [
       "<div>\n",
       "<style scoped>\n",
       "    .dataframe tbody tr th:only-of-type {\n",
       "        vertical-align: middle;\n",
       "    }\n",
       "\n",
       "    .dataframe tbody tr th {\n",
       "        vertical-align: top;\n",
       "    }\n",
       "\n",
       "    .dataframe thead th {\n",
       "        text-align: right;\n",
       "    }\n",
       "</style>\n",
       "<table border=\"1\" class=\"dataframe\">\n",
       "  <thead>\n",
       "    <tr style=\"text-align: right;\">\n",
       "      <th></th>\n",
       "      <th>model</th>\n",
       "      <th>AUC_ROC</th>\n",
       "    </tr>\n",
       "  </thead>\n",
       "  <tbody>\n",
       "    <tr>\n",
       "      <th>0</th>\n",
       "      <td>RandomForrestClassifier</td>\n",
       "      <td>0.859470</td>\n",
       "    </tr>\n",
       "    <tr>\n",
       "      <th>1</th>\n",
       "      <td>LogisticRegression</td>\n",
       "      <td>0.843335</td>\n",
       "    </tr>\n",
       "    <tr>\n",
       "      <th>2</th>\n",
       "      <td>DecisionTreeClassifier</td>\n",
       "      <td>0.839707</td>\n",
       "    </tr>\n",
       "  </tbody>\n",
       "</table>\n",
       "</div>"
      ],
      "text/plain": [
       "                     model   AUC_ROC\n",
       "0  RandomForrestClassifier  0.859470\n",
       "1       LogisticRegression  0.843335\n",
       "2   DecisionTreeClassifier  0.839707"
      ]
     },
     "execution_count": 175,
     "metadata": {},
     "output_type": "execute_result"
    }
   ],
   "source": [
    "after_cv"
   ]
  },
  {
   "cell_type": "markdown",
   "metadata": {},
   "source": [
    "Лучшей моделью на этапе кросс-валидации стала RandomForrestClassifier с результатом AUC-ROC = 0.859470"
   ]
  },
  {
   "cell_type": "markdown",
   "metadata": {},
   "source": [
    "Данную модель мы будем тестировать на тестовой выборке со следующими гиперпараметрами:"
   ]
  },
  {
   "cell_type": "markdown",
   "metadata": {},
   "source": [
    "{'max_depth': 9,\n",
    " 'min_samples_leaf': 5,\n",
    " 'min_samples_split': 6,\n",
    " 'n_estimators': 60}"
   ]
  },
  {
   "cell_type": "markdown",
   "metadata": {},
   "source": [
    "Расшифруем:"
   ]
  },
  {
   "cell_type": "markdown",
   "metadata": {},
   "source": [
    "- 'n_estimators': 60 - Количество деревьев : 60\n",
    "\n",
    "- 'max_depth': 9 - Максимальная глубина деревьев : 9\n",
    "\n",
    "- 'min_samples_split': 6 - Минимальное число объектов, при котором выполняется расщепление : 6\n",
    "\n",
    "- 'min_samples_leaf': 5 - Ограничение на число объектов в листьях : 5    "
   ]
  },
  {
   "cell_type": "markdown",
   "metadata": {},
   "source": [
    "Данные гиперпараметры дали нам следующий результат метрики AUC-ROC на финальном тестировании - 0.8666215230206348"
   ]
  },
  {
   "cell_type": "markdown",
   "metadata": {},
   "source": [
    "Вторичная метрика accuracy на тестировании дала следующий результат - 0.8315565031982942"
   ]
  },
  {
   "cell_type": "markdown",
   "metadata": {},
   "source": [
    "### Анализ важности признаков для финальной модели"
   ]
  },
  {
   "cell_type": "markdown",
   "metadata": {},
   "source": [
    "Построим график анализа важности признаков для модели - отсортируем его по убыванию и проанализируем"
   ]
  },
  {
   "cell_type": "code",
   "execution_count": 176,
   "metadata": {
    "scrolled": false
   },
   "outputs": [
    {
     "data": {
      "image/png": "[encoded data removed]",
      "text/plain": [
       "<Figure size 720x720 with 1 Axes>"
      ]
     },
     "metadata": {
      "needs_background": "light"
     },
     "output_type": "display_data"
    }
   ],
   "source": [
    "features_importance = pd.Series(model_final.feature_importances_,\n",
    "                         features_train_ohe.columns)\n",
    "fig, ax = plt.subplots(figsize=(10,10))\n",
    "features_importance.sort_values(ascending=False).plot.bar(ax=ax)\n",
    "ax.set_title(\"Важность признаков для финальной модели RandomForrestClassifier\")\n",
    "ax.set_ylabel('Важность, %')\n",
    "fig.tight_layout()"
   ]
  },
  {
   "cell_type": "markdown",
   "metadata": {},
   "source": [
    "Анализ признаков\n",
    "\n",
    "- Самым важным признаком оказался наш созданный признак days - количестов дней с момента заключению договора до его разрыва (или до точки X, где заканчивается наш временной промежуток, что означает что клиент остался с компанией)\n",
    "\n",
    "- Также важные признаки это месячный платеж и общая сумма платежа, что логично, компаний связи и интернет провайдеров много, выбор есть, большинство клиентов смотрят именно за ценообразованием и стоимостью услуг\n",
    "\n",
    "- Важным признаком отмечен тип подключения интернет соединения, опять же логично, от него зависит качество сигнала и скорость интернета\n",
    "\n",
    "- Далее идут договорные признаки - срок заключения договора и оплаты (раз в месяц, раз в год и раз в 2 года)\n",
    "\n",
    "- Самыми не важными признаками являются различные опции для пользователей интернет соединения от компании и личные данные пользователей. Каким бы не был человек, молодым или пенсионером - самое важное, это стоимость и четкое выполнение своих обязательств компанией"
   ]
  },
  {
   "cell_type": "code",
   "execution_count": null,
   "metadata": {},
   "outputs": [],
   "source": []
  }
 ],
 "metadata": {
  "ExecuteTimeLog": [
   {
    "duration": 349,
    "start_time": "2022-09-19T16:34:12.808Z"
   },
   {
    "duration": 181,
    "start_time": "2022-09-19T16:42:40.543Z"
   },
   {
    "duration": 14,
    "start_time": "2022-09-19T16:42:54.500Z"
   },
   {
    "duration": 232,
    "start_time": "2022-09-19T16:44:28.539Z"
   },
   {
    "duration": 3,
    "start_time": "2022-09-19T16:44:30.687Z"
   },
   {
    "duration": 108,
    "start_time": "2022-09-19T16:44:31.181Z"
   },
   {
    "duration": 34,
    "start_time": "2022-09-19T16:44:57.424Z"
   },
   {
    "duration": 3,
    "start_time": "2022-09-19T18:57:32.641Z"
   },
   {
    "duration": 119,
    "start_time": "2022-09-19T18:57:33.537Z"
   },
   {
    "duration": 14,
    "start_time": "2022-09-19T18:57:34.216Z"
   },
   {
    "duration": 22,
    "start_time": "2022-09-19T18:58:14.560Z"
   },
   {
    "duration": 13,
    "start_time": "2022-09-19T18:58:29.891Z"
   },
   {
    "duration": 75,
    "start_time": "2022-09-19T19:15:14.303Z"
   },
   {
    "duration": 14,
    "start_time": "2022-09-19T19:56:02.049Z"
   },
   {
    "duration": 10,
    "start_time": "2022-09-19T19:56:26.392Z"
   },
   {
    "duration": 14,
    "start_time": "2022-09-19T19:56:49.799Z"
   },
   {
    "duration": 28,
    "start_time": "2022-09-19T20:01:39.916Z"
   },
   {
    "duration": 11,
    "start_time": "2022-09-19T20:01:52.284Z"
   },
   {
    "duration": 15,
    "start_time": "2022-09-19T20:05:41.977Z"
   },
   {
    "duration": 7,
    "start_time": "2022-09-19T20:05:54.357Z"
   },
   {
    "duration": 14,
    "start_time": "2022-09-19T20:06:10.810Z"
   },
   {
    "duration": 9,
    "start_time": "2022-09-19T20:06:20.005Z"
   },
   {
    "duration": 356,
    "start_time": "2022-09-20T17:38:18.368Z"
   },
   {
    "duration": 324,
    "start_time": "2022-09-20T17:38:18.734Z"
   },
   {
    "duration": 12,
    "start_time": "2022-09-20T17:38:19.060Z"
   },
   {
    "duration": 19,
    "start_time": "2022-09-20T17:38:19.073Z"
   },
   {
    "duration": 10,
    "start_time": "2022-09-20T17:38:19.094Z"
   },
   {
    "duration": 12,
    "start_time": "2022-09-20T17:38:19.105Z"
   },
   {
    "duration": 40,
    "start_time": "2022-09-20T17:38:19.119Z"
   },
   {
    "duration": 9,
    "start_time": "2022-09-20T17:38:19.161Z"
   },
   {
    "duration": 11,
    "start_time": "2022-09-20T17:38:19.171Z"
   },
   {
    "duration": 14,
    "start_time": "2022-09-20T17:38:19.183Z"
   },
   {
    "duration": 5,
    "start_time": "2022-09-20T17:38:19.199Z"
   },
   {
    "duration": 11,
    "start_time": "2022-09-20T17:38:19.205Z"
   },
   {
    "duration": 14,
    "start_time": "2022-09-20T17:38:19.218Z"
   },
   {
    "duration": 19,
    "start_time": "2022-09-20T17:38:19.234Z"
   },
   {
    "duration": 84,
    "start_time": "2022-09-22T16:10:54.972Z"
   },
   {
    "duration": 359,
    "start_time": "2022-09-22T16:36:27.094Z"
   },
   {
    "duration": 2,
    "start_time": "2022-09-22T16:37:09.335Z"
   },
   {
    "duration": 453,
    "start_time": "2022-09-22T16:37:09.340Z"
   },
   {
    "duration": 11,
    "start_time": "2022-09-22T16:37:09.795Z"
   },
   {
    "duration": 38,
    "start_time": "2022-09-22T16:37:09.808Z"
   },
   {
    "duration": 12,
    "start_time": "2022-09-22T16:37:09.848Z"
   },
   {
    "duration": 14,
    "start_time": "2022-09-22T16:37:09.862Z"
   },
   {
    "duration": 27,
    "start_time": "2022-09-22T16:37:09.878Z"
   },
   {
    "duration": 30,
    "start_time": "2022-09-22T16:37:09.906Z"
   },
   {
    "duration": 13,
    "start_time": "2022-09-22T16:37:09.937Z"
   },
   {
    "duration": 15,
    "start_time": "2022-09-22T16:37:09.952Z"
   },
   {
    "duration": 6,
    "start_time": "2022-09-22T16:37:09.968Z"
   },
   {
    "duration": 12,
    "start_time": "2022-09-22T16:37:09.975Z"
   },
   {
    "duration": 9,
    "start_time": "2022-09-22T16:37:09.988Z"
   },
   {
    "duration": 24,
    "start_time": "2022-09-22T16:37:09.999Z"
   },
   {
    "duration": 431,
    "start_time": "2022-09-23T06:48:27.807Z"
   },
   {
    "duration": 290,
    "start_time": "2022-09-23T06:48:29.507Z"
   },
   {
    "duration": 16,
    "start_time": "2022-09-23T06:48:31.135Z"
   },
   {
    "duration": 17,
    "start_time": "2022-09-23T06:48:31.927Z"
   },
   {
    "duration": 13,
    "start_time": "2022-09-23T06:48:32.079Z"
   },
   {
    "duration": 12,
    "start_time": "2022-09-23T06:48:32.342Z"
   },
   {
    "duration": 28,
    "start_time": "2022-09-23T06:48:32.999Z"
   },
   {
    "duration": 13,
    "start_time": "2022-09-23T06:48:33.419Z"
   },
   {
    "duration": 10,
    "start_time": "2022-09-23T06:48:34.027Z"
   },
   {
    "duration": 15,
    "start_time": "2022-09-23T06:48:34.215Z"
   },
   {
    "duration": 6,
    "start_time": "2022-09-23T06:48:34.679Z"
   },
   {
    "duration": 12,
    "start_time": "2022-09-23T06:48:35.112Z"
   },
   {
    "duration": 12,
    "start_time": "2022-09-23T06:48:35.563Z"
   },
   {
    "duration": 13,
    "start_time": "2022-09-23T06:48:36.128Z"
   },
   {
    "duration": 62,
    "start_time": "2022-09-23T06:50:33.766Z"
   },
   {
    "duration": 418,
    "start_time": "2022-09-23T21:50:14.354Z"
   },
   {
    "duration": 312,
    "start_time": "2022-09-23T21:50:14.774Z"
   },
   {
    "duration": 18,
    "start_time": "2022-09-23T21:50:15.088Z"
   },
   {
    "duration": 22,
    "start_time": "2022-09-23T21:50:15.109Z"
   },
   {
    "duration": 15,
    "start_time": "2022-09-23T21:50:15.134Z"
   },
   {
    "duration": 53,
    "start_time": "2022-09-23T21:50:15.151Z"
   },
   {
    "duration": 47,
    "start_time": "2022-09-23T21:50:15.206Z"
   },
   {
    "duration": 17,
    "start_time": "2022-09-23T21:50:15.255Z"
   },
   {
    "duration": 27,
    "start_time": "2022-09-23T21:50:15.274Z"
   },
   {
    "duration": 20,
    "start_time": "2022-09-23T21:50:15.304Z"
   },
   {
    "duration": 11,
    "start_time": "2022-09-23T21:50:15.326Z"
   },
   {
    "duration": 51,
    "start_time": "2022-09-23T21:50:15.339Z"
   },
   {
    "duration": 20,
    "start_time": "2022-09-23T21:50:15.391Z"
   },
   {
    "duration": 11,
    "start_time": "2022-09-23T21:50:15.413Z"
   },
   {
    "duration": 15,
    "start_time": "2022-09-23T21:50:15.426Z"
   },
   {
    "duration": 14,
    "start_time": "2022-09-23T21:50:28.405Z"
   },
   {
    "duration": 6,
    "start_time": "2022-09-23T21:50:38.787Z"
   },
   {
    "duration": 3,
    "start_time": "2022-09-23T21:51:43.270Z"
   },
   {
    "duration": 125,
    "start_time": "2022-09-23T21:51:43.275Z"
   },
   {
    "duration": 15,
    "start_time": "2022-09-23T21:51:43.404Z"
   },
   {
    "duration": 18,
    "start_time": "2022-09-23T21:51:43.421Z"
   },
   {
    "duration": 13,
    "start_time": "2022-09-23T21:51:43.443Z"
   },
   {
    "duration": 36,
    "start_time": "2022-09-23T21:51:43.458Z"
   },
   {
    "duration": 34,
    "start_time": "2022-09-23T21:51:43.496Z"
   },
   {
    "duration": 13,
    "start_time": "2022-09-23T21:51:43.532Z"
   },
   {
    "duration": 45,
    "start_time": "2022-09-23T21:51:43.547Z"
   },
   {
    "duration": 29,
    "start_time": "2022-09-23T21:51:43.594Z"
   },
   {
    "duration": 10,
    "start_time": "2022-09-23T21:51:43.625Z"
   },
   {
    "duration": 22,
    "start_time": "2022-09-23T21:51:43.637Z"
   },
   {
    "duration": 36,
    "start_time": "2022-09-23T21:51:43.662Z"
   },
   {
    "duration": 10,
    "start_time": "2022-09-23T21:51:43.700Z"
   },
   {
    "duration": 8,
    "start_time": "2022-09-23T21:51:43.712Z"
   },
   {
    "duration": 18,
    "start_time": "2022-09-23T21:51:43.721Z"
   },
   {
    "duration": 7,
    "start_time": "2022-09-23T21:51:43.742Z"
   },
   {
    "duration": 15,
    "start_time": "2022-09-23T21:52:00.495Z"
   },
   {
    "duration": 13,
    "start_time": "2022-09-23T21:53:56.306Z"
   },
   {
    "duration": 74,
    "start_time": "2022-09-23T22:14:28.329Z"
   },
   {
    "duration": 16,
    "start_time": "2022-09-23T22:16:48.710Z"
   },
   {
    "duration": 8,
    "start_time": "2022-09-23T22:18:58.157Z"
   },
   {
    "duration": 14,
    "start_time": "2022-09-23T22:19:17.188Z"
   },
   {
    "duration": 6,
    "start_time": "2022-09-23T22:19:53.566Z"
   },
   {
    "duration": 14,
    "start_time": "2022-09-23T22:19:56.866Z"
   },
   {
    "duration": 4,
    "start_time": "2022-09-23T22:20:00.425Z"
   },
   {
    "duration": 18,
    "start_time": "2022-09-23T22:20:14.472Z"
   },
   {
    "duration": 1807,
    "start_time": "2022-09-23T22:43:17.499Z"
   },
   {
    "duration": 1922,
    "start_time": "2022-09-23T22:43:30.346Z"
   },
   {
    "duration": 1802,
    "start_time": "2022-09-23T22:44:06.496Z"
   },
   {
    "duration": 6,
    "start_time": "2022-09-23T22:46:29.814Z"
   },
   {
    "duration": 11,
    "start_time": "2022-09-23T22:46:48.634Z"
   },
   {
    "duration": 24,
    "start_time": "2022-09-23T22:47:02.966Z"
   },
   {
    "duration": 9,
    "start_time": "2022-09-23T22:57:17.361Z"
   },
   {
    "duration": 4,
    "start_time": "2022-09-23T22:57:35.210Z"
   },
   {
    "duration": 14,
    "start_time": "2022-09-23T22:57:37.314Z"
   },
   {
    "duration": 2,
    "start_time": "2022-09-24T00:28:29.040Z"
   },
   {
    "duration": 114,
    "start_time": "2022-09-24T00:28:29.045Z"
   },
   {
    "duration": 16,
    "start_time": "2022-09-24T00:28:29.161Z"
   },
   {
    "duration": 45,
    "start_time": "2022-09-24T00:28:29.178Z"
   },
   {
    "duration": 13,
    "start_time": "2022-09-24T00:28:29.225Z"
   },
   {
    "duration": 13,
    "start_time": "2022-09-24T00:28:29.240Z"
   },
   {
    "duration": 34,
    "start_time": "2022-09-24T00:28:29.255Z"
   },
   {
    "duration": 11,
    "start_time": "2022-09-24T00:28:29.291Z"
   },
   {
    "duration": 12,
    "start_time": "2022-09-24T00:28:29.304Z"
   },
   {
    "duration": 18,
    "start_time": "2022-09-24T00:28:29.318Z"
   },
   {
    "duration": 7,
    "start_time": "2022-09-24T00:28:29.338Z"
   },
   {
    "duration": 45,
    "start_time": "2022-09-24T00:28:29.348Z"
   },
   {
    "duration": 12,
    "start_time": "2022-09-24T00:28:29.395Z"
   },
   {
    "duration": 10,
    "start_time": "2022-09-24T00:28:29.411Z"
   },
   {
    "duration": 7,
    "start_time": "2022-09-24T00:28:29.423Z"
   },
   {
    "duration": 17,
    "start_time": "2022-09-24T00:28:29.432Z"
   },
   {
    "duration": 41,
    "start_time": "2022-09-24T00:28:29.451Z"
   },
   {
    "duration": 7,
    "start_time": "2022-09-24T00:28:29.494Z"
   },
   {
    "duration": 14,
    "start_time": "2022-09-24T00:28:29.503Z"
   },
   {
    "duration": 4,
    "start_time": "2022-09-24T00:28:29.519Z"
   },
   {
    "duration": 16,
    "start_time": "2022-09-24T00:28:29.526Z"
   },
   {
    "duration": 45,
    "start_time": "2022-09-24T00:28:29.544Z"
   },
   {
    "duration": 25,
    "start_time": "2022-09-24T00:28:29.591Z"
   },
   {
    "duration": 49,
    "start_time": "2022-09-24T14:59:44.097Z"
   },
   {
    "duration": 399,
    "start_time": "2022-09-24T14:59:51.998Z"
   },
   {
    "duration": 381,
    "start_time": "2022-09-24T14:59:52.399Z"
   },
   {
    "duration": 15,
    "start_time": "2022-09-24T14:59:52.782Z"
   },
   {
    "duration": 25,
    "start_time": "2022-09-24T14:59:52.799Z"
   },
   {
    "duration": 11,
    "start_time": "2022-09-24T14:59:52.827Z"
   },
   {
    "duration": 17,
    "start_time": "2022-09-24T14:59:52.840Z"
   },
   {
    "duration": 31,
    "start_time": "2022-09-24T14:59:52.859Z"
   },
   {
    "duration": 11,
    "start_time": "2022-09-24T14:59:52.910Z"
   },
   {
    "duration": 12,
    "start_time": "2022-09-24T14:59:52.922Z"
   },
   {
    "duration": 15,
    "start_time": "2022-09-24T14:59:52.936Z"
   },
   {
    "duration": 11,
    "start_time": "2022-09-24T14:59:52.953Z"
   },
   {
    "duration": 15,
    "start_time": "2022-09-24T14:59:52.965Z"
   },
   {
    "duration": 34,
    "start_time": "2022-09-24T14:59:52.981Z"
   },
   {
    "duration": 9,
    "start_time": "2022-09-24T14:59:53.018Z"
   },
   {
    "duration": 7,
    "start_time": "2022-09-24T14:59:53.028Z"
   },
   {
    "duration": 13,
    "start_time": "2022-09-24T14:59:53.036Z"
   },
   {
    "duration": 6,
    "start_time": "2022-09-24T14:59:53.050Z"
   },
   {
    "duration": 10,
    "start_time": "2022-09-24T14:59:53.057Z"
   },
   {
    "duration": 41,
    "start_time": "2022-09-24T14:59:53.068Z"
   },
   {
    "duration": 4,
    "start_time": "2022-09-24T14:59:53.111Z"
   },
   {
    "duration": 15,
    "start_time": "2022-09-24T14:59:53.117Z"
   },
   {
    "duration": 82,
    "start_time": "2022-09-24T14:59:53.133Z"
   },
   {
    "duration": 0,
    "start_time": "2022-09-24T14:59:53.216Z"
   },
   {
    "duration": 0,
    "start_time": "2022-09-24T14:59:53.217Z"
   },
   {
    "duration": 0,
    "start_time": "2022-09-24T14:59:53.218Z"
   },
   {
    "duration": 0,
    "start_time": "2022-09-24T14:59:53.219Z"
   },
   {
    "duration": 10,
    "start_time": "2022-09-24T14:59:59.554Z"
   },
   {
    "duration": 20,
    "start_time": "2022-09-24T15:00:00.558Z"
   },
   {
    "duration": 15,
    "start_time": "2022-09-24T15:00:01.485Z"
   },
   {
    "duration": 20,
    "start_time": "2022-09-24T15:00:17.753Z"
   },
   {
    "duration": 4,
    "start_time": "2022-09-24T15:00:41.350Z"
   },
   {
    "duration": 4,
    "start_time": "2022-09-24T15:00:49.416Z"
   },
   {
    "duration": 47,
    "start_time": "2022-09-24T15:00:50.145Z"
   },
   {
    "duration": 29,
    "start_time": "2022-09-24T15:00:51.527Z"
   },
   {
    "duration": 4,
    "start_time": "2022-09-24T15:01:32.415Z"
   },
   {
    "duration": 4,
    "start_time": "2022-09-24T15:01:45.771Z"
   },
   {
    "duration": 13,
    "start_time": "2022-09-24T15:01:56.827Z"
   },
   {
    "duration": 14,
    "start_time": "2022-09-24T15:02:06.398Z"
   },
   {
    "duration": 10,
    "start_time": "2022-09-24T15:02:40.867Z"
   },
   {
    "duration": 3,
    "start_time": "2022-09-24T15:03:54.948Z"
   },
   {
    "duration": 111,
    "start_time": "2022-09-24T15:03:54.953Z"
   },
   {
    "duration": 11,
    "start_time": "2022-09-24T15:03:55.065Z"
   },
   {
    "duration": 13,
    "start_time": "2022-09-24T15:03:55.078Z"
   },
   {
    "duration": 10,
    "start_time": "2022-09-24T15:03:55.093Z"
   },
   {
    "duration": 14,
    "start_time": "2022-09-24T15:03:55.105Z"
   },
   {
    "duration": 43,
    "start_time": "2022-09-24T15:03:55.120Z"
   },
   {
    "duration": 12,
    "start_time": "2022-09-24T15:03:55.165Z"
   },
   {
    "duration": 13,
    "start_time": "2022-09-24T15:03:55.179Z"
   },
   {
    "duration": 30,
    "start_time": "2022-09-24T15:03:55.194Z"
   },
   {
    "duration": 8,
    "start_time": "2022-09-24T15:03:55.226Z"
   },
   {
    "duration": 16,
    "start_time": "2022-09-24T15:03:55.235Z"
   },
   {
    "duration": 13,
    "start_time": "2022-09-24T15:03:55.252Z"
   },
   {
    "duration": 21,
    "start_time": "2022-09-24T15:03:55.267Z"
   },
   {
    "duration": 25,
    "start_time": "2022-09-24T15:03:55.290Z"
   },
   {
    "duration": 23,
    "start_time": "2022-09-24T15:03:55.316Z"
   },
   {
    "duration": 14,
    "start_time": "2022-09-24T15:03:55.341Z"
   },
   {
    "duration": 12,
    "start_time": "2022-09-24T15:03:55.357Z"
   },
   {
    "duration": 17,
    "start_time": "2022-09-24T15:03:55.371Z"
   },
   {
    "duration": 4,
    "start_time": "2022-09-24T15:03:55.389Z"
   },
   {
    "duration": 24,
    "start_time": "2022-09-24T15:03:55.395Z"
   },
   {
    "duration": 3,
    "start_time": "2022-09-24T15:03:55.421Z"
   },
   {
    "duration": 10,
    "start_time": "2022-09-24T15:03:55.426Z"
   },
   {
    "duration": 19,
    "start_time": "2022-09-24T15:03:55.438Z"
   },
   {
    "duration": 4,
    "start_time": "2022-09-24T15:03:55.459Z"
   },
   {
    "duration": 50,
    "start_time": "2022-09-24T15:03:55.465Z"
   },
   {
    "duration": 3,
    "start_time": "2022-09-24T15:04:23.809Z"
   },
   {
    "duration": 118,
    "start_time": "2022-09-24T15:04:23.814Z"
   },
   {
    "duration": 15,
    "start_time": "2022-09-24T15:04:23.934Z"
   },
   {
    "duration": 13,
    "start_time": "2022-09-24T15:04:23.951Z"
   },
   {
    "duration": 11,
    "start_time": "2022-09-24T15:04:23.965Z"
   },
   {
    "duration": 13,
    "start_time": "2022-09-24T15:04:23.977Z"
   },
   {
    "duration": 38,
    "start_time": "2022-09-24T15:04:23.992Z"
   },
   {
    "duration": 11,
    "start_time": "2022-09-24T15:04:24.032Z"
   },
   {
    "duration": 11,
    "start_time": "2022-09-24T15:04:24.045Z"
   },
   {
    "duration": 17,
    "start_time": "2022-09-24T15:04:24.057Z"
   },
   {
    "duration": 7,
    "start_time": "2022-09-24T15:04:24.075Z"
   },
   {
    "duration": 37,
    "start_time": "2022-09-24T15:04:24.083Z"
   },
   {
    "duration": 11,
    "start_time": "2022-09-24T15:04:24.121Z"
   },
   {
    "duration": 8,
    "start_time": "2022-09-24T15:04:24.134Z"
   },
   {
    "duration": 8,
    "start_time": "2022-09-24T15:04:24.143Z"
   },
   {
    "duration": 16,
    "start_time": "2022-09-24T15:04:24.153Z"
   },
   {
    "duration": 39,
    "start_time": "2022-09-24T15:04:24.171Z"
   },
   {
    "duration": 6,
    "start_time": "2022-09-24T15:04:24.212Z"
   },
   {
    "duration": 18,
    "start_time": "2022-09-24T15:04:24.219Z"
   },
   {
    "duration": 5,
    "start_time": "2022-09-24T15:04:24.238Z"
   },
   {
    "duration": 17,
    "start_time": "2022-09-24T15:04:24.244Z"
   },
   {
    "duration": 10,
    "start_time": "2022-09-24T15:04:24.263Z"
   },
   {
    "duration": 37,
    "start_time": "2022-09-24T15:04:24.274Z"
   },
   {
    "duration": 22,
    "start_time": "2022-09-24T15:04:24.313Z"
   },
   {
    "duration": 42,
    "start_time": "2022-09-24T15:04:24.337Z"
   },
   {
    "duration": 0,
    "start_time": "2022-09-24T15:04:24.382Z"
   },
   {
    "duration": 2,
    "start_time": "2022-09-24T15:05:13.073Z"
   },
   {
    "duration": 108,
    "start_time": "2022-09-24T15:05:13.077Z"
   },
   {
    "duration": 11,
    "start_time": "2022-09-24T15:05:13.186Z"
   },
   {
    "duration": 15,
    "start_time": "2022-09-24T15:05:13.199Z"
   },
   {
    "duration": 10,
    "start_time": "2022-09-24T15:05:13.217Z"
   },
   {
    "duration": 15,
    "start_time": "2022-09-24T15:05:13.229Z"
   },
   {
    "duration": 35,
    "start_time": "2022-09-24T15:05:13.246Z"
   },
   {
    "duration": 28,
    "start_time": "2022-09-24T15:05:13.283Z"
   },
   {
    "duration": 17,
    "start_time": "2022-09-24T15:05:13.313Z"
   },
   {
    "duration": 21,
    "start_time": "2022-09-24T15:05:13.332Z"
   },
   {
    "duration": 7,
    "start_time": "2022-09-24T15:05:13.355Z"
   },
   {
    "duration": 13,
    "start_time": "2022-09-24T15:05:13.364Z"
   },
   {
    "duration": 35,
    "start_time": "2022-09-24T15:05:13.378Z"
   },
   {
    "duration": 12,
    "start_time": "2022-09-24T15:05:13.417Z"
   },
   {
    "duration": 12,
    "start_time": "2022-09-24T15:05:13.430Z"
   },
   {
    "duration": 16,
    "start_time": "2022-09-24T15:05:13.445Z"
   },
   {
    "duration": 7,
    "start_time": "2022-09-24T15:05:13.462Z"
   },
   {
    "duration": 7,
    "start_time": "2022-09-24T15:05:13.470Z"
   },
   {
    "duration": 38,
    "start_time": "2022-09-24T15:05:13.478Z"
   },
   {
    "duration": 3,
    "start_time": "2022-09-24T15:05:13.518Z"
   },
   {
    "duration": 15,
    "start_time": "2022-09-24T15:05:13.523Z"
   },
   {
    "duration": 25,
    "start_time": "2022-09-24T15:05:13.540Z"
   },
   {
    "duration": 45,
    "start_time": "2022-09-24T15:05:13.566Z"
   },
   {
    "duration": 4,
    "start_time": "2022-09-24T15:05:13.612Z"
   },
   {
    "duration": 22,
    "start_time": "2022-09-24T15:05:13.618Z"
   },
   {
    "duration": 457,
    "start_time": "2022-09-24T15:06:53.682Z"
   },
   {
    "duration": 102,
    "start_time": "2022-09-24T15:07:04.486Z"
   },
   {
    "duration": 6,
    "start_time": "2022-09-24T15:07:08.910Z"
   },
   {
    "duration": 9,
    "start_time": "2022-09-24T15:07:35.497Z"
   },
   {
    "duration": 5,
    "start_time": "2022-09-24T15:07:50.047Z"
   },
   {
    "duration": 48,
    "start_time": "2022-09-26T12:42:05.658Z"
   },
   {
    "duration": 1501,
    "start_time": "2022-09-26T12:42:08.952Z"
   },
   {
    "duration": 403,
    "start_time": "2022-09-26T12:42:10.455Z"
   },
   {
    "duration": 12,
    "start_time": "2022-09-26T12:42:10.860Z"
   },
   {
    "duration": 23,
    "start_time": "2022-09-26T12:42:10.874Z"
   },
   {
    "duration": 28,
    "start_time": "2022-09-26T12:42:10.898Z"
   },
   {
    "duration": 16,
    "start_time": "2022-09-26T12:42:10.928Z"
   },
   {
    "duration": 33,
    "start_time": "2022-09-26T12:42:10.945Z"
   },
   {
    "duration": 10,
    "start_time": "2022-09-26T12:42:10.980Z"
   },
   {
    "duration": 11,
    "start_time": "2022-09-26T12:42:10.991Z"
   },
   {
    "duration": 14,
    "start_time": "2022-09-26T12:42:11.009Z"
   },
   {
    "duration": 7,
    "start_time": "2022-09-26T12:42:11.025Z"
   },
   {
    "duration": 12,
    "start_time": "2022-09-26T12:42:11.034Z"
   },
   {
    "duration": 11,
    "start_time": "2022-09-26T12:42:11.048Z"
   },
   {
    "duration": 8,
    "start_time": "2022-09-26T12:42:11.062Z"
   },
   {
    "duration": 6,
    "start_time": "2022-09-26T12:42:11.108Z"
   },
   {
    "duration": 13,
    "start_time": "2022-09-26T12:42:11.116Z"
   },
   {
    "duration": 12,
    "start_time": "2022-09-26T12:42:11.130Z"
   },
   {
    "duration": 9,
    "start_time": "2022-09-26T12:42:11.144Z"
   },
   {
    "duration": 30,
    "start_time": "2022-09-26T12:42:11.154Z"
   },
   {
    "duration": 6,
    "start_time": "2022-09-26T12:42:11.185Z"
   },
   {
    "duration": 17,
    "start_time": "2022-09-26T12:42:11.192Z"
   },
   {
    "duration": 25,
    "start_time": "2022-09-26T12:42:11.211Z"
   },
   {
    "duration": 19,
    "start_time": "2022-09-26T12:42:11.237Z"
   },
   {
    "duration": 4,
    "start_time": "2022-09-26T12:42:11.257Z"
   },
   {
    "duration": 20,
    "start_time": "2022-09-26T12:42:11.263Z"
   },
   {
    "duration": 100,
    "start_time": "2022-09-26T12:42:11.285Z"
   },
   {
    "duration": 83,
    "start_time": "2022-09-26T13:04:45.340Z"
   },
   {
    "duration": 12,
    "start_time": "2022-09-26T13:05:02.824Z"
   },
   {
    "duration": 17,
    "start_time": "2022-09-26T13:05:09.976Z"
   },
   {
    "duration": 13,
    "start_time": "2022-09-26T13:05:21.053Z"
   },
   {
    "duration": 1502,
    "start_time": "2022-09-27T01:50:35.108Z"
   },
   {
    "duration": 374,
    "start_time": "2022-09-27T01:50:36.612Z"
   },
   {
    "duration": 13,
    "start_time": "2022-09-27T01:50:36.988Z"
   },
   {
    "duration": 25,
    "start_time": "2022-09-27T01:50:37.003Z"
   },
   {
    "duration": 11,
    "start_time": "2022-09-27T01:50:37.031Z"
   },
   {
    "duration": 12,
    "start_time": "2022-09-27T01:50:37.044Z"
   },
   {
    "duration": 29,
    "start_time": "2022-09-27T01:50:37.058Z"
   },
   {
    "duration": 11,
    "start_time": "2022-09-27T01:50:37.089Z"
   },
   {
    "duration": 17,
    "start_time": "2022-09-27T01:50:37.102Z"
   },
   {
    "duration": 16,
    "start_time": "2022-09-27T01:50:37.121Z"
   },
   {
    "duration": 7,
    "start_time": "2022-09-27T01:50:37.154Z"
   },
   {
    "duration": 18,
    "start_time": "2022-09-27T01:50:37.163Z"
   },
   {
    "duration": 24,
    "start_time": "2022-09-27T01:50:37.183Z"
   },
   {
    "duration": 10,
    "start_time": "2022-09-27T01:50:37.210Z"
   },
   {
    "duration": 12,
    "start_time": "2022-09-27T01:50:37.221Z"
   },
   {
    "duration": 20,
    "start_time": "2022-09-27T01:50:37.235Z"
   },
   {
    "duration": 11,
    "start_time": "2022-09-27T01:50:37.257Z"
   },
   {
    "duration": 8,
    "start_time": "2022-09-27T01:50:37.269Z"
   },
   {
    "duration": 15,
    "start_time": "2022-09-27T01:50:37.279Z"
   },
   {
    "duration": 12,
    "start_time": "2022-09-27T01:50:37.295Z"
   },
   {
    "duration": 17,
    "start_time": "2022-09-27T01:50:37.308Z"
   },
   {
    "duration": 32,
    "start_time": "2022-09-27T01:50:37.327Z"
   },
   {
    "duration": 23,
    "start_time": "2022-09-27T01:50:37.361Z"
   },
   {
    "duration": 4,
    "start_time": "2022-09-27T01:50:37.386Z"
   },
   {
    "duration": 22,
    "start_time": "2022-09-27T01:50:37.391Z"
   },
   {
    "duration": 39,
    "start_time": "2022-09-27T01:50:37.415Z"
   },
   {
    "duration": 18,
    "start_time": "2022-09-27T01:50:37.456Z"
   },
   {
    "duration": 17,
    "start_time": "2022-09-27T01:50:37.476Z"
   },
   {
    "duration": 32,
    "start_time": "2022-09-27T01:52:22.019Z"
   },
   {
    "duration": 33,
    "start_time": "2022-09-27T01:53:44.256Z"
   },
   {
    "duration": 119,
    "start_time": "2022-09-27T01:55:15.441Z"
   },
   {
    "duration": 4,
    "start_time": "2022-09-27T01:57:40.808Z"
   },
   {
    "duration": 15,
    "start_time": "2022-09-27T02:00:00.319Z"
   },
   {
    "duration": 7,
    "start_time": "2022-09-27T02:00:54.336Z"
   },
   {
    "duration": 7,
    "start_time": "2022-09-27T02:01:01.968Z"
   },
   {
    "duration": 14,
    "start_time": "2022-09-27T02:18:10.533Z"
   },
   {
    "duration": 5,
    "start_time": "2022-09-27T02:18:17.401Z"
   },
   {
    "duration": 119,
    "start_time": "2022-09-27T02:18:17.408Z"
   },
   {
    "duration": 13,
    "start_time": "2022-09-27T02:18:17.529Z"
   },
   {
    "duration": 18,
    "start_time": "2022-09-27T02:18:17.544Z"
   },
   {
    "duration": 15,
    "start_time": "2022-09-27T02:18:17.565Z"
   },
   {
    "duration": 14,
    "start_time": "2022-09-27T02:18:17.582Z"
   },
   {
    "duration": 46,
    "start_time": "2022-09-27T02:18:17.599Z"
   },
   {
    "duration": 14,
    "start_time": "2022-09-27T02:18:17.647Z"
   },
   {
    "duration": 12,
    "start_time": "2022-09-27T02:18:17.663Z"
   },
   {
    "duration": 16,
    "start_time": "2022-09-27T02:18:17.677Z"
   },
   {
    "duration": 7,
    "start_time": "2022-09-27T02:18:17.695Z"
   },
   {
    "duration": 19,
    "start_time": "2022-09-27T02:18:17.704Z"
   },
   {
    "duration": 12,
    "start_time": "2022-09-27T02:18:17.754Z"
   },
   {
    "duration": 9,
    "start_time": "2022-09-27T02:18:17.769Z"
   },
   {
    "duration": 20,
    "start_time": "2022-09-27T02:18:17.779Z"
   },
   {
    "duration": 20,
    "start_time": "2022-09-27T02:18:17.801Z"
   },
   {
    "duration": 19,
    "start_time": "2022-09-27T02:18:17.823Z"
   },
   {
    "duration": 24,
    "start_time": "2022-09-27T02:18:17.844Z"
   },
   {
    "duration": 29,
    "start_time": "2022-09-27T02:18:17.870Z"
   },
   {
    "duration": 17,
    "start_time": "2022-09-27T02:18:17.901Z"
   },
   {
    "duration": 42,
    "start_time": "2022-09-27T02:18:17.920Z"
   },
   {
    "duration": 31,
    "start_time": "2022-09-27T02:18:17.964Z"
   },
   {
    "duration": 23,
    "start_time": "2022-09-27T02:18:17.997Z"
   },
   {
    "duration": 4,
    "start_time": "2022-09-27T02:18:18.021Z"
   },
   {
    "duration": 29,
    "start_time": "2022-09-27T02:18:18.026Z"
   },
   {
    "duration": 22,
    "start_time": "2022-09-27T02:18:18.056Z"
   },
   {
    "duration": 31,
    "start_time": "2022-09-27T02:18:18.080Z"
   },
   {
    "duration": 14,
    "start_time": "2022-09-27T02:20:48.920Z"
   },
   {
    "duration": 6,
    "start_time": "2022-09-27T02:38:22.514Z"
   },
   {
    "duration": 9,
    "start_time": "2022-09-27T02:39:01.568Z"
   },
   {
    "duration": 7,
    "start_time": "2022-09-27T02:41:15.206Z"
   },
   {
    "duration": 51,
    "start_time": "2022-09-27T13:14:42.848Z"
   },
   {
    "duration": 1628,
    "start_time": "2022-09-27T13:14:46.821Z"
   },
   {
    "duration": 340,
    "start_time": "2022-09-27T13:14:48.451Z"
   },
   {
    "duration": 15,
    "start_time": "2022-09-27T13:14:48.793Z"
   },
   {
    "duration": 35,
    "start_time": "2022-09-27T13:14:48.823Z"
   },
   {
    "duration": 14,
    "start_time": "2022-09-27T13:14:48.861Z"
   },
   {
    "duration": 29,
    "start_time": "2022-09-27T13:14:48.877Z"
   },
   {
    "duration": 72,
    "start_time": "2022-09-27T13:14:48.908Z"
   },
   {
    "duration": 10,
    "start_time": "2022-09-27T13:14:48.982Z"
   },
   {
    "duration": 43,
    "start_time": "2022-09-27T13:14:48.993Z"
   },
   {
    "duration": 31,
    "start_time": "2022-09-27T13:14:49.037Z"
   },
   {
    "duration": 29,
    "start_time": "2022-09-27T13:14:49.069Z"
   },
   {
    "duration": 36,
    "start_time": "2022-09-27T13:14:49.099Z"
   },
   {
    "duration": 24,
    "start_time": "2022-09-27T13:14:49.136Z"
   },
   {
    "duration": 11,
    "start_time": "2022-09-27T13:14:49.163Z"
   },
   {
    "duration": 52,
    "start_time": "2022-09-27T13:14:49.176Z"
   },
   {
    "duration": 26,
    "start_time": "2022-09-27T13:14:49.229Z"
   },
   {
    "duration": 32,
    "start_time": "2022-09-27T13:14:49.256Z"
   },
   {
    "duration": 42,
    "start_time": "2022-09-27T13:14:49.290Z"
   },
   {
    "duration": 22,
    "start_time": "2022-09-27T13:14:49.334Z"
   },
   {
    "duration": 30,
    "start_time": "2022-09-27T13:14:49.357Z"
   },
   {
    "duration": 21,
    "start_time": "2022-09-27T13:14:49.389Z"
   },
   {
    "duration": 68,
    "start_time": "2022-09-27T13:14:49.411Z"
   },
   {
    "duration": 41,
    "start_time": "2022-09-27T13:14:49.481Z"
   },
   {
    "duration": 4,
    "start_time": "2022-09-27T13:14:49.524Z"
   },
   {
    "duration": 16,
    "start_time": "2022-09-27T13:14:49.529Z"
   },
   {
    "duration": 20,
    "start_time": "2022-09-27T13:14:49.547Z"
   },
   {
    "duration": 51,
    "start_time": "2022-09-27T13:14:49.568Z"
   },
   {
    "duration": 9,
    "start_time": "2022-09-27T13:14:49.620Z"
   },
   {
    "duration": 16,
    "start_time": "2022-09-27T13:17:11.879Z"
   },
   {
    "duration": 13,
    "start_time": "2022-09-27T13:17:32.224Z"
   },
   {
    "duration": 5,
    "start_time": "2022-09-27T13:28:20.222Z"
   },
   {
    "duration": 115,
    "start_time": "2022-09-27T13:28:20.229Z"
   },
   {
    "duration": 11,
    "start_time": "2022-09-27T13:28:20.345Z"
   },
   {
    "duration": 10,
    "start_time": "2022-09-27T13:28:20.357Z"
   },
   {
    "duration": 10,
    "start_time": "2022-09-27T13:28:20.369Z"
   },
   {
    "duration": 12,
    "start_time": "2022-09-27T13:28:20.380Z"
   },
   {
    "duration": 44,
    "start_time": "2022-09-27T13:28:20.393Z"
   },
   {
    "duration": 10,
    "start_time": "2022-09-27T13:28:20.438Z"
   },
   {
    "duration": 10,
    "start_time": "2022-09-27T13:28:20.449Z"
   },
   {
    "duration": 16,
    "start_time": "2022-09-27T13:28:20.461Z"
   },
   {
    "duration": 12,
    "start_time": "2022-09-27T13:28:20.478Z"
   },
   {
    "duration": 44,
    "start_time": "2022-09-27T13:28:20.491Z"
   },
   {
    "duration": 11,
    "start_time": "2022-09-27T13:28:20.539Z"
   },
   {
    "duration": 8,
    "start_time": "2022-09-27T13:28:20.551Z"
   },
   {
    "duration": 6,
    "start_time": "2022-09-27T13:28:20.561Z"
   },
   {
    "duration": 14,
    "start_time": "2022-09-27T13:28:20.568Z"
   },
   {
    "duration": 39,
    "start_time": "2022-09-27T13:28:20.583Z"
   },
   {
    "duration": 7,
    "start_time": "2022-09-27T13:28:20.624Z"
   },
   {
    "duration": 12,
    "start_time": "2022-09-27T13:28:20.632Z"
   },
   {
    "duration": 4,
    "start_time": "2022-09-27T13:28:20.645Z"
   },
   {
    "duration": 15,
    "start_time": "2022-09-27T13:28:20.650Z"
   },
   {
    "duration": 55,
    "start_time": "2022-09-27T13:28:20.667Z"
   },
   {
    "duration": 20,
    "start_time": "2022-09-27T13:28:20.724Z"
   },
   {
    "duration": 3,
    "start_time": "2022-09-27T13:28:20.746Z"
   },
   {
    "duration": 15,
    "start_time": "2022-09-27T13:28:20.750Z"
   },
   {
    "duration": 45,
    "start_time": "2022-09-27T13:28:20.766Z"
   },
   {
    "duration": 36,
    "start_time": "2022-09-27T13:28:20.813Z"
   },
   {
    "duration": 8,
    "start_time": "2022-09-27T13:28:20.850Z"
   },
   {
    "duration": 12,
    "start_time": "2022-09-27T13:28:20.859Z"
   },
   {
    "duration": 10,
    "start_time": "2022-09-27T13:36:54.220Z"
   },
   {
    "duration": 12,
    "start_time": "2022-09-27T13:37:15.194Z"
   },
   {
    "duration": 4,
    "start_time": "2022-09-27T13:37:56.280Z"
   },
   {
    "duration": 107,
    "start_time": "2022-09-27T13:37:56.286Z"
   },
   {
    "duration": 13,
    "start_time": "2022-09-27T13:37:56.395Z"
   },
   {
    "duration": 12,
    "start_time": "2022-09-27T13:37:56.410Z"
   },
   {
    "duration": 10,
    "start_time": "2022-09-27T13:37:56.425Z"
   },
   {
    "duration": 11,
    "start_time": "2022-09-27T13:37:56.437Z"
   },
   {
    "duration": 27,
    "start_time": "2022-09-27T13:37:56.449Z"
   },
   {
    "duration": 39,
    "start_time": "2022-09-27T13:37:56.477Z"
   },
   {
    "duration": 12,
    "start_time": "2022-09-27T13:37:56.517Z"
   },
   {
    "duration": 17,
    "start_time": "2022-09-27T13:37:56.530Z"
   },
   {
    "duration": 5,
    "start_time": "2022-09-27T13:37:56.549Z"
   },
   {
    "duration": 13,
    "start_time": "2022-09-27T13:37:56.556Z"
   },
   {
    "duration": 41,
    "start_time": "2022-09-27T13:37:56.570Z"
   },
   {
    "duration": 7,
    "start_time": "2022-09-27T13:37:56.613Z"
   },
   {
    "duration": 7,
    "start_time": "2022-09-27T13:37:56.622Z"
   },
   {
    "duration": 16,
    "start_time": "2022-09-27T13:37:56.630Z"
   },
   {
    "duration": 8,
    "start_time": "2022-09-27T13:37:56.647Z"
   },
   {
    "duration": 6,
    "start_time": "2022-09-27T13:37:56.656Z"
   },
   {
    "duration": 13,
    "start_time": "2022-09-27T13:37:56.664Z"
   },
   {
    "duration": 32,
    "start_time": "2022-09-27T13:37:56.678Z"
   },
   {
    "duration": 17,
    "start_time": "2022-09-27T13:37:56.712Z"
   },
   {
    "duration": 39,
    "start_time": "2022-09-27T13:37:56.730Z"
   },
   {
    "duration": 20,
    "start_time": "2022-09-27T13:37:56.770Z"
   },
   {
    "duration": 18,
    "start_time": "2022-09-27T13:37:56.791Z"
   },
   {
    "duration": 12,
    "start_time": "2022-09-27T13:37:56.810Z"
   },
   {
    "duration": 19,
    "start_time": "2022-09-27T13:37:56.824Z"
   },
   {
    "duration": 37,
    "start_time": "2022-09-27T13:37:56.845Z"
   },
   {
    "duration": 29,
    "start_time": "2022-09-27T13:37:56.884Z"
   },
   {
    "duration": 11,
    "start_time": "2022-09-27T13:37:56.914Z"
   },
   {
    "duration": 13,
    "start_time": "2022-09-27T13:42:50.760Z"
   },
   {
    "duration": 11,
    "start_time": "2022-09-27T13:42:58.423Z"
   },
   {
    "duration": 81,
    "start_time": "2022-09-27T13:48:38.203Z"
   },
   {
    "duration": 6,
    "start_time": "2022-09-27T13:48:44.699Z"
   },
   {
    "duration": 25,
    "start_time": "2022-09-27T13:49:01.110Z"
   },
   {
    "duration": 16,
    "start_time": "2022-09-27T13:49:58.861Z"
   },
   {
    "duration": 25,
    "start_time": "2022-09-27T13:53:18.642Z"
   },
   {
    "duration": 13,
    "start_time": "2022-09-27T13:53:27.183Z"
   },
   {
    "duration": 5,
    "start_time": "2022-09-27T13:54:04.257Z"
   },
   {
    "duration": 6,
    "start_time": "2022-09-27T13:54:43.841Z"
   },
   {
    "duration": 127,
    "start_time": "2022-09-27T13:54:43.849Z"
   },
   {
    "duration": 11,
    "start_time": "2022-09-27T13:54:43.977Z"
   },
   {
    "duration": 12,
    "start_time": "2022-09-27T13:54:43.990Z"
   },
   {
    "duration": 10,
    "start_time": "2022-09-27T13:54:44.004Z"
   },
   {
    "duration": 14,
    "start_time": "2022-09-27T13:54:44.015Z"
   },
   {
    "duration": 41,
    "start_time": "2022-09-27T13:54:44.030Z"
   },
   {
    "duration": 10,
    "start_time": "2022-09-27T13:54:44.072Z"
   },
   {
    "duration": 21,
    "start_time": "2022-09-27T13:54:44.084Z"
   },
   {
    "duration": 24,
    "start_time": "2022-09-27T13:54:44.107Z"
   },
   {
    "duration": 12,
    "start_time": "2022-09-27T13:54:44.133Z"
   },
   {
    "duration": 15,
    "start_time": "2022-09-27T13:54:44.146Z"
   },
   {
    "duration": 12,
    "start_time": "2022-09-27T13:54:44.163Z"
   },
   {
    "duration": 33,
    "start_time": "2022-09-27T13:54:44.177Z"
   },
   {
    "duration": 11,
    "start_time": "2022-09-27T13:54:44.211Z"
   },
   {
    "duration": 27,
    "start_time": "2022-09-27T13:54:44.223Z"
   },
   {
    "duration": 11,
    "start_time": "2022-09-27T13:54:44.252Z"
   },
   {
    "duration": 14,
    "start_time": "2022-09-27T13:54:44.265Z"
   },
   {
    "duration": 16,
    "start_time": "2022-09-27T13:54:44.281Z"
   },
   {
    "duration": 5,
    "start_time": "2022-09-27T13:54:44.309Z"
   },
   {
    "duration": 22,
    "start_time": "2022-09-27T13:54:44.316Z"
   },
   {
    "duration": 43,
    "start_time": "2022-09-27T13:54:44.340Z"
   },
   {
    "duration": 47,
    "start_time": "2022-09-27T13:54:44.385Z"
   },
   {
    "duration": 4,
    "start_time": "2022-09-27T13:54:44.434Z"
   },
   {
    "duration": 20,
    "start_time": "2022-09-27T13:54:44.440Z"
   },
   {
    "duration": 49,
    "start_time": "2022-09-27T13:54:44.462Z"
   },
   {
    "duration": 30,
    "start_time": "2022-09-27T13:54:44.513Z"
   },
   {
    "duration": 2,
    "start_time": "2022-09-27T13:54:44.545Z"
   },
   {
    "duration": 15,
    "start_time": "2022-09-27T13:54:44.549Z"
   },
   {
    "duration": 8,
    "start_time": "2022-09-27T13:54:44.565Z"
   },
   {
    "duration": 53,
    "start_time": "2022-09-27T13:54:44.575Z"
   },
   {
    "duration": 14,
    "start_time": "2022-09-27T13:54:44.630Z"
   },
   {
    "duration": 7,
    "start_time": "2022-09-27T13:54:44.646Z"
   },
   {
    "duration": 30,
    "start_time": "2022-09-27T14:04:43.295Z"
   },
   {
    "duration": 13,
    "start_time": "2022-09-27T14:04:47.973Z"
   },
   {
    "duration": 40,
    "start_time": "2022-09-27T14:05:25.245Z"
   },
   {
    "duration": 14,
    "start_time": "2022-09-27T14:05:41.285Z"
   },
   {
    "duration": 28,
    "start_time": "2022-09-27T14:08:47.192Z"
   },
   {
    "duration": 15,
    "start_time": "2022-09-27T14:08:58.558Z"
   },
   {
    "duration": 18,
    "start_time": "2022-09-27T14:09:17.128Z"
   },
   {
    "duration": 1642,
    "start_time": "2022-09-27T17:15:27.138Z"
   },
   {
    "duration": 325,
    "start_time": "2022-09-27T17:15:28.782Z"
   },
   {
    "duration": 15,
    "start_time": "2022-09-27T17:15:29.109Z"
   },
   {
    "duration": 19,
    "start_time": "2022-09-27T17:15:29.125Z"
   },
   {
    "duration": 12,
    "start_time": "2022-09-27T17:15:29.147Z"
   },
   {
    "duration": 14,
    "start_time": "2022-09-27T17:15:29.160Z"
   },
   {
    "duration": 29,
    "start_time": "2022-09-27T17:15:29.190Z"
   },
   {
    "duration": 12,
    "start_time": "2022-09-27T17:15:29.221Z"
   },
   {
    "duration": 11,
    "start_time": "2022-09-27T17:15:29.235Z"
   },
   {
    "duration": 43,
    "start_time": "2022-09-27T17:15:29.248Z"
   },
   {
    "duration": 8,
    "start_time": "2022-09-27T17:15:29.292Z"
   },
   {
    "duration": 18,
    "start_time": "2022-09-27T17:15:29.302Z"
   },
   {
    "duration": 13,
    "start_time": "2022-09-27T17:15:29.322Z"
   },
   {
    "duration": 9,
    "start_time": "2022-09-27T17:15:29.338Z"
   },
   {
    "duration": 14,
    "start_time": "2022-09-27T17:15:29.349Z"
   },
   {
    "duration": 39,
    "start_time": "2022-09-27T17:15:29.365Z"
   },
   {
    "duration": 23,
    "start_time": "2022-09-27T17:15:29.406Z"
   },
   {
    "duration": 24,
    "start_time": "2022-09-27T17:15:29.430Z"
   },
   {
    "duration": 28,
    "start_time": "2022-09-27T17:15:29.456Z"
   },
   {
    "duration": 11,
    "start_time": "2022-09-27T17:15:29.486Z"
   },
   {
    "duration": 35,
    "start_time": "2022-09-27T17:15:29.499Z"
   },
   {
    "duration": 32,
    "start_time": "2022-09-27T17:15:29.537Z"
   },
   {
    "duration": 30,
    "start_time": "2022-09-27T17:15:29.571Z"
   },
   {
    "duration": 4,
    "start_time": "2022-09-27T17:15:29.603Z"
   },
   {
    "duration": 23,
    "start_time": "2022-09-27T17:15:29.609Z"
   },
   {
    "duration": 33,
    "start_time": "2022-09-27T17:15:29.634Z"
   },
   {
    "duration": 37,
    "start_time": "2022-09-27T17:15:29.668Z"
   },
   {
    "duration": 8,
    "start_time": "2022-09-27T17:15:29.707Z"
   },
   {
    "duration": 25,
    "start_time": "2022-09-27T17:15:29.717Z"
   },
   {
    "duration": 17,
    "start_time": "2022-09-27T17:15:29.744Z"
   },
   {
    "duration": 37,
    "start_time": "2022-09-27T17:15:29.763Z"
   },
   {
    "duration": 24,
    "start_time": "2022-09-27T17:15:29.802Z"
   },
   {
    "duration": 16,
    "start_time": "2022-09-27T17:15:29.828Z"
   },
   {
    "duration": 121,
    "start_time": "2022-09-27T17:17:04.177Z"
   },
   {
    "duration": 9,
    "start_time": "2022-09-27T17:24:40.863Z"
   },
   {
    "duration": 4,
    "start_time": "2022-09-27T17:25:09.013Z"
   },
   {
    "duration": 127,
    "start_time": "2022-09-27T17:25:09.020Z"
   },
   {
    "duration": 13,
    "start_time": "2022-09-27T17:25:09.148Z"
   },
   {
    "duration": 19,
    "start_time": "2022-09-27T17:25:09.163Z"
   },
   {
    "duration": 24,
    "start_time": "2022-09-27T17:25:09.184Z"
   },
   {
    "duration": 29,
    "start_time": "2022-09-27T17:25:09.209Z"
   },
   {
    "duration": 31,
    "start_time": "2022-09-27T17:25:09.240Z"
   },
   {
    "duration": 10,
    "start_time": "2022-09-27T17:25:09.273Z"
   },
   {
    "duration": 13,
    "start_time": "2022-09-27T17:25:09.289Z"
   },
   {
    "duration": 21,
    "start_time": "2022-09-27T17:25:09.304Z"
   },
   {
    "duration": 24,
    "start_time": "2022-09-27T17:25:09.326Z"
   },
   {
    "duration": 30,
    "start_time": "2022-09-27T17:25:09.352Z"
   },
   {
    "duration": 31,
    "start_time": "2022-09-27T17:25:09.383Z"
   },
   {
    "duration": 11,
    "start_time": "2022-09-27T17:25:09.418Z"
   },
   {
    "duration": 13,
    "start_time": "2022-09-27T17:25:09.431Z"
   },
   {
    "duration": 18,
    "start_time": "2022-09-27T17:25:09.446Z"
   },
   {
    "duration": 15,
    "start_time": "2022-09-27T17:25:09.466Z"
   },
   {
    "duration": 27,
    "start_time": "2022-09-27T17:25:09.482Z"
   },
   {
    "duration": 23,
    "start_time": "2022-09-27T17:25:09.512Z"
   },
   {
    "duration": 6,
    "start_time": "2022-09-27T17:25:09.536Z"
   },
   {
    "duration": 23,
    "start_time": "2022-09-27T17:25:09.543Z"
   },
   {
    "duration": 30,
    "start_time": "2022-09-27T17:25:09.567Z"
   },
   {
    "duration": 24,
    "start_time": "2022-09-27T17:25:09.599Z"
   },
   {
    "duration": 2,
    "start_time": "2022-09-27T17:25:09.625Z"
   },
   {
    "duration": 16,
    "start_time": "2022-09-27T17:25:09.629Z"
   },
   {
    "duration": 25,
    "start_time": "2022-09-27T17:25:09.646Z"
   },
   {
    "duration": 45,
    "start_time": "2022-09-27T17:25:09.673Z"
   },
   {
    "duration": 7,
    "start_time": "2022-09-27T17:25:09.720Z"
   },
   {
    "duration": 25,
    "start_time": "2022-09-27T17:25:09.729Z"
   },
   {
    "duration": 35,
    "start_time": "2022-09-27T17:25:09.755Z"
   },
   {
    "duration": 25,
    "start_time": "2022-09-27T17:25:09.791Z"
   },
   {
    "duration": 25,
    "start_time": "2022-09-27T17:25:09.818Z"
   },
   {
    "duration": 19,
    "start_time": "2022-09-27T17:25:09.845Z"
   },
   {
    "duration": 21,
    "start_time": "2022-09-27T17:25:50.911Z"
   },
   {
    "duration": 22,
    "start_time": "2022-09-27T17:26:06.308Z"
   },
   {
    "duration": 4,
    "start_time": "2022-09-27T17:28:25.124Z"
   },
   {
    "duration": 115,
    "start_time": "2022-09-27T17:28:25.130Z"
   },
   {
    "duration": 13,
    "start_time": "2022-09-27T17:28:25.247Z"
   },
   {
    "duration": 14,
    "start_time": "2022-09-27T17:28:25.262Z"
   },
   {
    "duration": 12,
    "start_time": "2022-09-27T17:28:25.278Z"
   },
   {
    "duration": 26,
    "start_time": "2022-09-27T17:28:25.292Z"
   },
   {
    "duration": 34,
    "start_time": "2022-09-27T17:28:25.320Z"
   },
   {
    "duration": 17,
    "start_time": "2022-09-27T17:28:25.356Z"
   },
   {
    "duration": 30,
    "start_time": "2022-09-27T17:28:25.375Z"
   },
   {
    "duration": 28,
    "start_time": "2022-09-27T17:28:25.407Z"
   },
   {
    "duration": 12,
    "start_time": "2022-09-27T17:28:25.437Z"
   },
   {
    "duration": 30,
    "start_time": "2022-09-27T17:28:25.451Z"
   },
   {
    "duration": 45,
    "start_time": "2022-09-27T17:28:25.482Z"
   },
   {
    "duration": 24,
    "start_time": "2022-09-27T17:28:25.530Z"
   },
   {
    "duration": 24,
    "start_time": "2022-09-27T17:28:25.555Z"
   },
   {
    "duration": 38,
    "start_time": "2022-09-27T17:28:25.581Z"
   },
   {
    "duration": 24,
    "start_time": "2022-09-27T17:28:25.621Z"
   },
   {
    "duration": 22,
    "start_time": "2022-09-27T17:28:25.646Z"
   },
   {
    "duration": 52,
    "start_time": "2022-09-27T17:28:25.670Z"
   },
   {
    "duration": 7,
    "start_time": "2022-09-27T17:28:25.724Z"
   },
   {
    "duration": 26,
    "start_time": "2022-09-27T17:28:25.733Z"
   },
   {
    "duration": 42,
    "start_time": "2022-09-27T17:28:25.761Z"
   },
   {
    "duration": 23,
    "start_time": "2022-09-27T17:28:25.805Z"
   },
   {
    "duration": 42,
    "start_time": "2022-09-27T17:28:25.829Z"
   },
   {
    "duration": 31,
    "start_time": "2022-09-27T17:28:25.873Z"
   },
   {
    "duration": 38,
    "start_time": "2022-09-27T17:28:25.907Z"
   },
   {
    "duration": 32,
    "start_time": "2022-09-27T17:28:25.947Z"
   },
   {
    "duration": 20,
    "start_time": "2022-09-27T17:28:25.981Z"
   },
   {
    "duration": 17,
    "start_time": "2022-09-27T17:28:26.004Z"
   },
   {
    "duration": 32,
    "start_time": "2022-09-27T17:28:26.023Z"
   },
   {
    "duration": 55,
    "start_time": "2022-09-27T17:28:26.057Z"
   },
   {
    "duration": 23,
    "start_time": "2022-09-27T17:28:26.113Z"
   },
   {
    "duration": 11,
    "start_time": "2022-09-27T17:28:26.138Z"
   },
   {
    "duration": 4,
    "start_time": "2022-09-27T17:33:24.165Z"
   },
   {
    "duration": 120,
    "start_time": "2022-09-27T17:33:24.171Z"
   },
   {
    "duration": 16,
    "start_time": "2022-09-27T17:33:24.293Z"
   },
   {
    "duration": 14,
    "start_time": "2022-09-27T17:33:24.311Z"
   },
   {
    "duration": 12,
    "start_time": "2022-09-27T17:33:24.327Z"
   },
   {
    "duration": 13,
    "start_time": "2022-09-27T17:33:24.341Z"
   },
   {
    "duration": 63,
    "start_time": "2022-09-27T17:33:24.355Z"
   },
   {
    "duration": 11,
    "start_time": "2022-09-27T17:33:24.419Z"
   },
   {
    "duration": 12,
    "start_time": "2022-09-27T17:33:24.432Z"
   },
   {
    "duration": 17,
    "start_time": "2022-09-27T17:33:24.446Z"
   },
   {
    "duration": 18,
    "start_time": "2022-09-27T17:33:24.491Z"
   },
   {
    "duration": 15,
    "start_time": "2022-09-27T17:33:24.511Z"
   },
   {
    "duration": 15,
    "start_time": "2022-09-27T17:33:24.528Z"
   },
   {
    "duration": 9,
    "start_time": "2022-09-27T17:33:24.547Z"
   },
   {
    "duration": 31,
    "start_time": "2022-09-27T17:33:24.558Z"
   },
   {
    "duration": 29,
    "start_time": "2022-09-27T17:33:24.595Z"
   },
   {
    "duration": 7,
    "start_time": "2022-09-27T17:33:24.626Z"
   },
   {
    "duration": 8,
    "start_time": "2022-09-27T17:33:24.635Z"
   },
   {
    "duration": 16,
    "start_time": "2022-09-27T17:33:24.645Z"
   },
   {
    "duration": 6,
    "start_time": "2022-09-27T17:33:24.663Z"
   },
   {
    "duration": 22,
    "start_time": "2022-09-27T17:33:24.670Z"
   },
   {
    "duration": 39,
    "start_time": "2022-09-27T17:33:24.694Z"
   },
   {
    "duration": 22,
    "start_time": "2022-09-27T17:33:24.734Z"
   },
   {
    "duration": 3,
    "start_time": "2022-09-27T17:33:24.758Z"
   },
   {
    "duration": 16,
    "start_time": "2022-09-27T17:33:24.763Z"
   },
   {
    "duration": 28,
    "start_time": "2022-09-27T17:33:24.789Z"
   },
   {
    "duration": 32,
    "start_time": "2022-09-27T17:33:24.818Z"
   },
   {
    "duration": 8,
    "start_time": "2022-09-27T17:33:24.851Z"
   },
   {
    "duration": 41,
    "start_time": "2022-09-27T17:33:24.861Z"
   },
   {
    "duration": 6,
    "start_time": "2022-09-27T17:33:24.905Z"
   },
   {
    "duration": 17,
    "start_time": "2022-09-27T17:33:24.913Z"
   },
   {
    "duration": 0,
    "start_time": "2022-09-27T17:33:24.932Z"
   },
   {
    "duration": 0,
    "start_time": "2022-09-27T17:33:24.933Z"
   },
   {
    "duration": 14,
    "start_time": "2022-09-27T17:34:27.755Z"
   },
   {
    "duration": 4,
    "start_time": "2022-09-27T17:34:43.028Z"
   },
   {
    "duration": 1247,
    "start_time": "2022-09-27T17:39:52.648Z"
   },
   {
    "duration": 19,
    "start_time": "2022-09-27T17:40:15.869Z"
   },
   {
    "duration": 14,
    "start_time": "2022-09-27T17:40:28.448Z"
   },
   {
    "duration": 6,
    "start_time": "2022-09-27T17:40:42.515Z"
   },
   {
    "duration": 9,
    "start_time": "2022-09-27T17:41:17.044Z"
   },
   {
    "duration": 36,
    "start_time": "2022-09-27T17:42:30.832Z"
   },
   {
    "duration": 14,
    "start_time": "2022-09-27T17:43:04.418Z"
   },
   {
    "duration": 10,
    "start_time": "2022-09-27T17:45:12.424Z"
   },
   {
    "duration": 5,
    "start_time": "2022-09-27T17:46:12.613Z"
   },
   {
    "duration": 7,
    "start_time": "2022-09-27T17:46:57.235Z"
   },
   {
    "duration": 9,
    "start_time": "2022-09-27T17:47:24.616Z"
   },
   {
    "duration": 9,
    "start_time": "2022-09-27T17:48:16.124Z"
   },
   {
    "duration": 4,
    "start_time": "2022-09-27T17:48:19.171Z"
   },
   {
    "duration": 5,
    "start_time": "2022-09-27T17:48:20.242Z"
   },
   {
    "duration": 3,
    "start_time": "2022-09-27T17:48:21.097Z"
   },
   {
    "duration": 6,
    "start_time": "2022-09-27T17:54:53.295Z"
   },
   {
    "duration": 6,
    "start_time": "2022-09-27T18:01:50.721Z"
   },
   {
    "duration": 62,
    "start_time": "2022-09-27T18:10:13.306Z"
   },
   {
    "duration": 87,
    "start_time": "2022-09-27T18:16:36.769Z"
   },
   {
    "duration": 8,
    "start_time": "2022-09-27T18:18:04.911Z"
   },
   {
    "duration": 13,
    "start_time": "2022-09-27T18:18:26.081Z"
   },
   {
    "duration": 5,
    "start_time": "2022-09-27T18:26:37.316Z"
   },
   {
    "duration": 115,
    "start_time": "2022-09-27T18:26:37.323Z"
   },
   {
    "duration": 13,
    "start_time": "2022-09-27T18:26:37.440Z"
   },
   {
    "duration": 15,
    "start_time": "2022-09-27T18:26:37.455Z"
   },
   {
    "duration": 11,
    "start_time": "2022-09-27T18:26:37.472Z"
   },
   {
    "duration": 15,
    "start_time": "2022-09-27T18:26:37.484Z"
   },
   {
    "duration": 28,
    "start_time": "2022-09-27T18:26:37.500Z"
   },
   {
    "duration": 11,
    "start_time": "2022-09-27T18:26:37.529Z"
   },
   {
    "duration": 17,
    "start_time": "2022-09-27T18:26:37.542Z"
   },
   {
    "duration": 29,
    "start_time": "2022-09-27T18:26:37.561Z"
   },
   {
    "duration": 6,
    "start_time": "2022-09-27T18:26:37.593Z"
   },
   {
    "duration": 14,
    "start_time": "2022-09-27T18:26:37.601Z"
   },
   {
    "duration": 14,
    "start_time": "2022-09-27T18:26:37.616Z"
   },
   {
    "duration": 8,
    "start_time": "2022-09-27T18:26:37.632Z"
   },
   {
    "duration": 9,
    "start_time": "2022-09-27T18:26:37.642Z"
   },
   {
    "duration": 38,
    "start_time": "2022-09-27T18:26:37.652Z"
   },
   {
    "duration": 7,
    "start_time": "2022-09-27T18:26:37.692Z"
   },
   {
    "duration": 10,
    "start_time": "2022-09-27T18:26:37.700Z"
   },
   {
    "duration": 14,
    "start_time": "2022-09-27T18:26:37.711Z"
   },
   {
    "duration": 3,
    "start_time": "2022-09-27T18:26:37.727Z"
   },
   {
    "duration": 17,
    "start_time": "2022-09-27T18:26:37.732Z"
   },
   {
    "duration": 50,
    "start_time": "2022-09-27T18:26:37.750Z"
   },
   {
    "duration": 22,
    "start_time": "2022-09-27T18:26:37.802Z"
   },
   {
    "duration": 3,
    "start_time": "2022-09-27T18:26:37.825Z"
   },
   {
    "duration": 15,
    "start_time": "2022-09-27T18:26:37.830Z"
   },
   {
    "duration": 42,
    "start_time": "2022-09-27T18:26:37.847Z"
   },
   {
    "duration": 30,
    "start_time": "2022-09-27T18:26:37.891Z"
   },
   {
    "duration": 7,
    "start_time": "2022-09-27T18:26:37.923Z"
   },
   {
    "duration": 10,
    "start_time": "2022-09-27T18:26:37.933Z"
   },
   {
    "duration": 10,
    "start_time": "2022-09-27T18:26:37.944Z"
   },
   {
    "duration": 43,
    "start_time": "2022-09-27T18:26:37.956Z"
   },
   {
    "duration": 29,
    "start_time": "2022-09-27T18:26:38.001Z"
   },
   {
    "duration": 13,
    "start_time": "2022-09-27T18:26:38.032Z"
   },
   {
    "duration": 54,
    "start_time": "2022-09-27T18:26:38.047Z"
   },
   {
    "duration": 4,
    "start_time": "2022-09-27T18:26:38.103Z"
   },
   {
    "duration": 9,
    "start_time": "2022-09-27T18:26:38.109Z"
   },
   {
    "duration": 4,
    "start_time": "2022-09-27T18:26:38.119Z"
   },
   {
    "duration": 666,
    "start_time": "2022-09-27T18:26:38.124Z"
   },
   {
    "duration": 43,
    "start_time": "2022-09-27T18:26:38.792Z"
   },
   {
    "duration": 747,
    "start_time": "2022-09-27T18:30:21.128Z"
   },
   {
    "duration": 55,
    "start_time": "2022-09-27T18:30:23.434Z"
   },
   {
    "duration": 1133,
    "start_time": "2022-09-27T18:30:33.012Z"
   },
   {
    "duration": 79,
    "start_time": "2022-09-27T18:30:35.374Z"
   },
   {
    "duration": 5,
    "start_time": "2022-09-27T18:48:57.464Z"
   },
   {
    "duration": 3,
    "start_time": "2022-09-27T18:50:13.936Z"
   },
   {
    "duration": 9,
    "start_time": "2022-09-27T18:50:34.302Z"
   },
   {
    "duration": 2,
    "start_time": "2022-09-27T18:51:16.206Z"
   },
   {
    "duration": 4,
    "start_time": "2022-09-27T18:51:16.921Z"
   },
   {
    "duration": 1364,
    "start_time": "2022-09-27T18:53:46.796Z"
   },
   {
    "duration": 107,
    "start_time": "2022-09-27T18:53:48.162Z"
   },
   {
    "duration": 16,
    "start_time": "2022-09-27T18:53:48.271Z"
   },
   {
    "duration": 19,
    "start_time": "2022-09-27T18:53:48.289Z"
   },
   {
    "duration": 11,
    "start_time": "2022-09-27T18:53:48.310Z"
   },
   {
    "duration": 12,
    "start_time": "2022-09-27T18:53:48.322Z"
   },
   {
    "duration": 31,
    "start_time": "2022-09-27T18:53:48.335Z"
   },
   {
    "duration": 24,
    "start_time": "2022-09-27T18:53:48.367Z"
   },
   {
    "duration": 16,
    "start_time": "2022-09-27T18:53:48.393Z"
   },
   {
    "duration": 15,
    "start_time": "2022-09-27T18:53:48.411Z"
   },
   {
    "duration": 8,
    "start_time": "2022-09-27T18:53:48.427Z"
   },
   {
    "duration": 15,
    "start_time": "2022-09-27T18:53:48.436Z"
   },
   {
    "duration": 10,
    "start_time": "2022-09-27T18:53:48.453Z"
   },
   {
    "duration": 30,
    "start_time": "2022-09-27T18:53:48.464Z"
   },
   {
    "duration": 8,
    "start_time": "2022-09-27T18:53:48.496Z"
   },
   {
    "duration": 13,
    "start_time": "2022-09-27T18:53:48.506Z"
   },
   {
    "duration": 8,
    "start_time": "2022-09-27T18:53:48.520Z"
   },
   {
    "duration": 6,
    "start_time": "2022-09-27T18:53:48.529Z"
   },
   {
    "duration": 16,
    "start_time": "2022-09-27T18:53:48.536Z"
   },
   {
    "duration": 3,
    "start_time": "2022-09-27T18:53:48.554Z"
   },
   {
    "duration": 43,
    "start_time": "2022-09-27T18:53:48.559Z"
   },
   {
    "duration": 23,
    "start_time": "2022-09-27T18:53:48.603Z"
   },
   {
    "duration": 20,
    "start_time": "2022-09-27T18:53:48.627Z"
   },
   {
    "duration": 2,
    "start_time": "2022-09-27T18:53:48.649Z"
   },
   {
    "duration": 14,
    "start_time": "2022-09-27T18:53:48.652Z"
   },
   {
    "duration": 18,
    "start_time": "2022-09-27T18:53:48.690Z"
   },
   {
    "duration": 29,
    "start_time": "2022-09-27T18:53:48.710Z"
   },
   {
    "duration": 6,
    "start_time": "2022-09-27T18:53:48.743Z"
   },
   {
    "duration": 10,
    "start_time": "2022-09-27T18:53:48.751Z"
   },
   {
    "duration": 31,
    "start_time": "2022-09-27T18:53:48.763Z"
   },
   {
    "duration": 19,
    "start_time": "2022-09-27T18:53:48.796Z"
   },
   {
    "duration": 31,
    "start_time": "2022-09-27T18:53:48.817Z"
   },
   {
    "duration": 12,
    "start_time": "2022-09-27T18:53:48.850Z"
   },
   {
    "duration": 30,
    "start_time": "2022-09-27T18:53:48.888Z"
   },
   {
    "duration": 4,
    "start_time": "2022-09-27T18:53:48.920Z"
   },
   {
    "duration": 5,
    "start_time": "2022-09-27T18:53:48.926Z"
   },
   {
    "duration": 7,
    "start_time": "2022-09-27T18:53:48.933Z"
   },
   {
    "duration": 1100,
    "start_time": "2022-09-27T18:53:48.941Z"
   },
   {
    "duration": 89,
    "start_time": "2022-09-27T18:53:50.043Z"
   },
   {
    "duration": 3,
    "start_time": "2022-09-27T18:53:50.134Z"
   },
   {
    "duration": 8,
    "start_time": "2022-09-27T18:53:50.138Z"
   },
   {
    "duration": 430260,
    "start_time": "2022-09-27T18:53:50.148Z"
   },
   {
    "duration": 3,
    "start_time": "2022-09-27T19:01:00.410Z"
   },
   {
    "duration": 41,
    "start_time": "2022-09-27T19:13:41.682Z"
   },
   {
    "duration": 195,
    "start_time": "2022-09-27T19:13:55.835Z"
   },
   {
    "duration": 85,
    "start_time": "2022-09-27T19:14:05.062Z"
   },
   {
    "duration": 98,
    "start_time": "2022-09-27T19:14:20.727Z"
   },
   {
    "duration": 189,
    "start_time": "2022-09-27T19:14:51.531Z"
   },
   {
    "duration": 83,
    "start_time": "2022-09-27T19:14:54.882Z"
   },
   {
    "duration": 22,
    "start_time": "2022-09-27T19:18:10.212Z"
   },
   {
    "duration": 7,
    "start_time": "2022-09-27T19:19:02.206Z"
   },
   {
    "duration": 5,
    "start_time": "2022-09-27T19:19:39.718Z"
   },
   {
    "duration": 5,
    "start_time": "2022-09-27T20:18:38.953Z"
   },
   {
    "duration": 145,
    "start_time": "2022-09-27T20:26:15.554Z"
   },
   {
    "duration": 33,
    "start_time": "2022-09-27T20:26:28.589Z"
   },
   {
    "duration": 6,
    "start_time": "2022-09-27T20:26:29.502Z"
   },
   {
    "duration": 9,
    "start_time": "2022-09-27T20:27:05.677Z"
   },
   {
    "duration": 9,
    "start_time": "2022-09-27T20:27:16.575Z"
   },
   {
    "duration": 23,
    "start_time": "2022-09-27T20:27:35.328Z"
   },
   {
    "duration": 12,
    "start_time": "2022-09-27T20:28:04.357Z"
   },
   {
    "duration": 34,
    "start_time": "2022-09-27T20:29:29.170Z"
   },
   {
    "duration": 5,
    "start_time": "2022-09-27T20:29:29.879Z"
   },
   {
    "duration": 4,
    "start_time": "2022-09-27T20:29:32.275Z"
   },
   {
    "duration": 13,
    "start_time": "2022-09-27T20:29:33.571Z"
   },
   {
    "duration": 2,
    "start_time": "2022-09-27T20:32:36.240Z"
   },
   {
    "duration": 17,
    "start_time": "2022-09-27T20:32:37.197Z"
   },
   {
    "duration": 191,
    "start_time": "2022-09-27T20:32:47.349Z"
   },
   {
    "duration": 19,
    "start_time": "2022-09-27T20:32:48.745Z"
   },
   {
    "duration": 7,
    "start_time": "2022-09-27T20:32:51.031Z"
   },
   {
    "duration": 6,
    "start_time": "2022-09-27T20:32:52.093Z"
   },
   {
    "duration": 23,
    "start_time": "2022-09-27T20:32:54.315Z"
   },
   {
    "duration": 21,
    "start_time": "2022-09-27T20:33:54.445Z"
   },
   {
    "duration": 12,
    "start_time": "2022-09-27T20:34:25.137Z"
   },
   {
    "duration": 24,
    "start_time": "2022-09-27T20:34:28.501Z"
   },
   {
    "duration": 6,
    "start_time": "2022-09-27T20:34:29.260Z"
   },
   {
    "duration": 5,
    "start_time": "2022-09-27T20:34:30.175Z"
   },
   {
    "duration": 10,
    "start_time": "2022-09-27T20:34:31.135Z"
   },
   {
    "duration": 9,
    "start_time": "2022-09-27T21:35:43.322Z"
   },
   {
    "duration": 5,
    "start_time": "2022-09-27T21:35:57.335Z"
   },
   {
    "duration": 147,
    "start_time": "2022-09-27T21:36:23.847Z"
   },
   {
    "duration": 9,
    "start_time": "2022-09-27T21:38:48.435Z"
   },
   {
    "duration": 4,
    "start_time": "2022-09-27T21:38:49.953Z"
   },
   {
    "duration": 118,
    "start_time": "2022-09-27T21:39:23.197Z"
   },
   {
    "duration": 122,
    "start_time": "2022-09-27T21:40:43.511Z"
   },
   {
    "duration": 12,
    "start_time": "2022-09-27T21:44:51.902Z"
   },
   {
    "duration": 69,
    "start_time": "2022-09-27T21:46:22.303Z"
   },
   {
    "duration": 2,
    "start_time": "2022-09-27T21:46:39.580Z"
   },
   {
    "duration": 3,
    "start_time": "2022-09-27T21:46:56.910Z"
   },
   {
    "duration": 102,
    "start_time": "2022-09-27T21:47:50.013Z"
   },
   {
    "duration": 1231096,
    "start_time": "2022-09-27T21:48:33.263Z"
   },
   {
    "duration": 5,
    "start_time": "2022-09-27T22:09:04.360Z"
   },
   {
    "duration": 3,
    "start_time": "2022-09-27T22:12:13.787Z"
   },
   {
    "duration": 820,
    "start_time": "2022-09-27T22:12:49.270Z"
   },
   {
    "duration": 6,
    "start_time": "2022-09-27T22:13:45.034Z"
   },
   {
    "duration": 6,
    "start_time": "2022-09-27T22:14:19.824Z"
   },
   {
    "duration": 5,
    "start_time": "2022-09-27T22:14:46.744Z"
   },
   {
    "duration": 9,
    "start_time": "2022-09-27T22:16:11.517Z"
   },
   {
    "duration": 85,
    "start_time": "2022-09-27T22:18:42.454Z"
   },
   {
    "duration": 5,
    "start_time": "2022-09-27T22:18:48.599Z"
   },
   {
    "duration": 18,
    "start_time": "2022-09-27T22:18:52.513Z"
   },
   {
    "duration": 6,
    "start_time": "2022-09-27T22:19:38.716Z"
   },
   {
    "duration": 17,
    "start_time": "2022-09-27T22:19:39.422Z"
   },
   {
    "duration": 7,
    "start_time": "2022-09-27T22:20:37.911Z"
   },
   {
    "duration": 138,
    "start_time": "2022-09-27T22:21:00.581Z"
   },
   {
    "duration": 147,
    "start_time": "2022-09-27T22:21:35.316Z"
   },
   {
    "duration": 2,
    "start_time": "2022-09-27T22:36:31.265Z"
   },
   {
    "duration": 3,
    "start_time": "2022-09-27T22:36:33.897Z"
   },
   {
    "duration": 4,
    "start_time": "2022-09-27T22:36:44.946Z"
   },
   {
    "duration": 6,
    "start_time": "2022-09-27T22:36:51.611Z"
   },
   {
    "duration": 7,
    "start_time": "2022-09-27T22:37:17.073Z"
   },
   {
    "duration": 5,
    "start_time": "2022-09-27T22:37:24.192Z"
   },
   {
    "duration": 17,
    "start_time": "2022-09-27T22:37:47.381Z"
   },
   {
    "duration": 192,
    "start_time": "2022-09-27T22:38:22.259Z"
   },
   {
    "duration": 19,
    "start_time": "2022-09-27T22:38:23.836Z"
   },
   {
    "duration": 5,
    "start_time": "2022-09-27T22:38:24.918Z"
   },
   {
    "duration": 5,
    "start_time": "2022-09-27T22:38:27.189Z"
   },
   {
    "duration": 21,
    "start_time": "2022-09-27T22:38:28.120Z"
   },
   {
    "duration": 5,
    "start_time": "2022-09-27T22:39:22.078Z"
   },
   {
    "duration": 4,
    "start_time": "2022-09-27T22:39:49.926Z"
   },
   {
    "duration": 23,
    "start_time": "2022-09-27T22:40:07.240Z"
   },
   {
    "duration": 6,
    "start_time": "2022-09-27T22:40:08.071Z"
   },
   {
    "duration": 5,
    "start_time": "2022-09-27T22:40:08.878Z"
   },
   {
    "duration": 9,
    "start_time": "2022-09-27T22:40:28.494Z"
   },
   {
    "duration": 3,
    "start_time": "2022-09-27T22:41:14.028Z"
   },
   {
    "duration": 2,
    "start_time": "2022-09-27T22:42:08.688Z"
   },
   {
    "duration": 789,
    "start_time": "2022-09-27T22:42:09.976Z"
   },
   {
    "duration": 5,
    "start_time": "2022-09-27T22:42:12.416Z"
   },
   {
    "duration": 5,
    "start_time": "2022-09-27T22:42:14.278Z"
   },
   {
    "duration": 5,
    "start_time": "2022-09-27T22:42:15.174Z"
   },
   {
    "duration": 7,
    "start_time": "2022-09-27T22:42:34.532Z"
   },
   {
    "duration": 18,
    "start_time": "2022-09-27T22:42:42.041Z"
   },
   {
    "duration": 14,
    "start_time": "2022-09-27T22:43:05.081Z"
   },
   {
    "duration": 3,
    "start_time": "2022-09-27T22:43:29.629Z"
   },
   {
    "duration": 5,
    "start_time": "2022-09-27T22:43:47.002Z"
   },
   {
    "duration": 4,
    "start_time": "2022-09-27T22:48:30.443Z"
   },
   {
    "duration": 7,
    "start_time": "2022-09-27T22:48:48.555Z"
   },
   {
    "duration": 17,
    "start_time": "2022-09-27T22:51:40.841Z"
   },
   {
    "duration": 4,
    "start_time": "2022-09-27T22:52:01.185Z"
   },
   {
    "duration": 166,
    "start_time": "2022-09-27T22:52:01.191Z"
   },
   {
    "duration": 19,
    "start_time": "2022-09-27T22:52:01.359Z"
   },
   {
    "duration": 33,
    "start_time": "2022-09-27T22:52:01.379Z"
   },
   {
    "duration": 22,
    "start_time": "2022-09-27T22:52:01.414Z"
   },
   {
    "duration": 27,
    "start_time": "2022-09-27T22:52:01.437Z"
   },
   {
    "duration": 47,
    "start_time": "2022-09-27T22:52:01.466Z"
   },
   {
    "duration": 11,
    "start_time": "2022-09-27T22:52:01.514Z"
   },
   {
    "duration": 28,
    "start_time": "2022-09-27T22:52:01.527Z"
   },
   {
    "duration": 44,
    "start_time": "2022-09-27T22:52:01.556Z"
   },
   {
    "duration": 53,
    "start_time": "2022-09-27T22:52:01.602Z"
   },
   {
    "duration": 96,
    "start_time": "2022-09-27T22:52:01.657Z"
   },
   {
    "duration": 24,
    "start_time": "2022-09-27T22:52:01.756Z"
   },
   {
    "duration": 11,
    "start_time": "2022-09-27T22:52:01.782Z"
   },
   {
    "duration": 20,
    "start_time": "2022-09-27T22:52:01.795Z"
   },
   {
    "duration": 41,
    "start_time": "2022-09-27T22:52:01.817Z"
   },
   {
    "duration": 18,
    "start_time": "2022-09-27T22:52:01.860Z"
   },
   {
    "duration": 10,
    "start_time": "2022-09-27T22:52:01.881Z"
   },
   {
    "duration": 49,
    "start_time": "2022-09-27T22:52:01.893Z"
   },
   {
    "duration": 22,
    "start_time": "2022-09-27T22:52:01.945Z"
   },
   {
    "duration": 45,
    "start_time": "2022-09-27T22:52:01.970Z"
   },
   {
    "duration": 41,
    "start_time": "2022-09-27T22:52:02.017Z"
   },
   {
    "duration": 23,
    "start_time": "2022-09-27T22:52:02.060Z"
   },
   {
    "duration": 5,
    "start_time": "2022-09-27T22:52:02.085Z"
   },
   {
    "duration": 21,
    "start_time": "2022-09-27T22:52:02.092Z"
   },
   {
    "duration": 21,
    "start_time": "2022-09-27T22:52:02.115Z"
   },
   {
    "duration": 34,
    "start_time": "2022-09-27T22:52:02.138Z"
   },
   {
    "duration": 21,
    "start_time": "2022-09-27T22:52:02.173Z"
   },
   {
    "duration": 10,
    "start_time": "2022-09-27T22:52:02.196Z"
   },
   {
    "duration": 7,
    "start_time": "2022-09-27T22:52:02.208Z"
   },
   {
    "duration": 23,
    "start_time": "2022-09-27T22:52:02.217Z"
   },
   {
    "duration": 63,
    "start_time": "2022-09-27T22:52:02.242Z"
   },
   {
    "duration": 14,
    "start_time": "2022-09-27T22:52:02.306Z"
   },
   {
    "duration": 31,
    "start_time": "2022-09-27T22:52:02.322Z"
   },
   {
    "duration": 5,
    "start_time": "2022-09-27T22:52:02.354Z"
   },
   {
    "duration": 28,
    "start_time": "2022-09-27T22:52:02.361Z"
   },
   {
    "duration": 3,
    "start_time": "2022-09-27T22:52:02.395Z"
   },
   {
    "duration": 5,
    "start_time": "2022-09-27T22:52:02.400Z"
   },
   {
    "duration": 19,
    "start_time": "2022-09-27T22:52:02.406Z"
   },
   {
    "duration": 3,
    "start_time": "2022-09-27T22:52:02.427Z"
   },
   {
    "duration": 6,
    "start_time": "2022-09-27T22:52:02.432Z"
   },
   {
    "duration": 417472,
    "start_time": "2022-09-27T22:52:02.440Z"
   },
   {
    "duration": 3,
    "start_time": "2022-09-27T22:58:59.914Z"
   },
   {
    "duration": 196,
    "start_time": "2022-09-27T22:58:59.919Z"
   },
   {
    "duration": 20,
    "start_time": "2022-09-27T22:59:00.117Z"
   },
   {
    "duration": 4,
    "start_time": "2022-09-27T22:59:00.139Z"
   },
   {
    "duration": 7,
    "start_time": "2022-09-27T22:59:00.145Z"
   },
   {
    "duration": 48,
    "start_time": "2022-09-27T22:59:00.154Z"
   },
   {
    "duration": 4,
    "start_time": "2022-09-27T22:59:00.204Z"
   },
   {
    "duration": 138,
    "start_time": "2022-09-27T22:59:00.210Z"
   },
   {
    "duration": 42,
    "start_time": "2022-09-27T22:59:00.350Z"
   },
   {
    "duration": 95,
    "start_time": "2022-09-27T22:59:00.395Z"
   },
   {
    "duration": 96,
    "start_time": "2022-09-27T22:59:00.492Z"
   },
   {
    "duration": 29,
    "start_time": "2022-09-27T22:59:00.591Z"
   },
   {
    "duration": 76,
    "start_time": "2022-09-27T22:59:00.624Z"
   },
   {
    "duration": 144,
    "start_time": "2022-09-27T22:59:00.789Z"
   },
   {
    "duration": 4,
    "start_time": "2022-09-27T22:59:00.935Z"
   },
   {
    "duration": 8,
    "start_time": "2022-09-27T22:59:00.941Z"
   },
   {
    "duration": 1166592,
    "start_time": "2022-09-27T22:59:00.950Z"
   },
   {
    "duration": 5,
    "start_time": "2022-09-27T23:18:27.543Z"
   },
   {
    "duration": 6,
    "start_time": "2022-09-27T23:18:27.549Z"
   },
   {
    "duration": 820,
    "start_time": "2022-09-27T23:18:27.557Z"
   },
   {
    "duration": 5,
    "start_time": "2022-09-27T23:18:28.379Z"
   },
   {
    "duration": 8,
    "start_time": "2022-09-27T23:18:28.386Z"
   },
   {
    "duration": 5,
    "start_time": "2022-09-27T23:18:28.396Z"
   },
   {
    "duration": 10,
    "start_time": "2022-09-27T23:18:28.403Z"
   },
   {
    "duration": 4,
    "start_time": "2022-09-27T23:18:28.415Z"
   },
   {
    "duration": 151,
    "start_time": "2022-09-27T23:18:28.420Z"
   },
   {
    "duration": 4,
    "start_time": "2022-09-27T23:18:28.573Z"
   },
   {
    "duration": 15,
    "start_time": "2022-09-27T23:18:28.578Z"
   },
   {
    "duration": 66,
    "start_time": "2022-09-28T17:56:36.027Z"
   },
   {
    "duration": 60,
    "start_time": "2022-09-28T17:59:02.627Z"
   },
   {
    "duration": 111,
    "start_time": "2022-09-28T17:59:58.716Z"
   },
   {
    "duration": 160,
    "start_time": "2022-09-28T18:03:34.986Z"
   },
   {
    "duration": 115,
    "start_time": "2022-09-28T18:04:18.745Z"
   },
   {
    "duration": 94,
    "start_time": "2022-09-28T18:05:36.034Z"
   },
   {
    "duration": 2331,
    "start_time": "2022-09-28T18:06:59.637Z"
   },
   {
    "duration": 379,
    "start_time": "2022-09-28T18:07:01.969Z"
   },
   {
    "duration": 16,
    "start_time": "2022-09-28T18:07:02.350Z"
   },
   {
    "duration": 28,
    "start_time": "2022-09-28T18:07:02.368Z"
   },
   {
    "duration": 26,
    "start_time": "2022-09-28T18:07:02.398Z"
   },
   {
    "duration": 21,
    "start_time": "2022-09-28T18:07:02.426Z"
   },
   {
    "duration": 37,
    "start_time": "2022-09-28T18:07:02.448Z"
   },
   {
    "duration": 13,
    "start_time": "2022-09-28T18:07:02.486Z"
   },
   {
    "duration": 44,
    "start_time": "2022-09-28T18:07:02.500Z"
   },
   {
    "duration": 58,
    "start_time": "2022-09-28T18:07:02.546Z"
   },
   {
    "duration": 27,
    "start_time": "2022-09-28T18:07:02.606Z"
   },
   {
    "duration": 18,
    "start_time": "2022-09-28T18:07:02.635Z"
   },
   {
    "duration": 19,
    "start_time": "2022-09-28T18:07:02.655Z"
   },
   {
    "duration": 13,
    "start_time": "2022-09-28T18:07:02.678Z"
   },
   {
    "duration": 10,
    "start_time": "2022-09-28T18:07:02.693Z"
   },
   {
    "duration": 46,
    "start_time": "2022-09-28T18:07:02.704Z"
   },
   {
    "duration": 12,
    "start_time": "2022-09-28T18:07:02.751Z"
   },
   {
    "duration": 10,
    "start_time": "2022-09-28T18:07:02.765Z"
   },
   {
    "duration": 21,
    "start_time": "2022-09-28T18:07:02.776Z"
   },
   {
    "duration": 31,
    "start_time": "2022-09-28T18:07:02.799Z"
   },
   {
    "duration": 19,
    "start_time": "2022-09-28T18:07:02.832Z"
   },
   {
    "duration": 40,
    "start_time": "2022-09-28T18:07:02.853Z"
   },
   {
    "duration": 34,
    "start_time": "2022-09-28T18:07:02.896Z"
   },
   {
    "duration": 5,
    "start_time": "2022-09-28T18:07:02.931Z"
   },
   {
    "duration": 15,
    "start_time": "2022-09-28T18:07:02.938Z"
   },
   {
    "duration": 32,
    "start_time": "2022-09-28T18:07:02.955Z"
   },
   {
    "duration": 45,
    "start_time": "2022-09-28T18:07:02.989Z"
   },
   {
    "duration": 7,
    "start_time": "2022-09-28T18:07:03.036Z"
   },
   {
    "duration": 8,
    "start_time": "2022-09-28T18:07:03.045Z"
   },
   {
    "duration": 6,
    "start_time": "2022-09-28T18:07:03.055Z"
   },
   {
    "duration": 22,
    "start_time": "2022-09-28T18:07:03.063Z"
   },
   {
    "duration": 13,
    "start_time": "2022-09-28T18:08:01.125Z"
   },
   {
    "duration": 19,
    "start_time": "2022-09-28T18:08:15.753Z"
   },
   {
    "duration": 82,
    "start_time": "2022-09-28T18:10:04.276Z"
   },
   {
    "duration": 92,
    "start_time": "2022-09-28T18:11:40.329Z"
   },
   {
    "duration": 95,
    "start_time": "2022-09-28T18:13:27.955Z"
   },
   {
    "duration": 74,
    "start_time": "2022-09-28T18:21:26.677Z"
   },
   {
    "duration": 77,
    "start_time": "2022-09-28T18:29:52.128Z"
   },
   {
    "duration": 110,
    "start_time": "2022-09-28T18:30:44.862Z"
   },
   {
    "duration": 56,
    "start_time": "2022-09-28T19:01:07.766Z"
   },
   {
    "duration": 2061,
    "start_time": "2022-09-28T19:01:11.550Z"
   },
   {
    "duration": 492,
    "start_time": "2022-09-28T19:01:13.614Z"
   },
   {
    "duration": 21,
    "start_time": "2022-09-28T19:01:14.109Z"
   },
   {
    "duration": 16,
    "start_time": "2022-09-28T19:01:14.133Z"
   },
   {
    "duration": 11,
    "start_time": "2022-09-28T19:01:14.151Z"
   },
   {
    "duration": 26,
    "start_time": "2022-09-28T19:01:14.164Z"
   },
   {
    "duration": 40,
    "start_time": "2022-09-28T19:01:14.196Z"
   },
   {
    "duration": 13,
    "start_time": "2022-09-28T19:01:14.238Z"
   },
   {
    "duration": 13,
    "start_time": "2022-09-28T19:01:14.253Z"
   },
   {
    "duration": 22,
    "start_time": "2022-09-28T19:01:14.288Z"
   },
   {
    "duration": 14,
    "start_time": "2022-09-28T19:01:14.312Z"
   },
   {
    "duration": 18,
    "start_time": "2022-09-28T19:01:14.328Z"
   },
   {
    "duration": 18,
    "start_time": "2022-09-28T19:01:14.347Z"
   },
   {
    "duration": 23,
    "start_time": "2022-09-28T19:01:14.367Z"
   },
   {
    "duration": 21,
    "start_time": "2022-09-28T19:01:14.392Z"
   },
   {
    "duration": 18,
    "start_time": "2022-09-28T19:01:14.414Z"
   },
   {
    "duration": 10,
    "start_time": "2022-09-28T19:01:14.433Z"
   },
   {
    "duration": 14,
    "start_time": "2022-09-28T19:01:14.444Z"
   },
   {
    "duration": 18,
    "start_time": "2022-09-28T19:01:14.460Z"
   },
   {
    "duration": 4,
    "start_time": "2022-09-28T19:01:14.480Z"
   },
   {
    "duration": 23,
    "start_time": "2022-09-28T19:01:14.486Z"
   },
   {
    "duration": 26,
    "start_time": "2022-09-28T19:01:14.511Z"
   },
   {
    "duration": 25,
    "start_time": "2022-09-28T19:01:14.538Z"
   },
   {
    "duration": 31,
    "start_time": "2022-09-28T19:01:14.565Z"
   },
   {
    "duration": 15,
    "start_time": "2022-09-28T19:01:14.604Z"
   },
   {
    "duration": 26,
    "start_time": "2022-09-28T19:01:14.621Z"
   },
   {
    "duration": 53,
    "start_time": "2022-09-28T19:01:14.649Z"
   },
   {
    "duration": 10,
    "start_time": "2022-09-28T19:01:14.708Z"
   },
   {
    "duration": 19,
    "start_time": "2022-09-28T19:01:14.720Z"
   },
   {
    "duration": 8,
    "start_time": "2022-09-28T19:01:14.741Z"
   },
   {
    "duration": 45,
    "start_time": "2022-09-28T19:01:14.751Z"
   },
   {
    "duration": 48,
    "start_time": "2022-09-28T19:01:14.803Z"
   },
   {
    "duration": 16,
    "start_time": "2022-09-28T19:01:14.853Z"
   },
   {
    "duration": 49,
    "start_time": "2022-09-28T19:01:14.871Z"
   },
   {
    "duration": 5,
    "start_time": "2022-09-28T19:01:14.922Z"
   },
   {
    "duration": 24,
    "start_time": "2022-09-28T19:01:14.929Z"
   },
   {
    "duration": 30,
    "start_time": "2022-09-28T19:01:14.955Z"
   },
   {
    "duration": 31,
    "start_time": "2022-09-28T19:01:14.987Z"
   },
   {
    "duration": 27,
    "start_time": "2022-09-28T19:01:15.019Z"
   },
   {
    "duration": 9,
    "start_time": "2022-09-28T19:01:15.048Z"
   },
   {
    "duration": 57,
    "start_time": "2022-09-28T19:01:15.059Z"
   },
   {
    "duration": 1599,
    "start_time": "2022-09-28T20:50:31.737Z"
   },
   {
    "duration": 304,
    "start_time": "2022-09-28T20:50:33.338Z"
   },
   {
    "duration": 14,
    "start_time": "2022-09-28T20:50:33.644Z"
   },
   {
    "duration": 17,
    "start_time": "2022-09-28T20:50:33.660Z"
   },
   {
    "duration": 11,
    "start_time": "2022-09-28T20:50:33.680Z"
   },
   {
    "duration": 15,
    "start_time": "2022-09-28T20:50:33.693Z"
   },
   {
    "duration": 34,
    "start_time": "2022-09-28T20:50:33.710Z"
   },
   {
    "duration": 10,
    "start_time": "2022-09-28T20:50:33.746Z"
   },
   {
    "duration": 13,
    "start_time": "2022-09-28T20:50:33.758Z"
   },
   {
    "duration": 17,
    "start_time": "2022-09-28T20:50:33.772Z"
   },
   {
    "duration": 7,
    "start_time": "2022-09-28T20:50:33.790Z"
   },
   {
    "duration": 14,
    "start_time": "2022-09-28T20:50:33.820Z"
   },
   {
    "duration": 17,
    "start_time": "2022-09-28T20:50:33.836Z"
   },
   {
    "duration": 8,
    "start_time": "2022-09-28T20:50:33.857Z"
   },
   {
    "duration": 9,
    "start_time": "2022-09-28T20:50:33.867Z"
   },
   {
    "duration": 45,
    "start_time": "2022-09-28T20:50:33.878Z"
   },
   {
    "duration": 14,
    "start_time": "2022-09-28T20:50:33.925Z"
   },
   {
    "duration": 8,
    "start_time": "2022-09-28T20:50:33.941Z"
   },
   {
    "duration": 15,
    "start_time": "2022-09-28T20:50:33.950Z"
   },
   {
    "duration": 4,
    "start_time": "2022-09-28T20:50:33.967Z"
   },
   {
    "duration": 20,
    "start_time": "2022-09-28T20:50:33.972Z"
   },
   {
    "duration": 47,
    "start_time": "2022-09-28T20:50:33.994Z"
   },
   {
    "duration": 21,
    "start_time": "2022-09-28T20:50:34.043Z"
   },
   {
    "duration": 4,
    "start_time": "2022-09-28T20:50:34.066Z"
   },
   {
    "duration": 18,
    "start_time": "2022-09-28T20:50:34.071Z"
   },
   {
    "duration": 50,
    "start_time": "2022-09-28T20:50:34.091Z"
   },
   {
    "duration": 42,
    "start_time": "2022-09-28T20:50:34.142Z"
   },
   {
    "duration": 29,
    "start_time": "2022-09-28T20:51:12.392Z"
   },
   {
    "duration": 11,
    "start_time": "2022-09-28T20:51:28.871Z"
   },
   {
    "duration": 11,
    "start_time": "2022-09-28T20:51:32.096Z"
   },
   {
    "duration": 7,
    "start_time": "2022-09-28T20:51:37.973Z"
   },
   {
    "duration": 23,
    "start_time": "2022-09-28T20:51:39.767Z"
   },
   {
    "duration": 10,
    "start_time": "2022-09-28T20:52:09.148Z"
   },
   {
    "duration": 14,
    "start_time": "2022-09-28T20:52:18.112Z"
   },
   {
    "duration": 39,
    "start_time": "2022-09-28T20:52:29.972Z"
   },
   {
    "duration": 41,
    "start_time": "2022-09-28T20:54:25.922Z"
   },
   {
    "duration": 14,
    "start_time": "2022-09-28T20:54:37.541Z"
   },
   {
    "duration": 25,
    "start_time": "2022-09-28T20:55:18.687Z"
   },
   {
    "duration": 3,
    "start_time": "2022-09-28T20:59:28.262Z"
   },
   {
    "duration": 5,
    "start_time": "2022-09-28T20:59:51.035Z"
   },
   {
    "duration": 5,
    "start_time": "2022-09-28T21:00:03.334Z"
   },
   {
    "duration": 5,
    "start_time": "2022-09-28T21:00:12.626Z"
   },
   {
    "duration": 3,
    "start_time": "2022-09-28T21:02:06.974Z"
   },
   {
    "duration": 115,
    "start_time": "2022-09-28T21:02:20.264Z"
   },
   {
    "duration": 971,
    "start_time": "2022-09-28T21:02:40.544Z"
   },
   {
    "duration": 52,
    "start_time": "2022-09-28T21:03:05.113Z"
   },
   {
    "duration": 14,
    "start_time": "2022-09-28T21:04:12.084Z"
   },
   {
    "duration": 10,
    "start_time": "2022-09-28T21:04:55.815Z"
   },
   {
    "duration": 4,
    "start_time": "2022-09-28T21:05:03.542Z"
   },
   {
    "duration": 14,
    "start_time": "2022-09-28T21:05:14.918Z"
   },
   {
    "duration": 5,
    "start_time": "2022-09-28T21:05:32.502Z"
   },
   {
    "duration": 110,
    "start_time": "2022-09-28T21:05:32.508Z"
   },
   {
    "duration": 12,
    "start_time": "2022-09-28T21:05:32.620Z"
   },
   {
    "duration": 16,
    "start_time": "2022-09-28T21:05:32.635Z"
   },
   {
    "duration": 12,
    "start_time": "2022-09-28T21:05:32.653Z"
   },
   {
    "duration": 15,
    "start_time": "2022-09-28T21:05:32.667Z"
   },
   {
    "duration": 53,
    "start_time": "2022-09-28T21:05:32.684Z"
   },
   {
    "duration": 12,
    "start_time": "2022-09-28T21:05:32.739Z"
   },
   {
    "duration": 12,
    "start_time": "2022-09-28T21:05:32.753Z"
   },
   {
    "duration": 17,
    "start_time": "2022-09-28T21:05:32.767Z"
   },
   {
    "duration": 7,
    "start_time": "2022-09-28T21:05:32.785Z"
   },
   {
    "duration": 14,
    "start_time": "2022-09-28T21:05:32.821Z"
   },
   {
    "duration": 25,
    "start_time": "2022-09-28T21:05:32.837Z"
   },
   {
    "duration": 9,
    "start_time": "2022-09-28T21:05:32.864Z"
   },
   {
    "duration": 10,
    "start_time": "2022-09-28T21:05:32.874Z"
   },
   {
    "duration": 14,
    "start_time": "2022-09-28T21:05:32.885Z"
   },
   {
    "duration": 23,
    "start_time": "2022-09-28T21:05:32.900Z"
   },
   {
    "duration": 6,
    "start_time": "2022-09-28T21:05:32.924Z"
   },
   {
    "duration": 18,
    "start_time": "2022-09-28T21:05:32.931Z"
   },
   {
    "duration": 4,
    "start_time": "2022-09-28T21:05:32.950Z"
   },
   {
    "duration": 20,
    "start_time": "2022-09-28T21:05:32.955Z"
   },
   {
    "duration": 50,
    "start_time": "2022-09-28T21:05:32.976Z"
   },
   {
    "duration": 22,
    "start_time": "2022-09-28T21:05:33.028Z"
   },
   {
    "duration": 4,
    "start_time": "2022-09-28T21:05:33.053Z"
   },
   {
    "duration": 37,
    "start_time": "2022-09-28T21:05:33.059Z"
   },
   {
    "duration": 40,
    "start_time": "2022-09-28T21:05:33.098Z"
   },
   {
    "duration": 39,
    "start_time": "2022-09-28T21:05:33.140Z"
   },
   {
    "duration": 8,
    "start_time": "2022-09-28T21:05:33.181Z"
   },
   {
    "duration": 30,
    "start_time": "2022-09-28T21:05:33.191Z"
   },
   {
    "duration": 23,
    "start_time": "2022-09-28T21:05:33.223Z"
   },
   {
    "duration": 18,
    "start_time": "2022-09-28T21:05:33.247Z"
   },
   {
    "duration": 33,
    "start_time": "2022-09-28T21:05:33.267Z"
   },
   {
    "duration": 5,
    "start_time": "2022-09-28T21:06:30.176Z"
   },
   {
    "duration": 145,
    "start_time": "2022-09-28T21:06:30.183Z"
   },
   {
    "duration": 13,
    "start_time": "2022-09-28T21:06:30.329Z"
   },
   {
    "duration": 49,
    "start_time": "2022-09-28T21:06:30.344Z"
   },
   {
    "duration": 17,
    "start_time": "2022-09-28T21:06:30.395Z"
   },
   {
    "duration": 62,
    "start_time": "2022-09-28T21:06:30.414Z"
   },
   {
    "duration": 50,
    "start_time": "2022-09-28T21:06:30.478Z"
   },
   {
    "duration": 29,
    "start_time": "2022-09-28T21:06:30.531Z"
   },
   {
    "duration": 43,
    "start_time": "2022-09-28T21:06:30.563Z"
   },
   {
    "duration": 78,
    "start_time": "2022-09-28T21:06:30.608Z"
   },
   {
    "duration": 26,
    "start_time": "2022-09-28T21:06:30.688Z"
   },
   {
    "duration": 48,
    "start_time": "2022-09-28T21:06:30.716Z"
   },
   {
    "duration": 32,
    "start_time": "2022-09-28T21:06:30.765Z"
   },
   {
    "duration": 40,
    "start_time": "2022-09-28T21:06:30.799Z"
   },
   {
    "duration": 34,
    "start_time": "2022-09-28T21:06:30.841Z"
   },
   {
    "duration": 65,
    "start_time": "2022-09-28T21:06:30.876Z"
   },
   {
    "duration": 30,
    "start_time": "2022-09-28T21:06:30.942Z"
   },
   {
    "duration": 35,
    "start_time": "2022-09-28T21:06:30.974Z"
   },
   {
    "duration": 39,
    "start_time": "2022-09-28T21:06:31.011Z"
   },
   {
    "duration": 25,
    "start_time": "2022-09-28T21:06:31.052Z"
   },
   {
    "duration": 27,
    "start_time": "2022-09-28T21:06:31.079Z"
   },
   {
    "duration": 66,
    "start_time": "2022-09-28T21:06:31.108Z"
   },
   {
    "duration": 30,
    "start_time": "2022-09-28T21:06:31.176Z"
   },
   {
    "duration": 4,
    "start_time": "2022-09-28T21:06:31.210Z"
   },
   {
    "duration": 39,
    "start_time": "2022-09-28T21:06:31.216Z"
   },
   {
    "duration": 51,
    "start_time": "2022-09-28T21:06:31.257Z"
   },
   {
    "duration": 56,
    "start_time": "2022-09-28T21:06:31.309Z"
   },
   {
    "duration": 9,
    "start_time": "2022-09-28T21:06:31.368Z"
   },
   {
    "duration": 21,
    "start_time": "2022-09-28T21:06:31.379Z"
   },
   {
    "duration": 30,
    "start_time": "2022-09-28T21:06:31.402Z"
   },
   {
    "duration": 31,
    "start_time": "2022-09-28T21:06:31.434Z"
   },
   {
    "duration": 14,
    "start_time": "2022-09-28T21:06:31.467Z"
   },
   {
    "duration": 31,
    "start_time": "2022-09-28T21:06:31.483Z"
   },
   {
    "duration": 38,
    "start_time": "2022-09-28T21:06:31.516Z"
   },
   {
    "duration": 64,
    "start_time": "2022-09-28T21:06:31.556Z"
   },
   {
    "duration": 14,
    "start_time": "2022-09-28T21:06:31.623Z"
   },
   {
    "duration": 69,
    "start_time": "2022-09-28T21:06:31.639Z"
   },
   {
    "duration": 5,
    "start_time": "2022-09-28T21:06:31.710Z"
   },
   {
    "duration": 36,
    "start_time": "2022-09-28T21:06:31.717Z"
   },
   {
    "duration": 26,
    "start_time": "2022-09-28T21:06:31.755Z"
   },
   {
    "duration": 23,
    "start_time": "2022-09-28T21:06:31.783Z"
   },
   {
    "duration": 43,
    "start_time": "2022-09-28T21:06:31.809Z"
   },
   {
    "duration": 13,
    "start_time": "2022-09-28T21:06:31.854Z"
   },
   {
    "duration": 28,
    "start_time": "2022-09-28T21:06:31.869Z"
   },
   {
    "duration": 1473,
    "start_time": "2022-09-28T21:14:36.560Z"
   },
   {
    "duration": 106,
    "start_time": "2022-09-28T21:14:38.035Z"
   },
   {
    "duration": 15,
    "start_time": "2022-09-28T21:14:38.143Z"
   },
   {
    "duration": 23,
    "start_time": "2022-09-28T21:14:38.160Z"
   },
   {
    "duration": 12,
    "start_time": "2022-09-28T21:14:38.185Z"
   },
   {
    "duration": 14,
    "start_time": "2022-09-28T21:14:38.199Z"
   },
   {
    "duration": 31,
    "start_time": "2022-09-28T21:14:38.221Z"
   },
   {
    "duration": 12,
    "start_time": "2022-09-28T21:14:38.254Z"
   },
   {
    "duration": 34,
    "start_time": "2022-09-28T21:14:38.268Z"
   },
   {
    "duration": 25,
    "start_time": "2022-09-28T21:14:38.304Z"
   },
   {
    "duration": 7,
    "start_time": "2022-09-28T21:14:38.331Z"
   },
   {
    "duration": 17,
    "start_time": "2022-09-28T21:14:38.339Z"
   },
   {
    "duration": 15,
    "start_time": "2022-09-28T21:14:38.357Z"
   },
   {
    "duration": 11,
    "start_time": "2022-09-28T21:14:38.374Z"
   },
   {
    "duration": 33,
    "start_time": "2022-09-28T21:14:38.387Z"
   },
   {
    "duration": 18,
    "start_time": "2022-09-28T21:14:38.422Z"
   },
   {
    "duration": 7,
    "start_time": "2022-09-28T21:14:38.442Z"
   },
   {
    "duration": 7,
    "start_time": "2022-09-28T21:14:38.451Z"
   },
   {
    "duration": 18,
    "start_time": "2022-09-28T21:14:38.460Z"
   },
   {
    "duration": 4,
    "start_time": "2022-09-28T21:14:38.480Z"
   },
   {
    "duration": 39,
    "start_time": "2022-09-28T21:14:38.485Z"
   },
   {
    "duration": 27,
    "start_time": "2022-09-28T21:14:38.525Z"
   },
   {
    "duration": 22,
    "start_time": "2022-09-28T21:14:38.554Z"
   },
   {
    "duration": 4,
    "start_time": "2022-09-28T21:14:38.578Z"
   },
   {
    "duration": 44,
    "start_time": "2022-09-28T21:14:38.584Z"
   },
   {
    "duration": 30,
    "start_time": "2022-09-28T21:14:38.630Z"
   },
   {
    "duration": 60,
    "start_time": "2022-09-28T21:14:38.662Z"
   },
   {
    "duration": 10,
    "start_time": "2022-09-28T21:14:38.724Z"
   },
   {
    "duration": 10,
    "start_time": "2022-09-28T21:14:38.736Z"
   },
   {
    "duration": 6,
    "start_time": "2022-09-28T21:14:47.377Z"
   },
   {
    "duration": 2,
    "start_time": "2022-09-28T21:14:57.840Z"
   },
   {
    "duration": 5,
    "start_time": "2022-09-28T21:14:58.409Z"
   },
   {
    "duration": 14,
    "start_time": "2022-09-28T21:15:26.254Z"
   },
   {
    "duration": 5,
    "start_time": "2022-09-28T21:15:50.483Z"
   },
   {
    "duration": 14,
    "start_time": "2022-09-28T21:16:44.274Z"
   },
   {
    "duration": 26,
    "start_time": "2022-09-28T21:16:49.329Z"
   },
   {
    "duration": 4,
    "start_time": "2022-09-28T21:18:17.195Z"
   },
   {
    "duration": 7,
    "start_time": "2022-09-28T21:18:18.006Z"
   },
   {
    "duration": 6,
    "start_time": "2022-09-28T21:18:23.805Z"
   },
   {
    "duration": 6,
    "start_time": "2022-09-28T21:20:51.451Z"
   },
   {
    "duration": 6,
    "start_time": "2022-09-28T21:20:55.421Z"
   },
   {
    "duration": 7,
    "start_time": "2022-09-28T21:21:18.758Z"
   },
   {
    "duration": 5,
    "start_time": "2022-09-28T21:21:19.484Z"
   },
   {
    "duration": 7,
    "start_time": "2022-09-28T21:22:12.288Z"
   },
   {
    "duration": 7,
    "start_time": "2022-09-28T21:22:40.364Z"
   },
   {
    "duration": 7,
    "start_time": "2022-09-28T21:22:41.695Z"
   },
   {
    "duration": 9,
    "start_time": "2022-09-28T21:24:04.854Z"
   },
   {
    "duration": 6,
    "start_time": "2022-09-28T21:24:44.038Z"
   },
   {
    "duration": 12,
    "start_time": "2022-09-28T21:26:32.722Z"
   },
   {
    "duration": 6,
    "start_time": "2022-09-28T21:28:13.618Z"
   },
   {
    "duration": 7,
    "start_time": "2022-09-28T21:28:27.540Z"
   },
   {
    "duration": 11,
    "start_time": "2022-09-28T21:33:38.230Z"
   },
   {
    "duration": 6,
    "start_time": "2022-09-28T21:33:39.164Z"
   },
   {
    "duration": 16,
    "start_time": "2022-09-28T21:33:40.572Z"
   },
   {
    "duration": 111,
    "start_time": "2022-09-28T21:45:34.831Z"
   },
   {
    "duration": 20,
    "start_time": "2022-09-28T21:45:40.858Z"
   },
   {
    "duration": 20,
    "start_time": "2022-09-28T21:47:04.212Z"
   },
   {
    "duration": 11,
    "start_time": "2022-09-28T22:01:29.580Z"
   },
   {
    "duration": 24,
    "start_time": "2022-09-28T22:01:35.012Z"
   },
   {
    "duration": 10,
    "start_time": "2022-09-28T22:01:39.198Z"
   },
   {
    "duration": 5,
    "start_time": "2022-09-28T22:01:47.628Z"
   },
   {
    "duration": 13,
    "start_time": "2022-09-28T22:01:49.201Z"
   },
   {
    "duration": 10,
    "start_time": "2022-09-28T22:01:50.183Z"
   },
   {
    "duration": 4,
    "start_time": "2022-09-28T22:27:36.520Z"
   },
   {
    "duration": 112,
    "start_time": "2022-09-28T22:27:36.526Z"
   },
   {
    "duration": 13,
    "start_time": "2022-09-28T22:27:36.640Z"
   },
   {
    "duration": 14,
    "start_time": "2022-09-28T22:27:36.654Z"
   },
   {
    "duration": 12,
    "start_time": "2022-09-28T22:27:36.671Z"
   },
   {
    "duration": 15,
    "start_time": "2022-09-28T22:27:36.684Z"
   },
   {
    "duration": 38,
    "start_time": "2022-09-28T22:27:36.701Z"
   },
   {
    "duration": 11,
    "start_time": "2022-09-28T22:27:36.741Z"
   },
   {
    "duration": 13,
    "start_time": "2022-09-28T22:27:36.754Z"
   },
   {
    "duration": 20,
    "start_time": "2022-09-28T22:27:36.768Z"
   },
   {
    "duration": 31,
    "start_time": "2022-09-28T22:27:36.790Z"
   },
   {
    "duration": 16,
    "start_time": "2022-09-28T22:27:36.823Z"
   },
   {
    "duration": 14,
    "start_time": "2022-09-28T22:27:36.841Z"
   },
   {
    "duration": 9,
    "start_time": "2022-09-28T22:27:36.858Z"
   },
   {
    "duration": 10,
    "start_time": "2022-09-28T22:27:36.868Z"
   },
   {
    "duration": 21,
    "start_time": "2022-09-28T22:27:36.879Z"
   },
   {
    "duration": 7,
    "start_time": "2022-09-28T22:27:36.921Z"
   },
   {
    "duration": 9,
    "start_time": "2022-09-28T22:27:36.930Z"
   },
   {
    "duration": 14,
    "start_time": "2022-09-28T22:27:36.941Z"
   },
   {
    "duration": 4,
    "start_time": "2022-09-28T22:27:36.957Z"
   },
   {
    "duration": 19,
    "start_time": "2022-09-28T22:27:36.963Z"
   },
   {
    "duration": 49,
    "start_time": "2022-09-28T22:27:36.984Z"
   },
   {
    "duration": 22,
    "start_time": "2022-09-28T22:27:37.035Z"
   },
   {
    "duration": 4,
    "start_time": "2022-09-28T22:27:37.058Z"
   },
   {
    "duration": 16,
    "start_time": "2022-09-28T22:27:37.064Z"
   },
   {
    "duration": 55,
    "start_time": "2022-09-28T22:27:37.081Z"
   },
   {
    "duration": 40,
    "start_time": "2022-09-28T22:27:37.138Z"
   },
   {
    "duration": 8,
    "start_time": "2022-09-28T22:27:37.180Z"
   },
   {
    "duration": 32,
    "start_time": "2022-09-28T22:27:37.190Z"
   },
   {
    "duration": 7,
    "start_time": "2022-09-28T22:27:37.224Z"
   },
   {
    "duration": 12,
    "start_time": "2022-09-28T22:27:37.232Z"
   },
   {
    "duration": 15,
    "start_time": "2022-09-28T22:27:37.246Z"
   },
   {
    "duration": 20,
    "start_time": "2022-09-28T22:27:37.263Z"
   },
   {
    "duration": 42,
    "start_time": "2022-09-28T22:27:37.285Z"
   },
   {
    "duration": 6,
    "start_time": "2022-09-28T22:27:51.034Z"
   },
   {
    "duration": 18,
    "start_time": "2022-09-28T22:27:52.180Z"
   },
   {
    "duration": 5,
    "start_time": "2022-09-28T22:38:39.727Z"
   },
   {
    "duration": 37,
    "start_time": "2022-09-28T22:39:12.288Z"
   },
   {
    "duration": 13,
    "start_time": "2022-09-28T22:39:32.688Z"
   },
   {
    "duration": 37,
    "start_time": "2022-09-28T23:01:45.116Z"
   },
   {
    "duration": 14,
    "start_time": "2022-09-28T23:01:51.052Z"
   },
   {
    "duration": 39,
    "start_time": "2022-09-28T23:01:56.915Z"
   },
   {
    "duration": 11,
    "start_time": "2022-09-28T23:02:31.702Z"
   },
   {
    "duration": 7,
    "start_time": "2022-09-28T23:05:03.193Z"
   },
   {
    "duration": 10,
    "start_time": "2022-09-28T23:09:38.705Z"
   },
   {
    "duration": 10,
    "start_time": "2022-09-28T23:09:43.124Z"
   },
   {
    "duration": 4,
    "start_time": "2022-09-28T23:21:48.562Z"
   },
   {
    "duration": 130,
    "start_time": "2022-09-28T23:21:48.572Z"
   },
   {
    "duration": 12,
    "start_time": "2022-09-28T23:21:48.704Z"
   },
   {
    "duration": 18,
    "start_time": "2022-09-28T23:21:48.718Z"
   },
   {
    "duration": 12,
    "start_time": "2022-09-28T23:21:48.738Z"
   },
   {
    "duration": 17,
    "start_time": "2022-09-28T23:21:48.752Z"
   },
   {
    "duration": 30,
    "start_time": "2022-09-28T23:21:48.771Z"
   },
   {
    "duration": 19,
    "start_time": "2022-09-28T23:21:48.803Z"
   },
   {
    "duration": 11,
    "start_time": "2022-09-28T23:21:48.824Z"
   },
   {
    "duration": 24,
    "start_time": "2022-09-28T23:21:48.836Z"
   },
   {
    "duration": 16,
    "start_time": "2022-09-28T23:21:48.862Z"
   },
   {
    "duration": 39,
    "start_time": "2022-09-28T23:21:48.881Z"
   },
   {
    "duration": 17,
    "start_time": "2022-09-28T23:21:48.922Z"
   },
   {
    "duration": 13,
    "start_time": "2022-09-28T23:21:48.941Z"
   },
   {
    "duration": 30,
    "start_time": "2022-09-28T23:21:48.958Z"
   },
   {
    "duration": 17,
    "start_time": "2022-09-28T23:21:48.991Z"
   },
   {
    "duration": 14,
    "start_time": "2022-09-28T23:21:49.011Z"
   },
   {
    "duration": 9,
    "start_time": "2022-09-28T23:21:49.027Z"
   },
   {
    "duration": 21,
    "start_time": "2022-09-28T23:21:49.038Z"
   },
   {
    "duration": 4,
    "start_time": "2022-09-28T23:21:49.062Z"
   },
   {
    "duration": 42,
    "start_time": "2022-09-28T23:21:49.068Z"
   },
   {
    "duration": 33,
    "start_time": "2022-09-28T23:21:49.112Z"
   },
   {
    "duration": 25,
    "start_time": "2022-09-28T23:21:49.147Z"
   },
   {
    "duration": 5,
    "start_time": "2022-09-28T23:21:49.173Z"
   },
   {
    "duration": 21,
    "start_time": "2022-09-28T23:21:49.180Z"
   },
   {
    "duration": 28,
    "start_time": "2022-09-28T23:21:49.221Z"
   },
   {
    "duration": 41,
    "start_time": "2022-09-28T23:21:49.251Z"
   },
   {
    "duration": 31,
    "start_time": "2022-09-28T23:21:49.294Z"
   },
   {
    "duration": 10,
    "start_time": "2022-09-28T23:21:49.327Z"
   },
   {
    "duration": 11,
    "start_time": "2022-09-28T23:21:49.338Z"
   },
   {
    "duration": 13,
    "start_time": "2022-09-28T23:21:49.351Z"
   },
   {
    "duration": 23,
    "start_time": "2022-09-28T23:21:49.366Z"
   },
   {
    "duration": 40,
    "start_time": "2022-09-28T23:21:49.391Z"
   },
   {
    "duration": 24,
    "start_time": "2022-09-28T23:21:49.433Z"
   },
   {
    "duration": 4,
    "start_time": "2022-09-28T23:21:49.459Z"
   },
   {
    "duration": 10,
    "start_time": "2022-09-28T23:21:49.465Z"
   },
   {
    "duration": 21,
    "start_time": "2022-09-28T23:21:49.476Z"
   },
   {
    "duration": 43,
    "start_time": "2022-09-28T23:21:49.499Z"
   },
   {
    "duration": 13,
    "start_time": "2022-09-28T23:21:49.544Z"
   },
   {
    "duration": 36,
    "start_time": "2022-09-28T23:21:49.559Z"
   },
   {
    "duration": 30,
    "start_time": "2022-09-28T23:21:49.597Z"
   },
   {
    "duration": 3,
    "start_time": "2022-09-28T23:23:11.780Z"
   },
   {
    "duration": 3,
    "start_time": "2022-09-28T23:23:12.585Z"
   },
   {
    "duration": 54,
    "start_time": "2022-09-28T23:33:56.933Z"
   },
   {
    "duration": 1439,
    "start_time": "2022-09-28T23:34:03.015Z"
   },
   {
    "duration": 104,
    "start_time": "2022-09-28T23:34:04.456Z"
   },
   {
    "duration": 14,
    "start_time": "2022-09-28T23:34:04.561Z"
   },
   {
    "duration": 15,
    "start_time": "2022-09-28T23:34:04.577Z"
   },
   {
    "duration": 12,
    "start_time": "2022-09-28T23:34:04.594Z"
   },
   {
    "duration": 13,
    "start_time": "2022-09-28T23:34:04.607Z"
   },
   {
    "duration": 27,
    "start_time": "2022-09-28T23:34:04.622Z"
   },
   {
    "duration": 11,
    "start_time": "2022-09-28T23:34:04.651Z"
   },
   {
    "duration": 12,
    "start_time": "2022-09-28T23:34:04.663Z"
   },
   {
    "duration": 15,
    "start_time": "2022-09-28T23:34:04.678Z"
   },
   {
    "duration": 7,
    "start_time": "2022-09-28T23:34:04.720Z"
   },
   {
    "duration": 12,
    "start_time": "2022-09-28T23:34:04.729Z"
   },
   {
    "duration": 14,
    "start_time": "2022-09-28T23:34:04.743Z"
   },
   {
    "duration": 11,
    "start_time": "2022-09-28T23:34:04.758Z"
   },
   {
    "duration": 10,
    "start_time": "2022-09-28T23:34:04.770Z"
   },
   {
    "duration": 38,
    "start_time": "2022-09-28T23:34:04.782Z"
   },
   {
    "duration": 6,
    "start_time": "2022-09-28T23:34:04.822Z"
   },
   {
    "duration": 9,
    "start_time": "2022-09-28T23:34:04.829Z"
   },
   {
    "duration": 14,
    "start_time": "2022-09-28T23:34:04.840Z"
   },
   {
    "duration": 4,
    "start_time": "2022-09-28T23:34:04.856Z"
   },
   {
    "duration": 21,
    "start_time": "2022-09-28T23:34:04.861Z"
   },
   {
    "duration": 49,
    "start_time": "2022-09-28T23:34:04.883Z"
   },
   {
    "duration": 23,
    "start_time": "2022-09-28T23:34:04.933Z"
   },
   {
    "duration": 4,
    "start_time": "2022-09-28T23:34:04.958Z"
   },
   {
    "duration": 17,
    "start_time": "2022-09-28T23:34:04.963Z"
   },
   {
    "duration": 53,
    "start_time": "2022-09-28T23:34:04.982Z"
   },
   {
    "duration": 43,
    "start_time": "2022-09-28T23:34:05.037Z"
   },
   {
    "duration": 9,
    "start_time": "2022-09-28T23:34:05.083Z"
   },
   {
    "duration": 31,
    "start_time": "2022-09-28T23:34:05.094Z"
   },
   {
    "duration": 6,
    "start_time": "2022-09-28T23:34:05.127Z"
   },
   {
    "duration": 6,
    "start_time": "2022-09-28T23:34:13.088Z"
   },
   {
    "duration": 12,
    "start_time": "2022-09-28T23:36:10.658Z"
   },
   {
    "duration": 15,
    "start_time": "2022-09-28T23:36:43.218Z"
   },
   {
    "duration": 3,
    "start_time": "2022-09-28T23:37:58.046Z"
   },
   {
    "duration": 3,
    "start_time": "2022-09-28T23:37:58.782Z"
   },
   {
    "duration": 126,
    "start_time": "2022-09-28T23:38:00.371Z"
   },
   {
    "duration": 4,
    "start_time": "2022-09-28T23:38:11.397Z"
   },
   {
    "duration": 114,
    "start_time": "2022-09-28T23:38:11.403Z"
   },
   {
    "duration": 13,
    "start_time": "2022-09-28T23:38:11.520Z"
   },
   {
    "duration": 16,
    "start_time": "2022-09-28T23:38:11.535Z"
   },
   {
    "duration": 22,
    "start_time": "2022-09-28T23:38:11.553Z"
   },
   {
    "duration": 45,
    "start_time": "2022-09-28T23:38:11.577Z"
   },
   {
    "duration": 35,
    "start_time": "2022-09-28T23:38:11.624Z"
   },
   {
    "duration": 11,
    "start_time": "2022-09-28T23:38:11.661Z"
   },
   {
    "duration": 13,
    "start_time": "2022-09-28T23:38:11.675Z"
   },
   {
    "duration": 36,
    "start_time": "2022-09-28T23:38:11.690Z"
   },
   {
    "duration": 7,
    "start_time": "2022-09-28T23:38:11.730Z"
   },
   {
    "duration": 13,
    "start_time": "2022-09-28T23:38:11.739Z"
   },
   {
    "duration": 14,
    "start_time": "2022-09-28T23:38:11.754Z"
   },
   {
    "duration": 9,
    "start_time": "2022-09-28T23:38:11.770Z"
   },
   {
    "duration": 43,
    "start_time": "2022-09-28T23:38:11.781Z"
   },
   {
    "duration": 20,
    "start_time": "2022-09-28T23:38:11.826Z"
   },
   {
    "duration": 9,
    "start_time": "2022-09-28T23:38:11.847Z"
   },
   {
    "duration": 8,
    "start_time": "2022-09-28T23:38:11.858Z"
   },
   {
    "duration": 13,
    "start_time": "2022-09-28T23:38:11.868Z"
   },
   {
    "duration": 4,
    "start_time": "2022-09-28T23:38:11.883Z"
   },
   {
    "duration": 36,
    "start_time": "2022-09-28T23:38:11.888Z"
   },
   {
    "duration": 25,
    "start_time": "2022-09-28T23:38:11.925Z"
   },
   {
    "duration": 22,
    "start_time": "2022-09-28T23:38:11.952Z"
   },
   {
    "duration": 4,
    "start_time": "2022-09-28T23:38:11.975Z"
   },
   {
    "duration": 41,
    "start_time": "2022-09-28T23:38:11.981Z"
   },
   {
    "duration": 29,
    "start_time": "2022-09-28T23:38:12.023Z"
   },
   {
    "duration": 41,
    "start_time": "2022-09-28T23:38:12.054Z"
   },
   {
    "duration": 24,
    "start_time": "2022-09-28T23:38:12.097Z"
   },
   {
    "duration": 10,
    "start_time": "2022-09-28T23:38:12.124Z"
   },
   {
    "duration": 9,
    "start_time": "2022-09-28T23:38:12.136Z"
   },
   {
    "duration": 12,
    "start_time": "2022-09-28T23:38:12.147Z"
   },
   {
    "duration": 13,
    "start_time": "2022-09-28T23:38:12.161Z"
   },
   {
    "duration": 46,
    "start_time": "2022-09-28T23:38:12.175Z"
   },
   {
    "duration": 21,
    "start_time": "2022-09-28T23:38:12.223Z"
   },
   {
    "duration": 9,
    "start_time": "2022-09-28T23:38:12.245Z"
   },
   {
    "duration": 10,
    "start_time": "2022-09-28T23:38:12.256Z"
   },
   {
    "duration": 17,
    "start_time": "2022-09-28T23:38:12.267Z"
   },
   {
    "duration": 60,
    "start_time": "2022-09-28T23:38:12.286Z"
   },
   {
    "duration": 14,
    "start_time": "2022-09-28T23:38:12.348Z"
   },
   {
    "duration": 36,
    "start_time": "2022-09-28T23:38:12.364Z"
   },
   {
    "duration": 10,
    "start_time": "2022-09-28T23:38:12.420Z"
   },
   {
    "duration": 0,
    "start_time": "2022-09-28T23:38:12.432Z"
   },
   {
    "duration": 0,
    "start_time": "2022-09-28T23:38:12.433Z"
   },
   {
    "duration": 0,
    "start_time": "2022-09-28T23:38:12.434Z"
   },
   {
    "duration": 0,
    "start_time": "2022-09-28T23:38:12.435Z"
   },
   {
    "duration": 0,
    "start_time": "2022-09-28T23:38:12.437Z"
   },
   {
    "duration": 0,
    "start_time": "2022-09-28T23:38:12.438Z"
   },
   {
    "duration": 0,
    "start_time": "2022-09-28T23:38:12.439Z"
   },
   {
    "duration": 0,
    "start_time": "2022-09-28T23:38:12.440Z"
   },
   {
    "duration": 0,
    "start_time": "2022-09-28T23:38:12.441Z"
   },
   {
    "duration": 0,
    "start_time": "2022-09-28T23:38:12.442Z"
   },
   {
    "duration": 0,
    "start_time": "2022-09-28T23:38:12.443Z"
   },
   {
    "duration": 0,
    "start_time": "2022-09-28T23:38:12.443Z"
   },
   {
    "duration": 0,
    "start_time": "2022-09-28T23:38:12.445Z"
   },
   {
    "duration": 3134,
    "start_time": "2022-09-28T23:39:26.582Z"
   },
   {
    "duration": 304,
    "start_time": "2022-09-28T23:39:33.277Z"
   },
   {
    "duration": 12,
    "start_time": "2022-09-28T23:42:52.402Z"
   },
   {
    "duration": 13326,
    "start_time": "2022-09-28T23:43:32.199Z"
   },
   {
    "duration": 5,
    "start_time": "2022-09-28T23:54:57.364Z"
   },
   {
    "duration": 110,
    "start_time": "2022-09-28T23:54:57.371Z"
   },
   {
    "duration": 12,
    "start_time": "2022-09-28T23:54:57.483Z"
   },
   {
    "duration": 17,
    "start_time": "2022-09-28T23:54:57.497Z"
   },
   {
    "duration": 12,
    "start_time": "2022-09-28T23:54:57.516Z"
   },
   {
    "duration": 12,
    "start_time": "2022-09-28T23:54:57.530Z"
   },
   {
    "duration": 27,
    "start_time": "2022-09-28T23:54:57.543Z"
   },
   {
    "duration": 11,
    "start_time": "2022-09-28T23:54:57.571Z"
   },
   {
    "duration": 38,
    "start_time": "2022-09-28T23:54:57.584Z"
   },
   {
    "duration": 18,
    "start_time": "2022-09-28T23:54:57.623Z"
   },
   {
    "duration": 7,
    "start_time": "2022-09-28T23:54:57.644Z"
   },
   {
    "duration": 13,
    "start_time": "2022-09-28T23:54:57.652Z"
   },
   {
    "duration": 12,
    "start_time": "2022-09-28T23:54:57.667Z"
   },
   {
    "duration": 41,
    "start_time": "2022-09-28T23:54:57.681Z"
   },
   {
    "duration": 17,
    "start_time": "2022-09-28T23:54:57.724Z"
   },
   {
    "duration": 24,
    "start_time": "2022-09-28T23:54:57.748Z"
   },
   {
    "duration": 8,
    "start_time": "2022-09-28T23:54:57.774Z"
   },
   {
    "duration": 8,
    "start_time": "2022-09-28T23:54:57.783Z"
   },
   {
    "duration": 15,
    "start_time": "2022-09-28T23:54:57.792Z"
   },
   {
    "duration": 4,
    "start_time": "2022-09-28T23:54:57.810Z"
   },
   {
    "duration": 27,
    "start_time": "2022-09-28T23:54:57.821Z"
   },
   {
    "duration": 29,
    "start_time": "2022-09-28T23:54:57.849Z"
   },
   {
    "duration": 21,
    "start_time": "2022-09-28T23:54:57.880Z"
   },
   {
    "duration": 3,
    "start_time": "2022-09-28T23:54:57.903Z"
   },
   {
    "duration": 14,
    "start_time": "2022-09-28T23:54:57.921Z"
   },
   {
    "duration": 29,
    "start_time": "2022-09-28T23:54:57.937Z"
   },
   {
    "duration": 55,
    "start_time": "2022-09-28T23:54:57.968Z"
   },
   {
    "duration": 8,
    "start_time": "2022-09-28T23:54:58.025Z"
   },
   {
    "duration": 9,
    "start_time": "2022-09-28T23:54:58.036Z"
   },
   {
    "duration": 7,
    "start_time": "2022-09-28T23:54:58.046Z"
   },
   {
    "duration": 10,
    "start_time": "2022-09-28T23:54:58.054Z"
   },
   {
    "duration": 11,
    "start_time": "2022-09-28T23:54:58.066Z"
   },
   {
    "duration": 46,
    "start_time": "2022-09-28T23:54:58.078Z"
   },
   {
    "duration": 2084,
    "start_time": "2022-09-28T23:54:58.126Z"
   },
   {
    "duration": 4,
    "start_time": "2022-09-28T23:55:00.212Z"
   },
   {
    "duration": 13432,
    "start_time": "2022-09-28T23:55:00.217Z"
   },
   {
    "duration": 28,
    "start_time": "2022-09-28T23:55:35.193Z"
   },
   {
    "duration": 5,
    "start_time": "2022-09-28T23:58:18.822Z"
   },
   {
    "duration": 7,
    "start_time": "2022-09-28T23:58:42.260Z"
   },
   {
    "duration": 3,
    "start_time": "2022-09-29T00:00:18.616Z"
   },
   {
    "duration": 22,
    "start_time": "2022-09-29T00:05:06.575Z"
   },
   {
    "duration": 21,
    "start_time": "2022-09-29T00:05:18.462Z"
   },
   {
    "duration": 14,
    "start_time": "2022-09-29T00:06:16.926Z"
   },
   {
    "duration": 5,
    "start_time": "2022-09-29T00:06:36.347Z"
   },
   {
    "duration": 119,
    "start_time": "2022-09-29T00:06:36.354Z"
   },
   {
    "duration": 13,
    "start_time": "2022-09-29T00:06:36.475Z"
   },
   {
    "duration": 12,
    "start_time": "2022-09-29T00:06:36.490Z"
   },
   {
    "duration": 19,
    "start_time": "2022-09-29T00:06:36.504Z"
   },
   {
    "duration": 29,
    "start_time": "2022-09-29T00:06:36.525Z"
   },
   {
    "duration": 29,
    "start_time": "2022-09-29T00:06:36.556Z"
   },
   {
    "duration": 11,
    "start_time": "2022-09-29T00:06:36.587Z"
   },
   {
    "duration": 21,
    "start_time": "2022-09-29T00:06:36.600Z"
   },
   {
    "duration": 18,
    "start_time": "2022-09-29T00:06:36.623Z"
   },
   {
    "duration": 8,
    "start_time": "2022-09-29T00:06:36.643Z"
   },
   {
    "duration": 12,
    "start_time": "2022-09-29T00:06:36.653Z"
   },
   {
    "duration": 14,
    "start_time": "2022-09-29T00:06:36.667Z"
   },
   {
    "duration": 9,
    "start_time": "2022-09-29T00:06:36.683Z"
   },
   {
    "duration": 31,
    "start_time": "2022-09-29T00:06:36.694Z"
   },
   {
    "duration": 17,
    "start_time": "2022-09-29T00:06:36.727Z"
   },
   {
    "duration": 11,
    "start_time": "2022-09-29T00:06:36.746Z"
   },
   {
    "duration": 9,
    "start_time": "2022-09-29T00:06:36.759Z"
   },
   {
    "duration": 19,
    "start_time": "2022-09-29T00:06:36.769Z"
   },
   {
    "duration": 3,
    "start_time": "2022-09-29T00:06:36.790Z"
   },
   {
    "duration": 36,
    "start_time": "2022-09-29T00:06:36.795Z"
   },
   {
    "duration": 33,
    "start_time": "2022-09-29T00:06:36.834Z"
   },
   {
    "duration": 23,
    "start_time": "2022-09-29T00:06:36.868Z"
   },
   {
    "duration": 4,
    "start_time": "2022-09-29T00:06:36.893Z"
   },
   {
    "duration": 34,
    "start_time": "2022-09-29T00:06:36.898Z"
   },
   {
    "duration": 30,
    "start_time": "2022-09-29T00:06:36.934Z"
   },
   {
    "duration": 56,
    "start_time": "2022-09-29T00:06:36.966Z"
   },
   {
    "duration": 9,
    "start_time": "2022-09-29T00:06:37.023Z"
   },
   {
    "duration": 9,
    "start_time": "2022-09-29T00:06:37.035Z"
   },
   {
    "duration": 7,
    "start_time": "2022-09-29T00:06:37.046Z"
   },
   {
    "duration": 6,
    "start_time": "2022-09-29T00:06:37.055Z"
   },
   {
    "duration": 18,
    "start_time": "2022-09-29T00:06:37.063Z"
   },
   {
    "duration": 47,
    "start_time": "2022-09-29T00:06:37.083Z"
   },
   {
    "duration": 2095,
    "start_time": "2022-09-29T00:06:37.132Z"
   },
   {
    "duration": 3,
    "start_time": "2022-09-29T00:06:39.229Z"
   },
   {
    "duration": 9,
    "start_time": "2022-09-29T00:06:52.300Z"
   },
   {
    "duration": 116,
    "start_time": "2022-09-29T00:06:52.311Z"
   },
   {
    "duration": 14,
    "start_time": "2022-09-29T00:06:52.428Z"
   },
   {
    "duration": 14,
    "start_time": "2022-09-29T00:06:52.444Z"
   },
   {
    "duration": 12,
    "start_time": "2022-09-29T00:06:52.459Z"
   },
   {
    "duration": 16,
    "start_time": "2022-09-29T00:06:52.473Z"
   },
   {
    "duration": 52,
    "start_time": "2022-09-29T00:06:52.491Z"
   },
   {
    "duration": 12,
    "start_time": "2022-09-29T00:06:52.545Z"
   },
   {
    "duration": 34,
    "start_time": "2022-09-29T00:06:52.559Z"
   },
   {
    "duration": 24,
    "start_time": "2022-09-29T00:06:52.595Z"
   },
   {
    "duration": 19,
    "start_time": "2022-09-29T00:06:52.622Z"
   },
   {
    "duration": 17,
    "start_time": "2022-09-29T00:06:52.644Z"
   },
   {
    "duration": 13,
    "start_time": "2022-09-29T00:06:52.663Z"
   },
   {
    "duration": 9,
    "start_time": "2022-09-29T00:06:52.678Z"
   },
   {
    "duration": 16,
    "start_time": "2022-09-29T00:06:52.688Z"
   },
   {
    "duration": 25,
    "start_time": "2022-09-29T00:06:52.706Z"
   },
   {
    "duration": 8,
    "start_time": "2022-09-29T00:06:52.733Z"
   },
   {
    "duration": 9,
    "start_time": "2022-09-29T00:06:52.742Z"
   },
   {
    "duration": 15,
    "start_time": "2022-09-29T00:06:52.752Z"
   },
   {
    "duration": 3,
    "start_time": "2022-09-29T00:06:52.769Z"
   },
   {
    "duration": 27,
    "start_time": "2022-09-29T00:06:52.774Z"
   },
   {
    "duration": 39,
    "start_time": "2022-09-29T00:06:52.803Z"
   },
   {
    "duration": 22,
    "start_time": "2022-09-29T00:06:52.844Z"
   },
   {
    "duration": 4,
    "start_time": "2022-09-29T00:06:52.867Z"
   },
   {
    "duration": 33,
    "start_time": "2022-09-29T00:06:52.872Z"
   },
   {
    "duration": 35,
    "start_time": "2022-09-29T00:06:52.906Z"
   },
   {
    "duration": 38,
    "start_time": "2022-09-29T00:06:52.943Z"
   },
   {
    "duration": 8,
    "start_time": "2022-09-29T00:06:52.983Z"
   },
   {
    "duration": 36,
    "start_time": "2022-09-29T00:06:52.993Z"
   },
   {
    "duration": 12,
    "start_time": "2022-09-29T00:06:53.031Z"
   },
   {
    "duration": 11,
    "start_time": "2022-09-29T00:06:53.045Z"
   },
   {
    "duration": 12,
    "start_time": "2022-09-29T00:06:53.058Z"
   },
   {
    "duration": 31,
    "start_time": "2022-09-29T00:06:53.072Z"
   },
   {
    "duration": 2196,
    "start_time": "2022-09-29T00:06:53.105Z"
   },
   {
    "duration": 3,
    "start_time": "2022-09-29T00:06:55.303Z"
   },
   {
    "duration": 2853,
    "start_time": "2022-09-29T00:06:55.308Z"
   },
   {
    "duration": 5,
    "start_time": "2022-09-29T00:06:58.163Z"
   },
   {
    "duration": 22,
    "start_time": "2022-09-29T00:06:58.172Z"
   },
   {
    "duration": 27,
    "start_time": "2022-09-29T00:06:58.195Z"
   },
   {
    "duration": 26,
    "start_time": "2022-09-29T00:06:58.224Z"
   },
   {
    "duration": 21,
    "start_time": "2022-09-29T00:06:58.252Z"
   },
   {
    "duration": 15,
    "start_time": "2022-09-29T00:06:58.274Z"
   },
   {
    "duration": 3,
    "start_time": "2022-09-29T00:06:58.290Z"
   },
   {
    "duration": 42,
    "start_time": "2022-09-29T00:06:58.294Z"
   },
   {
    "duration": 3,
    "start_time": "2022-09-29T00:06:58.338Z"
   },
   {
    "duration": 26,
    "start_time": "2022-09-29T00:06:58.343Z"
   },
   {
    "duration": 407351,
    "start_time": "2022-09-29T00:06:58.371Z"
   },
   {
    "duration": 4,
    "start_time": "2022-09-29T00:13:45.724Z"
   },
   {
    "duration": 4,
    "start_time": "2022-09-29T00:13:52.827Z"
   },
   {
    "duration": 11,
    "start_time": "2022-09-29T00:13:53.654Z"
   },
   {
    "duration": 416058,
    "start_time": "2022-09-29T00:14:35.416Z"
   },
   {
    "duration": 4,
    "start_time": "2022-09-29T00:24:20.273Z"
   },
   {
    "duration": 4,
    "start_time": "2022-09-29T00:24:21.708Z"
   },
   {
    "duration": 3,
    "start_time": "2022-09-29T00:25:40.952Z"
   },
   {
    "duration": 3,
    "start_time": "2022-09-29T00:25:41.615Z"
   },
   {
    "duration": 61,
    "start_time": "2022-09-29T00:25:42.542Z"
   },
   {
    "duration": 2,
    "start_time": "2022-09-29T00:25:55.384Z"
   },
   {
    "duration": 3,
    "start_time": "2022-09-29T00:25:56.018Z"
   },
   {
    "duration": 412091,
    "start_time": "2022-09-29T00:26:47.531Z"
   },
   {
    "duration": 4,
    "start_time": "2022-09-29T00:35:17.045Z"
   },
   {
    "duration": 4,
    "start_time": "2022-09-29T00:35:19.601Z"
   },
   {
    "duration": 3,
    "start_time": "2022-09-29T00:35:24.176Z"
   },
   {
    "duration": 3,
    "start_time": "2022-09-29T00:35:27.529Z"
   },
   {
    "duration": 1257419,
    "start_time": "2022-09-29T00:35:29.171Z"
   },
   {
    "duration": 4,
    "start_time": "2022-09-29T00:57:35.906Z"
   },
   {
    "duration": 4,
    "start_time": "2022-09-29T00:57:38.569Z"
   },
   {
    "duration": 2,
    "start_time": "2022-09-29T00:57:58.116Z"
   },
   {
    "duration": 25169,
    "start_time": "2022-09-29T00:57:59.660Z"
   },
   {
    "duration": 4,
    "start_time": "2022-09-29T00:58:32.047Z"
   },
   {
    "duration": 4,
    "start_time": "2022-09-29T00:58:33.942Z"
   },
   {
    "duration": 3,
    "start_time": "2022-09-29T01:00:29.602Z"
   },
   {
    "duration": 2063,
    "start_time": "2022-09-29T01:00:33.797Z"
   },
   {
    "duration": 4128,
    "start_time": "2022-09-29T01:00:40.528Z"
   },
   {
    "duration": 2105,
    "start_time": "2022-09-29T01:01:01.920Z"
   },
   {
    "duration": 3,
    "start_time": "2022-09-29T01:02:02.848Z"
   },
   {
    "duration": 1973,
    "start_time": "2022-09-29T01:03:33.895Z"
   },
   {
    "duration": 3,
    "start_time": "2022-09-29T01:05:35.371Z"
   },
   {
    "duration": 10,
    "start_time": "2022-09-29T01:05:36.634Z"
   },
   {
    "duration": 3,
    "start_time": "2022-09-29T01:05:41.961Z"
   },
   {
    "duration": 4,
    "start_time": "2022-09-29T01:05:45.260Z"
   },
   {
    "duration": 3,
    "start_time": "2022-09-29T01:05:46.252Z"
   },
   {
    "duration": 3,
    "start_time": "2022-09-29T01:05:53.631Z"
   },
   {
    "duration": 4,
    "start_time": "2022-09-29T01:05:54.895Z"
   },
   {
    "duration": 2,
    "start_time": "2022-09-29T01:05:55.714Z"
   },
   {
    "duration": 3,
    "start_time": "2022-09-29T01:09:30.382Z"
   },
   {
    "duration": 225,
    "start_time": "2022-09-29T01:10:07.997Z"
   },
   {
    "duration": 2,
    "start_time": "2022-09-29T01:10:12.620Z"
   },
   {
    "duration": 289,
    "start_time": "2022-09-29T01:10:13.436Z"
   },
   {
    "duration": 10,
    "start_time": "2022-09-29T01:10:56.858Z"
   },
   {
    "duration": 18,
    "start_time": "2022-09-29T01:11:03.410Z"
   },
   {
    "duration": 22,
    "start_time": "2022-09-29T01:13:01.063Z"
   },
   {
    "duration": 18,
    "start_time": "2022-09-29T01:13:02.560Z"
   },
   {
    "duration": 3,
    "start_time": "2022-09-29T01:13:07.752Z"
   },
   {
    "duration": 5,
    "start_time": "2022-09-29T01:13:41.231Z"
   },
   {
    "duration": 108,
    "start_time": "2022-09-29T01:13:41.238Z"
   },
   {
    "duration": 13,
    "start_time": "2022-09-29T01:13:41.348Z"
   },
   {
    "duration": 12,
    "start_time": "2022-09-29T01:13:41.362Z"
   },
   {
    "duration": 11,
    "start_time": "2022-09-29T01:13:41.376Z"
   },
   {
    "duration": 12,
    "start_time": "2022-09-29T01:13:41.389Z"
   },
   {
    "duration": 45,
    "start_time": "2022-09-29T01:13:41.403Z"
   },
   {
    "duration": 11,
    "start_time": "2022-09-29T01:13:41.449Z"
   },
   {
    "duration": 15,
    "start_time": "2022-09-29T01:13:41.462Z"
   },
   {
    "duration": 44,
    "start_time": "2022-09-29T01:13:41.479Z"
   },
   {
    "duration": 9,
    "start_time": "2022-09-29T01:13:41.526Z"
   },
   {
    "duration": 14,
    "start_time": "2022-09-29T01:13:41.537Z"
   },
   {
    "duration": 19,
    "start_time": "2022-09-29T01:13:41.553Z"
   },
   {
    "duration": 10,
    "start_time": "2022-09-29T01:13:41.574Z"
   },
   {
    "duration": 7,
    "start_time": "2022-09-29T01:13:41.620Z"
   },
   {
    "duration": 15,
    "start_time": "2022-09-29T01:13:41.629Z"
   },
   {
    "duration": 7,
    "start_time": "2022-09-29T01:13:41.646Z"
   },
   {
    "duration": 8,
    "start_time": "2022-09-29T01:13:41.655Z"
   },
   {
    "duration": 13,
    "start_time": "2022-09-29T01:13:41.665Z"
   },
   {
    "duration": 4,
    "start_time": "2022-09-29T01:13:41.680Z"
   },
   {
    "duration": 54,
    "start_time": "2022-09-29T01:13:41.686Z"
   },
   {
    "duration": 32,
    "start_time": "2022-09-29T01:13:41.742Z"
   },
   {
    "duration": 26,
    "start_time": "2022-09-29T01:13:41.776Z"
   },
   {
    "duration": 5,
    "start_time": "2022-09-29T01:13:41.821Z"
   },
   {
    "duration": 20,
    "start_time": "2022-09-29T01:13:41.827Z"
   },
   {
    "duration": 31,
    "start_time": "2022-09-29T01:13:41.849Z"
   },
   {
    "duration": 58,
    "start_time": "2022-09-29T01:13:41.882Z"
   },
   {
    "duration": 8,
    "start_time": "2022-09-29T01:13:41.942Z"
   },
   {
    "duration": 9,
    "start_time": "2022-09-29T01:13:41.954Z"
   },
   {
    "duration": 7,
    "start_time": "2022-09-29T01:13:41.965Z"
   },
   {
    "duration": 6,
    "start_time": "2022-09-29T01:13:41.973Z"
   },
   {
    "duration": 45,
    "start_time": "2022-09-29T01:13:41.981Z"
   },
   {
    "duration": 14,
    "start_time": "2022-09-29T01:13:42.028Z"
   },
   {
    "duration": 2044,
    "start_time": "2022-09-29T01:13:42.044Z"
   },
   {
    "duration": 4,
    "start_time": "2022-09-29T01:13:44.090Z"
   },
   {
    "duration": 12769,
    "start_time": "2022-09-29T01:13:44.096Z"
   },
   {
    "duration": 6,
    "start_time": "2022-09-29T01:13:56.867Z"
   },
   {
    "duration": 9,
    "start_time": "2022-09-29T01:13:56.921Z"
   },
   {
    "duration": 6,
    "start_time": "2022-09-29T01:13:56.932Z"
   },
   {
    "duration": 35,
    "start_time": "2022-09-29T01:13:56.939Z"
   },
   {
    "duration": 21,
    "start_time": "2022-09-29T01:13:56.975Z"
   },
   {
    "duration": 13,
    "start_time": "2022-09-29T01:13:57.020Z"
   },
   {
    "duration": 3,
    "start_time": "2022-09-29T01:13:57.035Z"
   },
   {
    "duration": 5,
    "start_time": "2022-09-29T01:13:57.040Z"
   },
   {
    "duration": 9,
    "start_time": "2022-09-29T01:13:57.046Z"
   },
   {
    "duration": 410334,
    "start_time": "2022-09-29T01:13:57.057Z"
   },
   {
    "duration": 4,
    "start_time": "2022-09-29T01:20:47.393Z"
   },
   {
    "duration": 12,
    "start_time": "2022-09-29T01:20:47.398Z"
   },
   {
    "duration": 13,
    "start_time": "2022-09-29T01:20:47.412Z"
   },
   {
    "duration": 6,
    "start_time": "2022-09-29T01:20:47.427Z"
   },
   {
    "duration": 64387,
    "start_time": "2022-09-29T01:20:47.435Z"
   },
   {
    "duration": 4,
    "start_time": "2022-09-29T01:21:51.824Z"
   },
   {
    "duration": 93,
    "start_time": "2022-09-29T01:21:51.830Z"
   },
   {
    "duration": 26,
    "start_time": "2022-09-29T01:21:51.925Z"
   },
   {
    "duration": 29,
    "start_time": "2022-09-29T01:21:51.953Z"
   },
   {
    "duration": 844,
    "start_time": "2022-09-29T01:21:51.984Z"
   },
   {
    "duration": 7,
    "start_time": "2022-09-29T01:21:52.920Z"
   },
   {
    "duration": 3,
    "start_time": "2022-09-29T01:22:17.862Z"
   },
   {
    "duration": 3,
    "start_time": "2022-09-29T01:22:18.607Z"
   },
   {
    "duration": 3,
    "start_time": "2022-09-29T01:22:19.352Z"
   },
   {
    "duration": 168595,
    "start_time": "2022-09-29T01:22:20.447Z"
   },
   {
    "duration": 3,
    "start_time": "2022-09-29T01:25:09.044Z"
   },
   {
    "duration": 4,
    "start_time": "2022-09-29T01:25:37.482Z"
   },
   {
    "duration": 4,
    "start_time": "2022-09-29T01:25:40.212Z"
   },
   {
    "duration": 4,
    "start_time": "2022-09-29T01:25:44.578Z"
   },
   {
    "duration": 3,
    "start_time": "2022-09-29T01:25:45.238Z"
   },
   {
    "duration": 3,
    "start_time": "2022-09-29T01:25:48.220Z"
   },
   {
    "duration": 3,
    "start_time": "2022-09-29T01:26:00.728Z"
   },
   {
    "duration": 3558,
    "start_time": "2022-09-29T01:26:02.096Z"
   },
   {
    "duration": 7,
    "start_time": "2022-09-29T01:26:05.656Z"
   },
   {
    "duration": 10,
    "start_time": "2022-09-29T01:26:11.549Z"
   },
   {
    "duration": 13,
    "start_time": "2022-09-29T01:26:50.452Z"
   },
   {
    "duration": 3,
    "start_time": "2022-09-29T01:26:58.256Z"
   },
   {
    "duration": 3568,
    "start_time": "2022-09-29T01:26:59.668Z"
   },
   {
    "duration": 6,
    "start_time": "2022-09-29T01:27:04.605Z"
   },
   {
    "duration": 3,
    "start_time": "2022-09-29T01:27:30.887Z"
   },
   {
    "duration": 83012,
    "start_time": "2022-09-29T01:27:32.003Z"
   },
   {
    "duration": 18,
    "start_time": "2022-09-29T01:30:37.397Z"
   },
   {
    "duration": 19,
    "start_time": "2022-09-29T01:30:43.347Z"
   },
   {
    "duration": 3,
    "start_time": "2022-09-29T01:31:26.929Z"
   },
   {
    "duration": 432,
    "start_time": "2022-09-29T01:31:32.432Z"
   },
   {
    "duration": 3,
    "start_time": "2022-09-29T01:38:00.529Z"
   },
   {
    "duration": 3729,
    "start_time": "2022-09-29T01:38:01.631Z"
   },
   {
    "duration": 6,
    "start_time": "2022-09-29T01:38:10.355Z"
   },
   {
    "duration": 4,
    "start_time": "2022-09-29T01:38:13.910Z"
   },
   {
    "duration": 3,
    "start_time": "2022-09-29T01:38:15.560Z"
   },
   {
    "duration": 9,
    "start_time": "2022-09-29T01:38:17.230Z"
   },
   {
    "duration": 4,
    "start_time": "2022-09-29T01:38:32.458Z"
   },
   {
    "duration": 131,
    "start_time": "2022-09-29T01:38:33.065Z"
   },
   {
    "duration": 3,
    "start_time": "2022-09-29T01:38:40.474Z"
   },
   {
    "duration": 7,
    "start_time": "2022-09-29T01:38:42.065Z"
   },
   {
    "duration": 3,
    "start_time": "2022-09-29T01:40:11.253Z"
   },
   {
    "duration": 2,
    "start_time": "2022-09-29T01:40:12.125Z"
   },
   {
    "duration": 2,
    "start_time": "2022-09-29T01:40:12.777Z"
   },
   {
    "duration": 109754,
    "start_time": "2022-09-29T01:40:15.769Z"
   },
   {
    "duration": 4,
    "start_time": "2022-09-29T01:42:39.664Z"
   },
   {
    "duration": 4,
    "start_time": "2022-09-29T01:42:41.590Z"
   },
   {
    "duration": 3,
    "start_time": "2022-09-29T01:42:50.107Z"
   },
   {
    "duration": 3,
    "start_time": "2022-09-29T01:42:52.416Z"
   },
   {
    "duration": 7,
    "start_time": "2022-09-29T01:42:57.138Z"
   },
   {
    "duration": 3,
    "start_time": "2022-09-29T01:44:35.080Z"
   },
   {
    "duration": 142,
    "start_time": "2022-09-29T01:45:02.337Z"
   },
   {
    "duration": 18,
    "start_time": "2022-09-29T01:45:35.188Z"
   },
   {
    "duration": 5,
    "start_time": "2022-09-29T01:48:45.223Z"
   },
   {
    "duration": 115,
    "start_time": "2022-09-29T01:48:45.231Z"
   },
   {
    "duration": 15,
    "start_time": "2022-09-29T01:48:45.348Z"
   },
   {
    "duration": 14,
    "start_time": "2022-09-29T01:48:45.365Z"
   },
   {
    "duration": 12,
    "start_time": "2022-09-29T01:48:45.382Z"
   },
   {
    "duration": 32,
    "start_time": "2022-09-29T01:48:45.396Z"
   },
   {
    "duration": 28,
    "start_time": "2022-09-29T01:48:45.429Z"
   },
   {
    "duration": 12,
    "start_time": "2022-09-29T01:48:45.459Z"
   },
   {
    "duration": 12,
    "start_time": "2022-09-29T01:48:45.472Z"
   },
   {
    "duration": 46,
    "start_time": "2022-09-29T01:48:45.486Z"
   },
   {
    "duration": 8,
    "start_time": "2022-09-29T01:48:45.534Z"
   },
   {
    "duration": 15,
    "start_time": "2022-09-29T01:48:45.544Z"
   },
   {
    "duration": 13,
    "start_time": "2022-09-29T01:48:45.561Z"
   },
   {
    "duration": 9,
    "start_time": "2022-09-29T01:48:45.575Z"
   },
   {
    "duration": 35,
    "start_time": "2022-09-29T01:48:45.586Z"
   },
   {
    "duration": 11,
    "start_time": "2022-09-29T01:48:45.623Z"
   },
   {
    "duration": 8,
    "start_time": "2022-09-29T01:48:45.636Z"
   },
   {
    "duration": 17,
    "start_time": "2022-09-29T01:48:45.645Z"
   },
   {
    "duration": 15,
    "start_time": "2022-09-29T01:48:45.664Z"
   },
   {
    "duration": 4,
    "start_time": "2022-09-29T01:48:45.681Z"
   },
   {
    "duration": 36,
    "start_time": "2022-09-29T01:48:45.686Z"
   },
   {
    "duration": 24,
    "start_time": "2022-09-29T01:48:45.724Z"
   },
   {
    "duration": 23,
    "start_time": "2022-09-29T01:48:45.750Z"
   },
   {
    "duration": 4,
    "start_time": "2022-09-29T01:48:45.775Z"
   },
   {
    "duration": 41,
    "start_time": "2022-09-29T01:48:45.781Z"
   },
   {
    "duration": 37,
    "start_time": "2022-09-29T01:48:45.824Z"
   },
   {
    "duration": 41,
    "start_time": "2022-09-29T01:48:45.862Z"
   },
   {
    "duration": 7,
    "start_time": "2022-09-29T01:48:45.920Z"
   },
   {
    "duration": 10,
    "start_time": "2022-09-29T01:48:45.931Z"
   },
   {
    "duration": 7,
    "start_time": "2022-09-29T01:48:45.942Z"
   },
   {
    "duration": 8,
    "start_time": "2022-09-29T01:48:45.951Z"
   },
   {
    "duration": 11,
    "start_time": "2022-09-29T01:48:45.961Z"
   },
   {
    "duration": 22,
    "start_time": "2022-09-29T01:48:45.974Z"
   },
   {
    "duration": 2125,
    "start_time": "2022-09-29T01:48:45.998Z"
   },
   {
    "duration": 3,
    "start_time": "2022-09-29T01:48:48.125Z"
   },
   {
    "duration": 13192,
    "start_time": "2022-09-29T01:48:48.130Z"
   },
   {
    "duration": 7,
    "start_time": "2022-09-29T01:49:01.324Z"
   },
   {
    "duration": 21,
    "start_time": "2022-09-29T01:49:01.333Z"
   },
   {
    "duration": 6,
    "start_time": "2022-09-29T01:49:01.356Z"
   },
   {
    "duration": 39,
    "start_time": "2022-09-29T01:49:01.363Z"
   },
   {
    "duration": 37,
    "start_time": "2022-09-29T01:49:01.404Z"
   },
   {
    "duration": 14,
    "start_time": "2022-09-29T01:49:01.443Z"
   },
   {
    "duration": 4,
    "start_time": "2022-09-29T01:49:01.459Z"
   },
   {
    "duration": 9,
    "start_time": "2022-09-29T01:49:01.465Z"
   },
   {
    "duration": 55,
    "start_time": "2022-09-29T01:49:01.475Z"
   },
   {
    "duration": 0,
    "start_time": "2022-09-29T01:49:01.532Z"
   },
   {
    "duration": 0,
    "start_time": "2022-09-29T01:49:01.534Z"
   },
   {
    "duration": 0,
    "start_time": "2022-09-29T01:49:01.535Z"
   },
   {
    "duration": 0,
    "start_time": "2022-09-29T01:49:01.536Z"
   },
   {
    "duration": 0,
    "start_time": "2022-09-29T01:49:01.538Z"
   },
   {
    "duration": 0,
    "start_time": "2022-09-29T01:49:01.539Z"
   },
   {
    "duration": 0,
    "start_time": "2022-09-29T01:49:01.540Z"
   },
   {
    "duration": 0,
    "start_time": "2022-09-29T01:49:01.541Z"
   },
   {
    "duration": 17,
    "start_time": "2022-09-29T01:49:17.609Z"
   },
   {
    "duration": 5,
    "start_time": "2022-09-29T01:49:25.147Z"
   },
   {
    "duration": 108,
    "start_time": "2022-09-29T01:49:25.154Z"
   },
   {
    "duration": 13,
    "start_time": "2022-09-29T01:49:25.264Z"
   },
   {
    "duration": 18,
    "start_time": "2022-09-29T01:49:25.279Z"
   },
   {
    "duration": 12,
    "start_time": "2022-09-29T01:49:25.299Z"
   },
   {
    "duration": 14,
    "start_time": "2022-09-29T01:49:25.313Z"
   },
   {
    "duration": 31,
    "start_time": "2022-09-29T01:49:25.329Z"
   },
   {
    "duration": 11,
    "start_time": "2022-09-29T01:49:25.361Z"
   },
   {
    "duration": 13,
    "start_time": "2022-09-29T01:49:25.374Z"
   },
   {
    "duration": 41,
    "start_time": "2022-09-29T01:49:25.389Z"
   },
   {
    "duration": 7,
    "start_time": "2022-09-29T01:49:25.432Z"
   },
   {
    "duration": 13,
    "start_time": "2022-09-29T01:49:25.441Z"
   },
   {
    "duration": 12,
    "start_time": "2022-09-29T01:49:25.457Z"
   },
   {
    "duration": 8,
    "start_time": "2022-09-29T01:49:25.470Z"
   },
   {
    "duration": 8,
    "start_time": "2022-09-29T01:49:25.479Z"
   },
   {
    "duration": 12,
    "start_time": "2022-09-29T01:49:25.520Z"
   },
   {
    "duration": 7,
    "start_time": "2022-09-29T01:49:25.534Z"
   },
   {
    "duration": 8,
    "start_time": "2022-09-29T01:49:25.543Z"
   },
   {
    "duration": 16,
    "start_time": "2022-09-29T01:49:25.552Z"
   },
   {
    "duration": 4,
    "start_time": "2022-09-29T01:49:25.569Z"
   },
   {
    "duration": 18,
    "start_time": "2022-09-29T01:49:25.574Z"
   },
   {
    "duration": 23,
    "start_time": "2022-09-29T01:49:25.621Z"
   },
   {
    "duration": 21,
    "start_time": "2022-09-29T01:49:25.646Z"
   },
   {
    "duration": 4,
    "start_time": "2022-09-29T01:49:25.669Z"
   },
   {
    "duration": 20,
    "start_time": "2022-09-29T01:49:25.675Z"
   },
   {
    "duration": 52,
    "start_time": "2022-09-29T01:49:25.697Z"
   },
   {
    "duration": 40,
    "start_time": "2022-09-29T01:49:25.751Z"
   },
   {
    "duration": 27,
    "start_time": "2022-09-29T01:49:25.793Z"
   },
   {
    "duration": 12,
    "start_time": "2022-09-29T01:49:25.825Z"
   },
   {
    "duration": 7,
    "start_time": "2022-09-29T01:49:25.839Z"
   },
   {
    "duration": 15,
    "start_time": "2022-09-29T01:49:25.848Z"
   },
   {
    "duration": 12,
    "start_time": "2022-09-29T01:49:25.865Z"
   },
   {
    "duration": 15,
    "start_time": "2022-09-29T01:49:25.878Z"
   },
   {
    "duration": 2054,
    "start_time": "2022-09-29T01:49:25.921Z"
   },
   {
    "duration": 3,
    "start_time": "2022-09-29T01:49:27.977Z"
   },
   {
    "duration": 2869,
    "start_time": "2022-09-29T01:49:27.982Z"
   },
   {
    "duration": 4,
    "start_time": "2022-09-29T01:49:30.853Z"
   },
   {
    "duration": 37,
    "start_time": "2022-09-29T01:49:30.859Z"
   },
   {
    "duration": 31,
    "start_time": "2022-09-29T01:49:30.898Z"
   },
   {
    "duration": 49,
    "start_time": "2022-09-29T01:49:30.931Z"
   },
   {
    "duration": 22,
    "start_time": "2022-09-29T01:49:30.982Z"
   },
   {
    "duration": 17,
    "start_time": "2022-09-29T01:49:31.006Z"
   },
   {
    "duration": 8,
    "start_time": "2022-09-29T01:49:31.025Z"
   },
   {
    "duration": 15,
    "start_time": "2022-09-29T01:49:31.035Z"
   },
   {
    "duration": 27,
    "start_time": "2022-09-29T01:49:31.052Z"
   },
   {
    "duration": 14,
    "start_time": "2022-09-29T01:49:31.081Z"
   },
   {
    "duration": 23,
    "start_time": "2022-09-29T01:49:31.097Z"
   },
   {
    "duration": 405313,
    "start_time": "2022-09-29T01:49:31.121Z"
   },
   {
    "duration": 4,
    "start_time": "2022-09-29T01:56:16.435Z"
   },
   {
    "duration": 13,
    "start_time": "2022-09-29T01:56:16.441Z"
   },
   {
    "duration": 12,
    "start_time": "2022-09-29T01:56:16.455Z"
   },
   {
    "duration": 11,
    "start_time": "2022-09-29T01:56:16.469Z"
   },
   {
    "duration": 144,
    "start_time": "2022-09-29T01:56:16.482Z"
   },
   {
    "duration": 4,
    "start_time": "2022-09-29T01:56:50.183Z"
   },
   {
    "duration": 4,
    "start_time": "2022-09-29T01:56:54.757Z"
   },
   {
    "duration": 3,
    "start_time": "2022-09-29T01:56:57.659Z"
   },
   {
    "duration": 3,
    "start_time": "2022-09-29T01:57:09.892Z"
   },
   {
    "duration": 179,
    "start_time": "2022-09-29T01:57:11.533Z"
   },
   {
    "duration": 22,
    "start_time": "2022-09-29T01:57:13.831Z"
   },
   {
    "duration": 3,
    "start_time": "2022-09-29T01:58:17.594Z"
   },
   {
    "duration": 25466,
    "start_time": "2022-09-29T01:58:18.156Z"
   },
   {
    "duration": 3,
    "start_time": "2022-09-29T01:58:48.530Z"
   },
   {
    "duration": 4,
    "start_time": "2022-09-29T01:58:49.577Z"
   },
   {
    "duration": 3,
    "start_time": "2022-09-29T01:58:52.473Z"
   },
   {
    "duration": 3,
    "start_time": "2022-09-29T01:58:53.015Z"
   },
   {
    "duration": 278,
    "start_time": "2022-09-29T01:58:55.344Z"
   },
   {
    "duration": 5,
    "start_time": "2022-09-29T01:58:57.633Z"
   },
   {
    "duration": 9,
    "start_time": "2022-09-29T01:59:25.775Z"
   },
   {
    "duration": 3,
    "start_time": "2022-09-29T01:59:31.642Z"
   },
   {
    "duration": 2,
    "start_time": "2022-09-29T01:59:33.770Z"
   },
   {
    "duration": 3,
    "start_time": "2022-09-29T01:59:34.296Z"
   },
   {
    "duration": 3,
    "start_time": "2022-09-29T02:00:02.002Z"
   },
   {
    "duration": 3,
    "start_time": "2022-09-29T02:00:02.593Z"
   },
   {
    "duration": 4,
    "start_time": "2022-09-29T02:00:03.096Z"
   },
   {
    "duration": 97110,
    "start_time": "2022-09-29T02:00:03.967Z"
   },
   {
    "duration": 83,
    "start_time": "2022-09-29T02:01:41.078Z"
   },
   {
    "duration": 3,
    "start_time": "2022-09-29T02:01:54.443Z"
   },
   {
    "duration": 4,
    "start_time": "2022-09-29T02:01:57.573Z"
   },
   {
    "duration": 3,
    "start_time": "2022-09-29T02:02:30.076Z"
   },
   {
    "duration": 2133,
    "start_time": "2022-09-29T02:02:31.245Z"
   },
   {
    "duration": 1995,
    "start_time": "2022-09-29T02:02:45.054Z"
   },
   {
    "duration": 6,
    "start_time": "2022-09-29T02:02:53.853Z"
   },
   {
    "duration": 6,
    "start_time": "2022-09-29T02:02:57.269Z"
   },
   {
    "duration": 4,
    "start_time": "2022-09-29T02:02:58.325Z"
   },
   {
    "duration": 8,
    "start_time": "2022-09-29T02:03:01.288Z"
   },
   {
    "duration": 2,
    "start_time": "2022-09-29T02:19:13.837Z"
   },
   {
    "duration": 18,
    "start_time": "2022-09-29T02:19:14.531Z"
   },
   {
    "duration": 3,
    "start_time": "2022-09-29T02:19:20.647Z"
   },
   {
    "duration": 3,
    "start_time": "2022-09-29T02:19:29.289Z"
   },
   {
    "duration": 2,
    "start_time": "2022-09-29T02:19:33.396Z"
   },
   {
    "duration": 5,
    "start_time": "2022-09-29T02:19:37.599Z"
   },
   {
    "duration": 108,
    "start_time": "2022-09-29T02:19:37.606Z"
   },
   {
    "duration": 13,
    "start_time": "2022-09-29T02:19:37.716Z"
   },
   {
    "duration": 18,
    "start_time": "2022-09-29T02:19:37.731Z"
   },
   {
    "duration": 12,
    "start_time": "2022-09-29T02:19:37.751Z"
   },
   {
    "duration": 16,
    "start_time": "2022-09-29T02:19:37.765Z"
   },
   {
    "duration": 60,
    "start_time": "2022-09-29T02:19:37.783Z"
   },
   {
    "duration": 12,
    "start_time": "2022-09-29T02:19:37.845Z"
   },
   {
    "duration": 19,
    "start_time": "2022-09-29T02:19:37.859Z"
   },
   {
    "duration": 21,
    "start_time": "2022-09-29T02:19:37.880Z"
   },
   {
    "duration": 20,
    "start_time": "2022-09-29T02:19:37.903Z"
   },
   {
    "duration": 13,
    "start_time": "2022-09-29T02:19:37.925Z"
   },
   {
    "duration": 14,
    "start_time": "2022-09-29T02:19:37.939Z"
   },
   {
    "duration": 9,
    "start_time": "2022-09-29T02:19:37.954Z"
   },
   {
    "duration": 8,
    "start_time": "2022-09-29T02:19:37.964Z"
   },
   {
    "duration": 17,
    "start_time": "2022-09-29T02:19:37.973Z"
   },
   {
    "duration": 29,
    "start_time": "2022-09-29T02:19:37.992Z"
   },
   {
    "duration": 8,
    "start_time": "2022-09-29T02:19:38.023Z"
   },
   {
    "duration": 14,
    "start_time": "2022-09-29T02:19:38.033Z"
   },
   {
    "duration": 5,
    "start_time": "2022-09-29T02:19:38.048Z"
   },
   {
    "duration": 18,
    "start_time": "2022-09-29T02:19:38.054Z"
   },
   {
    "duration": 50,
    "start_time": "2022-09-29T02:19:38.074Z"
   },
   {
    "duration": 22,
    "start_time": "2022-09-29T02:19:38.126Z"
   },
   {
    "duration": 4,
    "start_time": "2022-09-29T02:19:38.150Z"
   },
   {
    "duration": 18,
    "start_time": "2022-09-29T02:19:38.155Z"
   },
   {
    "duration": 48,
    "start_time": "2022-09-29T02:19:38.175Z"
   },
   {
    "duration": 41,
    "start_time": "2022-09-29T02:19:38.224Z"
   },
   {
    "duration": 8,
    "start_time": "2022-09-29T02:19:38.267Z"
   },
   {
    "duration": 9,
    "start_time": "2022-09-29T02:19:38.279Z"
   },
   {
    "duration": 34,
    "start_time": "2022-09-29T02:19:38.290Z"
   },
   {
    "duration": 6,
    "start_time": "2022-09-29T02:19:38.326Z"
   },
   {
    "duration": 13,
    "start_time": "2022-09-29T02:19:38.333Z"
   },
   {
    "duration": 15,
    "start_time": "2022-09-29T02:19:38.348Z"
   },
   {
    "duration": 2229,
    "start_time": "2022-09-29T02:19:38.364Z"
   },
   {
    "duration": 3,
    "start_time": "2022-09-29T02:19:40.595Z"
   },
   {
    "duration": 13138,
    "start_time": "2022-09-29T02:19:40.600Z"
   },
   {
    "duration": 5,
    "start_time": "2022-09-29T02:19:53.740Z"
   },
   {
    "duration": 22,
    "start_time": "2022-09-29T02:19:53.747Z"
   },
   {
    "duration": 28,
    "start_time": "2022-09-29T02:19:53.771Z"
   },
   {
    "duration": 10,
    "start_time": "2022-09-29T02:19:53.801Z"
   },
   {
    "duration": 20,
    "start_time": "2022-09-29T02:20:14.022Z"
   },
   {
    "duration": 16,
    "start_time": "2022-09-29T02:20:18.315Z"
   },
   {
    "duration": 3,
    "start_time": "2022-09-29T02:20:22.933Z"
   },
   {
    "duration": 3,
    "start_time": "2022-09-29T02:20:26.630Z"
   },
   {
    "duration": 17,
    "start_time": "2022-09-29T02:20:27.317Z"
   },
   {
    "duration": 5,
    "start_time": "2022-09-29T02:20:40.609Z"
   },
   {
    "duration": 112,
    "start_time": "2022-09-29T02:20:40.616Z"
   },
   {
    "duration": 14,
    "start_time": "2022-09-29T02:20:40.731Z"
   },
   {
    "duration": 21,
    "start_time": "2022-09-29T02:20:40.747Z"
   },
   {
    "duration": 13,
    "start_time": "2022-09-29T02:20:40.771Z"
   },
   {
    "duration": 42,
    "start_time": "2022-09-29T02:20:40.786Z"
   },
   {
    "duration": 31,
    "start_time": "2022-09-29T02:20:40.830Z"
   },
   {
    "duration": 11,
    "start_time": "2022-09-29T02:20:40.863Z"
   },
   {
    "duration": 45,
    "start_time": "2022-09-29T02:20:40.876Z"
   },
   {
    "duration": 16,
    "start_time": "2022-09-29T02:20:40.923Z"
   },
   {
    "duration": 8,
    "start_time": "2022-09-29T02:20:40.942Z"
   },
   {
    "duration": 13,
    "start_time": "2022-09-29T02:20:40.952Z"
   },
   {
    "duration": 12,
    "start_time": "2022-09-29T02:20:40.967Z"
   },
   {
    "duration": 10,
    "start_time": "2022-09-29T02:20:40.981Z"
   },
   {
    "duration": 7,
    "start_time": "2022-09-29T02:20:41.020Z"
   },
   {
    "duration": 14,
    "start_time": "2022-09-29T02:20:41.029Z"
   },
   {
    "duration": 9,
    "start_time": "2022-09-29T02:20:41.045Z"
   },
   {
    "duration": 10,
    "start_time": "2022-09-29T02:20:41.055Z"
   },
   {
    "duration": 18,
    "start_time": "2022-09-29T02:20:41.066Z"
   },
   {
    "duration": 4,
    "start_time": "2022-09-29T02:20:41.085Z"
   },
   {
    "duration": 44,
    "start_time": "2022-09-29T02:20:41.091Z"
   },
   {
    "duration": 28,
    "start_time": "2022-09-29T02:20:41.137Z"
   },
   {
    "duration": 23,
    "start_time": "2022-09-29T02:20:41.167Z"
   },
   {
    "duration": 29,
    "start_time": "2022-09-29T02:20:41.192Z"
   },
   {
    "duration": 14,
    "start_time": "2022-09-29T02:20:41.223Z"
   },
   {
    "duration": 32,
    "start_time": "2022-09-29T02:20:41.239Z"
   },
   {
    "duration": 65,
    "start_time": "2022-09-29T02:20:41.272Z"
   },
   {
    "duration": 8,
    "start_time": "2022-09-29T02:20:41.339Z"
   },
   {
    "duration": 10,
    "start_time": "2022-09-29T02:20:41.351Z"
   },
   {
    "duration": 9,
    "start_time": "2022-09-29T02:20:41.363Z"
   },
   {
    "duration": 7,
    "start_time": "2022-09-29T02:20:41.373Z"
   },
   {
    "duration": 45,
    "start_time": "2022-09-29T02:20:41.381Z"
   },
   {
    "duration": 20,
    "start_time": "2022-09-29T02:20:41.427Z"
   },
   {
    "duration": 2300,
    "start_time": "2022-09-29T02:20:41.449Z"
   },
   {
    "duration": 3,
    "start_time": "2022-09-29T02:20:43.751Z"
   },
   {
    "duration": 2973,
    "start_time": "2022-09-29T02:20:43.756Z"
   },
   {
    "duration": 5,
    "start_time": "2022-09-29T02:20:46.731Z"
   },
   {
    "duration": 9,
    "start_time": "2022-09-29T02:20:46.738Z"
   },
   {
    "duration": 6,
    "start_time": "2022-09-29T02:20:46.749Z"
   },
   {
    "duration": 5,
    "start_time": "2022-09-29T02:20:46.757Z"
   },
   {
    "duration": 22,
    "start_time": "2022-09-29T02:20:46.764Z"
   },
   {
    "duration": 15,
    "start_time": "2022-09-29T02:20:46.822Z"
   },
   {
    "duration": 3,
    "start_time": "2022-09-29T02:20:46.840Z"
   },
   {
    "duration": 6,
    "start_time": "2022-09-29T02:20:46.845Z"
   },
   {
    "duration": 21,
    "start_time": "2022-09-29T02:20:46.852Z"
   },
   {
    "duration": 3,
    "start_time": "2022-09-29T02:20:46.875Z"
   },
   {
    "duration": 40,
    "start_time": "2022-09-29T02:20:46.880Z"
   },
   {
    "duration": 22522,
    "start_time": "2022-09-29T02:20:46.922Z"
   },
   {
    "duration": 4,
    "start_time": "2022-09-29T02:21:09.445Z"
   },
   {
    "duration": 8,
    "start_time": "2022-09-29T02:21:09.451Z"
   },
   {
    "duration": 9,
    "start_time": "2022-09-29T02:21:09.461Z"
   },
   {
    "duration": 8,
    "start_time": "2022-09-29T02:21:09.472Z"
   },
   {
    "duration": 23,
    "start_time": "2022-09-29T02:21:09.481Z"
   },
   {
    "duration": 13,
    "start_time": "2022-09-29T02:21:18.719Z"
   },
   {
    "duration": 5,
    "start_time": "2022-09-29T02:21:33.751Z"
   },
   {
    "duration": 108,
    "start_time": "2022-09-29T02:21:33.758Z"
   },
   {
    "duration": 13,
    "start_time": "2022-09-29T02:21:33.867Z"
   },
   {
    "duration": 14,
    "start_time": "2022-09-29T02:21:33.882Z"
   },
   {
    "duration": 13,
    "start_time": "2022-09-29T02:21:33.899Z"
   },
   {
    "duration": 18,
    "start_time": "2022-09-29T02:21:33.914Z"
   },
   {
    "duration": 29,
    "start_time": "2022-09-29T02:21:33.934Z"
   },
   {
    "duration": 11,
    "start_time": "2022-09-29T02:21:33.966Z"
   },
   {
    "duration": 13,
    "start_time": "2022-09-29T02:21:33.979Z"
   },
   {
    "duration": 41,
    "start_time": "2022-09-29T02:21:33.994Z"
   },
   {
    "duration": 8,
    "start_time": "2022-09-29T02:21:34.039Z"
   },
   {
    "duration": 15,
    "start_time": "2022-09-29T02:21:34.049Z"
   },
   {
    "duration": 12,
    "start_time": "2022-09-29T02:21:34.067Z"
   },
   {
    "duration": 40,
    "start_time": "2022-09-29T02:21:34.082Z"
   },
   {
    "duration": 9,
    "start_time": "2022-09-29T02:21:34.125Z"
   },
   {
    "duration": 14,
    "start_time": "2022-09-29T02:21:34.136Z"
   },
   {
    "duration": 10,
    "start_time": "2022-09-29T02:21:34.152Z"
   },
   {
    "duration": 8,
    "start_time": "2022-09-29T02:21:34.163Z"
   },
   {
    "duration": 52,
    "start_time": "2022-09-29T02:21:34.173Z"
   },
   {
    "duration": 4,
    "start_time": "2022-09-29T02:21:34.227Z"
   },
   {
    "duration": 22,
    "start_time": "2022-09-29T02:21:34.233Z"
   },
   {
    "duration": 30,
    "start_time": "2022-09-29T02:21:34.257Z"
   },
   {
    "duration": 44,
    "start_time": "2022-09-29T02:21:34.288Z"
   },
   {
    "duration": 6,
    "start_time": "2022-09-29T02:21:34.334Z"
   },
   {
    "duration": 17,
    "start_time": "2022-09-29T02:21:34.342Z"
   },
   {
    "duration": 37,
    "start_time": "2022-09-29T02:21:34.361Z"
   },
   {
    "duration": 61,
    "start_time": "2022-09-29T02:21:34.399Z"
   },
   {
    "duration": 10,
    "start_time": "2022-09-29T02:21:34.461Z"
   },
   {
    "duration": 11,
    "start_time": "2022-09-29T02:21:34.474Z"
   },
   {
    "duration": 35,
    "start_time": "2022-09-29T02:21:34.486Z"
   },
   {
    "duration": 10,
    "start_time": "2022-09-29T02:21:34.522Z"
   },
   {
    "duration": 10,
    "start_time": "2022-09-29T02:21:34.534Z"
   },
   {
    "duration": 15,
    "start_time": "2022-09-29T02:21:34.546Z"
   },
   {
    "duration": 2250,
    "start_time": "2022-09-29T02:21:34.562Z"
   },
   {
    "duration": 3,
    "start_time": "2022-09-29T02:21:36.814Z"
   },
   {
    "duration": 2940,
    "start_time": "2022-09-29T02:21:36.819Z"
   },
   {
    "duration": 5,
    "start_time": "2022-09-29T02:21:39.761Z"
   },
   {
    "duration": 13,
    "start_time": "2022-09-29T02:21:39.768Z"
   },
   {
    "duration": 5,
    "start_time": "2022-09-29T02:21:39.783Z"
   },
   {
    "duration": 31,
    "start_time": "2022-09-29T02:21:39.790Z"
   },
   {
    "duration": 23,
    "start_time": "2022-09-29T02:21:39.823Z"
   },
   {
    "duration": 16,
    "start_time": "2022-09-29T02:21:39.847Z"
   },
   {
    "duration": 10,
    "start_time": "2022-09-29T02:21:39.865Z"
   },
   {
    "duration": 7,
    "start_time": "2022-09-29T02:21:39.877Z"
   },
   {
    "duration": 39,
    "start_time": "2022-09-29T02:21:39.886Z"
   },
   {
    "duration": 3,
    "start_time": "2022-09-29T02:21:50.078Z"
   },
   {
    "duration": 3,
    "start_time": "2022-09-29T02:21:51.158Z"
   },
   {
    "duration": 3,
    "start_time": "2022-09-29T02:21:51.757Z"
   },
   {
    "duration": 29628,
    "start_time": "2022-09-29T02:21:52.925Z"
   },
   {
    "duration": 2220,
    "start_time": "2022-09-29T02:23:48.607Z"
   },
   {
    "duration": 3,
    "start_time": "2022-09-29T02:23:50.829Z"
   },
   {
    "duration": 2804,
    "start_time": "2022-09-29T02:23:50.834Z"
   },
   {
    "duration": 5,
    "start_time": "2022-09-29T02:23:53.640Z"
   },
   {
    "duration": 12,
    "start_time": "2022-09-29T02:23:53.646Z"
   },
   {
    "duration": 3,
    "start_time": "2022-09-29T02:23:59.864Z"
   },
   {
    "duration": 37,
    "start_time": "2022-09-29T02:24:01.424Z"
   },
   {
    "duration": 21,
    "start_time": "2022-09-29T02:24:01.724Z"
   },
   {
    "duration": 14,
    "start_time": "2022-09-29T02:24:03.683Z"
   },
   {
    "duration": 4,
    "start_time": "2022-09-29T02:24:17.106Z"
   },
   {
    "duration": 116,
    "start_time": "2022-09-29T02:24:17.112Z"
   },
   {
    "duration": 13,
    "start_time": "2022-09-29T02:24:17.230Z"
   },
   {
    "duration": 14,
    "start_time": "2022-09-29T02:24:17.245Z"
   },
   {
    "duration": 16,
    "start_time": "2022-09-29T02:24:17.261Z"
   },
   {
    "duration": 44,
    "start_time": "2022-09-29T02:24:17.278Z"
   },
   {
    "duration": 30,
    "start_time": "2022-09-29T02:24:17.323Z"
   },
   {
    "duration": 12,
    "start_time": "2022-09-29T02:24:17.355Z"
   },
   {
    "duration": 12,
    "start_time": "2022-09-29T02:24:17.370Z"
   },
   {
    "duration": 49,
    "start_time": "2022-09-29T02:24:17.384Z"
   },
   {
    "duration": 8,
    "start_time": "2022-09-29T02:24:17.436Z"
   },
   {
    "duration": 16,
    "start_time": "2022-09-29T02:24:17.446Z"
   },
   {
    "duration": 13,
    "start_time": "2022-09-29T02:24:17.464Z"
   },
   {
    "duration": 50,
    "start_time": "2022-09-29T02:24:17.479Z"
   },
   {
    "duration": 11,
    "start_time": "2022-09-29T02:24:17.531Z"
   },
   {
    "duration": 20,
    "start_time": "2022-09-29T02:24:17.544Z"
   },
   {
    "duration": 8,
    "start_time": "2022-09-29T02:24:17.566Z"
   },
   {
    "duration": 8,
    "start_time": "2022-09-29T02:24:17.576Z"
   },
   {
    "duration": 15,
    "start_time": "2022-09-29T02:24:17.586Z"
   },
   {
    "duration": 4,
    "start_time": "2022-09-29T02:24:17.603Z"
   },
   {
    "duration": 17,
    "start_time": "2022-09-29T02:24:17.620Z"
   },
   {
    "duration": 35,
    "start_time": "2022-09-29T02:24:17.639Z"
   },
   {
    "duration": 24,
    "start_time": "2022-09-29T02:24:17.676Z"
   },
   {
    "duration": 4,
    "start_time": "2022-09-29T02:24:17.720Z"
   },
   {
    "duration": 20,
    "start_time": "2022-09-29T02:24:17.726Z"
   },
   {
    "duration": 30,
    "start_time": "2022-09-29T02:24:17.748Z"
   },
   {
    "duration": 58,
    "start_time": "2022-09-29T02:24:17.780Z"
   },
   {
    "duration": 8,
    "start_time": "2022-09-29T02:24:17.841Z"
   },
   {
    "duration": 16,
    "start_time": "2022-09-29T02:24:17.850Z"
   },
   {
    "duration": 6,
    "start_time": "2022-09-29T02:24:17.868Z"
   },
   {
    "duration": 7,
    "start_time": "2022-09-29T02:24:17.876Z"
   },
   {
    "duration": 37,
    "start_time": "2022-09-29T02:24:17.885Z"
   },
   {
    "duration": 14,
    "start_time": "2022-09-29T02:24:17.924Z"
   },
   {
    "duration": 2198,
    "start_time": "2022-09-29T02:24:17.940Z"
   },
   {
    "duration": 4,
    "start_time": "2022-09-29T02:24:20.141Z"
   },
   {
    "duration": 2875,
    "start_time": "2022-09-29T02:24:20.146Z"
   },
   {
    "duration": 5,
    "start_time": "2022-09-29T02:24:23.022Z"
   },
   {
    "duration": 12,
    "start_time": "2022-09-29T02:24:23.029Z"
   },
   {
    "duration": 4,
    "start_time": "2022-09-29T02:24:23.042Z"
   },
   {
    "duration": 37,
    "start_time": "2022-09-29T02:24:23.047Z"
   },
   {
    "duration": 47,
    "start_time": "2022-09-29T02:24:23.086Z"
   },
   {
    "duration": 14,
    "start_time": "2022-09-29T02:24:23.134Z"
   },
   {
    "duration": 4,
    "start_time": "2022-09-29T02:24:23.149Z"
   },
   {
    "duration": 14,
    "start_time": "2022-09-29T02:24:23.154Z"
   },
   {
    "duration": 26,
    "start_time": "2022-09-29T02:24:23.169Z"
   },
   {
    "duration": 4,
    "start_time": "2022-09-29T02:24:23.196Z"
   },
   {
    "duration": 21,
    "start_time": "2022-09-29T02:24:23.201Z"
   },
   {
    "duration": 411698,
    "start_time": "2022-09-29T02:24:23.223Z"
   },
   {
    "duration": 5,
    "start_time": "2022-09-29T02:31:14.922Z"
   },
   {
    "duration": 8,
    "start_time": "2022-09-29T02:31:14.928Z"
   },
   {
    "duration": 4,
    "start_time": "2022-09-29T02:31:14.937Z"
   },
   {
    "duration": 6,
    "start_time": "2022-09-29T02:31:14.943Z"
   },
   {
    "duration": 192,
    "start_time": "2022-09-29T02:31:14.951Z"
   },
   {
    "duration": 22,
    "start_time": "2022-09-29T02:31:15.145Z"
   },
   {
    "duration": 3,
    "start_time": "2022-09-29T02:31:15.168Z"
   },
   {
    "duration": 25849,
    "start_time": "2022-09-29T02:31:15.173Z"
   },
   {
    "duration": 5,
    "start_time": "2022-09-29T02:31:41.024Z"
   },
   {
    "duration": 100,
    "start_time": "2022-09-29T02:31:41.031Z"
   },
   {
    "duration": 12,
    "start_time": "2022-09-29T02:31:41.133Z"
   },
   {
    "duration": 8,
    "start_time": "2022-09-29T02:31:41.147Z"
   },
   {
    "duration": 273,
    "start_time": "2022-09-29T02:31:41.157Z"
   },
   {
    "duration": 93,
    "start_time": "2022-09-29T02:31:41.431Z"
   },
   {
    "duration": 201,
    "start_time": "2022-09-29T02:31:41.526Z"
   },
   {
    "duration": 96,
    "start_time": "2022-09-29T02:31:41.729Z"
   },
   {
    "duration": 90,
    "start_time": "2022-09-29T02:31:41.830Z"
   },
   {
    "duration": 3,
    "start_time": "2022-09-29T02:31:41.922Z"
   },
   {
    "duration": 98675,
    "start_time": "2022-09-29T02:31:41.926Z"
   },
   {
    "duration": 3,
    "start_time": "2022-09-29T02:33:20.603Z"
   },
   {
    "duration": 3,
    "start_time": "2022-09-29T02:33:20.611Z"
   },
   {
    "duration": 7,
    "start_time": "2022-09-29T02:33:20.616Z"
   },
   {
    "duration": 2042,
    "start_time": "2022-09-29T02:33:20.624Z"
   },
   {
    "duration": 6,
    "start_time": "2022-09-29T02:33:22.668Z"
   },
   {
    "duration": 7,
    "start_time": "2022-09-29T02:33:22.676Z"
   },
   {
    "duration": 4,
    "start_time": "2022-09-29T02:33:22.684Z"
   },
   {
    "duration": 3,
    "start_time": "2022-09-29T02:35:05.030Z"
   },
   {
    "duration": 197,
    "start_time": "2022-09-29T02:35:06.165Z"
   },
   {
    "duration": 24,
    "start_time": "2022-09-29T02:35:07.302Z"
   },
   {
    "duration": 3,
    "start_time": "2022-09-29T02:38:20.341Z"
   },
   {
    "duration": 2,
    "start_time": "2022-09-29T02:38:21.317Z"
   },
   {
    "duration": 3,
    "start_time": "2022-09-29T02:38:21.899Z"
   },
   {
    "duration": 94931,
    "start_time": "2022-09-29T02:38:23.936Z"
   },
   {
    "duration": 3,
    "start_time": "2022-09-29T02:41:07.671Z"
   },
   {
    "duration": 4,
    "start_time": "2022-09-29T02:41:12.323Z"
   },
   {
    "duration": 3,
    "start_time": "2022-09-29T02:41:45.890Z"
   },
   {
    "duration": 2129,
    "start_time": "2022-09-29T02:41:47.041Z"
   },
   {
    "duration": 6,
    "start_time": "2022-09-29T02:41:52.118Z"
   },
   {
    "duration": 5,
    "start_time": "2022-09-29T02:41:53.033Z"
   },
   {
    "duration": 4,
    "start_time": "2022-09-29T02:41:55.035Z"
   },
   {
    "duration": 8,
    "start_time": "2022-09-29T02:41:56.543Z"
   },
   {
    "duration": 120,
    "start_time": "2022-09-29T02:43:37.857Z"
   },
   {
    "duration": 6,
    "start_time": "2022-09-29T02:50:47.317Z"
   },
   {
    "duration": 3,
    "start_time": "2022-09-29T02:51:38.462Z"
   },
   {
    "duration": 189,
    "start_time": "2022-09-29T02:51:39.119Z"
   },
   {
    "duration": 20,
    "start_time": "2022-09-29T02:51:40.359Z"
   },
   {
    "duration": 5,
    "start_time": "2022-09-29T02:51:41.258Z"
   },
   {
    "duration": 24,
    "start_time": "2022-09-29T02:51:44.209Z"
   },
   {
    "duration": 3,
    "start_time": "2022-09-29T02:52:12.496Z"
   },
   {
    "duration": 3,
    "start_time": "2022-09-29T02:52:13.142Z"
   },
   {
    "duration": 559930,
    "start_time": "2022-09-29T02:52:15.123Z"
   },
   {
    "duration": 4,
    "start_time": "2022-09-29T03:02:09.379Z"
   },
   {
    "duration": 4,
    "start_time": "2022-09-29T03:02:24.880Z"
   },
   {
    "duration": 3,
    "start_time": "2022-09-29T03:02:26.217Z"
   },
   {
    "duration": 3,
    "start_time": "2022-09-29T03:02:27.319Z"
   },
   {
    "duration": 224,
    "start_time": "2022-09-29T03:02:28.980Z"
   },
   {
    "duration": 24,
    "start_time": "2022-09-29T03:02:31.325Z"
   },
   {
    "duration": 6,
    "start_time": "2022-09-29T03:02:32.087Z"
   },
   {
    "duration": 27,
    "start_time": "2022-09-29T03:02:33.220Z"
   },
   {
    "duration": 3,
    "start_time": "2022-09-29T03:02:42.177Z"
   },
   {
    "duration": 347,
    "start_time": "2022-09-29T03:02:42.924Z"
   },
   {
    "duration": 34,
    "start_time": "2022-09-29T03:02:43.885Z"
   },
   {
    "duration": 7,
    "start_time": "2022-09-29T03:02:44.563Z"
   },
   {
    "duration": 36,
    "start_time": "2022-09-29T03:02:45.682Z"
   },
   {
    "duration": 3,
    "start_time": "2022-09-29T03:03:32.701Z"
   },
   {
    "duration": 3,
    "start_time": "2022-09-29T03:03:33.266Z"
   },
   {
    "duration": 239148,
    "start_time": "2022-09-29T03:03:33.977Z"
   },
   {
    "duration": 4,
    "start_time": "2022-09-29T03:07:43.219Z"
   },
   {
    "duration": 4,
    "start_time": "2022-09-29T03:07:57.673Z"
   },
   {
    "duration": 2,
    "start_time": "2022-09-29T03:07:59.388Z"
   },
   {
    "duration": 3,
    "start_time": "2022-09-29T03:07:59.991Z"
   },
   {
    "duration": 301,
    "start_time": "2022-09-29T03:08:00.779Z"
   },
   {
    "duration": 32,
    "start_time": "2022-09-29T03:08:03.080Z"
   },
   {
    "duration": 6,
    "start_time": "2022-09-29T03:08:03.729Z"
   },
   {
    "duration": 35,
    "start_time": "2022-09-29T03:08:05.189Z"
   },
   {
    "duration": 3,
    "start_time": "2022-09-29T03:08:14.961Z"
   },
   {
    "duration": 172,
    "start_time": "2022-09-29T03:08:15.598Z"
   },
   {
    "duration": 19,
    "start_time": "2022-09-29T03:08:16.520Z"
   },
   {
    "duration": 6,
    "start_time": "2022-09-29T03:08:17.077Z"
   },
   {
    "duration": 23,
    "start_time": "2022-09-29T03:08:18.255Z"
   },
   {
    "duration": 163,
    "start_time": "2022-09-29T03:08:53.421Z"
   },
   {
    "duration": 23616,
    "start_time": "2022-09-29T03:08:54.425Z"
   },
   {
    "duration": 4,
    "start_time": "2022-09-29T03:09:32.604Z"
   },
   {
    "duration": 4,
    "start_time": "2022-09-29T03:09:35.888Z"
   },
   {
    "duration": 4,
    "start_time": "2022-09-29T03:11:09.609Z"
   },
   {
    "duration": 107,
    "start_time": "2022-09-29T03:11:09.616Z"
   },
   {
    "duration": 13,
    "start_time": "2022-09-29T03:11:09.725Z"
   },
   {
    "duration": 15,
    "start_time": "2022-09-29T03:11:09.739Z"
   },
   {
    "duration": 12,
    "start_time": "2022-09-29T03:11:09.756Z"
   },
   {
    "duration": 15,
    "start_time": "2022-09-29T03:11:09.770Z"
   },
   {
    "duration": 60,
    "start_time": "2022-09-29T03:11:09.787Z"
   },
   {
    "duration": 11,
    "start_time": "2022-09-29T03:11:09.848Z"
   },
   {
    "duration": 14,
    "start_time": "2022-09-29T03:11:09.861Z"
   },
   {
    "duration": 46,
    "start_time": "2022-09-29T03:11:09.876Z"
   },
   {
    "duration": 7,
    "start_time": "2022-09-29T03:11:09.925Z"
   },
   {
    "duration": 14,
    "start_time": "2022-09-29T03:11:09.934Z"
   },
   {
    "duration": 15,
    "start_time": "2022-09-29T03:11:09.950Z"
   },
   {
    "duration": 10,
    "start_time": "2022-09-29T03:11:09.966Z"
   },
   {
    "duration": 7,
    "start_time": "2022-09-29T03:11:10.021Z"
   },
   {
    "duration": 19,
    "start_time": "2022-09-29T03:11:10.030Z"
   },
   {
    "duration": 8,
    "start_time": "2022-09-29T03:11:10.051Z"
   },
   {
    "duration": 136,
    "start_time": "2022-09-29T03:11:10.061Z"
   },
   {
    "duration": 6,
    "start_time": "2022-09-29T03:11:10.200Z"
   },
   {
    "duration": 25,
    "start_time": "2022-09-29T03:11:10.208Z"
   },
   {
    "duration": 13,
    "start_time": "2022-09-29T03:11:10.235Z"
   },
   {
    "duration": 20,
    "start_time": "2022-09-29T03:11:10.249Z"
   },
   {
    "duration": 25,
    "start_time": "2022-09-29T03:11:10.271Z"
   },
   {
    "duration": 43,
    "start_time": "2022-09-29T03:11:10.298Z"
   },
   {
    "duration": 4,
    "start_time": "2022-09-29T03:11:10.343Z"
   },
   {
    "duration": 19,
    "start_time": "2022-09-29T03:11:10.348Z"
   },
   {
    "duration": 39,
    "start_time": "2022-09-29T03:11:10.369Z"
   },
   {
    "duration": 47,
    "start_time": "2022-09-29T03:11:10.410Z"
   },
   {
    "duration": 8,
    "start_time": "2022-09-29T03:11:10.461Z"
   },
   {
    "duration": 9,
    "start_time": "2022-09-29T03:11:10.471Z"
   },
   {
    "duration": 6,
    "start_time": "2022-09-29T03:11:10.481Z"
   },
   {
    "duration": 36,
    "start_time": "2022-09-29T03:11:10.489Z"
   },
   {
    "duration": 12,
    "start_time": "2022-09-29T03:11:10.527Z"
   },
   {
    "duration": 16,
    "start_time": "2022-09-29T03:11:10.540Z"
   },
   {
    "duration": 2125,
    "start_time": "2022-09-29T03:11:10.558Z"
   },
   {
    "duration": 3,
    "start_time": "2022-09-29T03:11:12.685Z"
   },
   {
    "duration": 12943,
    "start_time": "2022-09-29T03:11:12.690Z"
   },
   {
    "duration": 6,
    "start_time": "2022-09-29T03:11:25.635Z"
   },
   {
    "duration": 29,
    "start_time": "2022-09-29T03:11:25.642Z"
   },
   {
    "duration": 12,
    "start_time": "2022-09-29T03:11:25.673Z"
   },
   {
    "duration": 35,
    "start_time": "2022-09-29T03:11:25.687Z"
   },
   {
    "duration": 20,
    "start_time": "2022-09-29T03:11:25.724Z"
   },
   {
    "duration": 13,
    "start_time": "2022-09-29T03:11:25.746Z"
   },
   {
    "duration": 4,
    "start_time": "2022-09-29T03:11:25.761Z"
   },
   {
    "duration": 5,
    "start_time": "2022-09-29T03:11:25.767Z"
   },
   {
    "duration": 5,
    "start_time": "2022-09-29T03:11:25.774Z"
   },
   {
    "duration": 7,
    "start_time": "2022-09-29T03:11:25.781Z"
   },
   {
    "duration": 5,
    "start_time": "2022-09-29T03:11:25.790Z"
   },
   {
    "duration": 239885,
    "start_time": "2022-09-29T03:11:25.821Z"
   },
   {
    "duration": 4,
    "start_time": "2022-09-29T03:15:25.708Z"
   },
   {
    "duration": 9,
    "start_time": "2022-09-29T03:15:25.714Z"
   },
   {
    "duration": 5,
    "start_time": "2022-09-29T03:15:25.724Z"
   },
   {
    "duration": 5,
    "start_time": "2022-09-29T03:15:25.730Z"
   },
   {
    "duration": 202,
    "start_time": "2022-09-29T03:15:25.736Z"
   },
   {
    "duration": 22,
    "start_time": "2022-09-29T03:15:25.940Z"
   },
   {
    "duration": 6,
    "start_time": "2022-09-29T03:15:25.963Z"
   },
   {
    "duration": 22,
    "start_time": "2022-09-29T03:15:25.971Z"
   },
   {
    "duration": 26,
    "start_time": "2022-09-29T03:15:25.995Z"
   },
   {
    "duration": 20614,
    "start_time": "2022-09-29T03:15:26.023Z"
   },
   {
    "duration": 3,
    "start_time": "2022-09-29T03:15:46.639Z"
   },
   {
    "duration": 13,
    "start_time": "2022-09-29T03:15:46.644Z"
   },
   {
    "duration": 14,
    "start_time": "2022-09-29T03:15:46.659Z"
   },
   {
    "duration": 64751,
    "start_time": "2022-09-29T03:15:46.675Z"
   },
   {
    "duration": 93,
    "start_time": "2022-09-29T03:16:51.430Z"
   },
   {
    "duration": 15,
    "start_time": "2022-09-29T03:16:51.524Z"
   },
   {
    "duration": 14,
    "start_time": "2022-09-29T03:16:51.541Z"
   },
   {
    "duration": 21,
    "start_time": "2022-09-29T03:16:51.557Z"
   },
   {
    "duration": 944,
    "start_time": "2022-09-29T03:16:51.580Z"
   },
   {
    "duration": 95,
    "start_time": "2022-09-29T03:16:52.526Z"
   },
   {
    "duration": 123,
    "start_time": "2022-09-29T03:16:52.624Z"
   },
   {
    "duration": 18,
    "start_time": "2022-09-29T03:16:52.749Z"
   },
   {
    "duration": 153,
    "start_time": "2022-09-29T03:16:52.769Z"
   },
   {
    "duration": 11,
    "start_time": "2022-09-29T03:16:52.924Z"
   },
   {
    "duration": 15,
    "start_time": "2022-09-29T03:16:52.936Z"
   },
   {
    "duration": 96244,
    "start_time": "2022-09-29T03:16:52.953Z"
   },
   {
    "duration": 5,
    "start_time": "2022-09-29T03:18:29.198Z"
   },
   {
    "duration": 8,
    "start_time": "2022-09-29T03:18:29.204Z"
   },
   {
    "duration": 5,
    "start_time": "2022-09-29T03:18:29.214Z"
   },
   {
    "duration": 1998,
    "start_time": "2022-09-29T03:18:29.221Z"
   },
   {
    "duration": 6,
    "start_time": "2022-09-29T03:18:31.220Z"
   },
   {
    "duration": 14,
    "start_time": "2022-09-29T03:18:31.228Z"
   },
   {
    "duration": 19,
    "start_time": "2022-09-29T03:18:31.244Z"
   },
   {
    "duration": 16,
    "start_time": "2022-09-29T03:18:31.269Z"
   },
   {
    "duration": 3,
    "start_time": "2022-09-29T03:26:44.643Z"
   },
   {
    "duration": 5,
    "start_time": "2022-09-29T03:31:15.199Z"
   },
   {
    "duration": 9,
    "start_time": "2022-09-29T03:31:39.367Z"
   },
   {
    "duration": 13,
    "start_time": "2022-09-29T03:32:53.052Z"
   },
   {
    "duration": 3,
    "start_time": "2022-09-29T03:33:18.734Z"
   },
   {
    "duration": 3,
    "start_time": "2022-09-29T03:33:19.260Z"
   },
   {
    "duration": 140284,
    "start_time": "2022-09-29T03:33:19.937Z"
   },
   {
    "duration": 4,
    "start_time": "2022-09-29T03:36:33.758Z"
   },
   {
    "duration": 3,
    "start_time": "2022-09-29T03:36:35.475Z"
   },
   {
    "duration": 3,
    "start_time": "2022-09-29T03:36:52.123Z"
   },
   {
    "duration": 3,
    "start_time": "2022-09-29T03:36:54.045Z"
   },
   {
    "duration": 173,
    "start_time": "2022-09-29T03:36:58.622Z"
   },
   {
    "duration": 19,
    "start_time": "2022-09-29T03:36:59.920Z"
   },
   {
    "duration": 6,
    "start_time": "2022-09-29T03:37:00.646Z"
   },
   {
    "duration": 23,
    "start_time": "2022-09-29T03:37:05.315Z"
   },
   {
    "duration": 5,
    "start_time": "2022-09-29T03:41:55.177Z"
   },
   {
    "duration": 4,
    "start_time": "2022-09-29T03:41:56.203Z"
   },
   {
    "duration": 3,
    "start_time": "2022-09-29T03:42:42.721Z"
   },
   {
    "duration": 3,
    "start_time": "2022-09-29T03:42:43.133Z"
   },
   {
    "duration": 37439,
    "start_time": "2022-09-29T03:42:43.649Z"
   },
   {
    "duration": 4,
    "start_time": "2022-09-29T03:43:24.617Z"
   },
   {
    "duration": 4,
    "start_time": "2022-09-29T03:43:25.882Z"
   },
   {
    "duration": 3,
    "start_time": "2022-09-29T03:43:31.541Z"
   },
   {
    "duration": 2,
    "start_time": "2022-09-29T03:43:41.546Z"
   },
   {
    "duration": 192,
    "start_time": "2022-09-29T03:43:42.640Z"
   },
   {
    "duration": 20,
    "start_time": "2022-09-29T03:43:44.172Z"
   },
   {
    "duration": 6,
    "start_time": "2022-09-29T03:43:45.032Z"
   },
   {
    "duration": 22,
    "start_time": "2022-09-29T03:43:48.315Z"
   },
   {
    "duration": 100,
    "start_time": "2022-09-29T03:44:24.129Z"
   },
   {
    "duration": 19,
    "start_time": "2022-09-29T03:44:26.852Z"
   },
   {
    "duration": 6,
    "start_time": "2022-09-29T03:44:27.511Z"
   },
   {
    "duration": 21,
    "start_time": "2022-09-29T03:44:30.690Z"
   },
   {
    "duration": 18829,
    "start_time": "2022-09-29T03:45:03.210Z"
   },
   {
    "duration": 4,
    "start_time": "2022-09-29T03:47:16.343Z"
   },
   {
    "duration": 5,
    "start_time": "2022-09-29T03:47:18.942Z"
   },
   {
    "duration": 2,
    "start_time": "2022-09-29T03:47:23.425Z"
   },
   {
    "duration": 36384,
    "start_time": "2022-09-29T03:47:26.037Z"
   },
   {
    "duration": 4,
    "start_time": "2022-09-29T03:48:09.213Z"
   },
   {
    "duration": 4,
    "start_time": "2022-09-29T03:48:13.193Z"
   },
   {
    "duration": 3,
    "start_time": "2022-09-29T03:48:16.543Z"
   },
   {
    "duration": 3,
    "start_time": "2022-09-29T03:48:19.012Z"
   },
   {
    "duration": 437,
    "start_time": "2022-09-29T03:48:20.484Z"
   },
   {
    "duration": 7,
    "start_time": "2022-09-29T03:48:38.587Z"
   },
   {
    "duration": 6,
    "start_time": "2022-09-29T03:48:39.280Z"
   },
   {
    "duration": 12,
    "start_time": "2022-09-29T03:48:40.296Z"
   },
   {
    "duration": 3,
    "start_time": "2022-09-29T03:53:17.519Z"
   },
   {
    "duration": 2,
    "start_time": "2022-09-29T03:53:18.333Z"
   },
   {
    "duration": 4,
    "start_time": "2022-09-29T03:53:18.911Z"
   },
   {
    "duration": 81562,
    "start_time": "2022-09-29T03:53:19.980Z"
   },
   {
    "duration": 4,
    "start_time": "2022-09-29T03:55:23.559Z"
   },
   {
    "duration": 3,
    "start_time": "2022-09-29T03:55:25.194Z"
   },
   {
    "duration": 3,
    "start_time": "2022-09-29T03:55:29.353Z"
   },
   {
    "duration": 2071,
    "start_time": "2022-09-29T03:55:30.092Z"
   },
   {
    "duration": 6,
    "start_time": "2022-09-29T03:55:34.839Z"
   },
   {
    "duration": 6,
    "start_time": "2022-09-29T03:55:36.104Z"
   },
   {
    "duration": 4,
    "start_time": "2022-09-29T03:55:39.125Z"
   },
   {
    "duration": 8,
    "start_time": "2022-09-29T03:55:40.109Z"
   },
   {
    "duration": 3,
    "start_time": "2022-09-29T03:56:13.219Z"
   },
   {
    "duration": 1612,
    "start_time": "2022-09-29T03:56:13.811Z"
   },
   {
    "duration": 5,
    "start_time": "2022-09-29T03:56:19.669Z"
   },
   {
    "duration": 6,
    "start_time": "2022-09-29T03:56:22.357Z"
   },
   {
    "duration": 5,
    "start_time": "2022-09-29T03:56:23.286Z"
   },
   {
    "duration": 7,
    "start_time": "2022-09-29T03:56:24.259Z"
   },
   {
    "duration": 13,
    "start_time": "2022-09-29T03:57:24.678Z"
   },
   {
    "duration": 404,
    "start_time": "2022-09-29T03:57:58.266Z"
   },
   {
    "duration": 19,
    "start_time": "2022-09-29T03:57:59.662Z"
   },
   {
    "duration": 6,
    "start_time": "2022-09-29T03:58:02.546Z"
   },
   {
    "duration": 22,
    "start_time": "2022-09-29T03:58:05.072Z"
   },
   {
    "duration": 86,
    "start_time": "2022-09-29T03:58:20.806Z"
   },
   {
    "duration": 3,
    "start_time": "2022-09-29T03:58:52.088Z"
   },
   {
    "duration": 4,
    "start_time": "2022-09-29T03:58:53.514Z"
   },
   {
    "duration": 119103,
    "start_time": "2022-09-29T03:58:54.985Z"
   },
   {
    "duration": 4,
    "start_time": "2022-09-29T04:02:02.326Z"
   },
   {
    "duration": 2,
    "start_time": "2022-09-29T04:02:20.331Z"
   },
   {
    "duration": 465,
    "start_time": "2022-09-29T04:02:21.639Z"
   },
   {
    "duration": 21,
    "start_time": "2022-09-29T04:02:23.957Z"
   },
   {
    "duration": 6,
    "start_time": "2022-09-29T04:02:24.805Z"
   },
   {
    "duration": 24,
    "start_time": "2022-09-29T04:02:25.961Z"
   },
   {
    "duration": 2,
    "start_time": "2022-09-29T04:02:53.560Z"
   },
   {
    "duration": 4,
    "start_time": "2022-09-29T04:02:55.383Z"
   },
   {
    "duration": 217315,
    "start_time": "2022-09-29T04:02:56.384Z"
   },
   {
    "duration": 5,
    "start_time": "2022-09-29T04:08:22.115Z"
   },
   {
    "duration": 4,
    "start_time": "2022-09-29T04:08:23.429Z"
   },
   {
    "duration": 3,
    "start_time": "2022-09-29T04:08:53.654Z"
   },
   {
    "duration": 625,
    "start_time": "2022-09-29T04:08:55.234Z"
   },
   {
    "duration": 28,
    "start_time": "2022-09-29T04:08:56.746Z"
   },
   {
    "duration": 7,
    "start_time": "2022-09-29T04:08:57.535Z"
   },
   {
    "duration": 36,
    "start_time": "2022-09-29T04:08:58.898Z"
   },
   {
    "duration": 11,
    "start_time": "2022-09-29T04:09:48.654Z"
   },
   {
    "duration": 13,
    "start_time": "2022-09-29T04:10:25.009Z"
   },
   {
    "duration": 4,
    "start_time": "2022-09-29T04:10:31.140Z"
   },
   {
    "duration": 11,
    "start_time": "2022-09-29T04:10:32.138Z"
   },
   {
    "duration": 3,
    "start_time": "2022-09-29T04:11:21.312Z"
   },
   {
    "duration": 628,
    "start_time": "2022-09-29T04:11:22.871Z"
   },
   {
    "duration": 28,
    "start_time": "2022-09-29T04:11:24.471Z"
   },
   {
    "duration": 6,
    "start_time": "2022-09-29T04:11:25.105Z"
   },
   {
    "duration": 30,
    "start_time": "2022-09-29T04:11:28.242Z"
   },
   {
    "duration": 11,
    "start_time": "2022-09-29T04:11:46.078Z"
   },
   {
    "duration": 2,
    "start_time": "2022-09-29T04:11:50.377Z"
   },
   {
    "duration": 2,
    "start_time": "2022-09-29T04:11:51.116Z"
   },
   {
    "duration": 134539,
    "start_time": "2022-09-29T04:11:52.202Z"
   },
   {
    "duration": 4,
    "start_time": "2022-09-29T04:14:11.511Z"
   },
   {
    "duration": 4,
    "start_time": "2022-09-29T04:14:14.118Z"
   },
   {
    "duration": 4,
    "start_time": "2022-09-29T04:14:26.688Z"
   },
   {
    "duration": 317,
    "start_time": "2022-09-29T04:14:32.698Z"
   },
   {
    "duration": 25,
    "start_time": "2022-09-29T04:14:39.055Z"
   },
   {
    "duration": 6,
    "start_time": "2022-09-29T04:14:40.233Z"
   },
   {
    "duration": 27,
    "start_time": "2022-09-29T04:14:41.964Z"
   },
   {
    "duration": 28118,
    "start_time": "2022-09-29T04:15:14.211Z"
   },
   {
    "duration": 4,
    "start_time": "2022-09-29T04:16:16.958Z"
   },
   {
    "duration": 4,
    "start_time": "2022-09-29T04:16:18.693Z"
   },
   {
    "duration": 3,
    "start_time": "2022-09-29T04:18:19.478Z"
   },
   {
    "duration": 5002,
    "start_time": "2022-09-29T04:18:20.656Z"
   },
   {
    "duration": 12,
    "start_time": "2022-09-29T04:18:33.854Z"
   },
   {
    "duration": 3,
    "start_time": "2022-09-29T04:19:24.559Z"
   },
   {
    "duration": 3,
    "start_time": "2022-09-29T04:19:25.619Z"
   },
   {
    "duration": 3,
    "start_time": "2022-09-29T04:19:26.968Z"
   },
   {
    "duration": 116525,
    "start_time": "2022-09-29T04:19:28.463Z"
   },
   {
    "duration": 5,
    "start_time": "2022-09-29T04:21:48.030Z"
   },
   {
    "duration": 3,
    "start_time": "2022-09-29T04:21:51.485Z"
   },
   {
    "duration": 3,
    "start_time": "2022-09-29T04:21:55.315Z"
   },
   {
    "duration": 2411,
    "start_time": "2022-09-29T04:22:23.841Z"
   },
   {
    "duration": 6,
    "start_time": "2022-09-29T04:22:29.080Z"
   },
   {
    "duration": 5,
    "start_time": "2022-09-29T04:22:31.780Z"
   },
   {
    "duration": 4,
    "start_time": "2022-09-29T04:22:33.659Z"
   },
   {
    "duration": 7,
    "start_time": "2022-09-29T04:22:34.775Z"
   },
   {
    "duration": 2,
    "start_time": "2022-09-29T04:26:24.543Z"
   },
   {
    "duration": 13,
    "start_time": "2022-09-29T04:26:25.486Z"
   },
   {
    "duration": 19,
    "start_time": "2022-09-29T04:27:25.585Z"
   },
   {
    "duration": 3,
    "start_time": "2022-09-29T04:27:34.034Z"
   },
   {
    "duration": 12,
    "start_time": "2022-09-29T04:27:34.865Z"
   },
   {
    "duration": 3,
    "start_time": "2022-09-29T04:27:56.152Z"
   },
   {
    "duration": 14,
    "start_time": "2022-09-29T04:27:56.993Z"
   },
   {
    "duration": 2,
    "start_time": "2022-09-29T04:28:39.715Z"
   },
   {
    "duration": 29,
    "start_time": "2022-09-29T04:28:40.316Z"
   },
   {
    "duration": 19,
    "start_time": "2022-09-29T04:28:41.178Z"
   },
   {
    "duration": 3,
    "start_time": "2022-09-29T04:29:27.088Z"
   },
   {
    "duration": 28,
    "start_time": "2022-09-29T04:29:27.633Z"
   },
   {
    "duration": 11,
    "start_time": "2022-09-29T04:29:28.440Z"
   },
   {
    "duration": 7,
    "start_time": "2022-09-29T04:29:36.073Z"
   },
   {
    "duration": 30,
    "start_time": "2022-09-29T04:29:39.921Z"
   },
   {
    "duration": 7,
    "start_time": "2022-09-29T04:29:40.868Z"
   },
   {
    "duration": 15,
    "start_time": "2022-09-29T04:29:55.546Z"
   },
   {
    "duration": 6,
    "start_time": "2022-09-29T04:30:09.723Z"
   },
   {
    "duration": 3,
    "start_time": "2022-09-29T04:35:45.574Z"
   },
   {
    "duration": 353,
    "start_time": "2022-09-29T04:35:48.818Z"
   },
   {
    "duration": 23,
    "start_time": "2022-09-29T04:35:52.277Z"
   },
   {
    "duration": 5,
    "start_time": "2022-09-29T04:35:53.019Z"
   },
   {
    "duration": 26,
    "start_time": "2022-09-29T04:35:54.517Z"
   },
   {
    "duration": 4,
    "start_time": "2022-09-29T04:37:11.005Z"
   },
   {
    "duration": 2201,
    "start_time": "2022-09-29T04:37:11.011Z"
   },
   {
    "duration": 3,
    "start_time": "2022-09-29T04:37:13.215Z"
   },
   {
    "duration": 106,
    "start_time": "2022-09-29T04:37:13.219Z"
   },
   {
    "duration": 13,
    "start_time": "2022-09-29T04:37:13.327Z"
   },
   {
    "duration": 17,
    "start_time": "2022-09-29T04:37:13.342Z"
   },
   {
    "duration": 11,
    "start_time": "2022-09-29T04:37:13.361Z"
   },
   {
    "duration": 12,
    "start_time": "2022-09-29T04:37:13.374Z"
   },
   {
    "duration": 51,
    "start_time": "2022-09-29T04:37:13.388Z"
   },
   {
    "duration": 11,
    "start_time": "2022-09-29T04:37:13.441Z"
   },
   {
    "duration": 16,
    "start_time": "2022-09-29T04:37:13.455Z"
   },
   {
    "duration": 19,
    "start_time": "2022-09-29T04:37:13.472Z"
   },
   {
    "duration": 27,
    "start_time": "2022-09-29T04:37:13.493Z"
   },
   {
    "duration": 12,
    "start_time": "2022-09-29T04:37:13.522Z"
   },
   {
    "duration": 11,
    "start_time": "2022-09-29T04:37:13.536Z"
   },
   {
    "duration": 10,
    "start_time": "2022-09-29T04:37:13.549Z"
   },
   {
    "duration": 8,
    "start_time": "2022-09-29T04:37:13.560Z"
   },
   {
    "duration": 13,
    "start_time": "2022-09-29T04:37:13.569Z"
   },
   {
    "duration": 38,
    "start_time": "2022-09-29T04:37:13.584Z"
   },
   {
    "duration": 130,
    "start_time": "2022-09-29T04:37:13.623Z"
   },
   {
    "duration": 7,
    "start_time": "2022-09-29T04:37:13.754Z"
   },
   {
    "duration": 27,
    "start_time": "2022-09-29T04:37:13.762Z"
   },
   {
    "duration": 5,
    "start_time": "2022-09-29T04:37:13.790Z"
   },
   {
    "duration": 26,
    "start_time": "2022-09-29T04:37:13.796Z"
   },
   {
    "duration": 29,
    "start_time": "2022-09-29T04:37:13.823Z"
   },
   {
    "duration": 22,
    "start_time": "2022-09-29T04:37:13.854Z"
   },
   {
    "duration": 5,
    "start_time": "2022-09-29T04:37:13.878Z"
   },
   {
    "duration": 41,
    "start_time": "2022-09-29T04:37:13.884Z"
   },
   {
    "duration": 31,
    "start_time": "2022-09-29T04:37:13.930Z"
   },
   {
    "duration": 59,
    "start_time": "2022-09-29T04:37:13.963Z"
   },
   {
    "duration": 7,
    "start_time": "2022-09-29T04:37:14.024Z"
   },
   {
    "duration": 12,
    "start_time": "2022-09-29T04:37:14.033Z"
   },
   {
    "duration": 6,
    "start_time": "2022-09-29T04:37:14.047Z"
   },
   {
    "duration": 6,
    "start_time": "2022-09-29T04:37:14.055Z"
   },
   {
    "duration": 12,
    "start_time": "2022-09-29T04:37:14.063Z"
   },
   {
    "duration": 49,
    "start_time": "2022-09-29T04:37:14.077Z"
   },
   {
    "duration": 13100,
    "start_time": "2022-09-29T04:37:14.128Z"
   },
   {
    "duration": 5,
    "start_time": "2022-09-29T04:37:27.231Z"
   },
   {
    "duration": 16,
    "start_time": "2022-09-29T04:37:27.237Z"
   },
   {
    "duration": 7,
    "start_time": "2022-09-29T04:37:27.255Z"
   },
   {
    "duration": 36,
    "start_time": "2022-09-29T04:37:27.264Z"
   },
   {
    "duration": 36,
    "start_time": "2022-09-29T04:37:27.302Z"
   },
   {
    "duration": 3,
    "start_time": "2022-09-29T04:37:27.340Z"
   },
   {
    "duration": 7,
    "start_time": "2022-09-29T04:37:27.344Z"
   },
   {
    "duration": 21,
    "start_time": "2022-09-29T04:37:27.352Z"
   },
   {
    "duration": 10,
    "start_time": "2022-09-29T04:37:27.374Z"
   },
   {
    "duration": 9,
    "start_time": "2022-09-29T04:37:27.386Z"
   },
   {
    "duration": 26,
    "start_time": "2022-09-29T04:37:27.396Z"
   },
   {
    "duration": 135335,
    "start_time": "2022-09-29T04:37:27.424Z"
   },
   {
    "duration": 4,
    "start_time": "2022-09-29T04:39:42.761Z"
   },
   {
    "duration": 23,
    "start_time": "2022-09-29T04:39:42.767Z"
   },
   {
    "duration": 23,
    "start_time": "2022-09-29T04:39:42.792Z"
   },
   {
    "duration": 319,
    "start_time": "2022-09-29T04:39:42.817Z"
   },
   {
    "duration": 24,
    "start_time": "2022-09-29T04:39:43.138Z"
   },
   {
    "duration": 7,
    "start_time": "2022-09-29T04:39:43.163Z"
   },
   {
    "duration": 48,
    "start_time": "2022-09-29T04:39:43.171Z"
   },
   {
    "duration": 27815,
    "start_time": "2022-09-29T04:39:43.221Z"
   },
   {
    "duration": 3,
    "start_time": "2022-09-29T04:40:11.038Z"
   },
   {
    "duration": 10,
    "start_time": "2022-09-29T04:40:11.043Z"
   },
   {
    "duration": 6,
    "start_time": "2022-09-29T04:40:11.055Z"
   },
   {
    "duration": 4695,
    "start_time": "2022-09-29T04:40:11.063Z"
   },
   {
    "duration": 14,
    "start_time": "2022-09-29T04:40:15.760Z"
   },
   {
    "duration": 4,
    "start_time": "2022-09-29T04:40:15.821Z"
   },
   {
    "duration": 31,
    "start_time": "2022-09-29T04:40:15.827Z"
   },
   {
    "duration": 8,
    "start_time": "2022-09-29T04:40:15.860Z"
   },
   {
    "duration": 36852,
    "start_time": "2022-09-29T04:40:15.869Z"
   },
   {
    "duration": 4,
    "start_time": "2022-09-29T04:40:52.723Z"
   },
   {
    "duration": 109,
    "start_time": "2022-09-29T04:40:52.732Z"
   },
   {
    "duration": 10,
    "start_time": "2022-09-29T04:40:52.842Z"
   },
   {
    "duration": 25,
    "start_time": "2022-09-29T04:40:52.854Z"
   },
   {
    "duration": 447,
    "start_time": "2022-09-29T04:40:52.881Z"
   },
   {
    "duration": 93,
    "start_time": "2022-09-29T04:40:53.329Z"
   },
   {
    "duration": 112,
    "start_time": "2022-09-29T04:40:53.424Z"
   },
   {
    "duration": 90,
    "start_time": "2022-09-29T04:40:53.538Z"
   },
   {
    "duration": 91,
    "start_time": "2022-09-29T04:40:53.632Z"
   },
   {
    "duration": 96,
    "start_time": "2022-09-29T04:40:53.725Z"
   },
   {
    "duration": 9,
    "start_time": "2022-09-29T04:40:53.823Z"
   },
   {
    "duration": 114591,
    "start_time": "2022-09-29T04:40:53.834Z"
   },
   {
    "duration": 3,
    "start_time": "2022-09-29T04:42:48.427Z"
   },
   {
    "duration": 8,
    "start_time": "2022-09-29T04:42:48.432Z"
   },
   {
    "duration": 10,
    "start_time": "2022-09-29T04:42:48.441Z"
   },
   {
    "duration": 2343,
    "start_time": "2022-09-29T04:42:48.453Z"
   },
   {
    "duration": 6,
    "start_time": "2022-09-29T04:42:50.801Z"
   },
   {
    "duration": 21,
    "start_time": "2022-09-29T04:42:50.808Z"
   },
   {
    "duration": 13,
    "start_time": "2022-09-29T04:42:50.831Z"
   },
   {
    "duration": 10,
    "start_time": "2022-09-29T04:42:50.846Z"
   },
   {
    "duration": 10,
    "start_time": "2022-09-29T04:42:50.857Z"
   },
   {
    "duration": 128,
    "start_time": "2022-09-29T04:42:50.868Z"
   },
   {
    "duration": 3,
    "start_time": "2022-09-29T04:42:50.998Z"
   },
   {
    "duration": 18,
    "start_time": "2022-09-29T04:42:51.003Z"
   },
   {
    "duration": 3,
    "start_time": "2022-09-29T04:43:11.369Z"
   },
   {
    "duration": 3,
    "start_time": "2022-09-29T04:43:12.102Z"
   },
   {
    "duration": 240,
    "start_time": "2022-09-29T04:43:12.984Z"
   },
   {
    "duration": 6,
    "start_time": "2022-09-29T04:43:16.699Z"
   },
   {
    "duration": 6,
    "start_time": "2022-09-29T04:43:17.930Z"
   },
   {
    "duration": 11,
    "start_time": "2022-09-29T04:43:19.024Z"
   },
   {
    "duration": 3,
    "start_time": "2022-09-29T04:43:46.442Z"
   },
   {
    "duration": 2,
    "start_time": "2022-09-29T04:43:47.174Z"
   },
   {
    "duration": 3,
    "start_time": "2022-09-29T04:43:47.687Z"
   },
   {
    "duration": 109799,
    "start_time": "2022-09-29T04:43:49.295Z"
   },
   {
    "duration": 4,
    "start_time": "2022-09-29T04:45:44.396Z"
   },
   {
    "duration": 4,
    "start_time": "2022-09-29T04:45:56.834Z"
   },
   {
    "duration": 3,
    "start_time": "2022-09-29T04:46:18.531Z"
   },
   {
    "duration": 8226,
    "start_time": "2022-09-29T04:46:20.150Z"
   },
   {
    "duration": 7,
    "start_time": "2022-09-29T04:46:28.378Z"
   },
   {
    "duration": 5,
    "start_time": "2022-09-29T04:46:31.780Z"
   },
   {
    "duration": 4,
    "start_time": "2022-09-29T04:46:34.545Z"
   },
   {
    "duration": 9,
    "start_time": "2022-09-29T04:46:36.366Z"
   },
   {
    "duration": 33,
    "start_time": "2022-09-29T04:54:20.971Z"
   },
   {
    "duration": 28,
    "start_time": "2022-09-29T04:54:34.016Z"
   },
   {
    "duration": 4,
    "start_time": "2022-09-29T04:54:51.483Z"
   },
   {
    "duration": 21,
    "start_time": "2022-09-29T04:55:06.428Z"
   },
   {
    "duration": 5,
    "start_time": "2022-09-29T05:00:53.120Z"
   },
   {
    "duration": 2587,
    "start_time": "2022-09-29T05:00:53.127Z"
   },
   {
    "duration": 4,
    "start_time": "2022-09-29T05:00:55.716Z"
   },
   {
    "duration": 119,
    "start_time": "2022-09-29T05:00:55.723Z"
   },
   {
    "duration": 16,
    "start_time": "2022-09-29T05:00:55.844Z"
   },
   {
    "duration": 18,
    "start_time": "2022-09-29T05:00:55.862Z"
   },
   {
    "duration": 12,
    "start_time": "2022-09-29T05:00:55.882Z"
   },
   {
    "duration": 26,
    "start_time": "2022-09-29T05:00:55.896Z"
   },
   {
    "duration": 35,
    "start_time": "2022-09-29T05:00:55.925Z"
   },
   {
    "duration": 11,
    "start_time": "2022-09-29T05:00:55.962Z"
   },
   {
    "duration": 12,
    "start_time": "2022-09-29T05:00:55.975Z"
   },
   {
    "duration": 32,
    "start_time": "2022-09-29T05:00:55.989Z"
   },
   {
    "duration": 7,
    "start_time": "2022-09-29T05:00:56.024Z"
   },
   {
    "duration": 13,
    "start_time": "2022-09-29T05:00:56.033Z"
   },
   {
    "duration": 13,
    "start_time": "2022-09-29T05:00:56.048Z"
   },
   {
    "duration": 10,
    "start_time": "2022-09-29T05:00:56.063Z"
   },
   {
    "duration": 19,
    "start_time": "2022-09-29T05:00:56.074Z"
   },
   {
    "duration": 21,
    "start_time": "2022-09-29T05:00:56.120Z"
   },
   {
    "duration": 9,
    "start_time": "2022-09-29T05:00:56.143Z"
   },
   {
    "duration": 129,
    "start_time": "2022-09-29T05:00:56.154Z"
   },
   {
    "duration": 6,
    "start_time": "2022-09-29T05:00:56.285Z"
   },
   {
    "duration": 27,
    "start_time": "2022-09-29T05:00:56.292Z"
   },
   {
    "duration": 4,
    "start_time": "2022-09-29T05:00:56.321Z"
   },
   {
    "duration": 16,
    "start_time": "2022-09-29T05:00:56.330Z"
   },
   {
    "duration": 26,
    "start_time": "2022-09-29T05:00:56.347Z"
   },
   {
    "duration": 51,
    "start_time": "2022-09-29T05:00:56.375Z"
   },
   {
    "duration": 5,
    "start_time": "2022-09-29T05:00:56.428Z"
   },
   {
    "duration": 20,
    "start_time": "2022-09-29T05:00:56.434Z"
   },
   {
    "duration": 32,
    "start_time": "2022-09-29T05:00:56.455Z"
   },
   {
    "duration": 59,
    "start_time": "2022-09-29T05:00:56.488Z"
   },
   {
    "duration": 7,
    "start_time": "2022-09-29T05:00:56.549Z"
   },
   {
    "duration": 9,
    "start_time": "2022-09-29T05:00:56.558Z"
   },
   {
    "duration": 24,
    "start_time": "2022-09-29T05:00:56.569Z"
   },
   {
    "duration": 19,
    "start_time": "2022-09-29T05:00:56.594Z"
   },
   {
    "duration": 13,
    "start_time": "2022-09-29T05:00:56.615Z"
   },
   {
    "duration": 14,
    "start_time": "2022-09-29T05:00:56.630Z"
   },
   {
    "duration": 13406,
    "start_time": "2022-09-29T05:00:56.646Z"
   },
   {
    "duration": 5,
    "start_time": "2022-09-29T05:01:10.054Z"
   },
   {
    "duration": 30,
    "start_time": "2022-09-29T05:01:10.060Z"
   },
   {
    "duration": 34,
    "start_time": "2022-09-29T05:01:10.093Z"
   },
   {
    "duration": 43,
    "start_time": "2022-09-29T05:01:10.129Z"
   },
   {
    "duration": 20,
    "start_time": "2022-09-29T05:01:10.174Z"
   },
   {
    "duration": 4,
    "start_time": "2022-09-29T05:01:10.196Z"
   },
   {
    "duration": 11,
    "start_time": "2022-09-29T05:01:10.202Z"
   },
   {
    "duration": 21,
    "start_time": "2022-09-29T05:01:10.215Z"
   },
   {
    "duration": 11,
    "start_time": "2022-09-29T05:01:10.237Z"
   },
   {
    "duration": 3,
    "start_time": "2022-09-29T05:01:10.250Z"
   },
   {
    "duration": 6,
    "start_time": "2022-09-29T05:01:10.255Z"
   },
   {
    "duration": 131769,
    "start_time": "2022-09-29T05:01:10.263Z"
   },
   {
    "duration": 3,
    "start_time": "2022-09-29T05:03:22.034Z"
   },
   {
    "duration": 17,
    "start_time": "2022-09-29T05:03:22.039Z"
   },
   {
    "duration": 23,
    "start_time": "2022-09-29T05:03:22.058Z"
   },
   {
    "duration": 299,
    "start_time": "2022-09-29T05:03:22.083Z"
   },
   {
    "duration": 26,
    "start_time": "2022-09-29T05:03:22.384Z"
   },
   {
    "duration": 12,
    "start_time": "2022-09-29T05:03:22.412Z"
   },
   {
    "duration": 43,
    "start_time": "2022-09-29T05:03:22.425Z"
   },
   {
    "duration": 26891,
    "start_time": "2022-09-29T05:03:22.470Z"
   },
   {
    "duration": 58,
    "start_time": "2022-09-29T05:03:49.363Z"
   },
   {
    "duration": 4,
    "start_time": "2022-09-29T05:03:49.424Z"
   },
   {
    "duration": 12,
    "start_time": "2022-09-29T05:03:49.431Z"
   },
   {
    "duration": 4896,
    "start_time": "2022-09-29T05:03:49.445Z"
   },
   {
    "duration": 12,
    "start_time": "2022-09-29T05:03:54.343Z"
   },
   {
    "duration": 9,
    "start_time": "2022-09-29T05:03:54.357Z"
   },
   {
    "duration": 63,
    "start_time": "2022-09-29T05:03:54.368Z"
   },
   {
    "duration": 9,
    "start_time": "2022-09-29T05:03:54.432Z"
   },
   {
    "duration": 36483,
    "start_time": "2022-09-29T05:03:54.443Z"
   },
   {
    "duration": 95,
    "start_time": "2022-09-29T05:04:30.928Z"
   },
   {
    "duration": 32,
    "start_time": "2022-09-29T05:04:31.025Z"
   },
   {
    "duration": 8,
    "start_time": "2022-09-29T05:04:31.063Z"
   },
   {
    "duration": 34,
    "start_time": "2022-09-29T05:04:31.073Z"
   },
   {
    "duration": 9,
    "start_time": "2022-09-29T05:04:31.121Z"
   },
   {
    "duration": 102,
    "start_time": "2022-09-29T05:04:31.221Z"
   },
   {
    "duration": 9,
    "start_time": "2022-09-29T05:04:31.325Z"
   },
   {
    "duration": 189,
    "start_time": "2022-09-29T05:04:31.336Z"
   },
   {
    "duration": 25,
    "start_time": "2022-09-29T05:04:31.526Z"
   },
   {
    "duration": 68,
    "start_time": "2022-09-29T05:04:31.553Z"
   },
   {
    "duration": 3,
    "start_time": "2022-09-29T05:04:31.626Z"
   },
   {
    "duration": 115,
    "start_time": "2022-09-29T05:04:31.631Z"
   },
   {
    "duration": 136354,
    "start_time": "2022-09-29T05:04:31.748Z"
   },
   {
    "duration": 4,
    "start_time": "2022-09-29T05:06:48.103Z"
   },
   {
    "duration": 9,
    "start_time": "2022-09-29T05:06:48.109Z"
   },
   {
    "duration": 6,
    "start_time": "2022-09-29T05:06:48.119Z"
   },
   {
    "duration": 9677,
    "start_time": "2022-09-29T05:06:48.126Z"
   },
   {
    "duration": 10,
    "start_time": "2022-09-29T05:06:57.805Z"
   },
   {
    "duration": 7,
    "start_time": "2022-09-29T05:06:57.817Z"
   },
   {
    "duration": 6,
    "start_time": "2022-09-29T05:06:57.826Z"
   },
   {
    "duration": 13,
    "start_time": "2022-09-29T05:06:57.834Z"
   },
   {
    "duration": 4,
    "start_time": "2022-09-29T05:06:57.849Z"
   },
   {
    "duration": 149,
    "start_time": "2022-09-29T05:06:57.855Z"
   },
   {
    "duration": 4,
    "start_time": "2022-09-29T05:06:58.006Z"
   },
   {
    "duration": 8,
    "start_time": "2022-09-29T05:06:58.020Z"
   },
   {
    "duration": 3,
    "start_time": "2022-09-29T05:07:35.190Z"
   },
   {
    "duration": 4363,
    "start_time": "2022-09-29T05:07:36.083Z"
   },
   {
    "duration": 13,
    "start_time": "2022-09-29T05:09:53.337Z"
   },
   {
    "duration": 3,
    "start_time": "2022-09-29T05:13:23.294Z"
   },
   {
    "duration": 8939,
    "start_time": "2022-09-29T05:13:24.974Z"
   },
   {
    "duration": 10,
    "start_time": "2022-09-29T05:13:46.464Z"
   },
   {
    "duration": 6,
    "start_time": "2022-09-29T05:13:50.662Z"
   },
   {
    "duration": 5,
    "start_time": "2022-09-29T05:13:51.640Z"
   },
   {
    "duration": 10,
    "start_time": "2022-09-29T05:13:54.932Z"
   },
   {
    "duration": 127,
    "start_time": "2022-09-29T05:14:16.839Z"
   },
   {
    "duration": 4,
    "start_time": "2022-09-29T05:14:26.996Z"
   },
   {
    "duration": 7584,
    "start_time": "2022-09-29T05:14:27.735Z"
   },
   {
    "duration": 8,
    "start_time": "2022-09-29T05:14:35.321Z"
   },
   {
    "duration": 6,
    "start_time": "2022-09-29T05:14:36.698Z"
   },
   {
    "duration": 4,
    "start_time": "2022-09-29T05:14:38.003Z"
   },
   {
    "duration": 10,
    "start_time": "2022-09-29T05:14:41.010Z"
   },
   {
    "duration": 3,
    "start_time": "2022-09-29T05:15:12.598Z"
   },
   {
    "duration": 3,
    "start_time": "2022-09-29T05:15:13.631Z"
   },
   {
    "duration": 3,
    "start_time": "2022-09-29T05:15:14.458Z"
   },
   {
    "duration": 453515,
    "start_time": "2022-09-29T05:15:15.153Z"
   },
   {
    "duration": 5,
    "start_time": "2022-09-29T05:23:08.954Z"
   },
   {
    "duration": 4,
    "start_time": "2022-09-29T05:23:14.535Z"
   },
   {
    "duration": 3,
    "start_time": "2022-09-29T05:23:58.105Z"
   },
   {
    "duration": 7950,
    "start_time": "2022-09-29T05:24:01.475Z"
   },
   {
    "duration": 11,
    "start_time": "2022-09-29T05:24:23.997Z"
   },
   {
    "duration": 10,
    "start_time": "2022-09-29T05:25:10.099Z"
   },
   {
    "duration": 11,
    "start_time": "2022-09-29T05:31:54.171Z"
   },
   {
    "duration": 11,
    "start_time": "2022-09-29T05:32:02.769Z"
   },
   {
    "duration": 5,
    "start_time": "2022-09-29T05:32:11.254Z"
   },
   {
    "duration": 5,
    "start_time": "2022-09-29T05:32:34.928Z"
   },
   {
    "duration": 12,
    "start_time": "2022-09-29T05:32:51.262Z"
   },
   {
    "duration": 12,
    "start_time": "2022-09-29T05:33:05.834Z"
   },
   {
    "duration": 11,
    "start_time": "2022-09-29T05:33:12.802Z"
   },
   {
    "duration": 6,
    "start_time": "2022-09-29T05:33:14.892Z"
   },
   {
    "duration": 10,
    "start_time": "2022-09-29T05:33:20.279Z"
   },
   {
    "duration": 5,
    "start_time": "2022-09-29T05:33:21.072Z"
   },
   {
    "duration": 20,
    "start_time": "2022-09-29T05:33:44.065Z"
   },
   {
    "duration": 10,
    "start_time": "2022-09-29T05:33:54.890Z"
   },
   {
    "duration": 6,
    "start_time": "2022-09-29T05:33:56.032Z"
   },
   {
    "duration": 10,
    "start_time": "2022-09-29T05:34:01.954Z"
   },
   {
    "duration": 6,
    "start_time": "2022-09-29T05:34:02.655Z"
   },
   {
    "duration": 12,
    "start_time": "2022-09-29T05:34:12.178Z"
   },
   {
    "duration": 5,
    "start_time": "2022-09-29T05:34:13.460Z"
   },
   {
    "duration": 11,
    "start_time": "2022-09-29T05:34:18.233Z"
   },
   {
    "duration": 6,
    "start_time": "2022-09-29T05:34:18.808Z"
   },
   {
    "duration": 5,
    "start_time": "2022-09-29T05:34:56.577Z"
   },
   {
    "duration": 2210,
    "start_time": "2022-09-29T05:34:56.584Z"
   },
   {
    "duration": 3,
    "start_time": "2022-09-29T05:34:58.797Z"
   },
   {
    "duration": 120,
    "start_time": "2022-09-29T05:34:58.801Z"
   },
   {
    "duration": 19,
    "start_time": "2022-09-29T05:34:58.924Z"
   },
   {
    "duration": 24,
    "start_time": "2022-09-29T05:34:58.945Z"
   },
   {
    "duration": 12,
    "start_time": "2022-09-29T05:34:58.971Z"
   },
   {
    "duration": 16,
    "start_time": "2022-09-29T05:34:58.985Z"
   },
   {
    "duration": 42,
    "start_time": "2022-09-29T05:34:59.003Z"
   },
   {
    "duration": 11,
    "start_time": "2022-09-29T05:34:59.047Z"
   },
   {
    "duration": 28,
    "start_time": "2022-09-29T05:34:59.061Z"
   },
   {
    "duration": 35,
    "start_time": "2022-09-29T05:34:59.090Z"
   },
   {
    "duration": 16,
    "start_time": "2022-09-29T05:34:59.127Z"
   },
   {
    "duration": 20,
    "start_time": "2022-09-29T05:34:59.144Z"
   },
   {
    "duration": 19,
    "start_time": "2022-09-29T05:34:59.166Z"
   },
   {
    "duration": 16,
    "start_time": "2022-09-29T05:34:59.188Z"
   },
   {
    "duration": 26,
    "start_time": "2022-09-29T05:34:59.206Z"
   },
   {
    "duration": 35,
    "start_time": "2022-09-29T05:34:59.234Z"
   },
   {
    "duration": 14,
    "start_time": "2022-09-29T05:34:59.271Z"
   },
   {
    "duration": 148,
    "start_time": "2022-09-29T05:34:59.286Z"
   },
   {
    "duration": 6,
    "start_time": "2022-09-29T05:34:59.436Z"
   },
   {
    "duration": 37,
    "start_time": "2022-09-29T05:34:59.444Z"
   },
   {
    "duration": 7,
    "start_time": "2022-09-29T05:34:59.483Z"
   },
   {
    "duration": 39,
    "start_time": "2022-09-29T05:34:59.492Z"
   },
   {
    "duration": 33,
    "start_time": "2022-09-29T05:34:59.533Z"
   },
   {
    "duration": 23,
    "start_time": "2022-09-29T05:34:59.568Z"
   },
   {
    "duration": 7,
    "start_time": "2022-09-29T05:34:59.593Z"
   },
   {
    "duration": 29,
    "start_time": "2022-09-29T05:34:59.602Z"
   },
   {
    "duration": 38,
    "start_time": "2022-09-29T05:34:59.635Z"
   },
   {
    "duration": 52,
    "start_time": "2022-09-29T05:34:59.674Z"
   },
   {
    "duration": 8,
    "start_time": "2022-09-29T05:34:59.727Z"
   },
   {
    "duration": 21,
    "start_time": "2022-09-29T05:34:59.737Z"
   },
   {
    "duration": 10,
    "start_time": "2022-09-29T05:34:59.760Z"
   },
   {
    "duration": 24,
    "start_time": "2022-09-29T05:34:59.772Z"
   },
   {
    "duration": 21,
    "start_time": "2022-09-29T05:34:59.798Z"
   },
   {
    "duration": 28,
    "start_time": "2022-09-29T05:34:59.821Z"
   },
   {
    "duration": 14186,
    "start_time": "2022-09-29T05:34:59.851Z"
   },
   {
    "duration": 6,
    "start_time": "2022-09-29T05:35:14.038Z"
   },
   {
    "duration": 79,
    "start_time": "2022-09-29T05:35:14.045Z"
   },
   {
    "duration": 4,
    "start_time": "2022-09-29T05:35:14.126Z"
   },
   {
    "duration": 63,
    "start_time": "2022-09-29T05:35:14.131Z"
   },
   {
    "duration": 26,
    "start_time": "2022-09-29T05:35:14.196Z"
   },
   {
    "duration": 5,
    "start_time": "2022-09-29T05:35:14.224Z"
   },
   {
    "duration": 10,
    "start_time": "2022-09-29T05:35:14.231Z"
   },
   {
    "duration": 42,
    "start_time": "2022-09-29T05:35:14.242Z"
   },
   {
    "duration": 30,
    "start_time": "2022-09-29T05:35:14.286Z"
   },
   {
    "duration": 15,
    "start_time": "2022-09-29T05:35:14.318Z"
   },
   {
    "duration": 37,
    "start_time": "2022-09-29T05:35:14.334Z"
   },
   {
    "duration": 0,
    "start_time": "2022-09-29T05:35:14.374Z"
   },
   {
    "duration": 0,
    "start_time": "2022-09-29T05:35:14.375Z"
   },
   {
    "duration": 0,
    "start_time": "2022-09-29T05:35:14.377Z"
   },
   {
    "duration": 0,
    "start_time": "2022-09-29T05:35:14.378Z"
   },
   {
    "duration": 0,
    "start_time": "2022-09-29T05:35:14.379Z"
   },
   {
    "duration": 0,
    "start_time": "2022-09-29T05:35:14.380Z"
   },
   {
    "duration": 0,
    "start_time": "2022-09-29T05:35:14.381Z"
   },
   {
    "duration": 0,
    "start_time": "2022-09-29T05:35:14.382Z"
   },
   {
    "duration": 11,
    "start_time": "2022-09-29T05:35:34.687Z"
   },
   {
    "duration": 10,
    "start_time": "2022-09-29T05:35:50.460Z"
   },
   {
    "duration": 3,
    "start_time": "2022-09-29T05:36:07.580Z"
   },
   {
    "duration": 3,
    "start_time": "2022-09-29T05:36:09.381Z"
   },
   {
    "duration": 3832,
    "start_time": "2022-09-29T05:36:10.724Z"
   },
   {
    "duration": 4,
    "start_time": "2022-09-29T05:36:32.815Z"
   },
   {
    "duration": 4,
    "start_time": "2022-09-29T05:36:34.754Z"
   },
   {
    "duration": 5,
    "start_time": "2022-09-29T05:37:10.169Z"
   },
   {
    "duration": 2194,
    "start_time": "2022-09-29T05:37:10.176Z"
   },
   {
    "duration": 4,
    "start_time": "2022-09-29T05:37:12.371Z"
   },
   {
    "duration": 110,
    "start_time": "2022-09-29T05:37:12.376Z"
   },
   {
    "duration": 15,
    "start_time": "2022-09-29T05:37:12.488Z"
   },
   {
    "duration": 18,
    "start_time": "2022-09-29T05:37:12.504Z"
   },
   {
    "duration": 12,
    "start_time": "2022-09-29T05:37:12.524Z"
   },
   {
    "duration": 28,
    "start_time": "2022-09-29T05:37:12.538Z"
   },
   {
    "duration": 32,
    "start_time": "2022-09-29T05:37:12.568Z"
   },
   {
    "duration": 18,
    "start_time": "2022-09-29T05:37:12.602Z"
   },
   {
    "duration": 11,
    "start_time": "2022-09-29T05:37:12.622Z"
   },
   {
    "duration": 25,
    "start_time": "2022-09-29T05:37:12.635Z"
   },
   {
    "duration": 14,
    "start_time": "2022-09-29T05:37:12.662Z"
   },
   {
    "duration": 13,
    "start_time": "2022-09-29T05:37:12.680Z"
   },
   {
    "duration": 35,
    "start_time": "2022-09-29T05:37:12.694Z"
   },
   {
    "duration": 11,
    "start_time": "2022-09-29T05:37:12.731Z"
   },
   {
    "duration": 10,
    "start_time": "2022-09-29T05:37:12.744Z"
   },
   {
    "duration": 15,
    "start_time": "2022-09-29T05:37:12.756Z"
   },
   {
    "duration": 11,
    "start_time": "2022-09-29T05:37:12.773Z"
   },
   {
    "duration": 149,
    "start_time": "2022-09-29T05:37:12.786Z"
   },
   {
    "duration": 8,
    "start_time": "2022-09-29T05:37:12.936Z"
   },
   {
    "duration": 24,
    "start_time": "2022-09-29T05:37:12.945Z"
   },
   {
    "duration": 4,
    "start_time": "2022-09-29T05:37:12.971Z"
   },
   {
    "duration": 19,
    "start_time": "2022-09-29T05:37:12.977Z"
   },
   {
    "duration": 43,
    "start_time": "2022-09-29T05:37:12.998Z"
   },
   {
    "duration": 24,
    "start_time": "2022-09-29T05:37:13.042Z"
   },
   {
    "duration": 5,
    "start_time": "2022-09-29T05:37:13.068Z"
   },
   {
    "duration": 16,
    "start_time": "2022-09-29T05:37:13.074Z"
   },
   {
    "duration": 56,
    "start_time": "2022-09-29T05:37:13.092Z"
   },
   {
    "duration": 43,
    "start_time": "2022-09-29T05:37:13.149Z"
   },
   {
    "duration": 31,
    "start_time": "2022-09-29T05:37:13.193Z"
   },
   {
    "duration": 10,
    "start_time": "2022-09-29T05:37:13.226Z"
   },
   {
    "duration": 8,
    "start_time": "2022-09-29T05:37:13.238Z"
   },
   {
    "duration": 7,
    "start_time": "2022-09-29T05:37:13.248Z"
   },
   {
    "duration": 13,
    "start_time": "2022-09-29T05:37:13.256Z"
   },
   {
    "duration": 25,
    "start_time": "2022-09-29T05:37:13.271Z"
   },
   {
    "duration": 2940,
    "start_time": "2022-09-29T05:37:13.297Z"
   },
   {
    "duration": 4,
    "start_time": "2022-09-29T05:37:16.239Z"
   },
   {
    "duration": 21,
    "start_time": "2022-09-29T05:37:16.245Z"
   },
   {
    "duration": 8,
    "start_time": "2022-09-29T05:37:16.268Z"
   },
   {
    "duration": 34,
    "start_time": "2022-09-29T05:37:16.324Z"
   },
   {
    "duration": 21,
    "start_time": "2022-09-29T05:37:16.360Z"
   },
   {
    "duration": 4,
    "start_time": "2022-09-29T05:37:16.383Z"
   },
   {
    "duration": 7,
    "start_time": "2022-09-29T05:37:16.389Z"
   },
   {
    "duration": 17,
    "start_time": "2022-09-29T05:37:16.422Z"
   },
   {
    "duration": 10,
    "start_time": "2022-09-29T05:37:16.441Z"
   },
   {
    "duration": 18,
    "start_time": "2022-09-29T05:37:16.453Z"
   },
   {
    "duration": 10,
    "start_time": "2022-09-29T05:37:16.473Z"
   },
   {
    "duration": 8,
    "start_time": "2022-09-29T05:37:16.485Z"
   },
   {
    "duration": 117528,
    "start_time": "2022-09-29T05:37:21.859Z"
   },
   {
    "duration": 4,
    "start_time": "2022-09-29T05:39:43.195Z"
   },
   {
    "duration": 4,
    "start_time": "2022-09-29T05:39:46.826Z"
   },
   {
    "duration": 3,
    "start_time": "2022-09-29T05:40:26.188Z"
   },
   {
    "duration": 299,
    "start_time": "2022-09-29T05:40:27.742Z"
   },
   {
    "duration": 31,
    "start_time": "2022-09-29T05:40:31.595Z"
   },
   {
    "duration": 7,
    "start_time": "2022-09-29T05:40:32.540Z"
   },
   {
    "duration": 33,
    "start_time": "2022-09-29T05:40:35.150Z"
   },
   {
    "duration": 3,
    "start_time": "2022-09-29T05:40:58.013Z"
   },
   {
    "duration": 265,
    "start_time": "2022-09-29T05:41:00.170Z"
   },
   {
    "duration": 30,
    "start_time": "2022-09-29T05:41:01.674Z"
   },
   {
    "duration": 9,
    "start_time": "2022-09-29T05:41:02.737Z"
   },
   {
    "duration": 34,
    "start_time": "2022-09-29T05:41:04.098Z"
   },
   {
    "duration": 3,
    "start_time": "2022-09-29T05:41:52.246Z"
   },
   {
    "duration": 3,
    "start_time": "2022-09-29T05:41:53.078Z"
   },
   {
    "duration": 105720,
    "start_time": "2022-09-29T05:41:54.622Z"
   },
   {
    "duration": 4,
    "start_time": "2022-09-29T05:43:46.097Z"
   },
   {
    "duration": 4,
    "start_time": "2022-09-29T05:43:49.448Z"
   },
   {
    "duration": 3,
    "start_time": "2022-09-29T05:43:52.724Z"
   },
   {
    "duration": 264,
    "start_time": "2022-09-29T05:43:53.552Z"
   },
   {
    "duration": 32,
    "start_time": "2022-09-29T05:43:56.438Z"
   },
   {
    "duration": 6,
    "start_time": "2022-09-29T05:43:57.364Z"
   },
   {
    "duration": 32,
    "start_time": "2022-09-29T05:43:58.628Z"
   },
   {
    "duration": 26,
    "start_time": "2022-09-29T05:46:11.584Z"
   },
   {
    "duration": 21,
    "start_time": "2022-09-29T05:47:08.116Z"
   },
   {
    "duration": 19,
    "start_time": "2022-09-29T05:47:29.340Z"
   },
   {
    "duration": 14,
    "start_time": "2022-09-29T05:49:04.631Z"
   },
   {
    "duration": 6,
    "start_time": "2022-09-29T05:49:14.619Z"
   },
   {
    "duration": 11,
    "start_time": "2022-09-29T05:49:22.385Z"
   },
   {
    "duration": 6,
    "start_time": "2022-09-29T05:49:24.782Z"
   },
   {
    "duration": 5,
    "start_time": "2022-09-29T05:49:39.920Z"
   },
   {
    "duration": 11,
    "start_time": "2022-09-29T05:49:49.281Z"
   },
   {
    "duration": 5,
    "start_time": "2022-09-29T05:49:51.504Z"
   },
   {
    "duration": 11,
    "start_time": "2022-09-29T05:49:56.996Z"
   },
   {
    "duration": 5,
    "start_time": "2022-09-29T05:49:59.231Z"
   },
   {
    "duration": 12,
    "start_time": "2022-09-29T05:50:25.731Z"
   },
   {
    "duration": 7,
    "start_time": "2022-09-29T05:50:28.807Z"
   },
   {
    "duration": 11,
    "start_time": "2022-09-29T05:50:53.553Z"
   },
   {
    "duration": 6,
    "start_time": "2022-09-29T05:50:54.951Z"
   },
   {
    "duration": 3,
    "start_time": "2022-09-29T05:51:23.615Z"
   },
   {
    "duration": 3,
    "start_time": "2022-09-29T05:51:24.283Z"
   },
   {
    "duration": 77893,
    "start_time": "2022-09-29T05:51:26.682Z"
   },
   {
    "duration": 4,
    "start_time": "2022-09-29T05:52:49.026Z"
   },
   {
    "duration": 4,
    "start_time": "2022-09-29T05:53:04.998Z"
   },
   {
    "duration": 4,
    "start_time": "2022-09-29T05:53:06.599Z"
   },
   {
    "duration": 3,
    "start_time": "2022-09-29T05:53:10.154Z"
   },
   {
    "duration": 69,
    "start_time": "2022-09-29T05:53:29.150Z"
   },
   {
    "duration": 14,
    "start_time": "2022-09-29T05:53:31.061Z"
   },
   {
    "duration": 7,
    "start_time": "2022-09-29T05:53:33.500Z"
   },
   {
    "duration": 17,
    "start_time": "2022-09-29T05:53:35.847Z"
   },
   {
    "duration": 5,
    "start_time": "2022-09-29T05:55:17.178Z"
   },
   {
    "duration": 2243,
    "start_time": "2022-09-29T05:55:17.185Z"
   },
   {
    "duration": 3,
    "start_time": "2022-09-29T05:55:19.430Z"
   },
   {
    "duration": 110,
    "start_time": "2022-09-29T05:55:19.435Z"
   },
   {
    "duration": 13,
    "start_time": "2022-09-29T05:55:19.547Z"
   },
   {
    "duration": 14,
    "start_time": "2022-09-29T05:55:19.562Z"
   },
   {
    "duration": 12,
    "start_time": "2022-09-29T05:55:19.578Z"
   },
   {
    "duration": 12,
    "start_time": "2022-09-29T05:55:19.591Z"
   },
   {
    "duration": 28,
    "start_time": "2022-09-29T05:55:19.620Z"
   },
   {
    "duration": 12,
    "start_time": "2022-09-29T05:55:19.650Z"
   },
   {
    "duration": 18,
    "start_time": "2022-09-29T05:55:19.664Z"
   },
   {
    "duration": 18,
    "start_time": "2022-09-29T05:55:19.684Z"
   },
   {
    "duration": 9,
    "start_time": "2022-09-29T05:55:19.721Z"
   },
   {
    "duration": 12,
    "start_time": "2022-09-29T05:55:19.732Z"
   },
   {
    "duration": 23,
    "start_time": "2022-09-29T05:55:19.746Z"
   },
   {
    "duration": 9,
    "start_time": "2022-09-29T05:55:19.771Z"
   },
   {
    "duration": 8,
    "start_time": "2022-09-29T05:55:19.781Z"
   },
   {
    "duration": 38,
    "start_time": "2022-09-29T05:55:19.791Z"
   },
   {
    "duration": 11,
    "start_time": "2022-09-29T05:55:19.831Z"
   },
   {
    "duration": 130,
    "start_time": "2022-09-29T05:55:19.843Z"
   },
   {
    "duration": 6,
    "start_time": "2022-09-29T05:55:19.975Z"
   },
   {
    "duration": 14,
    "start_time": "2022-09-29T05:55:19.983Z"
   },
   {
    "duration": 4,
    "start_time": "2022-09-29T05:55:19.999Z"
   },
   {
    "duration": 16,
    "start_time": "2022-09-29T05:55:20.022Z"
   },
   {
    "duration": 32,
    "start_time": "2022-09-29T05:55:20.040Z"
   },
   {
    "duration": 23,
    "start_time": "2022-09-29T05:55:20.074Z"
   },
   {
    "duration": 24,
    "start_time": "2022-09-29T05:55:20.099Z"
   },
   {
    "duration": 18,
    "start_time": "2022-09-29T05:55:20.125Z"
   },
   {
    "duration": 36,
    "start_time": "2022-09-29T05:55:20.145Z"
   },
   {
    "duration": 50,
    "start_time": "2022-09-29T05:55:20.183Z"
   },
   {
    "duration": 7,
    "start_time": "2022-09-29T05:55:20.235Z"
   },
   {
    "duration": 10,
    "start_time": "2022-09-29T05:55:20.244Z"
   },
   {
    "duration": 14,
    "start_time": "2022-09-29T05:55:20.255Z"
   },
   {
    "duration": 8,
    "start_time": "2022-09-29T05:55:20.271Z"
   },
   {
    "duration": 17,
    "start_time": "2022-09-29T05:55:20.281Z"
   },
   {
    "duration": 60,
    "start_time": "2022-09-29T05:55:20.300Z"
   },
   {
    "duration": 13574,
    "start_time": "2022-09-29T05:55:20.362Z"
   },
   {
    "duration": 5,
    "start_time": "2022-09-29T05:55:33.938Z"
   },
   {
    "duration": 10,
    "start_time": "2022-09-29T05:55:33.945Z"
   },
   {
    "duration": 3,
    "start_time": "2022-09-29T05:55:33.957Z"
   },
   {
    "duration": 61,
    "start_time": "2022-09-29T05:55:33.962Z"
   },
   {
    "duration": 20,
    "start_time": "2022-09-29T05:55:34.024Z"
   },
   {
    "duration": 4,
    "start_time": "2022-09-29T05:55:34.045Z"
   },
   {
    "duration": 8,
    "start_time": "2022-09-29T05:55:34.050Z"
   },
   {
    "duration": 7,
    "start_time": "2022-09-29T05:55:34.059Z"
   },
   {
    "duration": 13,
    "start_time": "2022-09-29T05:55:34.068Z"
   },
   {
    "duration": 11,
    "start_time": "2022-09-29T05:55:34.083Z"
   },
   {
    "duration": 8,
    "start_time": "2022-09-29T05:55:34.096Z"
   },
   {
    "duration": 17,
    "start_time": "2022-09-29T05:55:34.105Z"
   },
   {
    "duration": 77843,
    "start_time": "2022-09-29T05:55:34.124Z"
   },
   {
    "duration": 5,
    "start_time": "2022-09-29T05:56:51.968Z"
   },
   {
    "duration": 20,
    "start_time": "2022-09-29T05:56:51.974Z"
   },
   {
    "duration": 18,
    "start_time": "2022-09-29T05:56:51.996Z"
   },
   {
    "duration": 93,
    "start_time": "2022-09-29T05:56:52.015Z"
   },
   {
    "duration": 15,
    "start_time": "2022-09-29T05:56:52.109Z"
   },
   {
    "duration": 5,
    "start_time": "2022-09-29T05:56:52.126Z"
   },
   {
    "duration": 33,
    "start_time": "2022-09-29T05:56:52.133Z"
   },
   {
    "duration": 99055,
    "start_time": "2022-09-29T05:56:52.167Z"
   },
   {
    "duration": 5,
    "start_time": "2022-09-29T05:58:31.224Z"
   },
   {
    "duration": 30,
    "start_time": "2022-09-29T05:58:31.231Z"
   },
   {
    "duration": 24,
    "start_time": "2022-09-29T05:58:31.264Z"
   },
   {
    "duration": 27,
    "start_time": "2022-09-29T05:58:31.290Z"
   },
   {
    "duration": 17,
    "start_time": "2022-09-29T05:58:31.319Z"
   },
   {
    "duration": 24,
    "start_time": "2022-09-29T05:58:31.337Z"
   },
   {
    "duration": 42563,
    "start_time": "2022-09-29T05:58:31.363Z"
   },
   {
    "duration": 94,
    "start_time": "2022-09-29T05:59:13.928Z"
   },
   {
    "duration": 8,
    "start_time": "2022-09-29T05:59:14.025Z"
   },
   {
    "duration": 5,
    "start_time": "2022-09-29T05:59:14.035Z"
   },
   {
    "duration": 76,
    "start_time": "2022-09-29T05:59:14.045Z"
   },
   {
    "duration": 10,
    "start_time": "2022-09-29T05:59:14.123Z"
   },
   {
    "duration": 14,
    "start_time": "2022-09-29T05:59:14.135Z"
   },
   {
    "duration": 11,
    "start_time": "2022-09-29T05:59:14.151Z"
   },
   {
    "duration": 17,
    "start_time": "2022-09-29T05:59:14.163Z"
   },
   {
    "duration": 10,
    "start_time": "2022-09-29T05:59:14.182Z"
   },
   {
    "duration": 16,
    "start_time": "2022-09-29T05:59:14.194Z"
   },
   {
    "duration": 20,
    "start_time": "2022-09-29T05:59:14.212Z"
   },
   {
    "duration": 27,
    "start_time": "2022-09-29T05:59:14.234Z"
   },
   {
    "duration": 363114,
    "start_time": "2022-09-29T05:59:14.262Z"
   },
   {
    "duration": 5,
    "start_time": "2022-09-29T06:05:17.377Z"
   },
   {
    "duration": 6,
    "start_time": "2022-09-29T06:05:17.384Z"
   },
   {
    "duration": 6,
    "start_time": "2022-09-29T06:05:17.392Z"
   },
   {
    "duration": 11,
    "start_time": "2022-09-29T06:05:17.399Z"
   },
   {
    "duration": 6,
    "start_time": "2022-09-29T06:05:17.412Z"
   },
   {
    "duration": 12,
    "start_time": "2022-09-29T06:05:17.420Z"
   },
   {
    "duration": 24,
    "start_time": "2022-09-29T06:05:17.434Z"
   },
   {
    "duration": 8,
    "start_time": "2022-09-29T06:05:17.460Z"
   },
   {
    "duration": 6,
    "start_time": "2022-09-29T06:05:17.469Z"
   },
   {
    "duration": 133,
    "start_time": "2022-09-29T06:05:17.476Z"
   },
   {
    "duration": 3,
    "start_time": "2022-09-29T06:05:17.611Z"
   },
   {
    "duration": 11,
    "start_time": "2022-09-29T06:05:17.616Z"
   },
   {
    "duration": 3,
    "start_time": "2022-09-29T06:05:49.220Z"
   },
   {
    "duration": 53985,
    "start_time": "2022-09-29T06:05:53.039Z"
   },
   {
    "duration": 5,
    "start_time": "2022-09-29T06:06:54.369Z"
   },
   {
    "duration": 4,
    "start_time": "2022-09-29T06:06:56.594Z"
   },
   {
    "duration": 12,
    "start_time": "2022-09-29T06:09:10.627Z"
   },
   {
    "duration": 7,
    "start_time": "2022-09-29T06:09:13.387Z"
   },
   {
    "duration": 5,
    "start_time": "2022-09-29T06:10:52.927Z"
   },
   {
    "duration": 2454,
    "start_time": "2022-09-29T06:10:52.934Z"
   },
   {
    "duration": 4,
    "start_time": "2022-09-29T06:10:55.390Z"
   },
   {
    "duration": 114,
    "start_time": "2022-09-29T06:10:55.396Z"
   },
   {
    "duration": 14,
    "start_time": "2022-09-29T06:10:55.512Z"
   },
   {
    "duration": 55,
    "start_time": "2022-09-29T06:10:55.528Z"
   },
   {
    "duration": 23,
    "start_time": "2022-09-29T06:10:55.584Z"
   },
   {
    "duration": 25,
    "start_time": "2022-09-29T06:10:55.609Z"
   },
   {
    "duration": 48,
    "start_time": "2022-09-29T06:10:55.636Z"
   },
   {
    "duration": 28,
    "start_time": "2022-09-29T06:10:55.686Z"
   },
   {
    "duration": 23,
    "start_time": "2022-09-29T06:10:55.716Z"
   },
   {
    "duration": 32,
    "start_time": "2022-09-29T06:10:55.741Z"
   },
   {
    "duration": 38,
    "start_time": "2022-09-29T06:10:55.775Z"
   },
   {
    "duration": 43,
    "start_time": "2022-09-29T06:10:55.815Z"
   },
   {
    "duration": 32,
    "start_time": "2022-09-29T06:10:55.860Z"
   },
   {
    "duration": 29,
    "start_time": "2022-09-29T06:10:55.894Z"
   },
   {
    "duration": 15,
    "start_time": "2022-09-29T06:10:55.925Z"
   },
   {
    "duration": 19,
    "start_time": "2022-09-29T06:10:55.942Z"
   },
   {
    "duration": 14,
    "start_time": "2022-09-29T06:10:55.962Z"
   },
   {
    "duration": 131,
    "start_time": "2022-09-29T06:10:55.977Z"
   },
   {
    "duration": 13,
    "start_time": "2022-09-29T06:10:56.110Z"
   },
   {
    "duration": 17,
    "start_time": "2022-09-29T06:10:56.124Z"
   },
   {
    "duration": 5,
    "start_time": "2022-09-29T06:10:56.143Z"
   },
   {
    "duration": 23,
    "start_time": "2022-09-29T06:10:56.152Z"
   },
   {
    "duration": 28,
    "start_time": "2022-09-29T06:10:56.177Z"
   },
   {
    "duration": 22,
    "start_time": "2022-09-29T06:10:56.220Z"
   },
   {
    "duration": 4,
    "start_time": "2022-09-29T06:10:56.244Z"
   },
   {
    "duration": 16,
    "start_time": "2022-09-29T06:10:56.249Z"
   },
   {
    "duration": 53,
    "start_time": "2022-09-29T06:10:56.267Z"
   },
   {
    "duration": 46,
    "start_time": "2022-09-29T06:10:56.322Z"
   },
   {
    "duration": 9,
    "start_time": "2022-09-29T06:10:56.369Z"
   },
   {
    "duration": 14,
    "start_time": "2022-09-29T06:10:56.380Z"
   },
   {
    "duration": 29,
    "start_time": "2022-09-29T06:10:56.395Z"
   },
   {
    "duration": 7,
    "start_time": "2022-09-29T06:10:56.425Z"
   },
   {
    "duration": 11,
    "start_time": "2022-09-29T06:10:56.434Z"
   },
   {
    "duration": 15,
    "start_time": "2022-09-29T06:10:56.447Z"
   },
   {
    "duration": 13570,
    "start_time": "2022-09-29T06:10:56.464Z"
   },
   {
    "duration": 5,
    "start_time": "2022-09-29T06:11:10.036Z"
   },
   {
    "duration": 20,
    "start_time": "2022-09-29T06:11:10.042Z"
   },
   {
    "duration": 22,
    "start_time": "2022-09-29T06:11:10.063Z"
   },
   {
    "duration": 49,
    "start_time": "2022-09-29T06:11:10.087Z"
   },
   {
    "duration": 23,
    "start_time": "2022-09-29T06:11:10.137Z"
   },
   {
    "duration": 3,
    "start_time": "2022-09-29T06:11:10.162Z"
   },
   {
    "duration": 16,
    "start_time": "2022-09-29T06:11:10.167Z"
   },
   {
    "duration": 14,
    "start_time": "2022-09-29T06:11:10.184Z"
   },
   {
    "duration": 36,
    "start_time": "2022-09-29T06:11:10.200Z"
   },
   {
    "duration": 36,
    "start_time": "2022-09-29T06:11:10.238Z"
   },
   {
    "duration": 13,
    "start_time": "2022-09-29T06:11:10.276Z"
   },
   {
    "duration": 11,
    "start_time": "2022-09-29T06:11:10.290Z"
   },
   {
    "duration": 8,
    "start_time": "2022-09-29T06:11:10.303Z"
   },
   {
    "duration": 129748,
    "start_time": "2022-09-29T06:11:10.313Z"
   },
   {
    "duration": 4,
    "start_time": "2022-09-29T06:13:20.063Z"
   },
   {
    "duration": 18,
    "start_time": "2022-09-29T06:13:20.069Z"
   },
   {
    "duration": 12,
    "start_time": "2022-09-29T06:13:20.089Z"
   },
   {
    "duration": 117,
    "start_time": "2022-09-29T06:13:20.103Z"
   },
   {
    "duration": 15,
    "start_time": "2022-09-29T06:13:20.222Z"
   },
   {
    "duration": 14,
    "start_time": "2022-09-29T06:13:20.239Z"
   },
   {
    "duration": 21,
    "start_time": "2022-09-29T06:13:20.255Z"
   },
   {
    "duration": 1044,
    "start_time": "2022-09-29T06:13:20.278Z"
   },
   {
    "duration": 0,
    "start_time": "2022-09-29T06:13:21.325Z"
   },
   {
    "duration": 0,
    "start_time": "2022-09-29T06:13:21.326Z"
   },
   {
    "duration": 0,
    "start_time": "2022-09-29T06:13:21.327Z"
   },
   {
    "duration": 0,
    "start_time": "2022-09-29T06:13:21.328Z"
   },
   {
    "duration": 0,
    "start_time": "2022-09-29T06:13:21.330Z"
   },
   {
    "duration": 0,
    "start_time": "2022-09-29T06:13:21.331Z"
   },
   {
    "duration": 0,
    "start_time": "2022-09-29T06:13:21.332Z"
   },
   {
    "duration": 0,
    "start_time": "2022-09-29T06:13:21.333Z"
   },
   {
    "duration": 0,
    "start_time": "2022-09-29T06:13:21.334Z"
   },
   {
    "duration": 0,
    "start_time": "2022-09-29T06:13:21.335Z"
   },
   {
    "duration": 0,
    "start_time": "2022-09-29T06:13:21.336Z"
   },
   {
    "duration": 0,
    "start_time": "2022-09-29T06:13:21.338Z"
   },
   {
    "duration": 0,
    "start_time": "2022-09-29T06:13:21.338Z"
   },
   {
    "duration": 0,
    "start_time": "2022-09-29T06:13:21.340Z"
   },
   {
    "duration": 0,
    "start_time": "2022-09-29T06:13:21.341Z"
   },
   {
    "duration": 0,
    "start_time": "2022-09-29T06:13:21.342Z"
   },
   {
    "duration": 0,
    "start_time": "2022-09-29T06:13:21.343Z"
   },
   {
    "duration": 0,
    "start_time": "2022-09-29T06:13:21.344Z"
   },
   {
    "duration": 0,
    "start_time": "2022-09-29T06:13:21.345Z"
   },
   {
    "duration": 0,
    "start_time": "2022-09-29T06:13:21.346Z"
   },
   {
    "duration": 0,
    "start_time": "2022-09-29T06:13:21.347Z"
   },
   {
    "duration": 0,
    "start_time": "2022-09-29T06:13:21.348Z"
   },
   {
    "duration": 0,
    "start_time": "2022-09-29T06:13:21.349Z"
   },
   {
    "duration": 0,
    "start_time": "2022-09-29T06:13:21.350Z"
   },
   {
    "duration": 0,
    "start_time": "2022-09-29T06:13:21.351Z"
   },
   {
    "duration": 0,
    "start_time": "2022-09-29T06:13:21.352Z"
   },
   {
    "duration": 0,
    "start_time": "2022-09-29T06:13:21.354Z"
   },
   {
    "duration": 887,
    "start_time": "2022-09-29T06:14:35.268Z"
   },
   {
    "duration": 4,
    "start_time": "2022-09-29T06:23:53.127Z"
   },
   {
    "duration": 2289,
    "start_time": "2022-09-29T06:23:53.134Z"
   },
   {
    "duration": 4,
    "start_time": "2022-09-29T06:23:55.425Z"
   },
   {
    "duration": 115,
    "start_time": "2022-09-29T06:23:55.431Z"
   },
   {
    "duration": 14,
    "start_time": "2022-09-29T06:23:55.548Z"
   },
   {
    "duration": 27,
    "start_time": "2022-09-29T06:23:55.564Z"
   },
   {
    "duration": 13,
    "start_time": "2022-09-29T06:23:55.593Z"
   },
   {
    "duration": 27,
    "start_time": "2022-09-29T06:23:55.607Z"
   },
   {
    "duration": 30,
    "start_time": "2022-09-29T06:23:55.636Z"
   },
   {
    "duration": 11,
    "start_time": "2022-09-29T06:23:55.668Z"
   },
   {
    "duration": 25,
    "start_time": "2022-09-29T06:23:55.681Z"
   },
   {
    "duration": 38,
    "start_time": "2022-09-29T06:23:55.707Z"
   },
   {
    "duration": 18,
    "start_time": "2022-09-29T06:23:55.748Z"
   },
   {
    "duration": 16,
    "start_time": "2022-09-29T06:23:55.768Z"
   },
   {
    "duration": 19,
    "start_time": "2022-09-29T06:23:55.786Z"
   },
   {
    "duration": 42,
    "start_time": "2022-09-29T06:23:55.807Z"
   },
   {
    "duration": 21,
    "start_time": "2022-09-29T06:23:55.851Z"
   },
   {
    "duration": 15,
    "start_time": "2022-09-29T06:23:55.874Z"
   },
   {
    "duration": 14,
    "start_time": "2022-09-29T06:23:55.891Z"
   },
   {
    "duration": 134,
    "start_time": "2022-09-29T06:23:55.906Z"
   },
   {
    "duration": 6,
    "start_time": "2022-09-29T06:23:56.042Z"
   },
   {
    "duration": 23,
    "start_time": "2022-09-29T06:23:56.049Z"
   },
   {
    "duration": 48,
    "start_time": "2022-09-29T06:23:56.075Z"
   },
   {
    "duration": 31,
    "start_time": "2022-09-29T06:23:56.125Z"
   },
   {
    "duration": 36,
    "start_time": "2022-09-29T06:23:56.158Z"
   },
   {
    "duration": 45,
    "start_time": "2022-09-29T06:23:56.195Z"
   },
   {
    "duration": 10,
    "start_time": "2022-09-29T06:23:56.242Z"
   },
   {
    "duration": 69,
    "start_time": "2022-09-29T06:23:56.254Z"
   },
   {
    "duration": 96,
    "start_time": "2022-09-29T06:23:56.325Z"
   },
   {
    "duration": 41,
    "start_time": "2022-09-29T06:23:56.423Z"
   },
   {
    "duration": 7,
    "start_time": "2022-09-29T06:23:56.466Z"
   },
   {
    "duration": 11,
    "start_time": "2022-09-29T06:23:56.474Z"
   },
   {
    "duration": 40,
    "start_time": "2022-09-29T06:23:56.487Z"
   },
   {
    "duration": 19,
    "start_time": "2022-09-29T06:23:56.528Z"
   },
   {
    "duration": 14,
    "start_time": "2022-09-29T06:23:56.549Z"
   },
   {
    "duration": 28,
    "start_time": "2022-09-29T06:23:56.564Z"
   },
   {
    "duration": 13542,
    "start_time": "2022-09-29T06:23:56.597Z"
   },
   {
    "duration": 6,
    "start_time": "2022-09-29T06:24:10.142Z"
   },
   {
    "duration": 10,
    "start_time": "2022-09-29T06:24:10.150Z"
   },
   {
    "duration": 9,
    "start_time": "2022-09-29T06:24:10.162Z"
   },
   {
    "duration": 76,
    "start_time": "2022-09-29T06:24:10.173Z"
   },
   {
    "duration": 20,
    "start_time": "2022-09-29T06:24:10.251Z"
   },
   {
    "duration": 4,
    "start_time": "2022-09-29T06:24:10.273Z"
   },
   {
    "duration": 7,
    "start_time": "2022-09-29T06:24:10.278Z"
   },
   {
    "duration": 10,
    "start_time": "2022-09-29T06:24:10.286Z"
   },
   {
    "duration": 6,
    "start_time": "2022-09-29T06:24:10.298Z"
   },
   {
    "duration": 11,
    "start_time": "2022-09-29T06:24:10.321Z"
   },
   {
    "duration": 5,
    "start_time": "2022-09-29T06:24:10.334Z"
   },
   {
    "duration": 6,
    "start_time": "2022-09-29T06:24:10.341Z"
   },
   {
    "duration": 6,
    "start_time": "2022-09-29T06:24:10.349Z"
   },
   {
    "duration": 133805,
    "start_time": "2022-09-29T06:24:10.357Z"
   },
   {
    "duration": 4,
    "start_time": "2022-09-29T06:26:24.163Z"
   },
   {
    "duration": 9,
    "start_time": "2022-09-29T06:26:24.169Z"
   },
   {
    "duration": 9,
    "start_time": "2022-09-29T06:26:24.180Z"
   },
   {
    "duration": 361,
    "start_time": "2022-09-29T06:26:24.191Z"
   },
   {
    "duration": 16,
    "start_time": "2022-09-29T06:26:24.554Z"
   },
   {
    "duration": 0,
    "start_time": "2022-09-29T06:26:24.572Z"
   },
   {
    "duration": 0,
    "start_time": "2022-09-29T06:26:24.574Z"
   },
   {
    "duration": 1,
    "start_time": "2022-09-29T06:26:24.575Z"
   },
   {
    "duration": 0,
    "start_time": "2022-09-29T06:26:24.577Z"
   },
   {
    "duration": 0,
    "start_time": "2022-09-29T06:26:24.579Z"
   },
   {
    "duration": 0,
    "start_time": "2022-09-29T06:26:24.581Z"
   },
   {
    "duration": 0,
    "start_time": "2022-09-29T06:26:24.582Z"
   },
   {
    "duration": 0,
    "start_time": "2022-09-29T06:26:24.584Z"
   },
   {
    "duration": 0,
    "start_time": "2022-09-29T06:26:24.585Z"
   },
   {
    "duration": 40,
    "start_time": "2022-09-29T06:26:51.902Z"
   },
   {
    "duration": 37,
    "start_time": "2022-09-29T06:27:02.799Z"
   },
   {
    "duration": 71729,
    "start_time": "2022-09-29T06:27:54.734Z"
   },
   {
    "duration": 4,
    "start_time": "2022-09-29T06:29:17.300Z"
   },
   {
    "duration": 4,
    "start_time": "2022-09-29T06:29:19.212Z"
   },
   {
    "duration": 3,
    "start_time": "2022-09-29T06:29:27.129Z"
   },
   {
    "duration": 32583,
    "start_time": "2022-09-29T06:29:28.146Z"
   },
   {
    "duration": 4,
    "start_time": "2022-09-29T06:30:24.010Z"
   },
   {
    "duration": 4,
    "start_time": "2022-09-29T06:30:26.469Z"
   },
   {
    "duration": 4,
    "start_time": "2022-09-29T06:30:44.174Z"
   },
   {
    "duration": 4,
    "start_time": "2022-09-29T06:31:09.133Z"
   },
   {
    "duration": 419666,
    "start_time": "2022-09-29T06:31:16.263Z"
   },
   {
    "duration": 4,
    "start_time": "2022-09-29T06:38:23.364Z"
   },
   {
    "duration": 4,
    "start_time": "2022-09-29T06:38:25.886Z"
   },
   {
    "duration": 5,
    "start_time": "2022-09-29T06:50:07.114Z"
   },
   {
    "duration": 2341,
    "start_time": "2022-09-29T06:50:07.121Z"
   },
   {
    "duration": 4,
    "start_time": "2022-09-29T06:50:09.464Z"
   },
   {
    "duration": 119,
    "start_time": "2022-09-29T06:50:09.470Z"
   },
   {
    "duration": 15,
    "start_time": "2022-09-29T06:50:09.591Z"
   },
   {
    "duration": 17,
    "start_time": "2022-09-29T06:50:09.607Z"
   },
   {
    "duration": 13,
    "start_time": "2022-09-29T06:50:09.625Z"
   },
   {
    "duration": 15,
    "start_time": "2022-09-29T06:50:09.639Z"
   },
   {
    "duration": 30,
    "start_time": "2022-09-29T06:50:09.658Z"
   },
   {
    "duration": 35,
    "start_time": "2022-09-29T06:50:09.691Z"
   },
   {
    "duration": 18,
    "start_time": "2022-09-29T06:50:09.728Z"
   },
   {
    "duration": 23,
    "start_time": "2022-09-29T06:50:09.748Z"
   },
   {
    "duration": 7,
    "start_time": "2022-09-29T06:50:09.773Z"
   },
   {
    "duration": 30,
    "start_time": "2022-09-29T06:50:09.782Z"
   },
   {
    "duration": 16,
    "start_time": "2022-09-29T06:50:09.814Z"
   },
   {
    "duration": 19,
    "start_time": "2022-09-29T06:50:09.832Z"
   },
   {
    "duration": 18,
    "start_time": "2022-09-29T06:50:09.853Z"
   },
   {
    "duration": 20,
    "start_time": "2022-09-29T06:50:09.873Z"
   },
   {
    "duration": 22,
    "start_time": "2022-09-29T06:50:09.895Z"
   },
   {
    "duration": 137,
    "start_time": "2022-09-29T06:50:09.919Z"
   },
   {
    "duration": 7,
    "start_time": "2022-09-29T06:50:10.057Z"
   },
   {
    "duration": 38,
    "start_time": "2022-09-29T06:50:10.065Z"
   },
   {
    "duration": 23,
    "start_time": "2022-09-29T06:50:10.104Z"
   },
   {
    "duration": 29,
    "start_time": "2022-09-29T06:50:10.132Z"
   },
   {
    "duration": 43,
    "start_time": "2022-09-29T06:50:10.163Z"
   },
   {
    "duration": 33,
    "start_time": "2022-09-29T06:50:10.208Z"
   },
   {
    "duration": 29,
    "start_time": "2022-09-29T06:50:10.243Z"
   },
   {
    "duration": 49,
    "start_time": "2022-09-29T06:50:10.274Z"
   },
   {
    "duration": 48,
    "start_time": "2022-09-29T06:50:10.325Z"
   },
   {
    "duration": 40,
    "start_time": "2022-09-29T06:50:10.375Z"
   },
   {
    "duration": 8,
    "start_time": "2022-09-29T06:50:10.417Z"
   },
   {
    "duration": 22,
    "start_time": "2022-09-29T06:50:10.426Z"
   },
   {
    "duration": 17,
    "start_time": "2022-09-29T06:50:10.450Z"
   },
   {
    "duration": 32,
    "start_time": "2022-09-29T06:50:10.469Z"
   },
   {
    "duration": 49,
    "start_time": "2022-09-29T06:50:10.502Z"
   },
   {
    "duration": 56,
    "start_time": "2022-09-29T06:50:10.553Z"
   },
   {
    "duration": 13521,
    "start_time": "2022-09-29T06:50:10.611Z"
   },
   {
    "duration": 6,
    "start_time": "2022-09-29T06:50:24.134Z"
   },
   {
    "duration": 23,
    "start_time": "2022-09-29T06:50:24.142Z"
   },
   {
    "duration": 10,
    "start_time": "2022-09-29T06:50:24.167Z"
   },
   {
    "duration": 56,
    "start_time": "2022-09-29T06:50:24.179Z"
   },
   {
    "duration": 20,
    "start_time": "2022-09-29T06:50:24.237Z"
   },
   {
    "duration": 3,
    "start_time": "2022-09-29T06:50:24.259Z"
   },
   {
    "duration": 23,
    "start_time": "2022-09-29T06:50:24.263Z"
   },
   {
    "duration": 8,
    "start_time": "2022-09-29T06:50:24.288Z"
   },
   {
    "duration": 6,
    "start_time": "2022-09-29T06:50:24.298Z"
   },
   {
    "duration": 17,
    "start_time": "2022-09-29T06:50:24.306Z"
   },
   {
    "duration": 5,
    "start_time": "2022-09-29T06:50:24.325Z"
   },
   {
    "duration": 6,
    "start_time": "2022-09-29T06:50:24.332Z"
   },
   {
    "duration": 14,
    "start_time": "2022-09-29T06:50:24.339Z"
   },
   {
    "duration": 336577,
    "start_time": "2022-09-29T06:50:24.355Z"
   },
   {
    "duration": 4,
    "start_time": "2022-09-29T06:56:00.934Z"
   },
   {
    "duration": 40,
    "start_time": "2022-09-29T06:56:00.940Z"
   },
   {
    "duration": 25,
    "start_time": "2022-09-29T06:56:00.982Z"
   },
   {
    "duration": 119351,
    "start_time": "2022-09-29T06:56:01.009Z"
   },
   {
    "duration": 3,
    "start_time": "2022-09-29T06:58:00.363Z"
   },
   {
    "duration": 55,
    "start_time": "2022-09-29T06:58:00.368Z"
   },
   {
    "duration": 23,
    "start_time": "2022-09-29T06:58:00.425Z"
   },
   {
    "duration": 26,
    "start_time": "2022-09-29T06:58:00.450Z"
   },
   {
    "duration": 17156,
    "start_time": "2022-09-29T06:58:00.478Z"
   },
   {
    "duration": 5,
    "start_time": "2022-09-29T06:58:17.636Z"
   },
   {
    "duration": 6,
    "start_time": "2022-09-29T06:58:17.643Z"
   },
   {
    "duration": 8,
    "start_time": "2022-09-29T06:58:17.651Z"
   },
   {
    "duration": 5,
    "start_time": "2022-09-29T06:58:17.661Z"
   },
   {
    "duration": 6,
    "start_time": "2022-09-29T06:58:17.667Z"
   },
   {
    "duration": 452329,
    "start_time": "2022-09-29T06:58:17.674Z"
   },
   {
    "duration": 5,
    "start_time": "2022-09-29T07:05:50.004Z"
   },
   {
    "duration": 27,
    "start_time": "2022-09-29T07:05:50.011Z"
   },
   {
    "duration": 14,
    "start_time": "2022-09-29T07:05:50.046Z"
   },
   {
    "duration": 19,
    "start_time": "2022-09-29T07:05:50.063Z"
   },
   {
    "duration": 23,
    "start_time": "2022-09-29T07:05:50.084Z"
   },
   {
    "duration": 9,
    "start_time": "2022-09-29T07:05:50.109Z"
   },
   {
    "duration": 9,
    "start_time": "2022-09-29T07:05:50.120Z"
   },
   {
    "duration": 5,
    "start_time": "2022-09-29T07:05:50.131Z"
   },
   {
    "duration": 13,
    "start_time": "2022-09-29T07:05:50.138Z"
   },
   {
    "duration": 5,
    "start_time": "2022-09-29T07:05:50.153Z"
   },
   {
    "duration": 16,
    "start_time": "2022-09-29T07:05:50.160Z"
   },
   {
    "duration": 10,
    "start_time": "2022-09-29T07:05:50.179Z"
   },
   {
    "duration": 143,
    "start_time": "2022-09-29T07:05:50.191Z"
   },
   {
    "duration": 7,
    "start_time": "2022-09-29T07:05:50.336Z"
   },
   {
    "duration": 3,
    "start_time": "2022-09-29T07:09:05.595Z"
   },
   {
    "duration": 3,
    "start_time": "2022-09-29T07:10:01.118Z"
   },
   {
    "duration": 10689,
    "start_time": "2022-09-29T07:10:01.846Z"
   },
   {
    "duration": 17,
    "start_time": "2022-09-29T07:11:00.717Z"
   },
   {
    "duration": 139,
    "start_time": "2022-09-29T07:13:10.316Z"
   },
   {
    "duration": 35,
    "start_time": "2022-09-29T07:21:17.562Z"
   },
   {
    "duration": 36,
    "start_time": "2022-09-29T07:21:48.802Z"
   },
   {
    "duration": 38,
    "start_time": "2022-09-29T07:22:10.957Z"
   },
   {
    "duration": 513,
    "start_time": "2022-09-29T07:22:28.512Z"
   },
   {
    "duration": 518,
    "start_time": "2022-09-29T07:23:29.739Z"
   },
   {
    "duration": 520,
    "start_time": "2022-09-29T07:25:24.200Z"
   },
   {
    "duration": 506,
    "start_time": "2022-09-29T07:25:52.638Z"
   },
   {
    "duration": 1616,
    "start_time": "2022-09-29T17:43:22.804Z"
   },
   {
    "duration": 2817,
    "start_time": "2022-09-29T17:43:24.874Z"
   },
   {
    "duration": 314,
    "start_time": "2022-09-29T17:43:30.954Z"
   },
   {
    "duration": 304,
    "start_time": "2022-09-29T17:43:33.623Z"
   },
   {
    "duration": 12,
    "start_time": "2022-09-29T17:43:35.983Z"
   },
   {
    "duration": 14,
    "start_time": "2022-09-29T17:43:37.464Z"
   },
   {
    "duration": 12,
    "start_time": "2022-09-29T17:43:37.703Z"
   },
   {
    "duration": 12,
    "start_time": "2022-09-29T17:43:38.573Z"
   },
   {
    "duration": 23,
    "start_time": "2022-09-29T17:43:38.843Z"
   },
   {
    "duration": 10,
    "start_time": "2022-09-29T17:43:39.924Z"
   },
   {
    "duration": 9,
    "start_time": "2022-09-29T17:43:40.163Z"
   },
   {
    "duration": 14,
    "start_time": "2022-09-29T17:43:40.523Z"
   },
   {
    "duration": 7,
    "start_time": "2022-09-29T17:43:40.854Z"
   },
   {
    "duration": 12,
    "start_time": "2022-09-29T17:43:54.893Z"
   },
   {
    "duration": 12,
    "start_time": "2022-09-29T17:43:56.343Z"
   },
   {
    "duration": 8,
    "start_time": "2022-09-29T17:43:59.813Z"
   },
   {
    "duration": 7,
    "start_time": "2022-09-29T17:44:00.733Z"
   },
   {
    "duration": 11,
    "start_time": "2022-09-29T17:44:00.840Z"
   },
   {
    "duration": 5,
    "start_time": "2022-09-29T17:44:16.693Z"
   },
   {
    "duration": 102,
    "start_time": "2022-09-29T17:44:18.434Z"
   },
   {
    "duration": 6,
    "start_time": "2022-09-29T17:44:35.143Z"
   },
   {
    "duration": 13,
    "start_time": "2022-09-29T17:44:41.034Z"
   },
   {
    "duration": 5,
    "start_time": "2022-09-29T17:44:54.295Z"
   },
   {
    "duration": 14,
    "start_time": "2022-09-29T17:44:57.094Z"
   },
   {
    "duration": 36,
    "start_time": "2022-09-29T17:45:15.503Z"
   },
   {
    "duration": 20,
    "start_time": "2022-09-29T17:45:17.623Z"
   },
   {
    "duration": 4,
    "start_time": "2022-09-29T17:45:33.943Z"
   },
   {
    "duration": 13,
    "start_time": "2022-09-29T17:45:40.144Z"
   },
   {
    "duration": 26,
    "start_time": "2022-09-29T17:45:44.745Z"
   },
   {
    "duration": 50,
    "start_time": "2022-09-29T17:45:57.803Z"
   },
   {
    "duration": 8,
    "start_time": "2022-09-29T17:46:11.853Z"
   },
   {
    "duration": 9,
    "start_time": "2022-09-29T17:46:13.493Z"
   },
   {
    "duration": 7,
    "start_time": "2022-09-29T17:46:28.523Z"
   },
   {
    "duration": 6,
    "start_time": "2022-09-29T17:46:31.023Z"
   },
   {
    "duration": 12,
    "start_time": "2022-09-29T17:46:44.569Z"
   },
   {
    "duration": 21,
    "start_time": "2022-09-29T17:46:47.234Z"
   },
   {
    "duration": 12489,
    "start_time": "2022-09-29T17:47:34.563Z"
   },
   {
    "duration": 6,
    "start_time": "2022-09-29T17:48:02.143Z"
   },
   {
    "duration": 10,
    "start_time": "2022-09-29T17:48:03.044Z"
   },
   {
    "duration": 4,
    "start_time": "2022-09-29T17:48:05.453Z"
   },
   {
    "duration": 30,
    "start_time": "2022-09-29T17:48:14.533Z"
   },
   {
    "duration": 18,
    "start_time": "2022-09-29T17:48:15.183Z"
   },
   {
    "duration": 4,
    "start_time": "2022-09-29T17:48:38.103Z"
   },
   {
    "duration": 2,
    "start_time": "2022-09-29T17:48:39.804Z"
   },
   {
    "duration": 3,
    "start_time": "2022-09-29T17:48:40.224Z"
   },
   {
    "duration": 3,
    "start_time": "2022-09-29T17:48:46.105Z"
   },
   {
    "duration": 11,
    "start_time": "2022-09-29T17:48:47.113Z"
   },
   {
    "duration": 6,
    "start_time": "2022-09-29T17:48:48.833Z"
   },
   {
    "duration": 5,
    "start_time": "2022-09-29T17:49:27.193Z"
   },
   {
    "duration": 3,
    "start_time": "2022-09-29T17:49:39.196Z"
   },
   {
    "duration": 183,
    "start_time": "2022-09-29T17:49:59.086Z"
   },
   {
    "duration": 4,
    "start_time": "2022-09-29T17:50:02.806Z"
   },
   {
    "duration": 308244,
    "start_time": "2022-09-29T17:50:03.487Z"
   },
   {
    "duration": 4,
    "start_time": "2022-09-29T17:55:11.734Z"
   },
   {
    "duration": 9,
    "start_time": "2022-09-29T17:55:11.740Z"
   },
   {
    "duration": 41,
    "start_time": "2022-09-29T17:57:24.682Z"
   },
   {
    "duration": 226113,
    "start_time": "2022-09-29T17:59:45.262Z"
   },
   {
    "duration": 4,
    "start_time": "2022-09-29T18:03:31.377Z"
   },
   {
    "duration": 13,
    "start_time": "2022-09-29T18:03:31.383Z"
   },
   {
    "duration": 44,
    "start_time": "2022-09-29T18:03:31.398Z"
   },
   {
    "duration": 3,
    "start_time": "2022-09-29T18:05:04.803Z"
   },
   {
    "duration": 201,
    "start_time": "2022-09-29T18:05:42.105Z"
   },
   {
    "duration": 5,
    "start_time": "2022-09-29T18:33:43.832Z"
   },
   {
    "duration": 2067,
    "start_time": "2022-09-29T18:33:43.839Z"
   },
   {
    "duration": 3,
    "start_time": "2022-09-29T18:33:45.909Z"
   },
   {
    "duration": 129,
    "start_time": "2022-09-29T18:33:45.914Z"
   },
   {
    "duration": 17,
    "start_time": "2022-09-29T18:33:46.046Z"
   },
   {
    "duration": 31,
    "start_time": "2022-09-29T18:33:46.065Z"
   },
   {
    "duration": 33,
    "start_time": "2022-09-29T18:33:46.098Z"
   },
   {
    "duration": 36,
    "start_time": "2022-09-29T18:33:46.134Z"
   },
   {
    "duration": 57,
    "start_time": "2022-09-29T18:33:46.172Z"
   },
   {
    "duration": 11,
    "start_time": "2022-09-29T18:33:46.231Z"
   },
   {
    "duration": 22,
    "start_time": "2022-09-29T18:33:46.245Z"
   },
   {
    "duration": 28,
    "start_time": "2022-09-29T18:33:46.268Z"
   },
   {
    "duration": 12,
    "start_time": "2022-09-29T18:33:46.297Z"
   },
   {
    "duration": 22,
    "start_time": "2022-09-29T18:33:46.311Z"
   },
   {
    "duration": 33,
    "start_time": "2022-09-29T18:33:46.335Z"
   },
   {
    "duration": 14,
    "start_time": "2022-09-29T18:33:46.369Z"
   },
   {
    "duration": 19,
    "start_time": "2022-09-29T18:33:46.385Z"
   },
   {
    "duration": 28,
    "start_time": "2022-09-29T18:33:46.406Z"
   },
   {
    "duration": 20,
    "start_time": "2022-09-29T18:33:46.435Z"
   },
   {
    "duration": 114,
    "start_time": "2022-09-29T18:33:46.456Z"
   },
   {
    "duration": 6,
    "start_time": "2022-09-29T18:33:46.572Z"
   },
   {
    "duration": 25,
    "start_time": "2022-09-29T18:33:46.580Z"
   },
   {
    "duration": 4,
    "start_time": "2022-09-29T18:33:46.607Z"
   },
   {
    "duration": 26,
    "start_time": "2022-09-29T18:33:46.613Z"
   },
   {
    "duration": 39,
    "start_time": "2022-09-29T18:33:46.640Z"
   },
   {
    "duration": 20,
    "start_time": "2022-09-29T18:33:46.681Z"
   },
   {
    "duration": 4,
    "start_time": "2022-09-29T18:33:46.703Z"
   },
   {
    "duration": 31,
    "start_time": "2022-09-29T18:33:46.708Z"
   },
   {
    "duration": 46,
    "start_time": "2022-09-29T18:33:46.741Z"
   },
   {
    "duration": 39,
    "start_time": "2022-09-29T18:33:46.788Z"
   },
   {
    "duration": 8,
    "start_time": "2022-09-29T18:33:46.829Z"
   },
   {
    "duration": 29,
    "start_time": "2022-09-29T18:33:46.839Z"
   },
   {
    "duration": 18,
    "start_time": "2022-09-29T18:33:46.870Z"
   },
   {
    "duration": 18,
    "start_time": "2022-09-29T18:33:46.890Z"
   },
   {
    "duration": 34,
    "start_time": "2022-09-29T18:33:46.909Z"
   },
   {
    "duration": 23,
    "start_time": "2022-09-29T18:33:46.944Z"
   },
   {
    "duration": 11681,
    "start_time": "2022-09-29T18:33:46.968Z"
   },
   {
    "duration": 5,
    "start_time": "2022-09-29T18:33:58.651Z"
   },
   {
    "duration": 12,
    "start_time": "2022-09-29T18:33:58.658Z"
   },
   {
    "duration": 51,
    "start_time": "2022-09-29T18:33:58.671Z"
   },
   {
    "duration": 23,
    "start_time": "2022-09-29T18:34:43.780Z"
   },
   {
    "duration": 22,
    "start_time": "2022-09-29T18:34:53.611Z"
   },
   {
    "duration": 17,
    "start_time": "2022-09-29T18:35:13.035Z"
   },
   {
    "duration": 39,
    "start_time": "2022-09-29T18:35:22.739Z"
   },
   {
    "duration": 524,
    "start_time": "2022-09-29T18:35:36.017Z"
   },
   {
    "duration": 50,
    "start_time": "2022-09-29T18:35:55.611Z"
   },
   {
    "duration": 13,
    "start_time": "2022-09-29T18:36:24.104Z"
   },
   {
    "duration": 16,
    "start_time": "2022-09-29T18:36:30.776Z"
   },
   {
    "duration": 15,
    "start_time": "2022-09-29T18:37:03.614Z"
   },
   {
    "duration": 18,
    "start_time": "2022-09-29T18:37:29.423Z"
   },
   {
    "duration": 43,
    "start_time": "2022-09-29T18:37:42.670Z"
   },
   {
    "duration": 26,
    "start_time": "2022-09-29T18:37:57.743Z"
   },
   {
    "duration": 16,
    "start_time": "2022-09-29T18:38:08.576Z"
   },
   {
    "duration": 7,
    "start_time": "2022-09-29T18:38:55.156Z"
   },
   {
    "duration": 15,
    "start_time": "2022-09-29T18:39:02.170Z"
   },
   {
    "duration": 52,
    "start_time": "2022-09-29T18:39:18.943Z"
   },
   {
    "duration": 4,
    "start_time": "2022-09-29T18:39:22.435Z"
   },
   {
    "duration": 3,
    "start_time": "2022-09-29T18:39:23.692Z"
   },
   {
    "duration": 37,
    "start_time": "2022-09-29T18:39:51.424Z"
   },
   {
    "duration": 5,
    "start_time": "2022-09-29T18:40:16.523Z"
   },
   {
    "duration": 73,
    "start_time": "2022-09-29T18:40:30.835Z"
   },
   {
    "duration": 3,
    "start_time": "2022-09-29T18:40:34.223Z"
   },
   {
    "duration": 3,
    "start_time": "2022-09-29T18:40:35.936Z"
   },
   {
    "duration": 3,
    "start_time": "2022-09-29T18:40:38.802Z"
   },
   {
    "duration": 13,
    "start_time": "2022-09-29T18:40:39.783Z"
   },
   {
    "duration": 13,
    "start_time": "2022-09-29T18:40:56.064Z"
   },
   {
    "duration": 44,
    "start_time": "2022-09-29T18:41:16.043Z"
   },
   {
    "duration": 92,
    "start_time": "2022-09-29T18:42:27.418Z"
   },
   {
    "duration": 57,
    "start_time": "2022-09-29T18:42:53.742Z"
   },
   {
    "duration": 70,
    "start_time": "2022-09-29T18:43:41.598Z"
   },
   {
    "duration": 4,
    "start_time": "2022-09-29T18:44:33.202Z"
   },
   {
    "duration": 3,
    "start_time": "2022-09-29T18:44:37.232Z"
   },
   {
    "duration": 3,
    "start_time": "2022-09-29T18:46:15.282Z"
   },
   {
    "duration": 9,
    "start_time": "2022-09-29T18:46:52.986Z"
   },
   {
    "duration": 99,
    "start_time": "2022-09-29T18:48:32.855Z"
   },
   {
    "duration": 4,
    "start_time": "2022-09-29T18:48:40.081Z"
   },
   {
    "duration": 10,
    "start_time": "2022-09-29T18:48:42.330Z"
   },
   {
    "duration": 16,
    "start_time": "2022-09-29T18:48:46.024Z"
   },
   {
    "duration": 93,
    "start_time": "2022-09-29T18:49:04.285Z"
   },
   {
    "duration": 14,
    "start_time": "2022-09-29T18:49:14.307Z"
   },
   {
    "duration": 11,
    "start_time": "2022-09-29T18:49:26.214Z"
   },
   {
    "duration": 9,
    "start_time": "2022-09-29T18:49:32.258Z"
   },
   {
    "duration": 10,
    "start_time": "2022-09-29T18:53:03.022Z"
   },
   {
    "duration": 2,
    "start_time": "2022-09-29T18:53:09.610Z"
   },
   {
    "duration": 79,
    "start_time": "2022-09-29T18:54:14.352Z"
   },
   {
    "duration": 10,
    "start_time": "2022-09-29T18:54:19.902Z"
   },
   {
    "duration": 21,
    "start_time": "2022-09-29T18:54:36.772Z"
   },
   {
    "duration": 28,
    "start_time": "2022-09-29T18:54:47.342Z"
   },
   {
    "duration": 3,
    "start_time": "2022-09-29T18:55:35.495Z"
   },
   {
    "duration": 3,
    "start_time": "2022-09-29T18:55:36.732Z"
   },
   {
    "duration": 2006,
    "start_time": "2022-09-29T18:55:37.282Z"
   },
   {
    "duration": 3,
    "start_time": "2022-09-29T18:56:06.895Z"
   },
   {
    "duration": 2,
    "start_time": "2022-09-29T18:56:07.652Z"
   },
   {
    "duration": 1164,
    "start_time": "2022-09-29T18:56:08.082Z"
   },
   {
    "duration": 2,
    "start_time": "2022-09-29T18:57:45.717Z"
   },
   {
    "duration": 2,
    "start_time": "2022-09-29T18:57:46.214Z"
   },
   {
    "duration": 1203,
    "start_time": "2022-09-29T18:57:46.603Z"
   },
   {
    "duration": 1188,
    "start_time": "2022-09-29T18:57:57.369Z"
   },
   {
    "duration": 3,
    "start_time": "2022-09-29T18:58:10.502Z"
   },
   {
    "duration": 3,
    "start_time": "2022-09-29T18:58:11.077Z"
   },
   {
    "duration": 118945,
    "start_time": "2022-09-29T18:58:12.263Z"
   },
   {
    "duration": 13,
    "start_time": "2022-09-29T19:00:33.762Z"
   },
   {
    "duration": 31,
    "start_time": "2022-09-29T19:03:01.049Z"
   },
   {
    "duration": 2812,
    "start_time": "2022-09-29T19:03:12.150Z"
   },
   {
    "duration": 24,
    "start_time": "2022-09-29T19:03:43.951Z"
   },
   {
    "duration": 1571,
    "start_time": "2022-09-30T07:25:36.846Z"
   },
   {
    "duration": 7529,
    "start_time": "2022-09-30T07:25:38.419Z"
   },
   {
    "duration": 311,
    "start_time": "2022-09-30T07:25:45.950Z"
   },
   {
    "duration": 113,
    "start_time": "2022-09-30T07:25:46.263Z"
   },
   {
    "duration": 17,
    "start_time": "2022-09-30T07:25:46.379Z"
   },
   {
    "duration": 30,
    "start_time": "2022-09-30T07:25:46.397Z"
   },
   {
    "duration": 16,
    "start_time": "2022-09-30T07:25:46.429Z"
   },
   {
    "duration": 21,
    "start_time": "2022-09-30T07:25:46.447Z"
   },
   {
    "duration": 35,
    "start_time": "2022-09-30T07:25:46.471Z"
   },
   {
    "duration": 10,
    "start_time": "2022-09-30T07:25:46.508Z"
   },
   {
    "duration": 21,
    "start_time": "2022-09-30T07:25:46.520Z"
   },
   {
    "duration": 15,
    "start_time": "2022-09-30T07:25:46.543Z"
   },
   {
    "duration": 7,
    "start_time": "2022-09-30T07:25:46.560Z"
   },
   {
    "duration": 11,
    "start_time": "2022-09-30T07:25:46.571Z"
   },
   {
    "duration": 11,
    "start_time": "2022-09-30T07:25:46.583Z"
   },
   {
    "duration": 51,
    "start_time": "2022-09-30T07:25:46.596Z"
   },
   {
    "duration": 29,
    "start_time": "2022-09-30T07:25:46.649Z"
   },
   {
    "duration": 23,
    "start_time": "2022-09-30T07:25:46.680Z"
   },
   {
    "duration": 7,
    "start_time": "2022-09-30T07:25:46.705Z"
   },
   {
    "duration": 112,
    "start_time": "2022-09-30T07:25:46.714Z"
   },
   {
    "duration": 6,
    "start_time": "2022-09-30T07:25:46.834Z"
   },
   {
    "duration": 15,
    "start_time": "2022-09-30T07:25:46.841Z"
   },
   {
    "duration": 3,
    "start_time": "2022-09-30T07:25:46.858Z"
   },
   {
    "duration": 17,
    "start_time": "2022-09-30T07:25:46.863Z"
   },
   {
    "duration": 26,
    "start_time": "2022-09-30T07:25:46.881Z"
   },
   {
    "duration": 43,
    "start_time": "2022-09-30T07:25:46.908Z"
   },
   {
    "duration": 9,
    "start_time": "2022-09-30T07:25:46.953Z"
   },
   {
    "duration": 23,
    "start_time": "2022-09-30T07:25:46.963Z"
   },
   {
    "duration": 29,
    "start_time": "2022-09-30T07:25:46.988Z"
   },
   {
    "duration": 43,
    "start_time": "2022-09-30T07:25:47.019Z"
   },
   {
    "duration": 8,
    "start_time": "2022-09-30T07:25:47.064Z"
   },
   {
    "duration": 10,
    "start_time": "2022-09-30T07:25:47.073Z"
   },
   {
    "duration": 9,
    "start_time": "2022-09-30T07:25:47.085Z"
   },
   {
    "duration": 10,
    "start_time": "2022-09-30T07:25:47.095Z"
   },
   {
    "duration": 31,
    "start_time": "2022-09-30T07:25:47.107Z"
   },
   {
    "duration": 14,
    "start_time": "2022-09-30T07:25:47.139Z"
   },
   {
    "duration": 12382,
    "start_time": "2022-09-30T07:25:47.156Z"
   },
   {
    "duration": 5,
    "start_time": "2022-09-30T07:25:59.540Z"
   },
   {
    "duration": 15,
    "start_time": "2022-09-30T07:25:59.546Z"
   },
   {
    "duration": 7,
    "start_time": "2022-09-30T07:25:59.563Z"
   },
   {
    "duration": 33,
    "start_time": "2022-09-30T07:25:59.573Z"
   },
   {
    "duration": 27,
    "start_time": "2022-09-30T07:25:59.608Z"
   },
   {
    "duration": 3,
    "start_time": "2022-09-30T07:25:59.637Z"
   },
   {
    "duration": 5,
    "start_time": "2022-09-30T07:25:59.641Z"
   },
   {
    "duration": 7,
    "start_time": "2022-09-30T07:25:59.647Z"
   },
   {
    "duration": 8,
    "start_time": "2022-09-30T07:25:59.656Z"
   },
   {
    "duration": 16,
    "start_time": "2022-09-30T07:25:59.665Z"
   },
   {
    "duration": 5,
    "start_time": "2022-09-30T07:25:59.684Z"
   },
   {
    "duration": 19,
    "start_time": "2022-09-30T07:26:34.273Z"
   },
   {
    "duration": 1780,
    "start_time": "2022-09-30T10:14:58.141Z"
   },
   {
    "duration": 3535,
    "start_time": "2022-09-30T10:14:59.923Z"
   },
   {
    "duration": 522,
    "start_time": "2022-09-30T10:15:03.459Z"
   },
   {
    "duration": 319,
    "start_time": "2022-09-30T10:15:03.983Z"
   },
   {
    "duration": 15,
    "start_time": "2022-09-30T10:15:04.305Z"
   },
   {
    "duration": 17,
    "start_time": "2022-09-30T10:15:04.322Z"
   },
   {
    "duration": 11,
    "start_time": "2022-09-30T10:15:04.341Z"
   },
   {
    "duration": 23,
    "start_time": "2022-09-30T10:15:04.354Z"
   },
   {
    "duration": 37,
    "start_time": "2022-09-30T10:15:04.378Z"
   },
   {
    "duration": 11,
    "start_time": "2022-09-30T10:15:04.417Z"
   },
   {
    "duration": 17,
    "start_time": "2022-09-30T10:15:04.430Z"
   },
   {
    "duration": 17,
    "start_time": "2022-09-30T10:15:04.454Z"
   },
   {
    "duration": 15,
    "start_time": "2022-09-30T10:15:04.473Z"
   },
   {
    "duration": 17,
    "start_time": "2022-09-30T10:15:04.490Z"
   },
   {
    "duration": 18,
    "start_time": "2022-09-30T10:15:04.508Z"
   },
   {
    "duration": 11,
    "start_time": "2022-09-30T10:15:04.527Z"
   },
   {
    "duration": 20,
    "start_time": "2022-09-30T10:15:04.539Z"
   },
   {
    "duration": 16,
    "start_time": "2022-09-30T10:15:04.560Z"
   },
   {
    "duration": 11,
    "start_time": "2022-09-30T10:15:04.578Z"
   },
   {
    "duration": 140,
    "start_time": "2022-09-30T10:15:04.590Z"
   },
   {
    "duration": 6,
    "start_time": "2022-09-30T10:15:04.731Z"
   },
   {
    "duration": 24,
    "start_time": "2022-09-30T10:15:04.739Z"
   },
   {
    "duration": 5,
    "start_time": "2022-09-30T10:15:04.764Z"
   },
   {
    "duration": 19,
    "start_time": "2022-09-30T10:15:04.770Z"
   },
   {
    "duration": 28,
    "start_time": "2022-09-30T10:15:04.791Z"
   },
   {
    "duration": 44,
    "start_time": "2022-09-30T10:15:04.821Z"
   },
   {
    "duration": 4,
    "start_time": "2022-09-30T10:15:04.867Z"
   },
   {
    "duration": 21,
    "start_time": "2022-09-30T10:15:04.872Z"
   },
   {
    "duration": 31,
    "start_time": "2022-09-30T10:15:04.894Z"
   },
   {
    "duration": 54,
    "start_time": "2022-09-30T10:15:04.926Z"
   },
   {
    "duration": 9,
    "start_time": "2022-09-30T10:15:04.982Z"
   },
   {
    "duration": 9,
    "start_time": "2022-09-30T10:15:04.993Z"
   },
   {
    "duration": 11,
    "start_time": "2022-09-30T10:15:05.004Z"
   },
   {
    "duration": 24,
    "start_time": "2022-09-30T10:15:05.016Z"
   },
   {
    "duration": 21,
    "start_time": "2022-09-30T10:15:05.041Z"
   },
   {
    "duration": 17,
    "start_time": "2022-09-30T10:15:05.064Z"
   },
   {
    "duration": 14204,
    "start_time": "2022-09-30T10:15:05.083Z"
   },
   {
    "duration": 5,
    "start_time": "2022-09-30T10:15:19.289Z"
   },
   {
    "duration": 20,
    "start_time": "2022-09-30T10:15:19.295Z"
   },
   {
    "duration": 38,
    "start_time": "2022-09-30T10:15:19.317Z"
   },
   {
    "duration": 58,
    "start_time": "2022-09-30T10:15:19.359Z"
   },
   {
    "duration": 26,
    "start_time": "2022-09-30T10:15:19.419Z"
   },
   {
    "duration": 11,
    "start_time": "2022-09-30T10:15:19.446Z"
   },
   {
    "duration": 7,
    "start_time": "2022-09-30T10:15:19.459Z"
   },
   {
    "duration": 11,
    "start_time": "2022-09-30T10:15:19.468Z"
   },
   {
    "duration": 10,
    "start_time": "2022-09-30T10:15:19.481Z"
   },
   {
    "duration": 19,
    "start_time": "2022-09-30T10:15:19.493Z"
   },
   {
    "duration": 194,
    "start_time": "2022-09-30T10:15:19.514Z"
   },
   {
    "duration": 11,
    "start_time": "2022-09-30T10:15:19.710Z"
   },
   {
    "duration": 0,
    "start_time": "2022-09-30T10:15:19.723Z"
   },
   {
    "duration": 0,
    "start_time": "2022-09-30T10:15:19.724Z"
   },
   {
    "duration": 5,
    "start_time": "2022-09-30T10:17:42.418Z"
   },
   {
    "duration": 2242,
    "start_time": "2022-09-30T10:17:42.425Z"
   },
   {
    "duration": 4,
    "start_time": "2022-09-30T10:17:44.670Z"
   },
   {
    "duration": 112,
    "start_time": "2022-09-30T10:17:44.677Z"
   },
   {
    "duration": 15,
    "start_time": "2022-09-30T10:17:44.792Z"
   },
   {
    "duration": 24,
    "start_time": "2022-09-30T10:17:44.809Z"
   },
   {
    "duration": 12,
    "start_time": "2022-09-30T10:17:44.835Z"
   },
   {
    "duration": 18,
    "start_time": "2022-09-30T10:17:44.848Z"
   },
   {
    "duration": 60,
    "start_time": "2022-09-30T10:17:44.868Z"
   },
   {
    "duration": 17,
    "start_time": "2022-09-30T10:17:44.931Z"
   },
   {
    "duration": 16,
    "start_time": "2022-09-30T10:17:44.954Z"
   },
   {
    "duration": 20,
    "start_time": "2022-09-30T10:17:44.972Z"
   },
   {
    "duration": 11,
    "start_time": "2022-09-30T10:17:44.996Z"
   },
   {
    "duration": 33,
    "start_time": "2022-09-30T10:17:45.009Z"
   },
   {
    "duration": 19,
    "start_time": "2022-09-30T10:17:45.045Z"
   },
   {
    "duration": 9,
    "start_time": "2022-09-30T10:17:45.066Z"
   },
   {
    "duration": 12,
    "start_time": "2022-09-30T10:17:45.077Z"
   },
   {
    "duration": 23,
    "start_time": "2022-09-30T10:17:45.091Z"
   },
   {
    "duration": 16,
    "start_time": "2022-09-30T10:17:45.115Z"
   },
   {
    "duration": 150,
    "start_time": "2022-09-30T10:17:45.133Z"
   },
   {
    "duration": 7,
    "start_time": "2022-09-30T10:17:45.285Z"
   },
   {
    "duration": 19,
    "start_time": "2022-09-30T10:17:45.293Z"
   },
   {
    "duration": 4,
    "start_time": "2022-09-30T10:17:45.314Z"
   },
   {
    "duration": 34,
    "start_time": "2022-09-30T10:17:45.320Z"
   },
   {
    "duration": 26,
    "start_time": "2022-09-30T10:17:45.355Z"
   },
   {
    "duration": 25,
    "start_time": "2022-09-30T10:17:45.384Z"
   },
   {
    "duration": 23,
    "start_time": "2022-09-30T10:17:45.411Z"
   },
   {
    "duration": 29,
    "start_time": "2022-09-30T10:17:45.436Z"
   },
   {
    "duration": 31,
    "start_time": "2022-09-30T10:17:45.467Z"
   },
   {
    "duration": 79,
    "start_time": "2022-09-30T10:17:45.501Z"
   },
   {
    "duration": 14,
    "start_time": "2022-09-30T10:17:45.582Z"
   },
   {
    "duration": 27,
    "start_time": "2022-09-30T10:17:45.598Z"
   },
   {
    "duration": 9,
    "start_time": "2022-09-30T10:17:45.627Z"
   },
   {
    "duration": 19,
    "start_time": "2022-09-30T10:17:45.638Z"
   },
   {
    "duration": 13,
    "start_time": "2022-09-30T10:17:45.659Z"
   },
   {
    "duration": 27,
    "start_time": "2022-09-30T10:17:45.674Z"
   },
   {
    "duration": 3676,
    "start_time": "2022-09-30T10:17:45.707Z"
   },
   {
    "duration": 6,
    "start_time": "2022-09-30T10:17:49.386Z"
   },
   {
    "duration": 68,
    "start_time": "2022-09-30T10:17:49.394Z"
   },
   {
    "duration": 6,
    "start_time": "2022-09-30T10:17:49.465Z"
   },
   {
    "duration": 66,
    "start_time": "2022-09-30T10:17:49.474Z"
   },
   {
    "duration": 28,
    "start_time": "2022-09-30T10:17:49.542Z"
   },
   {
    "duration": 6,
    "start_time": "2022-09-30T10:17:49.572Z"
   },
   {
    "duration": 12,
    "start_time": "2022-09-30T10:17:49.580Z"
   },
   {
    "duration": 11,
    "start_time": "2022-09-30T10:17:49.594Z"
   },
   {
    "duration": 6,
    "start_time": "2022-09-30T10:17:49.607Z"
   },
   {
    "duration": 10,
    "start_time": "2022-09-30T10:17:49.615Z"
   },
   {
    "duration": 76977,
    "start_time": "2022-09-30T10:17:49.627Z"
   },
   {
    "duration": 4,
    "start_time": "2022-09-30T10:19:06.606Z"
   },
   {
    "duration": 8,
    "start_time": "2022-09-30T10:19:06.611Z"
   },
   {
    "duration": 5,
    "start_time": "2022-09-30T10:19:06.620Z"
   },
   {
    "duration": 6,
    "start_time": "2022-09-30T10:21:43.976Z"
   },
   {
    "duration": 2388,
    "start_time": "2022-09-30T10:21:43.984Z"
   },
   {
    "duration": 3,
    "start_time": "2022-09-30T10:21:46.375Z"
   },
   {
    "duration": 121,
    "start_time": "2022-09-30T10:21:46.380Z"
   },
   {
    "duration": 14,
    "start_time": "2022-09-30T10:21:46.504Z"
   },
   {
    "duration": 16,
    "start_time": "2022-09-30T10:21:46.519Z"
   },
   {
    "duration": 12,
    "start_time": "2022-09-30T10:21:46.537Z"
   },
   {
    "duration": 16,
    "start_time": "2022-09-30T10:21:46.551Z"
   },
   {
    "duration": 32,
    "start_time": "2022-09-30T10:21:46.569Z"
   },
   {
    "duration": 13,
    "start_time": "2022-09-30T10:21:46.603Z"
   },
   {
    "duration": 15,
    "start_time": "2022-09-30T10:21:46.619Z"
   },
   {
    "duration": 19,
    "start_time": "2022-09-30T10:21:46.655Z"
   },
   {
    "duration": 17,
    "start_time": "2022-09-30T10:21:46.676Z"
   },
   {
    "duration": 21,
    "start_time": "2022-09-30T10:21:46.695Z"
   },
   {
    "duration": 15,
    "start_time": "2022-09-30T10:21:46.718Z"
   },
   {
    "duration": 27,
    "start_time": "2022-09-30T10:21:46.735Z"
   },
   {
    "duration": 11,
    "start_time": "2022-09-30T10:21:46.764Z"
   },
   {
    "duration": 20,
    "start_time": "2022-09-30T10:21:46.777Z"
   },
   {
    "duration": 12,
    "start_time": "2022-09-30T10:21:46.800Z"
   },
   {
    "duration": 128,
    "start_time": "2022-09-30T10:21:46.814Z"
   },
   {
    "duration": 13,
    "start_time": "2022-09-30T10:21:46.944Z"
   },
   {
    "duration": 23,
    "start_time": "2022-09-30T10:21:46.959Z"
   },
   {
    "duration": 4,
    "start_time": "2022-09-30T10:21:46.984Z"
   },
   {
    "duration": 25,
    "start_time": "2022-09-30T10:21:46.990Z"
   },
   {
    "duration": 161,
    "start_time": "2022-09-30T10:21:47.016Z"
   },
   {
    "duration": 25,
    "start_time": "2022-09-30T10:21:47.179Z"
   },
   {
    "duration": 6,
    "start_time": "2022-09-30T10:21:47.206Z"
   },
   {
    "duration": 42,
    "start_time": "2022-09-30T10:21:47.214Z"
   },
   {
    "duration": 37,
    "start_time": "2022-09-30T10:21:47.261Z"
   },
   {
    "duration": 57,
    "start_time": "2022-09-30T10:21:47.301Z"
   },
   {
    "duration": 11,
    "start_time": "2022-09-30T10:21:47.360Z"
   },
   {
    "duration": 11,
    "start_time": "2022-09-30T10:21:47.373Z"
   },
   {
    "duration": 7,
    "start_time": "2022-09-30T10:21:47.387Z"
   },
   {
    "duration": 8,
    "start_time": "2022-09-30T10:21:47.396Z"
   },
   {
    "duration": 51,
    "start_time": "2022-09-30T10:21:47.406Z"
   },
   {
    "duration": 21,
    "start_time": "2022-09-30T10:21:47.459Z"
   },
   {
    "duration": 3310,
    "start_time": "2022-09-30T10:21:47.482Z"
   },
   {
    "duration": 61,
    "start_time": "2022-09-30T10:21:50.794Z"
   },
   {
    "duration": 32,
    "start_time": "2022-09-30T10:21:50.857Z"
   },
   {
    "duration": 7,
    "start_time": "2022-09-30T10:21:50.891Z"
   },
   {
    "duration": 35,
    "start_time": "2022-09-30T10:21:50.900Z"
   },
   {
    "duration": 18,
    "start_time": "2022-09-30T10:21:50.937Z"
   },
   {
    "duration": 4,
    "start_time": "2022-09-30T10:21:50.957Z"
   },
   {
    "duration": 8,
    "start_time": "2022-09-30T10:21:50.962Z"
   },
   {
    "duration": 14,
    "start_time": "2022-09-30T10:21:50.971Z"
   },
   {
    "duration": 20,
    "start_time": "2022-09-30T10:21:50.987Z"
   },
   {
    "duration": 15,
    "start_time": "2022-09-30T10:21:51.009Z"
   },
   {
    "duration": 76553,
    "start_time": "2022-09-30T10:21:51.026Z"
   },
   {
    "duration": 4,
    "start_time": "2022-09-30T10:23:07.581Z"
   },
   {
    "duration": 6,
    "start_time": "2022-09-30T10:23:07.587Z"
   },
   {
    "duration": 7,
    "start_time": "2022-09-30T10:23:07.595Z"
   },
   {
    "duration": 33,
    "start_time": "2022-09-30T10:23:07.603Z"
   },
   {
    "duration": 22,
    "start_time": "2022-09-30T10:23:07.638Z"
   },
   {
    "duration": 179,
    "start_time": "2022-09-30T10:23:07.662Z"
   },
   {
    "duration": 0,
    "start_time": "2022-09-30T10:23:07.843Z"
   },
   {
    "duration": 0,
    "start_time": "2022-09-30T10:23:07.854Z"
   },
   {
    "duration": 4,
    "start_time": "2022-09-30T10:26:48.513Z"
   },
   {
    "duration": 5,
    "start_time": "2022-09-30T10:26:51.217Z"
   },
   {
    "duration": 15,
    "start_time": "2022-09-30T10:27:45.940Z"
   },
   {
    "duration": 188,
    "start_time": "2022-09-30T10:27:47.374Z"
   },
   {
    "duration": 4,
    "start_time": "2022-09-30T10:27:50.728Z"
   },
   {
    "duration": 5,
    "start_time": "2022-09-30T10:27:51.502Z"
   },
   {
    "duration": 193,
    "start_time": "2022-09-30T10:28:04.149Z"
   },
   {
    "duration": 4,
    "start_time": "2022-09-30T10:28:07.150Z"
   },
   {
    "duration": 4,
    "start_time": "2022-09-30T10:28:08.212Z"
   },
   {
    "duration": 5,
    "start_time": "2022-09-30T10:30:17.327Z"
   },
   {
    "duration": 2201,
    "start_time": "2022-09-30T10:30:17.334Z"
   },
   {
    "duration": 4,
    "start_time": "2022-09-30T10:30:19.537Z"
   },
   {
    "duration": 126,
    "start_time": "2022-09-30T10:30:19.543Z"
   },
   {
    "duration": 15,
    "start_time": "2022-09-30T10:30:19.671Z"
   },
   {
    "duration": 19,
    "start_time": "2022-09-30T10:30:19.688Z"
   },
   {
    "duration": 13,
    "start_time": "2022-09-30T10:30:19.709Z"
   },
   {
    "duration": 15,
    "start_time": "2022-09-30T10:30:19.724Z"
   },
   {
    "duration": 31,
    "start_time": "2022-09-30T10:30:19.756Z"
   },
   {
    "duration": 20,
    "start_time": "2022-09-30T10:30:19.789Z"
   },
   {
    "duration": 19,
    "start_time": "2022-09-30T10:30:19.811Z"
   },
   {
    "duration": 34,
    "start_time": "2022-09-30T10:30:19.832Z"
   },
   {
    "duration": 11,
    "start_time": "2022-09-30T10:30:19.868Z"
   },
   {
    "duration": 15,
    "start_time": "2022-09-30T10:30:19.881Z"
   },
   {
    "duration": 19,
    "start_time": "2022-09-30T10:30:19.898Z"
   },
   {
    "duration": 36,
    "start_time": "2022-09-30T10:30:19.919Z"
   },
   {
    "duration": 9,
    "start_time": "2022-09-30T10:30:19.957Z"
   },
   {
    "duration": 22,
    "start_time": "2022-09-30T10:30:19.967Z"
   },
   {
    "duration": 9,
    "start_time": "2022-09-30T10:30:19.991Z"
   },
   {
    "duration": 136,
    "start_time": "2022-09-30T10:30:20.002Z"
   },
   {
    "duration": 19,
    "start_time": "2022-09-30T10:30:20.140Z"
   },
   {
    "duration": 33,
    "start_time": "2022-09-30T10:30:20.161Z"
   },
   {
    "duration": 4,
    "start_time": "2022-09-30T10:30:20.196Z"
   },
   {
    "duration": 24,
    "start_time": "2022-09-30T10:30:20.204Z"
   },
   {
    "duration": 32,
    "start_time": "2022-09-30T10:30:20.230Z"
   },
   {
    "duration": 24,
    "start_time": "2022-09-30T10:30:20.264Z"
   },
   {
    "duration": 6,
    "start_time": "2022-09-30T10:30:20.290Z"
   },
   {
    "duration": 29,
    "start_time": "2022-09-30T10:30:20.297Z"
   },
   {
    "duration": 44,
    "start_time": "2022-09-30T10:30:20.328Z"
   },
   {
    "duration": 41,
    "start_time": "2022-09-30T10:30:20.374Z"
   },
   {
    "duration": 8,
    "start_time": "2022-09-30T10:30:20.417Z"
   },
   {
    "duration": 32,
    "start_time": "2022-09-30T10:30:20.426Z"
   },
   {
    "duration": 7,
    "start_time": "2022-09-30T10:30:20.459Z"
   },
   {
    "duration": 9,
    "start_time": "2022-09-30T10:30:20.467Z"
   },
   {
    "duration": 23,
    "start_time": "2022-09-30T10:30:20.477Z"
   },
   {
    "duration": 26,
    "start_time": "2022-09-30T10:30:20.502Z"
   },
   {
    "duration": 13653,
    "start_time": "2022-09-30T10:30:20.530Z"
   },
   {
    "duration": 5,
    "start_time": "2022-09-30T10:30:34.186Z"
   },
   {
    "duration": 17,
    "start_time": "2022-09-30T10:30:34.194Z"
   },
   {
    "duration": 4,
    "start_time": "2022-09-30T10:30:34.213Z"
   },
   {
    "duration": 79,
    "start_time": "2022-09-30T10:30:34.218Z"
   },
   {
    "duration": 20,
    "start_time": "2022-09-30T10:30:34.298Z"
   },
   {
    "duration": 6,
    "start_time": "2022-09-30T10:30:34.320Z"
   },
   {
    "duration": 17,
    "start_time": "2022-09-30T10:30:34.328Z"
   },
   {
    "duration": 20,
    "start_time": "2022-09-30T10:30:34.354Z"
   },
   {
    "duration": 15,
    "start_time": "2022-09-30T10:30:34.375Z"
   },
   {
    "duration": 23,
    "start_time": "2022-09-30T10:30:34.392Z"
   },
   {
    "duration": 77476,
    "start_time": "2022-09-30T10:30:34.417Z"
   },
   {
    "duration": 4,
    "start_time": "2022-09-30T10:31:51.895Z"
   },
   {
    "duration": 19,
    "start_time": "2022-09-30T10:31:51.901Z"
   },
   {
    "duration": 31,
    "start_time": "2022-09-30T10:31:51.921Z"
   },
   {
    "duration": 82319,
    "start_time": "2022-09-30T10:31:51.954Z"
   },
   {
    "duration": 4,
    "start_time": "2022-09-30T10:33:14.274Z"
   },
   {
    "duration": 14,
    "start_time": "2022-09-30T10:33:14.280Z"
   },
   {
    "duration": 5,
    "start_time": "2022-09-30T10:33:14.296Z"
   },
   {
    "duration": 6,
    "start_time": "2022-09-30T10:33:14.302Z"
   },
   {
    "duration": 7,
    "start_time": "2022-09-30T10:33:14.309Z"
   },
   {
    "duration": 14452,
    "start_time": "2022-09-30T10:33:14.317Z"
   },
   {
    "duration": 5,
    "start_time": "2022-09-30T10:33:28.771Z"
   },
   {
    "duration": 16,
    "start_time": "2022-09-30T10:33:28.777Z"
   },
   {
    "duration": 12,
    "start_time": "2022-09-30T10:33:28.794Z"
   },
   {
    "duration": 6,
    "start_time": "2022-09-30T10:33:28.807Z"
   },
   {
    "duration": 9,
    "start_time": "2022-09-30T10:33:28.814Z"
   },
   {
    "duration": 8,
    "start_time": "2022-09-30T10:33:28.825Z"
   },
   {
    "duration": 139507,
    "start_time": "2022-09-30T10:33:28.834Z"
   },
   {
    "duration": 1641,
    "start_time": "2022-09-30T10:35:48.343Z"
   },
   {
    "duration": 11,
    "start_time": "2022-09-30T10:35:49.986Z"
   },
   {
    "duration": 0,
    "start_time": "2022-09-30T10:35:49.999Z"
   },
   {
    "duration": 0,
    "start_time": "2022-09-30T10:35:50.001Z"
   },
   {
    "duration": 0,
    "start_time": "2022-09-30T10:35:50.001Z"
   },
   {
    "duration": 0,
    "start_time": "2022-09-30T10:35:50.002Z"
   },
   {
    "duration": 0,
    "start_time": "2022-09-30T10:35:50.004Z"
   },
   {
    "duration": 0,
    "start_time": "2022-09-30T10:35:50.005Z"
   },
   {
    "duration": 0,
    "start_time": "2022-09-30T10:35:50.006Z"
   },
   {
    "duration": 0,
    "start_time": "2022-09-30T10:35:50.007Z"
   },
   {
    "duration": 0,
    "start_time": "2022-09-30T10:35:50.009Z"
   },
   {
    "duration": 0,
    "start_time": "2022-09-30T10:35:50.010Z"
   },
   {
    "duration": 4,
    "start_time": "2022-09-30T10:36:57.111Z"
   },
   {
    "duration": 413493,
    "start_time": "2022-09-30T10:37:04.208Z"
   },
   {
    "duration": 4,
    "start_time": "2022-09-30T10:44:05.263Z"
   },
   {
    "duration": 5,
    "start_time": "2022-09-30T10:44:08.127Z"
   },
   {
    "duration": 2,
    "start_time": "2022-09-30T10:44:10.444Z"
   },
   {
    "duration": 5,
    "start_time": "2022-09-30T10:44:14.809Z"
   },
   {
    "duration": 7,
    "start_time": "2022-09-30T10:44:18.315Z"
   },
   {
    "duration": 4,
    "start_time": "2022-09-30T10:44:40.241Z"
   },
   {
    "duration": 2106,
    "start_time": "2022-09-30T10:44:41.615Z"
   },
   {
    "duration": 11,
    "start_time": "2022-09-30T10:44:47.015Z"
   },
   {
    "duration": 4,
    "start_time": "2022-09-30T10:45:24.006Z"
   },
   {
    "duration": 2287,
    "start_time": "2022-09-30T10:45:25.182Z"
   },
   {
    "duration": 10,
    "start_time": "2022-09-30T10:45:33.944Z"
   },
   {
    "duration": 3,
    "start_time": "2022-09-30T10:45:47.422Z"
   },
   {
    "duration": 17090,
    "start_time": "2022-09-30T10:45:48.173Z"
   },
   {
    "duration": 18,
    "start_time": "2022-09-30T10:46:05.264Z"
   },
   {
    "duration": 4,
    "start_time": "2022-09-30T10:46:28.430Z"
   },
   {
    "duration": 5851,
    "start_time": "2022-09-30T10:46:29.258Z"
   },
   {
    "duration": 12,
    "start_time": "2022-09-30T10:46:38.415Z"
   },
   {
    "duration": 3,
    "start_time": "2022-09-30T10:47:23.346Z"
   },
   {
    "duration": 3,
    "start_time": "2022-09-30T10:47:24.756Z"
   },
   {
    "duration": 133002,
    "start_time": "2022-09-30T10:47:25.146Z"
   },
   {
    "duration": 1427,
    "start_time": "2022-09-30T10:49:38.150Z"
   },
   {
    "duration": 629748,
    "start_time": "2022-09-30T10:49:39.579Z"
   },
   {
    "duration": 4,
    "start_time": "2022-09-30T11:00:09.329Z"
   },
   {
    "duration": 21,
    "start_time": "2022-09-30T11:00:09.335Z"
   },
   {
    "duration": 14,
    "start_time": "2022-09-30T11:00:09.357Z"
   },
   {
    "duration": 14,
    "start_time": "2022-09-30T11:00:09.373Z"
   },
   {
    "duration": 19,
    "start_time": "2022-09-30T11:00:09.389Z"
   },
   {
    "duration": 25,
    "start_time": "2022-09-30T11:00:09.410Z"
   },
   {
    "duration": 2312,
    "start_time": "2022-09-30T11:00:09.438Z"
   },
   {
    "duration": 12,
    "start_time": "2022-09-30T11:00:11.752Z"
   },
   {
    "duration": 148,
    "start_time": "2022-09-30T11:00:11.766Z"
   },
   {
    "duration": 14,
    "start_time": "2022-09-30T11:00:11.916Z"
   },
   {
    "duration": 517,
    "start_time": "2022-09-30T11:00:40.557Z"
   },
   {
    "duration": 150,
    "start_time": "2022-09-30T11:03:15.674Z"
   },
   {
    "duration": 1595,
    "start_time": "2022-09-30T11:03:24.416Z"
   },
   {
    "duration": 10,
    "start_time": "2022-09-30T11:04:40.901Z"
   },
   {
    "duration": 1717,
    "start_time": "2022-09-30T11:05:09.140Z"
   },
   {
    "duration": 10,
    "start_time": "2022-09-30T11:05:14.474Z"
   },
   {
    "duration": 1637,
    "start_time": "2022-09-30T11:05:23.128Z"
   },
   {
    "duration": 10,
    "start_time": "2022-09-30T11:05:27.172Z"
   },
   {
    "duration": 1894,
    "start_time": "2022-09-30T15:38:32.522Z"
   },
   {
    "duration": 2801,
    "start_time": "2022-09-30T15:38:34.418Z"
   },
   {
    "duration": 368,
    "start_time": "2022-09-30T15:38:37.221Z"
   },
   {
    "duration": 313,
    "start_time": "2022-09-30T15:38:37.591Z"
   },
   {
    "duration": 14,
    "start_time": "2022-09-30T15:38:37.906Z"
   },
   {
    "duration": 22,
    "start_time": "2022-09-30T15:38:37.922Z"
   },
   {
    "duration": 29,
    "start_time": "2022-09-30T15:38:37.946Z"
   },
   {
    "duration": 18,
    "start_time": "2022-09-30T15:38:37.978Z"
   },
   {
    "duration": 32,
    "start_time": "2022-09-30T15:38:37.997Z"
   },
   {
    "duration": 11,
    "start_time": "2022-09-30T15:38:38.032Z"
   },
   {
    "duration": 10,
    "start_time": "2022-09-30T15:38:38.054Z"
   },
   {
    "duration": 19,
    "start_time": "2022-09-30T15:38:38.065Z"
   },
   {
    "duration": 8,
    "start_time": "2022-09-30T15:38:38.086Z"
   },
   {
    "duration": 22,
    "start_time": "2022-09-30T15:38:38.095Z"
   },
   {
    "duration": 14,
    "start_time": "2022-09-30T15:38:38.118Z"
   },
   {
    "duration": 28,
    "start_time": "2022-09-30T15:38:38.134Z"
   },
   {
    "duration": 14,
    "start_time": "2022-09-30T15:38:38.164Z"
   },
   {
    "duration": 15,
    "start_time": "2022-09-30T15:38:38.180Z"
   },
   {
    "duration": 9,
    "start_time": "2022-09-30T15:38:38.197Z"
   },
   {
    "duration": 158,
    "start_time": "2022-09-30T15:38:38.208Z"
   },
   {
    "duration": 8,
    "start_time": "2022-09-30T15:38:38.368Z"
   },
   {
    "duration": 18,
    "start_time": "2022-09-30T15:38:38.378Z"
   },
   {
    "duration": 3,
    "start_time": "2022-09-30T15:38:38.398Z"
   },
   {
    "duration": 19,
    "start_time": "2022-09-30T15:38:38.403Z"
   },
   {
    "duration": 44,
    "start_time": "2022-09-30T15:38:38.424Z"
   },
   {
    "duration": 25,
    "start_time": "2022-09-30T15:38:38.470Z"
   },
   {
    "duration": 5,
    "start_time": "2022-09-30T15:38:38.497Z"
   },
   {
    "duration": 16,
    "start_time": "2022-09-30T15:38:38.506Z"
   },
   {
    "duration": 58,
    "start_time": "2022-09-30T15:38:38.524Z"
   },
   {
    "duration": 42,
    "start_time": "2022-09-30T15:38:38.584Z"
   },
   {
    "duration": 10,
    "start_time": "2022-09-30T15:38:38.654Z"
   },
   {
    "duration": 15,
    "start_time": "2022-09-30T15:38:38.665Z"
   },
   {
    "duration": 7,
    "start_time": "2022-09-30T15:38:38.681Z"
   },
   {
    "duration": 8,
    "start_time": "2022-09-30T15:38:38.689Z"
   },
   {
    "duration": 14,
    "start_time": "2022-09-30T15:38:38.698Z"
   },
   {
    "duration": 15,
    "start_time": "2022-09-30T15:38:38.713Z"
   },
   {
    "duration": 13851,
    "start_time": "2022-09-30T15:38:38.729Z"
   },
   {
    "duration": 6,
    "start_time": "2022-09-30T15:38:52.582Z"
   },
   {
    "duration": 24,
    "start_time": "2022-09-30T15:38:52.590Z"
   },
   {
    "duration": 5,
    "start_time": "2022-09-30T15:48:28.632Z"
   },
   {
    "duration": 2091,
    "start_time": "2022-09-30T15:48:28.639Z"
   },
   {
    "duration": 3,
    "start_time": "2022-09-30T15:48:30.732Z"
   },
   {
    "duration": 134,
    "start_time": "2022-09-30T15:48:30.737Z"
   },
   {
    "duration": 15,
    "start_time": "2022-09-30T15:48:30.873Z"
   },
   {
    "duration": 28,
    "start_time": "2022-09-30T15:48:30.889Z"
   },
   {
    "duration": 20,
    "start_time": "2022-09-30T15:48:30.919Z"
   },
   {
    "duration": 37,
    "start_time": "2022-09-30T15:48:30.941Z"
   },
   {
    "duration": 50,
    "start_time": "2022-09-30T15:48:30.980Z"
   },
   {
    "duration": 12,
    "start_time": "2022-09-30T15:48:31.032Z"
   },
   {
    "duration": 34,
    "start_time": "2022-09-30T15:48:31.045Z"
   },
   {
    "duration": 37,
    "start_time": "2022-09-30T15:48:31.081Z"
   },
   {
    "duration": 20,
    "start_time": "2022-09-30T15:48:31.121Z"
   },
   {
    "duration": 39,
    "start_time": "2022-09-30T15:48:31.142Z"
   },
   {
    "duration": 22,
    "start_time": "2022-09-30T15:48:31.182Z"
   },
   {
    "duration": 36,
    "start_time": "2022-09-30T15:48:31.206Z"
   },
   {
    "duration": 25,
    "start_time": "2022-09-30T15:48:31.244Z"
   },
   {
    "duration": 22,
    "start_time": "2022-09-30T15:48:31.271Z"
   },
   {
    "duration": 32,
    "start_time": "2022-09-30T15:48:31.295Z"
   },
   {
    "duration": 178,
    "start_time": "2022-09-30T15:48:31.329Z"
   },
   {
    "duration": 9,
    "start_time": "2022-09-30T15:48:31.509Z"
   },
   {
    "duration": 34,
    "start_time": "2022-09-30T15:48:31.520Z"
   },
   {
    "duration": 7,
    "start_time": "2022-09-30T15:48:31.557Z"
   },
   {
    "duration": 37,
    "start_time": "2022-09-30T15:48:31.566Z"
   },
   {
    "duration": 47,
    "start_time": "2022-09-30T15:48:31.606Z"
   },
   {
    "duration": 26,
    "start_time": "2022-09-30T15:48:31.655Z"
   },
   {
    "duration": 4,
    "start_time": "2022-09-30T15:48:31.683Z"
   },
   {
    "duration": 5,
    "start_time": "2022-09-30T15:48:35.891Z"
   },
   {
    "duration": 15,
    "start_time": "2022-09-30T15:48:39.743Z"
   },
   {
    "duration": 149,
    "start_time": "2022-09-30T15:49:01.285Z"
   },
   {
    "duration": 16,
    "start_time": "2022-09-30T15:49:13.856Z"
   },
   {
    "duration": 4,
    "start_time": "2022-09-30T15:49:31.126Z"
   },
   {
    "duration": 15,
    "start_time": "2022-09-30T15:49:34.530Z"
   },
   {
    "duration": 14,
    "start_time": "2022-09-30T15:49:53.242Z"
   },
   {
    "duration": 4,
    "start_time": "2022-09-30T15:50:04.104Z"
   },
   {
    "duration": 2256,
    "start_time": "2022-09-30T15:50:04.110Z"
   },
   {
    "duration": 3,
    "start_time": "2022-09-30T15:50:06.368Z"
   },
   {
    "duration": 124,
    "start_time": "2022-09-30T15:50:06.373Z"
   },
   {
    "duration": 15,
    "start_time": "2022-09-30T15:50:06.500Z"
   },
   {
    "duration": 15,
    "start_time": "2022-09-30T15:50:06.516Z"
   },
   {
    "duration": 12,
    "start_time": "2022-09-30T15:50:06.533Z"
   },
   {
    "duration": 18,
    "start_time": "2022-09-30T15:50:06.547Z"
   },
   {
    "duration": 31,
    "start_time": "2022-09-30T15:50:06.567Z"
   },
   {
    "duration": 11,
    "start_time": "2022-09-30T15:50:06.600Z"
   },
   {
    "duration": 12,
    "start_time": "2022-09-30T15:50:06.614Z"
   },
   {
    "duration": 39,
    "start_time": "2022-09-30T15:50:06.627Z"
   },
   {
    "duration": 9,
    "start_time": "2022-09-30T15:50:06.668Z"
   },
   {
    "duration": 16,
    "start_time": "2022-09-30T15:50:06.678Z"
   },
   {
    "duration": 12,
    "start_time": "2022-09-30T15:50:06.695Z"
   },
   {
    "duration": 9,
    "start_time": "2022-09-30T15:50:06.709Z"
   },
   {
    "duration": 38,
    "start_time": "2022-09-30T15:50:06.719Z"
   },
   {
    "duration": 13,
    "start_time": "2022-09-30T15:50:06.760Z"
   },
   {
    "duration": 12,
    "start_time": "2022-09-30T15:50:06.774Z"
   },
   {
    "duration": 139,
    "start_time": "2022-09-30T15:50:06.787Z"
   },
   {
    "duration": 6,
    "start_time": "2022-09-30T15:50:06.928Z"
   },
   {
    "duration": 25,
    "start_time": "2022-09-30T15:50:06.936Z"
   },
   {
    "duration": 4,
    "start_time": "2022-09-30T15:50:06.963Z"
   },
   {
    "duration": 17,
    "start_time": "2022-09-30T15:50:06.969Z"
   },
   {
    "duration": 32,
    "start_time": "2022-09-30T15:50:06.988Z"
   },
   {
    "duration": 38,
    "start_time": "2022-09-30T15:50:07.022Z"
   },
   {
    "duration": 5,
    "start_time": "2022-09-30T15:50:07.062Z"
   },
   {
    "duration": 5,
    "start_time": "2022-09-30T15:50:10.597Z"
   },
   {
    "duration": 17,
    "start_time": "2022-09-30T15:50:11.425Z"
   },
   {
    "duration": 4,
    "start_time": "2022-09-30T15:52:22.983Z"
   },
   {
    "duration": 14,
    "start_time": "2022-09-30T15:52:23.683Z"
   },
   {
    "duration": 58,
    "start_time": "2022-09-30T15:52:24.640Z"
   },
   {
    "duration": 15,
    "start_time": "2022-09-30T15:52:28.629Z"
   },
   {
    "duration": 5,
    "start_time": "2022-09-30T15:59:44.458Z"
   },
   {
    "duration": 2156,
    "start_time": "2022-09-30T15:59:44.465Z"
   },
   {
    "duration": 4,
    "start_time": "2022-09-30T15:59:46.623Z"
   },
   {
    "duration": 124,
    "start_time": "2022-09-30T15:59:46.629Z"
   },
   {
    "duration": 15,
    "start_time": "2022-09-30T15:59:46.755Z"
   },
   {
    "duration": 24,
    "start_time": "2022-09-30T15:59:46.772Z"
   },
   {
    "duration": 14,
    "start_time": "2022-09-30T15:59:46.797Z"
   },
   {
    "duration": 19,
    "start_time": "2022-09-30T15:59:46.813Z"
   },
   {
    "duration": 49,
    "start_time": "2022-09-30T15:59:46.834Z"
   },
   {
    "duration": 21,
    "start_time": "2022-09-30T15:59:46.884Z"
   },
   {
    "duration": 25,
    "start_time": "2022-09-30T15:59:46.906Z"
   },
   {
    "duration": 22,
    "start_time": "2022-09-30T15:59:46.933Z"
   },
   {
    "duration": 12,
    "start_time": "2022-09-30T15:59:46.957Z"
   },
   {
    "duration": 16,
    "start_time": "2022-09-30T15:59:46.971Z"
   },
   {
    "duration": 22,
    "start_time": "2022-09-30T15:59:46.989Z"
   },
   {
    "duration": 10,
    "start_time": "2022-09-30T15:59:47.013Z"
   },
   {
    "duration": 10,
    "start_time": "2022-09-30T15:59:47.025Z"
   },
   {
    "duration": 25,
    "start_time": "2022-09-30T15:59:47.036Z"
   },
   {
    "duration": 9,
    "start_time": "2022-09-30T15:59:47.063Z"
   },
   {
    "duration": 141,
    "start_time": "2022-09-30T15:59:47.074Z"
   },
   {
    "duration": 7,
    "start_time": "2022-09-30T15:59:47.217Z"
   },
   {
    "duration": 29,
    "start_time": "2022-09-30T15:59:47.225Z"
   },
   {
    "duration": 4,
    "start_time": "2022-09-30T15:59:47.256Z"
   },
   {
    "duration": 29,
    "start_time": "2022-09-30T15:59:47.263Z"
   },
   {
    "duration": 160,
    "start_time": "2022-09-30T15:59:47.294Z"
   },
   {
    "duration": 24,
    "start_time": "2022-09-30T15:59:47.456Z"
   },
   {
    "duration": 4,
    "start_time": "2022-09-30T15:59:47.482Z"
   },
   {
    "duration": 29,
    "start_time": "2022-09-30T15:59:47.488Z"
   },
   {
    "duration": 65,
    "start_time": "2022-09-30T15:59:47.519Z"
   },
   {
    "duration": 16,
    "start_time": "2022-09-30T16:00:01.597Z"
   },
   {
    "duration": 15,
    "start_time": "2022-09-30T16:00:10.887Z"
   },
   {
    "duration": 32,
    "start_time": "2022-09-30T16:00:18.504Z"
   },
   {
    "duration": 41,
    "start_time": "2022-09-30T16:00:24.779Z"
   },
   {
    "duration": 9,
    "start_time": "2022-09-30T16:01:24.914Z"
   },
   {
    "duration": 10,
    "start_time": "2022-09-30T16:01:30.131Z"
   },
   {
    "duration": 7,
    "start_time": "2022-09-30T16:01:43.636Z"
   },
   {
    "duration": 7,
    "start_time": "2022-09-30T16:01:45.256Z"
   },
   {
    "duration": 1140,
    "start_time": "2022-09-30T16:01:47.984Z"
   },
   {
    "duration": 12,
    "start_time": "2022-09-30T16:02:02.640Z"
   },
   {
    "duration": 14,
    "start_time": "2022-09-30T16:02:05.847Z"
   },
   {
    "duration": 12763,
    "start_time": "2022-09-30T16:02:17.614Z"
   },
   {
    "duration": 6,
    "start_time": "2022-09-30T16:02:50.309Z"
   },
   {
    "duration": 8,
    "start_time": "2022-09-30T16:02:51.413Z"
   },
   {
    "duration": 6,
    "start_time": "2022-09-30T16:02:58.979Z"
   },
   {
    "duration": 7,
    "start_time": "2022-09-30T16:02:59.794Z"
   },
   {
    "duration": 4,
    "start_time": "2022-09-30T16:03:03.227Z"
   },
   {
    "duration": 31,
    "start_time": "2022-09-30T16:03:07.620Z"
   },
   {
    "duration": 16,
    "start_time": "2022-09-30T16:03:09.519Z"
   },
   {
    "duration": 4,
    "start_time": "2022-09-30T16:03:19.679Z"
   },
   {
    "duration": 3,
    "start_time": "2022-09-30T16:03:23.255Z"
   },
   {
    "duration": 3,
    "start_time": "2022-09-30T16:03:27.576Z"
   },
   {
    "duration": 21,
    "start_time": "2022-09-30T16:03:36.438Z"
   },
   {
    "duration": 5,
    "start_time": "2022-09-30T16:04:31.796Z"
   },
   {
    "duration": 2149,
    "start_time": "2022-09-30T16:04:31.804Z"
   },
   {
    "duration": 3,
    "start_time": "2022-09-30T16:04:33.956Z"
   },
   {
    "duration": 123,
    "start_time": "2022-09-30T16:04:33.961Z"
   },
   {
    "duration": 14,
    "start_time": "2022-09-30T16:04:34.086Z"
   },
   {
    "duration": 31,
    "start_time": "2022-09-30T16:04:34.102Z"
   },
   {
    "duration": 18,
    "start_time": "2022-09-30T16:04:34.134Z"
   },
   {
    "duration": 18,
    "start_time": "2022-09-30T16:04:34.154Z"
   },
   {
    "duration": 40,
    "start_time": "2022-09-30T16:04:34.174Z"
   },
   {
    "duration": 18,
    "start_time": "2022-09-30T16:04:34.216Z"
   },
   {
    "duration": 28,
    "start_time": "2022-09-30T16:04:34.236Z"
   },
   {
    "duration": 36,
    "start_time": "2022-09-30T16:04:34.267Z"
   },
   {
    "duration": 12,
    "start_time": "2022-09-30T16:04:34.306Z"
   },
   {
    "duration": 17,
    "start_time": "2022-09-30T16:04:34.319Z"
   },
   {
    "duration": 19,
    "start_time": "2022-09-30T16:04:34.338Z"
   },
   {
    "duration": 21,
    "start_time": "2022-09-30T16:04:34.359Z"
   },
   {
    "duration": 16,
    "start_time": "2022-09-30T16:04:34.381Z"
   },
   {
    "duration": 35,
    "start_time": "2022-09-30T16:04:34.399Z"
   },
   {
    "duration": 11,
    "start_time": "2022-09-30T16:04:34.435Z"
   },
   {
    "duration": 135,
    "start_time": "2022-09-30T16:04:34.448Z"
   },
   {
    "duration": 6,
    "start_time": "2022-09-30T16:04:34.585Z"
   },
   {
    "duration": 18,
    "start_time": "2022-09-30T16:04:34.592Z"
   },
   {
    "duration": 5,
    "start_time": "2022-09-30T16:04:34.612Z"
   },
   {
    "duration": 36,
    "start_time": "2022-09-30T16:04:34.619Z"
   },
   {
    "duration": 34,
    "start_time": "2022-09-30T16:04:34.658Z"
   },
   {
    "duration": 31,
    "start_time": "2022-09-30T16:04:34.693Z"
   },
   {
    "duration": 20,
    "start_time": "2022-09-30T16:04:34.727Z"
   },
   {
    "duration": 74,
    "start_time": "2022-09-30T16:04:34.749Z"
   },
   {
    "duration": 20,
    "start_time": "2022-09-30T16:04:34.825Z"
   },
   {
    "duration": 41,
    "start_time": "2022-09-30T16:04:34.847Z"
   },
   {
    "duration": 54,
    "start_time": "2022-09-30T16:04:34.890Z"
   },
   {
    "duration": 72,
    "start_time": "2022-09-30T16:04:34.946Z"
   },
   {
    "duration": 10,
    "start_time": "2022-09-30T16:04:35.020Z"
   },
   {
    "duration": 27,
    "start_time": "2022-09-30T16:04:35.032Z"
   },
   {
    "duration": 19,
    "start_time": "2022-09-30T16:04:35.062Z"
   },
   {
    "duration": 15,
    "start_time": "2022-09-30T16:04:35.084Z"
   },
   {
    "duration": 17,
    "start_time": "2022-09-30T16:04:35.104Z"
   },
   {
    "duration": 20,
    "start_time": "2022-09-30T16:04:35.123Z"
   },
   {
    "duration": 2733,
    "start_time": "2022-09-30T16:04:35.145Z"
   },
   {
    "duration": 4,
    "start_time": "2022-09-30T16:04:37.880Z"
   },
   {
    "duration": 20,
    "start_time": "2022-09-30T16:04:37.885Z"
   },
   {
    "duration": 18,
    "start_time": "2022-09-30T16:04:37.907Z"
   },
   {
    "duration": 36,
    "start_time": "2022-09-30T16:04:37.927Z"
   },
   {
    "duration": 14,
    "start_time": "2022-09-30T16:04:37.965Z"
   },
   {
    "duration": 18,
    "start_time": "2022-09-30T16:04:37.980Z"
   },
   {
    "duration": 18,
    "start_time": "2022-09-30T16:04:38.000Z"
   },
   {
    "duration": 14,
    "start_time": "2022-09-30T16:04:38.020Z"
   },
   {
    "duration": 18,
    "start_time": "2022-09-30T16:08:20.032Z"
   },
   {
    "duration": 3,
    "start_time": "2022-09-30T16:08:37.096Z"
   },
   {
    "duration": 3,
    "start_time": "2022-09-30T16:08:49.079Z"
   },
   {
    "duration": 3,
    "start_time": "2022-09-30T16:08:49.690Z"
   },
   {
    "duration": 2044,
    "start_time": "2022-09-30T16:08:51.874Z"
   },
   {
    "duration": 4,
    "start_time": "2022-09-30T16:09:23.080Z"
   },
   {
    "duration": 4,
    "start_time": "2022-09-30T16:09:25.207Z"
   },
   {
    "duration": 3,
    "start_time": "2022-09-30T16:09:45.865Z"
   },
   {
    "duration": 5,
    "start_time": "2022-09-30T16:10:11.678Z"
   },
   {
    "duration": 4,
    "start_time": "2022-09-30T16:10:15.858Z"
   },
   {
    "duration": 4,
    "start_time": "2022-09-30T16:10:35.453Z"
   },
   {
    "duration": 4,
    "start_time": "2022-09-30T16:11:03.761Z"
   },
   {
    "duration": 4,
    "start_time": "2022-09-30T16:11:04.640Z"
   },
   {
    "duration": 2033,
    "start_time": "2022-09-30T16:11:05.605Z"
   },
   {
    "duration": 2,
    "start_time": "2022-09-30T16:11:51.292Z"
   },
   {
    "duration": 4,
    "start_time": "2022-09-30T16:11:51.889Z"
   },
   {
    "duration": 85443,
    "start_time": "2022-09-30T16:11:52.690Z"
   },
   {
    "duration": 3,
    "start_time": "2022-09-30T16:22:19.385Z"
   },
   {
    "duration": 3,
    "start_time": "2022-09-30T16:22:19.997Z"
   },
   {
    "duration": 5,
    "start_time": "2022-09-30T16:22:24.019Z"
   },
   {
    "duration": 4,
    "start_time": "2022-09-30T16:22:26.234Z"
   },
   {
    "duration": 3,
    "start_time": "2022-09-30T16:22:39.302Z"
   },
   {
    "duration": 4,
    "start_time": "2022-09-30T16:24:14.517Z"
   },
   {
    "duration": 3,
    "start_time": "2022-09-30T16:24:22.192Z"
   },
   {
    "duration": 11638,
    "start_time": "2022-09-30T16:24:23.419Z"
   },
   {
    "duration": 4,
    "start_time": "2022-09-30T16:27:35.743Z"
   },
   {
    "duration": 4,
    "start_time": "2022-09-30T16:27:38.122Z"
   },
   {
    "duration": 3,
    "start_time": "2022-09-30T16:27:40.725Z"
   },
   {
    "duration": 3,
    "start_time": "2022-09-30T16:27:45.193Z"
   },
   {
    "duration": 4,
    "start_time": "2022-09-30T16:27:46.219Z"
   },
   {
    "duration": 2,
    "start_time": "2022-09-30T16:27:48.984Z"
   },
   {
    "duration": 3202,
    "start_time": "2022-09-30T16:27:49.799Z"
   },
   {
    "duration": 9450,
    "start_time": "2022-09-30T16:28:19.961Z"
   },
   {
    "duration": 4,
    "start_time": "2022-09-30T16:28:36.743Z"
   },
   {
    "duration": 5,
    "start_time": "2022-09-30T16:28:37.809Z"
   },
   {
    "duration": 4,
    "start_time": "2022-09-30T16:30:13.210Z"
   },
   {
    "duration": 3,
    "start_time": "2022-09-30T16:30:53.215Z"
   },
   {
    "duration": 47,
    "start_time": "2022-09-30T16:30:54.107Z"
   },
   {
    "duration": 3,
    "start_time": "2022-09-30T16:31:02.116Z"
   },
   {
    "duration": 2,
    "start_time": "2022-09-30T16:31:06.459Z"
   },
   {
    "duration": 3,
    "start_time": "2022-09-30T16:31:07.114Z"
   },
   {
    "duration": 14,
    "start_time": "2022-09-30T16:31:09.027Z"
   },
   {
    "duration": 2215,
    "start_time": "2022-09-30T16:32:10.835Z"
   },
   {
    "duration": 3,
    "start_time": "2022-09-30T16:34:01.989Z"
   },
   {
    "duration": 4,
    "start_time": "2022-09-30T16:34:02.744Z"
   },
   {
    "duration": 3,
    "start_time": "2022-09-30T16:34:03.728Z"
   },
   {
    "duration": 3614,
    "start_time": "2022-09-30T16:34:05.139Z"
   },
   {
    "duration": 3,
    "start_time": "2022-09-30T16:40:08.902Z"
   },
   {
    "duration": 15,
    "start_time": "2022-09-30T16:40:23.178Z"
   },
   {
    "duration": 4,
    "start_time": "2022-09-30T16:40:40.658Z"
   },
   {
    "duration": 15,
    "start_time": "2022-09-30T16:40:44.002Z"
   },
   {
    "duration": 4,
    "start_time": "2022-09-30T16:43:24.922Z"
   },
   {
    "duration": 221,
    "start_time": "2022-09-30T16:43:26.003Z"
   },
   {
    "duration": 25,
    "start_time": "2022-09-30T16:43:28.045Z"
   },
   {
    "duration": 29,
    "start_time": "2022-09-30T16:44:08.290Z"
   },
   {
    "duration": 3,
    "start_time": "2022-09-30T17:19:26.284Z"
   },
   {
    "duration": 5,
    "start_time": "2022-09-30T17:19:26.959Z"
   },
   {
    "duration": 88365,
    "start_time": "2022-09-30T17:19:27.752Z"
   },
   {
    "duration": 5,
    "start_time": "2022-09-30T17:21:01.515Z"
   },
   {
    "duration": 4,
    "start_time": "2022-09-30T17:21:03.025Z"
   },
   {
    "duration": 3,
    "start_time": "2022-09-30T17:21:05.351Z"
   },
   {
    "duration": 2,
    "start_time": "2022-09-30T17:21:21.650Z"
   },
   {
    "duration": 4,
    "start_time": "2022-09-30T17:21:22.291Z"
   },
   {
    "duration": 240,
    "start_time": "2022-09-30T17:21:24.350Z"
   },
   {
    "duration": 36,
    "start_time": "2022-09-30T17:21:27.101Z"
   },
   {
    "duration": 15,
    "start_time": "2022-09-30T17:22:54.094Z"
   },
   {
    "duration": 15,
    "start_time": "2022-09-30T17:29:49.941Z"
   },
   {
    "duration": 4,
    "start_time": "2022-09-30T17:34:30.423Z"
   },
   {
    "duration": 18,
    "start_time": "2022-09-30T17:56:38.825Z"
   },
   {
    "duration": 4,
    "start_time": "2022-09-30T17:58:02.741Z"
   },
   {
    "duration": 31,
    "start_time": "2022-09-30T17:58:06.495Z"
   },
   {
    "duration": 15,
    "start_time": "2022-09-30T17:58:08.449Z"
   },
   {
    "duration": 4,
    "start_time": "2022-09-30T17:58:14.863Z"
   },
   {
    "duration": 3,
    "start_time": "2022-09-30T17:58:15.920Z"
   },
   {
    "duration": 4,
    "start_time": "2022-09-30T17:58:16.549Z"
   },
   {
    "duration": 4,
    "start_time": "2022-09-30T17:58:20.495Z"
   },
   {
    "duration": 20,
    "start_time": "2022-09-30T17:58:21.792Z"
   },
   {
    "duration": 3,
    "start_time": "2022-09-30T17:58:29.620Z"
   },
   {
    "duration": 4,
    "start_time": "2022-09-30T17:58:30.398Z"
   },
   {
    "duration": 86613,
    "start_time": "2022-09-30T17:58:31.787Z"
   },
   {
    "duration": 65,
    "start_time": "2022-09-30T19:22:02.847Z"
   },
   {
    "duration": 1712,
    "start_time": "2022-09-30T19:30:12.899Z"
   },
   {
    "duration": 3119,
    "start_time": "2022-09-30T19:30:14.613Z"
   },
   {
    "duration": 698,
    "start_time": "2022-09-30T19:30:17.734Z"
   },
   {
    "duration": 452,
    "start_time": "2022-09-30T19:30:18.434Z"
   },
   {
    "duration": 16,
    "start_time": "2022-09-30T19:30:18.888Z"
   },
   {
    "duration": 21,
    "start_time": "2022-09-30T19:30:18.906Z"
   },
   {
    "duration": 13,
    "start_time": "2022-09-30T19:30:18.929Z"
   },
   {
    "duration": 18,
    "start_time": "2022-09-30T19:30:18.944Z"
   },
   {
    "duration": 51,
    "start_time": "2022-09-30T19:30:18.964Z"
   },
   {
    "duration": 14,
    "start_time": "2022-09-30T19:30:19.018Z"
   },
   {
    "duration": 15,
    "start_time": "2022-09-30T19:30:19.034Z"
   },
   {
    "duration": 25,
    "start_time": "2022-09-30T19:30:19.052Z"
   },
   {
    "duration": 8,
    "start_time": "2022-09-30T19:30:19.095Z"
   },
   {
    "duration": 14,
    "start_time": "2022-09-30T19:30:19.105Z"
   },
   {
    "duration": 17,
    "start_time": "2022-09-30T19:30:19.120Z"
   },
   {
    "duration": 11,
    "start_time": "2022-09-30T19:30:19.139Z"
   },
   {
    "duration": 9,
    "start_time": "2022-09-30T19:30:19.152Z"
   },
   {
    "duration": 39,
    "start_time": "2022-09-30T19:30:19.163Z"
   },
   {
    "duration": 9,
    "start_time": "2022-09-30T19:30:19.203Z"
   },
   {
    "duration": 152,
    "start_time": "2022-09-30T19:30:19.214Z"
   },
   {
    "duration": 7,
    "start_time": "2022-09-30T19:30:19.368Z"
   },
   {
    "duration": 31,
    "start_time": "2022-09-30T19:30:19.377Z"
   },
   {
    "duration": 5,
    "start_time": "2022-09-30T19:30:19.410Z"
   },
   {
    "duration": 23,
    "start_time": "2022-09-30T19:30:19.417Z"
   },
   {
    "duration": 33,
    "start_time": "2022-09-30T19:30:19.442Z"
   },
   {
    "duration": 39,
    "start_time": "2022-09-30T19:30:19.476Z"
   },
   {
    "duration": 6,
    "start_time": "2022-09-30T19:30:19.517Z"
   },
   {
    "duration": 74,
    "start_time": "2022-09-30T19:30:19.528Z"
   },
   {
    "duration": 13,
    "start_time": "2022-09-30T19:30:19.605Z"
   },
   {
    "duration": 14,
    "start_time": "2022-09-30T19:30:19.620Z"
   },
   {
    "duration": 30,
    "start_time": "2022-09-30T19:30:19.636Z"
   },
   {
    "duration": 68,
    "start_time": "2022-09-30T19:30:19.668Z"
   },
   {
    "duration": 8,
    "start_time": "2022-09-30T19:30:19.738Z"
   },
   {
    "duration": 10,
    "start_time": "2022-09-30T19:30:19.748Z"
   },
   {
    "duration": 8,
    "start_time": "2022-09-30T19:30:19.759Z"
   },
   {
    "duration": 6,
    "start_time": "2022-09-30T19:30:19.796Z"
   },
   {
    "duration": 11,
    "start_time": "2022-09-30T19:30:19.803Z"
   },
   {
    "duration": 18,
    "start_time": "2022-09-30T19:30:19.816Z"
   },
   {
    "duration": 16,
    "start_time": "2022-09-30T19:30:19.836Z"
   },
   {
    "duration": 12860,
    "start_time": "2022-09-30T19:30:19.854Z"
   },
   {
    "duration": 5,
    "start_time": "2022-09-30T19:30:32.716Z"
   },
   {
    "duration": 13,
    "start_time": "2022-09-30T19:30:32.723Z"
   },
   {
    "duration": 4,
    "start_time": "2022-09-30T19:30:32.738Z"
   },
   {
    "duration": 87,
    "start_time": "2022-09-30T19:30:32.744Z"
   },
   {
    "duration": 18,
    "start_time": "2022-09-30T19:30:32.832Z"
   },
   {
    "duration": 10,
    "start_time": "2022-09-30T19:30:32.852Z"
   },
   {
    "duration": 12,
    "start_time": "2022-09-30T19:30:32.864Z"
   },
   {
    "duration": 17,
    "start_time": "2022-09-30T19:30:32.878Z"
   },
   {
    "duration": 7,
    "start_time": "2022-09-30T19:30:32.897Z"
   },
   {
    "duration": 26,
    "start_time": "2022-09-30T19:30:32.906Z"
   },
   {
    "duration": 2,
    "start_time": "2022-09-30T19:30:32.934Z"
   },
   {
    "duration": 5,
    "start_time": "2022-09-30T19:30:32.938Z"
   },
   {
    "duration": 87529,
    "start_time": "2022-09-30T19:30:32.944Z"
   },
   {
    "duration": 4,
    "start_time": "2022-09-30T19:32:00.474Z"
   },
   {
    "duration": 19,
    "start_time": "2022-09-30T19:32:00.480Z"
   },
   {
    "duration": 7,
    "start_time": "2022-09-30T19:32:00.500Z"
   },
   {
    "duration": 21,
    "start_time": "2022-09-30T19:32:00.508Z"
   },
   {
    "duration": 258,
    "start_time": "2022-09-30T19:32:00.532Z"
   },
   {
    "duration": 29,
    "start_time": "2022-09-30T19:32:00.792Z"
   },
   {
    "duration": 3,
    "start_time": "2022-09-30T19:32:00.822Z"
   },
   {
    "duration": 11475,
    "start_time": "2022-09-30T19:32:00.827Z"
   },
   {
    "duration": 4,
    "start_time": "2022-09-30T19:32:12.305Z"
   },
   {
    "duration": 8,
    "start_time": "2022-09-30T19:32:12.310Z"
   },
   {
    "duration": 5,
    "start_time": "2022-09-30T19:32:12.320Z"
   },
   {
    "duration": 91,
    "start_time": "2022-09-30T19:32:24.408Z"
   },
   {
    "duration": 4,
    "start_time": "2022-09-30T19:33:41.167Z"
   },
   {
    "duration": 2190,
    "start_time": "2022-09-30T19:33:41.173Z"
   },
   {
    "duration": 4,
    "start_time": "2022-09-30T19:33:43.365Z"
   },
   {
    "duration": 135,
    "start_time": "2022-09-30T19:33:43.371Z"
   },
   {
    "duration": 14,
    "start_time": "2022-09-30T19:33:43.509Z"
   },
   {
    "duration": 36,
    "start_time": "2022-09-30T19:33:43.525Z"
   },
   {
    "duration": 12,
    "start_time": "2022-09-30T19:33:43.563Z"
   },
   {
    "duration": 19,
    "start_time": "2022-09-30T19:33:43.576Z"
   },
   {
    "duration": 34,
    "start_time": "2022-09-30T19:33:43.597Z"
   },
   {
    "duration": 11,
    "start_time": "2022-09-30T19:33:43.633Z"
   },
   {
    "duration": 24,
    "start_time": "2022-09-30T19:33:43.646Z"
   },
   {
    "duration": 20,
    "start_time": "2022-09-30T19:33:43.672Z"
   },
   {
    "duration": 10,
    "start_time": "2022-09-30T19:33:43.696Z"
   },
   {
    "duration": 36,
    "start_time": "2022-09-30T19:33:43.707Z"
   },
   {
    "duration": 18,
    "start_time": "2022-09-30T19:33:43.745Z"
   },
   {
    "duration": 26,
    "start_time": "2022-09-30T19:33:43.765Z"
   },
   {
    "duration": 10,
    "start_time": "2022-09-30T19:33:43.792Z"
   },
   {
    "duration": 30,
    "start_time": "2022-09-30T19:33:43.804Z"
   },
   {
    "duration": 12,
    "start_time": "2022-09-30T19:33:43.836Z"
   },
   {
    "duration": 126,
    "start_time": "2022-09-30T19:33:43.850Z"
   },
   {
    "duration": 6,
    "start_time": "2022-09-30T19:33:43.978Z"
   },
   {
    "duration": 41,
    "start_time": "2022-09-30T19:33:43.986Z"
   },
   {
    "duration": 4,
    "start_time": "2022-09-30T19:33:44.029Z"
   },
   {
    "duration": 19,
    "start_time": "2022-09-30T19:33:44.034Z"
   },
   {
    "duration": 140,
    "start_time": "2022-09-30T19:33:44.055Z"
   },
   {
    "duration": 24,
    "start_time": "2022-09-30T19:33:44.197Z"
   },
   {
    "duration": 5,
    "start_time": "2022-09-30T19:33:44.222Z"
   },
   {
    "duration": 69,
    "start_time": "2022-09-30T19:33:44.228Z"
   },
   {
    "duration": 13,
    "start_time": "2022-09-30T19:33:44.299Z"
   },
   {
    "duration": 23,
    "start_time": "2022-09-30T19:33:44.313Z"
   },
   {
    "duration": 36,
    "start_time": "2022-09-30T19:33:44.338Z"
   },
   {
    "duration": 49,
    "start_time": "2022-09-30T19:33:44.376Z"
   },
   {
    "duration": 9,
    "start_time": "2022-09-30T19:33:44.426Z"
   },
   {
    "duration": 14,
    "start_time": "2022-09-30T19:33:44.436Z"
   },
   {
    "duration": 13,
    "start_time": "2022-09-30T19:33:44.451Z"
   },
   {
    "duration": 13,
    "start_time": "2022-09-30T19:33:44.465Z"
   },
   {
    "duration": 10,
    "start_time": "2022-09-30T19:33:44.498Z"
   },
   {
    "duration": 26,
    "start_time": "2022-09-30T19:33:44.509Z"
   },
   {
    "duration": 16,
    "start_time": "2022-09-30T19:33:44.537Z"
   },
   {
    "duration": 2456,
    "start_time": "2022-09-30T19:33:44.555Z"
   },
   {
    "duration": 5,
    "start_time": "2022-09-30T19:33:47.013Z"
   },
   {
    "duration": 11,
    "start_time": "2022-09-30T19:33:47.019Z"
   },
   {
    "duration": 4,
    "start_time": "2022-09-30T19:33:47.031Z"
   },
   {
    "duration": 31,
    "start_time": "2022-09-30T19:33:47.037Z"
   },
   {
    "duration": 31,
    "start_time": "2022-09-30T19:33:47.070Z"
   },
   {
    "duration": 4,
    "start_time": "2022-09-30T19:33:47.102Z"
   },
   {
    "duration": 5,
    "start_time": "2022-09-30T19:33:47.107Z"
   },
   {
    "duration": 6,
    "start_time": "2022-09-30T19:33:47.113Z"
   },
   {
    "duration": 5,
    "start_time": "2022-09-30T19:33:47.121Z"
   },
   {
    "duration": 19,
    "start_time": "2022-09-30T19:33:47.127Z"
   },
   {
    "duration": 3,
    "start_time": "2022-09-30T19:33:47.148Z"
   },
   {
    "duration": 8,
    "start_time": "2022-09-30T19:33:47.153Z"
   },
   {
    "duration": 85616,
    "start_time": "2022-09-30T19:33:47.194Z"
   },
   {
    "duration": 4,
    "start_time": "2022-09-30T19:35:12.812Z"
   },
   {
    "duration": 10,
    "start_time": "2022-09-30T19:35:12.818Z"
   },
   {
    "duration": 11,
    "start_time": "2022-09-30T19:35:12.830Z"
   },
   {
    "duration": 20,
    "start_time": "2022-09-30T19:35:12.843Z"
   },
   {
    "duration": 263,
    "start_time": "2022-09-30T19:35:12.865Z"
   },
   {
    "duration": 29,
    "start_time": "2022-09-30T19:35:13.130Z"
   },
   {
    "duration": 2,
    "start_time": "2022-09-30T19:35:13.161Z"
   },
   {
    "duration": 11334,
    "start_time": "2022-09-30T19:35:13.165Z"
   },
   {
    "duration": 5,
    "start_time": "2022-09-30T19:35:24.500Z"
   },
   {
    "duration": 8,
    "start_time": "2022-09-30T19:35:24.506Z"
   },
   {
    "duration": 6,
    "start_time": "2022-09-30T19:35:24.515Z"
   },
   {
    "duration": 3,
    "start_time": "2022-09-30T19:35:31.150Z"
   },
   {
    "duration": 3,
    "start_time": "2022-09-30T19:35:32.555Z"
   },
   {
    "duration": 2461,
    "start_time": "2022-09-30T19:36:03.821Z"
   },
   {
    "duration": 4,
    "start_time": "2022-09-30T19:36:31.044Z"
   },
   {
    "duration": 4,
    "start_time": "2022-09-30T19:36:50.288Z"
   },
   {
    "duration": 6,
    "start_time": "2022-09-30T19:40:37.867Z"
   },
   {
    "duration": 2565,
    "start_time": "2022-09-30T19:40:37.875Z"
   },
   {
    "duration": 4,
    "start_time": "2022-09-30T19:40:40.441Z"
   },
   {
    "duration": 114,
    "start_time": "2022-09-30T19:40:40.446Z"
   },
   {
    "duration": 14,
    "start_time": "2022-09-30T19:40:40.562Z"
   },
   {
    "duration": 16,
    "start_time": "2022-09-30T19:40:40.578Z"
   },
   {
    "duration": 13,
    "start_time": "2022-09-30T19:40:40.596Z"
   },
   {
    "duration": 13,
    "start_time": "2022-09-30T19:40:40.610Z"
   },
   {
    "duration": 29,
    "start_time": "2022-09-30T19:40:40.625Z"
   },
   {
    "duration": 11,
    "start_time": "2022-09-30T19:40:40.656Z"
   },
   {
    "duration": 10,
    "start_time": "2022-09-30T19:40:40.696Z"
   },
   {
    "duration": 17,
    "start_time": "2022-09-30T19:40:40.708Z"
   },
   {
    "duration": 7,
    "start_time": "2022-09-30T19:40:40.728Z"
   },
   {
    "duration": 13,
    "start_time": "2022-09-30T19:40:40.736Z"
   },
   {
    "duration": 53,
    "start_time": "2022-09-30T19:40:40.751Z"
   },
   {
    "duration": 27,
    "start_time": "2022-09-30T19:40:40.805Z"
   },
   {
    "duration": 14,
    "start_time": "2022-09-30T19:40:40.835Z"
   },
   {
    "duration": 21,
    "start_time": "2022-09-30T19:40:40.851Z"
   },
   {
    "duration": 11,
    "start_time": "2022-09-30T19:40:40.873Z"
   },
   {
    "duration": 131,
    "start_time": "2022-09-30T19:40:40.885Z"
   },
   {
    "duration": 6,
    "start_time": "2022-09-30T19:40:41.017Z"
   },
   {
    "duration": 15,
    "start_time": "2022-09-30T19:40:41.025Z"
   },
   {
    "duration": 4,
    "start_time": "2022-09-30T19:40:41.042Z"
   },
   {
    "duration": 17,
    "start_time": "2022-09-30T19:40:41.048Z"
   },
   {
    "duration": 30,
    "start_time": "2022-09-30T19:40:41.094Z"
   },
   {
    "duration": 23,
    "start_time": "2022-09-30T19:40:41.126Z"
   },
   {
    "duration": 4,
    "start_time": "2022-09-30T19:40:41.150Z"
   },
   {
    "duration": 78,
    "start_time": "2022-09-30T19:40:41.156Z"
   },
   {
    "duration": 14,
    "start_time": "2022-09-30T19:40:41.236Z"
   },
   {
    "duration": 14,
    "start_time": "2022-09-30T19:40:41.251Z"
   },
   {
    "duration": 55,
    "start_time": "2022-09-30T19:40:41.266Z"
   },
   {
    "duration": 42,
    "start_time": "2022-09-30T19:40:41.323Z"
   },
   {
    "duration": 8,
    "start_time": "2022-09-30T19:40:41.366Z"
   },
   {
    "duration": 9,
    "start_time": "2022-09-30T19:40:41.396Z"
   },
   {
    "duration": 10,
    "start_time": "2022-09-30T19:40:41.407Z"
   },
   {
    "duration": 6,
    "start_time": "2022-09-30T19:40:41.419Z"
   },
   {
    "duration": 11,
    "start_time": "2022-09-30T19:40:41.429Z"
   },
   {
    "duration": 20,
    "start_time": "2022-09-30T19:40:41.441Z"
   },
   {
    "duration": 43,
    "start_time": "2022-09-30T19:40:41.463Z"
   },
   {
    "duration": 13417,
    "start_time": "2022-09-30T19:40:41.508Z"
   },
   {
    "duration": 70,
    "start_time": "2022-09-30T19:40:54.928Z"
   },
   {
    "duration": 12,
    "start_time": "2022-09-30T19:40:54.999Z"
   },
   {
    "duration": 4,
    "start_time": "2022-09-30T19:40:55.012Z"
   },
   {
    "duration": 32,
    "start_time": "2022-09-30T19:40:55.018Z"
   },
   {
    "duration": 15,
    "start_time": "2022-09-30T19:40:55.052Z"
   },
   {
    "duration": 29,
    "start_time": "2022-09-30T19:40:55.068Z"
   },
   {
    "duration": 3,
    "start_time": "2022-09-30T19:40:55.098Z"
   },
   {
    "duration": 8,
    "start_time": "2022-09-30T19:40:55.103Z"
   },
   {
    "duration": 7,
    "start_time": "2022-09-30T19:40:55.112Z"
   },
   {
    "duration": 18,
    "start_time": "2022-09-30T19:40:55.121Z"
   },
   {
    "duration": 3,
    "start_time": "2022-09-30T19:40:55.141Z"
   },
   {
    "duration": 7,
    "start_time": "2022-09-30T19:40:55.145Z"
   },
   {
    "duration": 87552,
    "start_time": "2022-09-30T19:40:55.153Z"
   },
   {
    "duration": 4,
    "start_time": "2022-09-30T19:42:22.707Z"
   },
   {
    "duration": 8,
    "start_time": "2022-09-30T19:42:22.713Z"
   },
   {
    "duration": 10,
    "start_time": "2022-09-30T19:42:22.723Z"
   },
   {
    "duration": 6,
    "start_time": "2022-09-30T19:42:22.735Z"
   },
   {
    "duration": 5,
    "start_time": "2022-09-30T19:42:22.743Z"
   },
   {
    "duration": 6,
    "start_time": "2022-09-30T19:42:22.750Z"
   },
   {
    "duration": 6,
    "start_time": "2022-09-30T19:42:22.757Z"
   },
   {
    "duration": 11439,
    "start_time": "2022-09-30T19:42:22.765Z"
   },
   {
    "duration": 4,
    "start_time": "2022-09-30T19:42:34.206Z"
   },
   {
    "duration": 6,
    "start_time": "2022-09-30T19:42:34.212Z"
   },
   {
    "duration": 7,
    "start_time": "2022-09-30T19:42:34.219Z"
   },
   {
    "duration": 8,
    "start_time": "2022-09-30T19:42:34.228Z"
   },
   {
    "duration": 16,
    "start_time": "2022-09-30T19:42:34.238Z"
   },
   {
    "duration": 2457,
    "start_time": "2022-09-30T19:42:34.256Z"
   },
   {
    "duration": 19,
    "start_time": "2022-09-30T19:42:36.715Z"
   },
   {
    "duration": 0,
    "start_time": "2022-09-30T19:42:36.736Z"
   },
   {
    "duration": 0,
    "start_time": "2022-09-30T19:42:36.738Z"
   },
   {
    "duration": 0,
    "start_time": "2022-09-30T19:42:36.739Z"
   },
   {
    "duration": 0,
    "start_time": "2022-09-30T19:42:36.741Z"
   },
   {
    "duration": 0,
    "start_time": "2022-09-30T19:42:36.742Z"
   },
   {
    "duration": 0,
    "start_time": "2022-09-30T19:42:36.743Z"
   },
   {
    "duration": 0,
    "start_time": "2022-09-30T19:42:36.745Z"
   },
   {
    "duration": 0,
    "start_time": "2022-09-30T19:42:36.746Z"
   },
   {
    "duration": 0,
    "start_time": "2022-09-30T19:42:36.747Z"
   },
   {
    "duration": 5,
    "start_time": "2022-09-30T19:43:12.909Z"
   },
   {
    "duration": 5,
    "start_time": "2022-09-30T19:43:15.148Z"
   },
   {
    "duration": 3,
    "start_time": "2022-09-30T19:43:16.134Z"
   },
   {
    "duration": 4,
    "start_time": "2022-09-30T19:43:17.645Z"
   },
   {
    "duration": 7,
    "start_time": "2022-09-30T19:43:19.860Z"
   },
   {
    "duration": 3,
    "start_time": "2022-09-30T19:43:51.704Z"
   },
   {
    "duration": 261,
    "start_time": "2022-09-30T19:43:53.402Z"
   },
   {
    "duration": 31,
    "start_time": "2022-09-30T19:43:54.823Z"
   },
   {
    "duration": 124,
    "start_time": "2022-09-30T19:44:04.729Z"
   },
   {
    "duration": 12,
    "start_time": "2022-09-30T19:44:10.028Z"
   },
   {
    "duration": 10,
    "start_time": "2022-09-30T19:45:13.693Z"
   },
   {
    "duration": 5,
    "start_time": "2022-09-30T19:48:08.794Z"
   },
   {
    "duration": 2184,
    "start_time": "2022-09-30T19:48:08.802Z"
   },
   {
    "duration": 4,
    "start_time": "2022-09-30T19:48:10.988Z"
   },
   {
    "duration": 118,
    "start_time": "2022-09-30T19:48:10.993Z"
   },
   {
    "duration": 15,
    "start_time": "2022-09-30T19:48:11.113Z"
   },
   {
    "duration": 16,
    "start_time": "2022-09-30T19:48:11.129Z"
   },
   {
    "duration": 13,
    "start_time": "2022-09-30T19:48:11.147Z"
   },
   {
    "duration": 15,
    "start_time": "2022-09-30T19:48:11.162Z"
   },
   {
    "duration": 40,
    "start_time": "2022-09-30T19:48:11.179Z"
   },
   {
    "duration": 11,
    "start_time": "2022-09-30T19:48:11.221Z"
   },
   {
    "duration": 15,
    "start_time": "2022-09-30T19:48:11.234Z"
   },
   {
    "duration": 20,
    "start_time": "2022-09-30T19:48:11.251Z"
   },
   {
    "duration": 30,
    "start_time": "2022-09-30T19:48:11.273Z"
   },
   {
    "duration": 11,
    "start_time": "2022-09-30T19:48:11.306Z"
   },
   {
    "duration": 12,
    "start_time": "2022-09-30T19:48:11.318Z"
   },
   {
    "duration": 9,
    "start_time": "2022-09-30T19:48:11.331Z"
   },
   {
    "duration": 13,
    "start_time": "2022-09-30T19:48:11.342Z"
   },
   {
    "duration": 47,
    "start_time": "2022-09-30T19:48:11.356Z"
   },
   {
    "duration": 8,
    "start_time": "2022-09-30T19:48:11.405Z"
   },
   {
    "duration": 136,
    "start_time": "2022-09-30T19:48:11.414Z"
   },
   {
    "duration": 8,
    "start_time": "2022-09-30T19:48:11.552Z"
   },
   {
    "duration": 19,
    "start_time": "2022-09-30T19:48:11.561Z"
   },
   {
    "duration": 5,
    "start_time": "2022-09-30T19:48:11.594Z"
   },
   {
    "duration": 20,
    "start_time": "2022-09-30T19:48:11.601Z"
   },
   {
    "duration": 138,
    "start_time": "2022-09-30T19:48:11.623Z"
   },
   {
    "duration": 32,
    "start_time": "2022-09-30T19:48:11.763Z"
   },
   {
    "duration": 5,
    "start_time": "2022-09-30T19:48:11.797Z"
   },
   {
    "duration": 49,
    "start_time": "2022-09-30T19:48:11.804Z"
   },
   {
    "duration": 21,
    "start_time": "2022-09-30T19:48:11.855Z"
   },
   {
    "duration": 30,
    "start_time": "2022-09-30T19:48:11.877Z"
   },
   {
    "duration": 29,
    "start_time": "2022-09-30T19:48:11.909Z"
   },
   {
    "duration": 56,
    "start_time": "2022-09-30T19:48:11.940Z"
   },
   {
    "duration": 10,
    "start_time": "2022-09-30T19:48:11.998Z"
   },
   {
    "duration": 10,
    "start_time": "2022-09-30T19:48:12.010Z"
   },
   {
    "duration": 9,
    "start_time": "2022-09-30T19:48:12.021Z"
   },
   {
    "duration": 9,
    "start_time": "2022-09-30T19:48:12.032Z"
   },
   {
    "duration": 11,
    "start_time": "2022-09-30T19:48:12.043Z"
   },
   {
    "duration": 39,
    "start_time": "2022-09-30T19:48:12.056Z"
   },
   {
    "duration": 16,
    "start_time": "2022-09-30T19:48:12.097Z"
   },
   {
    "duration": 12305,
    "start_time": "2022-09-30T19:48:12.114Z"
   },
   {
    "duration": 5,
    "start_time": "2022-09-30T19:48:24.424Z"
   },
   {
    "duration": 11,
    "start_time": "2022-09-30T19:48:24.431Z"
   },
   {
    "duration": 12,
    "start_time": "2022-09-30T19:48:24.444Z"
   },
   {
    "duration": 66,
    "start_time": "2022-09-30T19:48:24.458Z"
   },
   {
    "duration": 15,
    "start_time": "2022-09-30T19:48:24.526Z"
   },
   {
    "duration": 5,
    "start_time": "2022-09-30T19:48:24.543Z"
   },
   {
    "duration": 5,
    "start_time": "2022-09-30T19:48:24.550Z"
   },
   {
    "duration": 5,
    "start_time": "2022-09-30T19:48:24.557Z"
   },
   {
    "duration": 5,
    "start_time": "2022-09-30T19:48:24.563Z"
   },
   {
    "duration": 40,
    "start_time": "2022-09-30T19:48:24.570Z"
   },
   {
    "duration": 3,
    "start_time": "2022-09-30T19:48:24.611Z"
   },
   {
    "duration": 4,
    "start_time": "2022-09-30T19:48:24.616Z"
   },
   {
    "duration": 86332,
    "start_time": "2022-09-30T19:48:24.621Z"
   },
   {
    "duration": 4,
    "start_time": "2022-09-30T19:49:50.955Z"
   },
   {
    "duration": 15,
    "start_time": "2022-09-30T19:49:50.961Z"
   },
   {
    "duration": 17,
    "start_time": "2022-09-30T19:49:50.977Z"
   },
   {
    "duration": 8,
    "start_time": "2022-09-30T19:49:50.996Z"
   },
   {
    "duration": 8,
    "start_time": "2022-09-30T19:49:51.006Z"
   },
   {
    "duration": 5,
    "start_time": "2022-09-30T19:49:51.016Z"
   },
   {
    "duration": 6,
    "start_time": "2022-09-30T19:49:51.023Z"
   },
   {
    "duration": 11166,
    "start_time": "2022-09-30T19:49:51.030Z"
   },
   {
    "duration": 4,
    "start_time": "2022-09-30T19:50:02.198Z"
   },
   {
    "duration": 11,
    "start_time": "2022-09-30T19:50:02.204Z"
   },
   {
    "duration": 33,
    "start_time": "2022-09-30T19:50:02.217Z"
   },
   {
    "duration": 17,
    "start_time": "2022-09-30T19:50:02.252Z"
   },
   {
    "duration": 10,
    "start_time": "2022-09-30T19:50:02.270Z"
   },
   {
    "duration": 2467,
    "start_time": "2022-09-30T19:50:02.282Z"
   },
   {
    "duration": 4,
    "start_time": "2022-09-30T19:50:04.750Z"
   },
   {
    "duration": 8,
    "start_time": "2022-09-30T19:50:04.755Z"
   },
   {
    "duration": 4,
    "start_time": "2022-09-30T19:50:04.765Z"
   },
   {
    "duration": 5,
    "start_time": "2022-09-30T19:50:04.770Z"
   },
   {
    "duration": 21,
    "start_time": "2022-09-30T19:50:04.777Z"
   },
   {
    "duration": 4,
    "start_time": "2022-09-30T19:50:04.800Z"
   },
   {
    "duration": 252,
    "start_time": "2022-09-30T19:50:04.806Z"
   },
   {
    "duration": 37,
    "start_time": "2022-09-30T19:50:05.059Z"
   },
   {
    "duration": 136,
    "start_time": "2022-09-30T19:50:05.097Z"
   },
   {
    "duration": 15,
    "start_time": "2022-09-30T19:50:05.235Z"
   },
   {
    "duration": 0,
    "start_time": "2022-09-30T19:50:05.251Z"
   },
   {
    "duration": 3,
    "start_time": "2022-09-30T19:51:29.869Z"
   },
   {
    "duration": 258,
    "start_time": "2022-09-30T19:51:30.638Z"
   },
   {
    "duration": 28,
    "start_time": "2022-09-30T19:51:31.863Z"
   },
   {
    "duration": 127,
    "start_time": "2022-09-30T19:51:36.994Z"
   },
   {
    "duration": 13,
    "start_time": "2022-09-30T19:51:39.828Z"
   },
   {
    "duration": 11,
    "start_time": "2022-09-30T19:51:42.271Z"
   },
   {
    "duration": 18,
    "start_time": "2022-09-30T19:53:15.764Z"
   },
   {
    "duration": 334,
    "start_time": "2022-09-30T19:53:30.025Z"
   },
   {
    "duration": 10,
    "start_time": "2022-09-30T19:54:39.437Z"
   },
   {
    "duration": 5,
    "start_time": "2022-09-30T19:56:10.347Z"
   },
   {
    "duration": 9,
    "start_time": "2022-09-30T19:56:28.809Z"
   },
   {
    "duration": 4,
    "start_time": "2022-09-30T19:56:29.513Z"
   },
   {
    "duration": 338,
    "start_time": "2022-09-30T19:56:36.827Z"
   },
   {
    "duration": 5,
    "start_time": "2022-09-30T19:59:23.893Z"
   },
   {
    "duration": 2198,
    "start_time": "2022-09-30T19:59:23.900Z"
   },
   {
    "duration": 3,
    "start_time": "2022-09-30T19:59:26.100Z"
   },
   {
    "duration": 112,
    "start_time": "2022-09-30T19:59:26.106Z"
   },
   {
    "duration": 13,
    "start_time": "2022-09-30T19:59:26.220Z"
   },
   {
    "duration": 16,
    "start_time": "2022-09-30T19:59:26.235Z"
   },
   {
    "duration": 14,
    "start_time": "2022-09-30T19:59:26.253Z"
   },
   {
    "duration": 36,
    "start_time": "2022-09-30T19:59:26.269Z"
   },
   {
    "duration": 36,
    "start_time": "2022-09-30T19:59:26.308Z"
   },
   {
    "duration": 11,
    "start_time": "2022-09-30T19:59:26.346Z"
   },
   {
    "duration": 40,
    "start_time": "2022-09-30T19:59:26.359Z"
   },
   {
    "duration": 18,
    "start_time": "2022-09-30T19:59:26.401Z"
   },
   {
    "duration": 7,
    "start_time": "2022-09-30T19:59:26.421Z"
   },
   {
    "duration": 16,
    "start_time": "2022-09-30T19:59:26.430Z"
   },
   {
    "duration": 15,
    "start_time": "2022-09-30T19:59:26.448Z"
   },
   {
    "duration": 11,
    "start_time": "2022-09-30T19:59:26.496Z"
   },
   {
    "duration": 21,
    "start_time": "2022-09-30T19:59:26.509Z"
   },
   {
    "duration": 24,
    "start_time": "2022-09-30T19:59:26.532Z"
   },
   {
    "duration": 16,
    "start_time": "2022-09-30T19:59:26.559Z"
   },
   {
    "duration": 174,
    "start_time": "2022-09-30T19:59:26.577Z"
   },
   {
    "duration": 7,
    "start_time": "2022-09-30T19:59:26.754Z"
   },
   {
    "duration": 16,
    "start_time": "2022-09-30T19:59:26.763Z"
   },
   {
    "duration": 5,
    "start_time": "2022-09-30T19:59:26.796Z"
   },
   {
    "duration": 25,
    "start_time": "2022-09-30T19:59:26.807Z"
   },
   {
    "duration": 32,
    "start_time": "2022-09-30T19:59:26.835Z"
   },
   {
    "duration": 44,
    "start_time": "2022-09-30T19:59:26.869Z"
   },
   {
    "duration": 3,
    "start_time": "2022-09-30T19:59:26.915Z"
   },
   {
    "duration": 177,
    "start_time": "2022-09-30T19:59:26.920Z"
   },
   {
    "duration": 13,
    "start_time": "2022-09-30T19:59:27.099Z"
   },
   {
    "duration": 13,
    "start_time": "2022-09-30T19:59:27.113Z"
   },
   {
    "duration": 29,
    "start_time": "2022-09-30T19:59:27.128Z"
   },
   {
    "duration": 72,
    "start_time": "2022-09-30T19:59:27.158Z"
   },
   {
    "duration": 8,
    "start_time": "2022-09-30T19:59:27.231Z"
   },
   {
    "duration": 9,
    "start_time": "2022-09-30T19:59:27.241Z"
   },
   {
    "duration": 46,
    "start_time": "2022-09-30T19:59:27.252Z"
   },
   {
    "duration": 6,
    "start_time": "2022-09-30T19:59:27.300Z"
   },
   {
    "duration": 10,
    "start_time": "2022-09-30T19:59:27.308Z"
   },
   {
    "duration": 14,
    "start_time": "2022-09-30T19:59:27.320Z"
   },
   {
    "duration": 17,
    "start_time": "2022-09-30T19:59:27.336Z"
   },
   {
    "duration": 11981,
    "start_time": "2022-09-30T19:59:27.354Z"
   },
   {
    "duration": 5,
    "start_time": "2022-09-30T19:59:39.337Z"
   },
   {
    "duration": 12,
    "start_time": "2022-09-30T19:59:39.343Z"
   },
   {
    "duration": 39,
    "start_time": "2022-09-30T19:59:39.357Z"
   },
   {
    "duration": 30,
    "start_time": "2022-09-30T19:59:39.398Z"
   },
   {
    "duration": 15,
    "start_time": "2022-09-30T19:59:39.429Z"
   },
   {
    "duration": 6,
    "start_time": "2022-09-30T19:59:39.446Z"
   },
   {
    "duration": 5,
    "start_time": "2022-09-30T19:59:39.453Z"
   },
   {
    "duration": 36,
    "start_time": "2022-09-30T19:59:39.459Z"
   },
   {
    "duration": 4,
    "start_time": "2022-09-30T19:59:39.497Z"
   },
   {
    "duration": 19,
    "start_time": "2022-09-30T19:59:39.502Z"
   },
   {
    "duration": 3,
    "start_time": "2022-09-30T19:59:39.523Z"
   },
   {
    "duration": 5,
    "start_time": "2022-09-30T19:59:39.527Z"
   },
   {
    "duration": 90811,
    "start_time": "2022-09-30T19:59:39.534Z"
   },
   {
    "duration": 4,
    "start_time": "2022-09-30T20:01:10.348Z"
   },
   {
    "duration": 10,
    "start_time": "2022-09-30T20:01:10.354Z"
   },
   {
    "duration": 5,
    "start_time": "2022-09-30T20:01:10.366Z"
   },
   {
    "duration": 3,
    "start_time": "2022-09-30T20:01:10.401Z"
   },
   {
    "duration": 8,
    "start_time": "2022-09-30T20:01:10.407Z"
   },
   {
    "duration": 10,
    "start_time": "2022-09-30T20:01:10.417Z"
   },
   {
    "duration": 13,
    "start_time": "2022-09-30T20:01:10.429Z"
   },
   {
    "duration": 10970,
    "start_time": "2022-09-30T20:01:10.444Z"
   },
   {
    "duration": 3,
    "start_time": "2022-09-30T20:01:21.417Z"
   },
   {
    "duration": 8,
    "start_time": "2022-09-30T20:01:21.422Z"
   },
   {
    "duration": 6,
    "start_time": "2022-09-30T20:01:21.431Z"
   },
   {
    "duration": 61,
    "start_time": "2022-09-30T20:01:21.438Z"
   },
   {
    "duration": 9,
    "start_time": "2022-09-30T20:01:21.500Z"
   },
   {
    "duration": 2578,
    "start_time": "2022-09-30T20:01:21.511Z"
   },
   {
    "duration": 4,
    "start_time": "2022-09-30T20:01:24.095Z"
   },
   {
    "duration": 7,
    "start_time": "2022-09-30T20:01:24.104Z"
   },
   {
    "duration": 4,
    "start_time": "2022-09-30T20:01:24.112Z"
   },
   {
    "duration": 6,
    "start_time": "2022-09-30T20:01:24.118Z"
   },
   {
    "duration": 9,
    "start_time": "2022-09-30T20:01:24.126Z"
   },
   {
    "duration": 5,
    "start_time": "2022-09-30T20:01:24.136Z"
   },
   {
    "duration": 298,
    "start_time": "2022-09-30T20:01:24.143Z"
   },
   {
    "duration": 30,
    "start_time": "2022-09-30T20:01:24.443Z"
   },
   {
    "duration": 157,
    "start_time": "2022-09-30T20:01:24.475Z"
   },
   {
    "duration": 9,
    "start_time": "2022-09-30T20:01:24.633Z"
   },
   {
    "duration": 5,
    "start_time": "2022-09-30T20:01:24.644Z"
   },
   {
    "duration": 346,
    "start_time": "2022-09-30T20:01:24.651Z"
   },
   {
    "duration": 16,
    "start_time": "2022-09-30T20:01:24.999Z"
   },
   {
    "duration": 14,
    "start_time": "2022-09-30T20:01:58.088Z"
   },
   {
    "duration": 385,
    "start_time": "2022-09-30T20:03:59.532Z"
   },
   {
    "duration": 11,
    "start_time": "2022-09-30T20:04:21.890Z"
   },
   {
    "duration": 11,
    "start_time": "2022-09-30T20:04:29.137Z"
   },
   {
    "duration": 513,
    "start_time": "2022-09-30T20:05:26.513Z"
   },
   {
    "duration": 123,
    "start_time": "2022-09-30T20:06:14.445Z"
   },
   {
    "duration": 9,
    "start_time": "2022-09-30T20:06:23.856Z"
   },
   {
    "duration": 453,
    "start_time": "2022-09-30T20:06:34.023Z"
   },
   {
    "duration": 466,
    "start_time": "2022-09-30T20:18:20.113Z"
   },
   {
    "duration": 6,
    "start_time": "2022-09-30T20:20:37.028Z"
   },
   {
    "duration": 2187,
    "start_time": "2022-09-30T20:20:37.036Z"
   },
   {
    "duration": 3,
    "start_time": "2022-09-30T20:20:39.226Z"
   },
   {
    "duration": 111,
    "start_time": "2022-09-30T20:20:39.231Z"
   },
   {
    "duration": 13,
    "start_time": "2022-09-30T20:20:39.344Z"
   },
   {
    "duration": 16,
    "start_time": "2022-09-30T20:20:39.359Z"
   },
   {
    "duration": 11,
    "start_time": "2022-09-30T20:20:39.377Z"
   },
   {
    "duration": 14,
    "start_time": "2022-09-30T20:20:39.389Z"
   },
   {
    "duration": 30,
    "start_time": "2022-09-30T20:20:39.405Z"
   },
   {
    "duration": 11,
    "start_time": "2022-09-30T20:20:39.436Z"
   },
   {
    "duration": 13,
    "start_time": "2022-09-30T20:20:39.449Z"
   },
   {
    "duration": 40,
    "start_time": "2022-09-30T20:20:39.464Z"
   },
   {
    "duration": 7,
    "start_time": "2022-09-30T20:20:39.506Z"
   },
   {
    "duration": 23,
    "start_time": "2022-09-30T20:20:39.514Z"
   },
   {
    "duration": 20,
    "start_time": "2022-09-30T20:20:39.539Z"
   },
   {
    "duration": 9,
    "start_time": "2022-09-30T20:20:39.560Z"
   },
   {
    "duration": 25,
    "start_time": "2022-09-30T20:20:39.571Z"
   },
   {
    "duration": 11,
    "start_time": "2022-09-30T20:20:39.598Z"
   },
   {
    "duration": 7,
    "start_time": "2022-09-30T20:20:39.611Z"
   },
   {
    "duration": 135,
    "start_time": "2022-09-30T20:20:39.619Z"
   },
   {
    "duration": 6,
    "start_time": "2022-09-30T20:20:39.756Z"
   },
   {
    "duration": 31,
    "start_time": "2022-09-30T20:20:39.764Z"
   },
   {
    "duration": 5,
    "start_time": "2022-09-30T20:20:39.798Z"
   },
   {
    "duration": 17,
    "start_time": "2022-09-30T20:20:39.809Z"
   },
   {
    "duration": 26,
    "start_time": "2022-09-30T20:20:39.828Z"
   },
   {
    "duration": 56,
    "start_time": "2022-09-30T20:20:39.856Z"
   },
   {
    "duration": 4,
    "start_time": "2022-09-30T20:20:39.914Z"
   },
   {
    "duration": 53,
    "start_time": "2022-09-30T20:20:39.920Z"
   },
   {
    "duration": 30,
    "start_time": "2022-09-30T20:20:39.974Z"
   },
   {
    "duration": 13,
    "start_time": "2022-09-30T20:20:40.006Z"
   },
   {
    "duration": 35,
    "start_time": "2022-09-30T20:20:40.021Z"
   },
   {
    "duration": 67,
    "start_time": "2022-09-30T20:20:40.058Z"
   },
   {
    "duration": 5,
    "start_time": "2022-09-30T20:20:40.127Z"
   },
   {
    "duration": 14,
    "start_time": "2022-09-30T20:20:40.134Z"
   },
   {
    "duration": 7,
    "start_time": "2022-09-30T20:20:40.150Z"
   },
   {
    "duration": 8,
    "start_time": "2022-09-30T20:20:40.158Z"
   },
   {
    "duration": 10,
    "start_time": "2022-09-30T20:20:40.196Z"
   },
   {
    "duration": 16,
    "start_time": "2022-09-30T20:20:40.208Z"
   },
   {
    "duration": 16,
    "start_time": "2022-09-30T20:20:40.225Z"
   },
   {
    "duration": 12693,
    "start_time": "2022-09-30T20:20:40.242Z"
   },
   {
    "duration": 5,
    "start_time": "2022-09-30T20:20:52.936Z"
   },
   {
    "duration": 11,
    "start_time": "2022-09-30T20:20:52.943Z"
   },
   {
    "duration": 39,
    "start_time": "2022-09-30T20:20:52.956Z"
   },
   {
    "duration": 30,
    "start_time": "2022-09-30T20:20:52.998Z"
   },
   {
    "duration": 15,
    "start_time": "2022-09-30T20:20:53.030Z"
   },
   {
    "duration": 5,
    "start_time": "2022-09-30T20:20:53.047Z"
   },
   {
    "duration": 41,
    "start_time": "2022-09-30T20:20:53.054Z"
   },
   {
    "duration": 6,
    "start_time": "2022-09-30T20:20:53.098Z"
   },
   {
    "duration": 11,
    "start_time": "2022-09-30T20:20:53.106Z"
   },
   {
    "duration": 21,
    "start_time": "2022-09-30T20:20:53.119Z"
   },
   {
    "duration": 3,
    "start_time": "2022-09-30T20:20:53.142Z"
   },
   {
    "duration": 9,
    "start_time": "2022-09-30T20:20:53.146Z"
   },
   {
    "duration": 86364,
    "start_time": "2022-09-30T20:20:53.156Z"
   },
   {
    "duration": 3,
    "start_time": "2022-09-30T20:22:19.522Z"
   },
   {
    "duration": 6,
    "start_time": "2022-09-30T20:22:19.527Z"
   },
   {
    "duration": 13,
    "start_time": "2022-09-30T20:22:19.535Z"
   },
   {
    "duration": 7,
    "start_time": "2022-09-30T20:22:19.549Z"
   },
   {
    "duration": 11245,
    "start_time": "2022-09-30T20:22:19.558Z"
   },
   {
    "duration": 3,
    "start_time": "2022-09-30T20:22:30.805Z"
   },
   {
    "duration": 19,
    "start_time": "2022-09-30T20:22:30.810Z"
   },
   {
    "duration": 21,
    "start_time": "2022-09-30T20:22:30.831Z"
   },
   {
    "duration": 15,
    "start_time": "2022-09-30T20:22:30.853Z"
   },
   {
    "duration": 12,
    "start_time": "2022-09-30T20:22:30.870Z"
   },
   {
    "duration": 2577,
    "start_time": "2022-09-30T20:22:30.884Z"
   },
   {
    "duration": 4,
    "start_time": "2022-09-30T20:22:33.463Z"
   },
   {
    "duration": 26,
    "start_time": "2022-09-30T20:22:33.469Z"
   },
   {
    "duration": 8,
    "start_time": "2022-09-30T20:22:33.497Z"
   },
   {
    "duration": 12,
    "start_time": "2022-09-30T20:22:33.507Z"
   },
   {
    "duration": 12,
    "start_time": "2022-09-30T20:22:33.524Z"
   },
   {
    "duration": 15,
    "start_time": "2022-09-30T20:22:33.538Z"
   },
   {
    "duration": 272,
    "start_time": "2022-09-30T20:22:33.554Z"
   },
   {
    "duration": 28,
    "start_time": "2022-09-30T20:22:33.828Z"
   },
   {
    "duration": 158,
    "start_time": "2022-09-30T20:22:33.858Z"
   },
   {
    "duration": 481,
    "start_time": "2022-09-30T20:22:34.018Z"
   },
   {
    "duration": 55,
    "start_time": "2022-10-01T11:31:51.624Z"
   },
   {
    "duration": 48,
    "start_time": "2022-10-01T11:50:57.520Z"
   },
   {
    "duration": 1668,
    "start_time": "2022-10-01T11:51:08.637Z"
   },
   {
    "duration": 2900,
    "start_time": "2022-10-01T11:51:10.308Z"
   },
   {
    "duration": 725,
    "start_time": "2022-10-01T11:51:13.211Z"
   },
   {
    "duration": 293,
    "start_time": "2022-10-01T11:51:13.938Z"
   },
   {
    "duration": 19,
    "start_time": "2022-10-01T11:51:14.233Z"
   },
   {
    "duration": 19,
    "start_time": "2022-10-01T11:51:14.254Z"
   },
   {
    "duration": 11,
    "start_time": "2022-10-01T11:51:14.275Z"
   },
   {
    "duration": 12,
    "start_time": "2022-10-01T11:51:14.287Z"
   },
   {
    "duration": 31,
    "start_time": "2022-10-01T11:51:14.300Z"
   },
   {
    "duration": 10,
    "start_time": "2022-10-01T11:51:14.333Z"
   },
   {
    "duration": 14,
    "start_time": "2022-10-01T11:51:14.344Z"
   },
   {
    "duration": 19,
    "start_time": "2022-10-01T11:51:14.359Z"
   },
   {
    "duration": 9,
    "start_time": "2022-10-01T11:51:14.380Z"
   },
   {
    "duration": 23,
    "start_time": "2022-10-01T11:51:14.391Z"
   },
   {
    "duration": 10,
    "start_time": "2022-10-01T11:51:14.416Z"
   },
   {
    "duration": 11,
    "start_time": "2022-10-01T11:51:14.427Z"
   },
   {
    "duration": 10,
    "start_time": "2022-10-01T11:51:14.440Z"
   },
   {
    "duration": 13,
    "start_time": "2022-10-01T11:51:14.452Z"
   },
   {
    "duration": 9,
    "start_time": "2022-10-01T11:51:14.466Z"
   },
   {
    "duration": 136,
    "start_time": "2022-10-01T11:51:14.477Z"
   },
   {
    "duration": 6,
    "start_time": "2022-10-01T11:51:14.614Z"
   },
   {
    "duration": 14,
    "start_time": "2022-10-01T11:51:14.622Z"
   },
   {
    "duration": 3,
    "start_time": "2022-10-01T11:51:14.638Z"
   },
   {
    "duration": 15,
    "start_time": "2022-10-01T11:51:14.643Z"
   },
   {
    "duration": 51,
    "start_time": "2022-10-01T11:51:14.660Z"
   },
   {
    "duration": 20,
    "start_time": "2022-10-01T11:51:14.712Z"
   },
   {
    "duration": 4,
    "start_time": "2022-10-01T11:51:14.734Z"
   },
   {
    "duration": 69,
    "start_time": "2022-10-01T11:51:14.740Z"
   },
   {
    "duration": 11,
    "start_time": "2022-10-01T11:51:14.811Z"
   },
   {
    "duration": 13,
    "start_time": "2022-10-01T11:51:14.824Z"
   },
   {
    "duration": 28,
    "start_time": "2022-10-01T11:51:14.839Z"
   },
   {
    "duration": 60,
    "start_time": "2022-10-01T11:51:14.869Z"
   },
   {
    "duration": 7,
    "start_time": "2022-10-01T11:51:14.931Z"
   },
   {
    "duration": 7,
    "start_time": "2022-10-01T11:51:14.940Z"
   },
   {
    "duration": 5,
    "start_time": "2022-10-01T11:51:14.949Z"
   },
   {
    "duration": 7,
    "start_time": "2022-10-01T11:51:14.955Z"
   },
   {
    "duration": 9,
    "start_time": "2022-10-01T11:51:14.963Z"
   },
   {
    "duration": 38,
    "start_time": "2022-10-01T11:51:14.973Z"
   },
   {
    "duration": 16,
    "start_time": "2022-10-01T11:51:15.012Z"
   },
   {
    "duration": 11493,
    "start_time": "2022-10-01T11:51:15.029Z"
   },
   {
    "duration": 4,
    "start_time": "2022-10-01T11:51:26.527Z"
   },
   {
    "duration": 8,
    "start_time": "2022-10-01T11:51:26.533Z"
   },
   {
    "duration": 19,
    "start_time": "2022-10-01T11:51:26.542Z"
   },
   {
    "duration": 59,
    "start_time": "2022-10-01T11:51:26.562Z"
   },
   {
    "duration": 13,
    "start_time": "2022-10-01T11:51:26.623Z"
   },
   {
    "duration": 19,
    "start_time": "2022-10-01T11:51:26.637Z"
   },
   {
    "duration": 6,
    "start_time": "2022-10-01T11:51:26.658Z"
   },
   {
    "duration": 15,
    "start_time": "2022-10-01T11:51:26.665Z"
   },
   {
    "duration": 9,
    "start_time": "2022-10-01T11:51:26.681Z"
   },
   {
    "duration": 18,
    "start_time": "2022-10-01T11:51:26.691Z"
   },
   {
    "duration": 3,
    "start_time": "2022-10-01T11:51:26.710Z"
   },
   {
    "duration": 6,
    "start_time": "2022-10-01T11:51:26.714Z"
   },
   {
    "duration": 88646,
    "start_time": "2022-10-01T11:51:26.721Z"
   },
   {
    "duration": 4,
    "start_time": "2022-10-01T11:52:55.368Z"
   },
   {
    "duration": 22,
    "start_time": "2022-10-01T11:52:55.373Z"
   },
   {
    "duration": 17,
    "start_time": "2022-10-01T11:52:55.396Z"
   },
   {
    "duration": 19,
    "start_time": "2022-10-01T11:52:55.415Z"
   },
   {
    "duration": 11478,
    "start_time": "2022-10-01T11:52:55.436Z"
   },
   {
    "duration": 4,
    "start_time": "2022-10-01T11:53:06.915Z"
   },
   {
    "duration": 6,
    "start_time": "2022-10-01T11:53:06.920Z"
   },
   {
    "duration": 4,
    "start_time": "2022-10-01T11:53:06.927Z"
   },
   {
    "duration": 4,
    "start_time": "2022-10-01T11:53:06.932Z"
   },
   {
    "duration": 6,
    "start_time": "2022-10-01T11:53:06.937Z"
   },
   {
    "duration": 2550,
    "start_time": "2022-10-01T11:53:06.946Z"
   },
   {
    "duration": 4,
    "start_time": "2022-10-01T11:53:09.497Z"
   },
   {
    "duration": 10,
    "start_time": "2022-10-01T11:53:09.509Z"
   },
   {
    "duration": 12,
    "start_time": "2022-10-01T11:53:09.520Z"
   },
   {
    "duration": 10,
    "start_time": "2022-10-01T11:53:09.533Z"
   },
   {
    "duration": 13,
    "start_time": "2022-10-01T11:53:09.545Z"
   },
   {
    "duration": 6,
    "start_time": "2022-10-01T11:53:09.560Z"
   },
   {
    "duration": 272,
    "start_time": "2022-10-01T11:53:09.567Z"
   },
   {
    "duration": 24,
    "start_time": "2022-10-01T11:53:09.840Z"
   },
   {
    "duration": 150,
    "start_time": "2022-10-01T11:53:09.866Z"
   },
   {
    "duration": 528,
    "start_time": "2022-10-01T11:53:10.018Z"
   },
   {
    "duration": 12,
    "start_time": "2022-10-01T11:53:10.548Z"
   },
   {
    "duration": 47,
    "start_time": "2022-10-01T11:54:26.932Z"
   },
   {
    "duration": 104,
    "start_time": "2022-10-01T11:54:57.938Z"
   },
   {
    "duration": 10,
    "start_time": "2022-10-01T12:38:34.558Z"
   },
   {
    "duration": 11,
    "start_time": "2022-10-01T12:38:43.692Z"
   },
   {
    "duration": 11,
    "start_time": "2022-10-01T12:38:53.746Z"
   },
   {
    "duration": 14,
    "start_time": "2022-10-01T12:39:06.843Z"
   },
   {
    "duration": 3,
    "start_time": "2022-10-01T12:51:28.380Z"
   },
   {
    "duration": 48,
    "start_time": "2022-10-01T15:56:24.676Z"
   },
   {
    "duration": 49,
    "start_time": "2022-10-01T16:16:31.176Z"
   },
   {
    "duration": 52,
    "start_time": "2022-10-01T16:16:52.110Z"
   },
   {
    "duration": 1733,
    "start_time": "2022-10-01T16:16:56.165Z"
   },
   {
    "duration": 3143,
    "start_time": "2022-10-01T16:16:57.900Z"
   },
   {
    "duration": 312,
    "start_time": "2022-10-01T16:17:01.045Z"
   },
   {
    "duration": 301,
    "start_time": "2022-10-01T16:17:01.359Z"
   },
   {
    "duration": 14,
    "start_time": "2022-10-01T16:17:01.662Z"
   },
   {
    "duration": 39,
    "start_time": "2022-10-01T16:17:01.678Z"
   },
   {
    "duration": 12,
    "start_time": "2022-10-01T16:17:01.718Z"
   },
   {
    "duration": 25,
    "start_time": "2022-10-01T16:17:01.732Z"
   },
   {
    "duration": 46,
    "start_time": "2022-10-01T16:17:01.759Z"
   },
   {
    "duration": 11,
    "start_time": "2022-10-01T16:17:01.807Z"
   },
   {
    "duration": 26,
    "start_time": "2022-10-01T16:17:01.819Z"
   },
   {
    "duration": 30,
    "start_time": "2022-10-01T16:17:01.847Z"
   },
   {
    "duration": 30,
    "start_time": "2022-10-01T16:17:01.878Z"
   },
   {
    "duration": 22,
    "start_time": "2022-10-01T16:17:01.911Z"
   },
   {
    "duration": 18,
    "start_time": "2022-10-01T16:17:01.934Z"
   },
   {
    "duration": 8,
    "start_time": "2022-10-01T16:17:01.953Z"
   },
   {
    "duration": 19,
    "start_time": "2022-10-01T16:17:01.962Z"
   },
   {
    "duration": 21,
    "start_time": "2022-10-01T16:17:01.982Z"
   },
   {
    "duration": 8,
    "start_time": "2022-10-01T16:17:02.005Z"
   },
   {
    "duration": 111,
    "start_time": "2022-10-01T16:17:02.014Z"
   },
   {
    "duration": 14,
    "start_time": "2022-10-01T16:17:02.126Z"
   },
   {
    "duration": 15,
    "start_time": "2022-10-01T16:17:02.141Z"
   },
   {
    "duration": 9,
    "start_time": "2022-10-01T16:17:02.157Z"
   },
   {
    "duration": 19,
    "start_time": "2022-10-01T16:17:02.167Z"
   },
   {
    "duration": 28,
    "start_time": "2022-10-01T16:17:02.188Z"
   },
   {
    "duration": 32,
    "start_time": "2022-10-01T16:17:02.218Z"
   },
   {
    "duration": 5,
    "start_time": "2022-10-01T16:17:02.251Z"
   },
   {
    "duration": 56,
    "start_time": "2022-10-01T16:17:02.257Z"
   },
   {
    "duration": 24,
    "start_time": "2022-10-01T16:17:02.315Z"
   },
   {
    "duration": 16,
    "start_time": "2022-10-01T16:17:02.340Z"
   },
   {
    "duration": 32,
    "start_time": "2022-10-01T16:17:02.358Z"
   },
   {
    "duration": 68,
    "start_time": "2022-10-01T16:17:02.392Z"
   },
   {
    "duration": 7,
    "start_time": "2022-10-01T16:17:02.462Z"
   },
   {
    "duration": 9,
    "start_time": "2022-10-01T16:17:02.471Z"
   },
   {
    "duration": 11,
    "start_time": "2022-10-01T16:17:02.482Z"
   },
   {
    "duration": 5,
    "start_time": "2022-10-01T16:17:02.495Z"
   },
   {
    "duration": 11,
    "start_time": "2022-10-01T16:17:02.501Z"
   },
   {
    "duration": 33,
    "start_time": "2022-10-01T16:17:02.513Z"
   },
   {
    "duration": 15,
    "start_time": "2022-10-01T16:17:02.548Z"
   },
   {
    "duration": 12001,
    "start_time": "2022-10-01T16:17:02.565Z"
   },
   {
    "duration": 4,
    "start_time": "2022-10-01T16:17:14.571Z"
   },
   {
    "duration": 8,
    "start_time": "2022-10-01T16:17:14.576Z"
   },
   {
    "duration": 4,
    "start_time": "2022-10-01T16:17:14.585Z"
   },
   {
    "duration": 70,
    "start_time": "2022-10-01T16:17:14.590Z"
   },
   {
    "duration": 13,
    "start_time": "2022-10-01T16:17:14.661Z"
   },
   {
    "duration": 5,
    "start_time": "2022-10-01T16:17:14.675Z"
   },
   {
    "duration": 4,
    "start_time": "2022-10-01T16:17:14.681Z"
   },
   {
    "duration": 5,
    "start_time": "2022-10-01T16:17:14.687Z"
   },
   {
    "duration": 5,
    "start_time": "2022-10-01T16:17:14.693Z"
   },
   {
    "duration": 39,
    "start_time": "2022-10-01T16:17:14.699Z"
   },
   {
    "duration": 3,
    "start_time": "2022-10-01T16:17:14.739Z"
   },
   {
    "duration": 5,
    "start_time": "2022-10-01T16:17:14.743Z"
   },
   {
    "duration": 76432,
    "start_time": "2022-10-01T16:17:14.750Z"
   },
   {
    "duration": 4,
    "start_time": "2022-10-01T16:18:31.183Z"
   },
   {
    "duration": 20,
    "start_time": "2022-10-01T16:18:31.188Z"
   },
   {
    "duration": 12,
    "start_time": "2022-10-01T16:18:31.209Z"
   },
   {
    "duration": 10,
    "start_time": "2022-10-01T16:18:31.223Z"
   },
   {
    "duration": 11912,
    "start_time": "2022-10-01T16:18:31.235Z"
   },
   {
    "duration": 4,
    "start_time": "2022-10-01T16:18:43.148Z"
   },
   {
    "duration": 23,
    "start_time": "2022-10-01T16:18:43.153Z"
   },
   {
    "duration": 21,
    "start_time": "2022-10-01T16:18:43.177Z"
   },
   {
    "duration": 22,
    "start_time": "2022-10-01T16:18:43.199Z"
   },
   {
    "duration": 21,
    "start_time": "2022-10-01T16:18:43.223Z"
   },
   {
    "duration": 2199,
    "start_time": "2022-10-01T16:18:43.246Z"
   },
   {
    "duration": 3,
    "start_time": "2022-10-01T16:18:45.447Z"
   },
   {
    "duration": 6,
    "start_time": "2022-10-01T16:18:45.451Z"
   },
   {
    "duration": 3,
    "start_time": "2022-10-01T16:18:45.459Z"
   },
   {
    "duration": 4,
    "start_time": "2022-10-01T16:18:45.464Z"
   },
   {
    "duration": 10,
    "start_time": "2022-10-01T16:18:45.470Z"
   },
   {
    "duration": 6,
    "start_time": "2022-10-01T16:18:45.481Z"
   },
   {
    "duration": 246,
    "start_time": "2022-10-01T16:18:45.488Z"
   },
   {
    "duration": 31,
    "start_time": "2022-10-01T16:18:45.735Z"
   },
   {
    "duration": 139,
    "start_time": "2022-10-01T16:18:45.767Z"
   },
   {
    "duration": 505,
    "start_time": "2022-10-01T16:18:45.908Z"
   },
   {
    "duration": 94,
    "start_time": "2022-10-01T16:18:46.414Z"
   },
   {
    "duration": 11,
    "start_time": "2022-10-01T16:18:46.509Z"
   },
   {
    "duration": 21,
    "start_time": "2022-10-01T16:18:46.522Z"
   },
   {
    "duration": 11,
    "start_time": "2022-10-01T16:18:46.544Z"
   },
   {
    "duration": 12,
    "start_time": "2022-10-01T16:18:46.557Z"
   },
   {
    "duration": 8,
    "start_time": "2022-10-01T16:18:46.570Z"
   },
   {
    "duration": 141,
    "start_time": "2022-10-01T16:20:01.605Z"
   },
   {
    "duration": 3,
    "start_time": "2022-10-01T16:22:13.760Z"
   },
   {
    "duration": 66,
    "start_time": "2022-10-01T16:23:15.444Z"
   },
   {
    "duration": 3,
    "start_time": "2022-10-01T16:31:50.761Z"
   },
   {
    "duration": 253,
    "start_time": "2022-10-01T16:31:51.438Z"
   },
   {
    "duration": 27,
    "start_time": "2022-10-01T16:31:52.567Z"
   },
   {
    "duration": 5,
    "start_time": "2022-10-01T16:31:54.687Z"
   },
   {
    "duration": 26,
    "start_time": "2022-10-01T16:31:55.844Z"
   },
   {
    "duration": 5,
    "start_time": "2022-10-01T16:35:41.025Z"
   },
   {
    "duration": 4,
    "start_time": "2022-10-01T16:35:53.676Z"
   },
   {
    "duration": 6,
    "start_time": "2022-10-01T16:36:17.977Z"
   },
   {
    "duration": 5,
    "start_time": "2022-10-01T16:37:04.906Z"
   },
   {
    "duration": 2107,
    "start_time": "2022-10-01T16:37:04.913Z"
   },
   {
    "duration": 3,
    "start_time": "2022-10-01T16:37:07.022Z"
   },
   {
    "duration": 125,
    "start_time": "2022-10-01T16:37:07.026Z"
   },
   {
    "duration": 16,
    "start_time": "2022-10-01T16:37:07.154Z"
   },
   {
    "duration": 19,
    "start_time": "2022-10-01T16:37:07.172Z"
   },
   {
    "duration": 14,
    "start_time": "2022-10-01T16:37:07.193Z"
   },
   {
    "duration": 29,
    "start_time": "2022-10-01T16:37:07.209Z"
   },
   {
    "duration": 32,
    "start_time": "2022-10-01T16:37:07.241Z"
   },
   {
    "duration": 14,
    "start_time": "2022-10-01T16:37:07.275Z"
   },
   {
    "duration": 12,
    "start_time": "2022-10-01T16:37:07.291Z"
   },
   {
    "duration": 36,
    "start_time": "2022-10-01T16:37:07.306Z"
   },
   {
    "duration": 8,
    "start_time": "2022-10-01T16:37:07.344Z"
   },
   {
    "duration": 15,
    "start_time": "2022-10-01T16:37:07.355Z"
   },
   {
    "duration": 18,
    "start_time": "2022-10-01T16:37:07.372Z"
   },
   {
    "duration": 9,
    "start_time": "2022-10-01T16:37:07.392Z"
   },
   {
    "duration": 36,
    "start_time": "2022-10-01T16:37:07.403Z"
   },
   {
    "duration": 11,
    "start_time": "2022-10-01T16:37:07.440Z"
   },
   {
    "duration": 7,
    "start_time": "2022-10-01T16:37:07.453Z"
   },
   {
    "duration": 113,
    "start_time": "2022-10-01T16:37:07.462Z"
   },
   {
    "duration": 5,
    "start_time": "2022-10-01T16:37:07.577Z"
   },
   {
    "duration": 14,
    "start_time": "2022-10-01T16:37:07.583Z"
   },
   {
    "duration": 3,
    "start_time": "2022-10-01T16:37:07.598Z"
   },
   {
    "duration": 15,
    "start_time": "2022-10-01T16:37:07.603Z"
   },
   {
    "duration": 23,
    "start_time": "2022-10-01T16:37:07.638Z"
   },
   {
    "duration": 21,
    "start_time": "2022-10-01T16:37:07.662Z"
   },
   {
    "duration": 4,
    "start_time": "2022-10-01T16:37:07.684Z"
   },
   {
    "duration": 64,
    "start_time": "2022-10-01T16:37:07.690Z"
   },
   {
    "duration": 12,
    "start_time": "2022-10-01T16:37:07.756Z"
   },
   {
    "duration": 12,
    "start_time": "2022-10-01T16:37:07.770Z"
   },
   {
    "duration": 26,
    "start_time": "2022-10-01T16:37:07.783Z"
   },
   {
    "duration": 55,
    "start_time": "2022-10-01T16:37:07.811Z"
   },
   {
    "duration": 6,
    "start_time": "2022-10-01T16:37:07.867Z"
   },
   {
    "duration": 8,
    "start_time": "2022-10-01T16:37:07.874Z"
   },
   {
    "duration": 6,
    "start_time": "2022-10-01T16:37:07.883Z"
   },
   {
    "duration": 10,
    "start_time": "2022-10-01T16:37:07.890Z"
   },
   {
    "duration": 9,
    "start_time": "2022-10-01T16:37:07.902Z"
   },
   {
    "duration": 35,
    "start_time": "2022-10-01T16:37:07.913Z"
   },
   {
    "duration": 14,
    "start_time": "2022-10-01T16:37:07.950Z"
   },
   {
    "duration": 10718,
    "start_time": "2022-10-01T16:37:07.965Z"
   },
   {
    "duration": 4,
    "start_time": "2022-10-01T16:37:18.740Z"
   },
   {
    "duration": 8,
    "start_time": "2022-10-01T16:37:18.746Z"
   },
   {
    "duration": 4,
    "start_time": "2022-10-01T16:37:18.755Z"
   },
   {
    "duration": 27,
    "start_time": "2022-10-01T16:37:18.760Z"
   },
   {
    "duration": 12,
    "start_time": "2022-10-01T16:37:18.788Z"
   },
   {
    "duration": 5,
    "start_time": "2022-10-01T16:37:18.801Z"
   },
   {
    "duration": 31,
    "start_time": "2022-10-01T16:37:18.808Z"
   },
   {
    "duration": 6,
    "start_time": "2022-10-01T16:37:18.840Z"
   },
   {
    "duration": 7,
    "start_time": "2022-10-01T16:37:18.848Z"
   },
   {
    "duration": 18,
    "start_time": "2022-10-01T16:37:18.856Z"
   },
   {
    "duration": 3,
    "start_time": "2022-10-01T16:37:18.875Z"
   },
   {
    "duration": 5,
    "start_time": "2022-10-01T16:37:18.879Z"
   },
   {
    "duration": 75742,
    "start_time": "2022-10-01T16:37:18.885Z"
   },
   {
    "duration": 11,
    "start_time": "2022-10-01T16:38:34.629Z"
   },
   {
    "duration": 7,
    "start_time": "2022-10-01T16:38:34.642Z"
   },
   {
    "duration": 3,
    "start_time": "2022-10-01T16:38:34.651Z"
   },
   {
    "duration": 7,
    "start_time": "2022-10-01T16:38:34.655Z"
   },
   {
    "duration": 11484,
    "start_time": "2022-10-01T16:38:34.663Z"
   },
   {
    "duration": 4,
    "start_time": "2022-10-01T16:38:46.148Z"
   },
   {
    "duration": 22,
    "start_time": "2022-10-01T16:38:46.153Z"
   },
   {
    "duration": 23,
    "start_time": "2022-10-01T16:38:46.177Z"
   },
   {
    "duration": 19,
    "start_time": "2022-10-01T16:38:46.202Z"
   },
   {
    "duration": 21,
    "start_time": "2022-10-01T16:38:46.223Z"
   },
   {
    "duration": 2252,
    "start_time": "2022-10-01T16:38:46.245Z"
   },
   {
    "duration": 4,
    "start_time": "2022-10-01T16:38:48.498Z"
   },
   {
    "duration": 9,
    "start_time": "2022-10-01T16:38:48.503Z"
   },
   {
    "duration": 4,
    "start_time": "2022-10-01T16:38:48.513Z"
   },
   {
    "duration": 20,
    "start_time": "2022-10-01T16:38:48.518Z"
   },
   {
    "duration": 13,
    "start_time": "2022-10-01T16:38:48.540Z"
   },
   {
    "duration": 14,
    "start_time": "2022-10-01T16:38:48.554Z"
   },
   {
    "duration": 236,
    "start_time": "2022-10-01T16:38:48.569Z"
   },
   {
    "duration": 36,
    "start_time": "2022-10-01T16:38:48.806Z"
   },
   {
    "duration": 4,
    "start_time": "2022-10-01T16:38:48.844Z"
   },
   {
    "duration": 25,
    "start_time": "2022-10-01T16:38:48.849Z"
   },
   {
    "duration": 123,
    "start_time": "2022-10-01T16:38:48.876Z"
   },
   {
    "duration": 416,
    "start_time": "2022-10-01T16:38:49.000Z"
   },
   {
    "duration": 102,
    "start_time": "2022-10-01T16:38:49.417Z"
   },
   {
    "duration": 27,
    "start_time": "2022-10-01T16:38:49.520Z"
   },
   {
    "duration": 10,
    "start_time": "2022-10-01T16:38:49.548Z"
   },
   {
    "duration": 15,
    "start_time": "2022-10-01T16:38:49.560Z"
   },
   {
    "duration": 12,
    "start_time": "2022-10-01T16:38:49.577Z"
   },
   {
    "duration": 7,
    "start_time": "2022-10-01T16:38:49.591Z"
   },
   {
    "duration": 72,
    "start_time": "2022-10-01T17:16:41.384Z"
   },
   {
    "duration": 1436,
    "start_time": "2022-10-01T17:16:46.676Z"
   },
   {
    "duration": 2134,
    "start_time": "2022-10-01T17:16:48.114Z"
   },
   {
    "duration": 306,
    "start_time": "2022-10-01T17:16:50.251Z"
   },
   {
    "duration": 97,
    "start_time": "2022-10-01T17:16:50.558Z"
   },
   {
    "duration": 13,
    "start_time": "2022-10-01T17:16:50.657Z"
   },
   {
    "duration": 20,
    "start_time": "2022-10-01T17:16:50.671Z"
   },
   {
    "duration": 11,
    "start_time": "2022-10-01T17:16:50.692Z"
   },
   {
    "duration": 14,
    "start_time": "2022-10-01T17:16:50.704Z"
   },
   {
    "duration": 37,
    "start_time": "2022-10-01T17:16:50.719Z"
   },
   {
    "duration": 10,
    "start_time": "2022-10-01T17:16:50.757Z"
   },
   {
    "duration": 12,
    "start_time": "2022-10-01T17:16:50.769Z"
   },
   {
    "duration": 14,
    "start_time": "2022-10-01T17:16:50.783Z"
   },
   {
    "duration": 6,
    "start_time": "2022-10-01T17:16:50.799Z"
   },
   {
    "duration": 14,
    "start_time": "2022-10-01T17:16:50.838Z"
   },
   {
    "duration": 12,
    "start_time": "2022-10-01T17:16:50.854Z"
   },
   {
    "duration": 10,
    "start_time": "2022-10-01T17:16:50.868Z"
   },
   {
    "duration": 6,
    "start_time": "2022-10-01T17:16:50.880Z"
   },
   {
    "duration": 22,
    "start_time": "2022-10-01T17:16:50.887Z"
   },
   {
    "duration": 29,
    "start_time": "2022-10-01T17:16:50.911Z"
   },
   {
    "duration": 118,
    "start_time": "2022-10-01T17:16:50.941Z"
   },
   {
    "duration": 6,
    "start_time": "2022-10-01T17:16:51.061Z"
   },
   {
    "duration": 17,
    "start_time": "2022-10-01T17:16:51.068Z"
   },
   {
    "duration": 8,
    "start_time": "2022-10-01T17:16:51.087Z"
   },
   {
    "duration": 18,
    "start_time": "2022-10-01T17:16:51.097Z"
   },
   {
    "duration": 53,
    "start_time": "2022-10-01T17:16:51.117Z"
   },
   {
    "duration": 21,
    "start_time": "2022-10-01T17:16:51.172Z"
   },
   {
    "duration": 4,
    "start_time": "2022-10-01T17:16:51.194Z"
   },
   {
    "duration": 61,
    "start_time": "2022-10-01T17:16:51.200Z"
   },
   {
    "duration": 12,
    "start_time": "2022-10-01T17:16:51.263Z"
   },
   {
    "duration": 15,
    "start_time": "2022-10-01T17:16:51.277Z"
   },
   {
    "duration": 30,
    "start_time": "2022-10-01T17:16:51.294Z"
   },
   {
    "duration": 35,
    "start_time": "2022-10-01T17:16:51.338Z"
   },
   {
    "duration": 8,
    "start_time": "2022-10-01T17:16:51.374Z"
   },
   {
    "duration": 9,
    "start_time": "2022-10-01T17:16:51.384Z"
   },
   {
    "duration": 7,
    "start_time": "2022-10-01T17:16:51.394Z"
   },
   {
    "duration": 9,
    "start_time": "2022-10-01T17:16:51.402Z"
   },
   {
    "duration": 9,
    "start_time": "2022-10-01T17:16:51.439Z"
   },
   {
    "duration": 39,
    "start_time": "2022-10-01T17:16:51.450Z"
   },
   {
    "duration": 22,
    "start_time": "2022-10-01T17:16:51.491Z"
   },
   {
    "duration": 11949,
    "start_time": "2022-10-01T17:16:51.515Z"
   },
   {
    "duration": 4,
    "start_time": "2022-10-01T17:17:03.469Z"
   },
   {
    "duration": 7,
    "start_time": "2022-10-01T17:17:03.539Z"
   },
   {
    "duration": 4,
    "start_time": "2022-10-01T17:17:03.548Z"
   },
   {
    "duration": 33,
    "start_time": "2022-10-01T17:17:03.553Z"
   },
   {
    "duration": 13,
    "start_time": "2022-10-01T17:17:03.587Z"
   },
   {
    "duration": 7,
    "start_time": "2022-10-01T17:17:03.602Z"
   },
   {
    "duration": 28,
    "start_time": "2022-10-01T17:17:03.611Z"
   },
   {
    "duration": 7,
    "start_time": "2022-10-01T17:17:03.641Z"
   },
   {
    "duration": 5,
    "start_time": "2022-10-01T17:17:03.650Z"
   },
   {
    "duration": 20,
    "start_time": "2022-10-01T17:17:03.656Z"
   },
   {
    "duration": 4,
    "start_time": "2022-10-01T17:17:03.677Z"
   },
   {
    "duration": 7,
    "start_time": "2022-10-01T17:17:03.682Z"
   },
   {
    "duration": 78518,
    "start_time": "2022-10-01T17:17:03.690Z"
   },
   {
    "duration": 4,
    "start_time": "2022-10-01T17:18:22.209Z"
   },
   {
    "duration": 9,
    "start_time": "2022-10-01T17:18:22.214Z"
   },
   {
    "duration": 13,
    "start_time": "2022-10-01T17:18:22.225Z"
   },
   {
    "duration": 7,
    "start_time": "2022-10-01T17:18:22.240Z"
   },
   {
    "duration": 11901,
    "start_time": "2022-10-01T17:18:22.249Z"
   },
   {
    "duration": 4,
    "start_time": "2022-10-01T17:18:34.151Z"
   },
   {
    "duration": 16,
    "start_time": "2022-10-01T17:18:34.157Z"
   },
   {
    "duration": 10,
    "start_time": "2022-10-01T17:18:34.174Z"
   },
   {
    "duration": 16,
    "start_time": "2022-10-01T17:18:34.185Z"
   },
   {
    "duration": 16,
    "start_time": "2022-10-01T17:18:34.203Z"
   },
   {
    "duration": 2300,
    "start_time": "2022-10-01T17:18:34.221Z"
   },
   {
    "duration": 4,
    "start_time": "2022-10-01T17:18:36.522Z"
   },
   {
    "duration": 4,
    "start_time": "2022-10-01T17:18:36.539Z"
   },
   {
    "duration": 17,
    "start_time": "2022-10-01T17:18:36.544Z"
   },
   {
    "duration": 13,
    "start_time": "2022-10-01T17:18:36.563Z"
   },
   {
    "duration": 18,
    "start_time": "2022-10-01T17:18:36.577Z"
   },
   {
    "duration": 17,
    "start_time": "2022-10-01T17:18:36.597Z"
   },
   {
    "duration": 247,
    "start_time": "2022-10-01T17:18:36.615Z"
   },
   {
    "duration": 23,
    "start_time": "2022-10-01T17:18:36.863Z"
   },
   {
    "duration": 4,
    "start_time": "2022-10-01T17:18:36.888Z"
   },
   {
    "duration": 48,
    "start_time": "2022-10-01T17:18:36.894Z"
   },
   {
    "duration": 122,
    "start_time": "2022-10-01T17:18:36.944Z"
   },
   {
    "duration": 470,
    "start_time": "2022-10-01T17:18:37.068Z"
   },
   {
    "duration": 102,
    "start_time": "2022-10-01T17:18:37.540Z"
   },
   {
    "duration": 13,
    "start_time": "2022-10-01T17:18:37.643Z"
   },
   {
    "duration": 48,
    "start_time": "2022-10-01T17:18:37.658Z"
   },
   {
    "duration": 29,
    "start_time": "2022-10-01T17:18:37.708Z"
   },
   {
    "duration": 37,
    "start_time": "2022-10-01T17:18:37.739Z"
   },
   {
    "duration": 24,
    "start_time": "2022-10-01T17:18:37.778Z"
   },
   {
    "duration": 23,
    "start_time": "2022-10-01T17:18:37.804Z"
   },
   {
    "duration": 95,
    "start_time": "2022-10-01T17:19:14.718Z"
   },
   {
    "duration": 6,
    "start_time": "2022-10-01T17:19:32.150Z"
   },
   {
    "duration": 11,
    "start_time": "2022-10-01T17:20:00.932Z"
   },
   {
    "duration": 288,
    "start_time": "2022-10-01T17:20:19.294Z"
   },
   {
    "duration": 206,
    "start_time": "2022-10-01T17:21:49.805Z"
   },
   {
    "duration": 313,
    "start_time": "2022-10-01T17:22:27.157Z"
   },
   {
    "duration": 436,
    "start_time": "2022-10-01T17:23:22.134Z"
   },
   {
    "duration": 414,
    "start_time": "2022-10-01T17:23:48.599Z"
   },
   {
    "duration": 347,
    "start_time": "2022-10-01T17:25:24.905Z"
   },
   {
    "duration": 5,
    "start_time": "2022-10-01T17:33:24.749Z"
   },
   {
    "duration": 2150,
    "start_time": "2022-10-01T17:33:24.756Z"
   },
   {
    "duration": 4,
    "start_time": "2022-10-01T17:33:26.909Z"
   },
   {
    "duration": 108,
    "start_time": "2022-10-01T17:33:26.915Z"
   },
   {
    "duration": 12,
    "start_time": "2022-10-01T17:33:27.025Z"
   },
   {
    "duration": 22,
    "start_time": "2022-10-01T17:33:27.039Z"
   },
   {
    "duration": 12,
    "start_time": "2022-10-01T17:33:27.063Z"
   },
   {
    "duration": 13,
    "start_time": "2022-10-01T17:33:27.076Z"
   },
   {
    "duration": 26,
    "start_time": "2022-10-01T17:33:27.092Z"
   },
   {
    "duration": 13,
    "start_time": "2022-10-01T17:33:27.139Z"
   },
   {
    "duration": 18,
    "start_time": "2022-10-01T17:33:27.154Z"
   },
   {
    "duration": 20,
    "start_time": "2022-10-01T17:33:27.174Z"
   },
   {
    "duration": 10,
    "start_time": "2022-10-01T17:33:27.196Z"
   },
   {
    "duration": 31,
    "start_time": "2022-10-01T17:33:27.208Z"
   },
   {
    "duration": 19,
    "start_time": "2022-10-01T17:33:27.241Z"
   },
   {
    "duration": 29,
    "start_time": "2022-10-01T17:33:27.262Z"
   },
   {
    "duration": 21,
    "start_time": "2022-10-01T17:33:27.293Z"
   },
   {
    "duration": 16,
    "start_time": "2022-10-01T17:33:27.316Z"
   },
   {
    "duration": 13,
    "start_time": "2022-10-01T17:33:27.334Z"
   },
   {
    "duration": 127,
    "start_time": "2022-10-01T17:33:27.349Z"
   },
   {
    "duration": 6,
    "start_time": "2022-10-01T17:33:27.477Z"
   },
   {
    "duration": 14,
    "start_time": "2022-10-01T17:33:27.484Z"
   },
   {
    "duration": 4,
    "start_time": "2022-10-01T17:33:27.499Z"
   },
   {
    "duration": 35,
    "start_time": "2022-10-01T17:33:27.506Z"
   },
   {
    "duration": 21,
    "start_time": "2022-10-01T17:33:27.542Z"
   },
   {
    "duration": 19,
    "start_time": "2022-10-01T17:33:27.565Z"
   },
   {
    "duration": 5,
    "start_time": "2022-10-01T17:33:27.586Z"
   },
   {
    "duration": 62,
    "start_time": "2022-10-01T17:33:27.593Z"
   },
   {
    "duration": 12,
    "start_time": "2022-10-01T17:33:27.656Z"
   },
   {
    "duration": 12,
    "start_time": "2022-10-01T17:33:27.669Z"
   },
   {
    "duration": 26,
    "start_time": "2022-10-01T17:33:27.682Z"
   },
   {
    "duration": 59,
    "start_time": "2022-10-01T17:33:27.710Z"
   },
   {
    "duration": 6,
    "start_time": "2022-10-01T17:33:27.770Z"
   },
   {
    "duration": 8,
    "start_time": "2022-10-01T17:33:27.778Z"
   },
   {
    "duration": 5,
    "start_time": "2022-10-01T17:33:27.788Z"
   },
   {
    "duration": 5,
    "start_time": "2022-10-01T17:33:27.795Z"
   },
   {
    "duration": 37,
    "start_time": "2022-10-01T17:33:27.802Z"
   },
   {
    "duration": 14,
    "start_time": "2022-10-01T17:33:27.840Z"
   },
   {
    "duration": 15,
    "start_time": "2022-10-01T17:33:27.855Z"
   },
   {
    "duration": 11284,
    "start_time": "2022-10-01T17:33:27.871Z"
   },
   {
    "duration": 6,
    "start_time": "2022-10-01T17:33:39.157Z"
   },
   {
    "duration": 12,
    "start_time": "2022-10-01T17:33:39.165Z"
   },
   {
    "duration": 9,
    "start_time": "2022-10-01T17:33:39.179Z"
   },
   {
    "duration": 58,
    "start_time": "2022-10-01T17:33:39.189Z"
   },
   {
    "duration": 15,
    "start_time": "2022-10-01T17:33:39.249Z"
   },
   {
    "duration": 8,
    "start_time": "2022-10-01T17:33:39.266Z"
   },
   {
    "duration": 10,
    "start_time": "2022-10-01T17:33:39.276Z"
   },
   {
    "duration": 9,
    "start_time": "2022-10-01T17:33:39.288Z"
   },
   {
    "duration": 4,
    "start_time": "2022-10-01T17:33:39.299Z"
   },
   {
    "duration": 35,
    "start_time": "2022-10-01T17:33:39.304Z"
   },
   {
    "duration": 3,
    "start_time": "2022-10-01T17:33:39.340Z"
   },
   {
    "duration": 7,
    "start_time": "2022-10-01T17:33:39.344Z"
   },
   {
    "duration": 81565,
    "start_time": "2022-10-01T17:33:39.352Z"
   },
   {
    "duration": 4,
    "start_time": "2022-10-01T17:35:00.919Z"
   },
   {
    "duration": 21,
    "start_time": "2022-10-01T17:35:00.925Z"
   },
   {
    "duration": 9,
    "start_time": "2022-10-01T17:35:00.948Z"
   },
   {
    "duration": 9,
    "start_time": "2022-10-01T17:35:00.958Z"
   },
   {
    "duration": 11283,
    "start_time": "2022-10-01T17:35:00.969Z"
   },
   {
    "duration": 4,
    "start_time": "2022-10-01T17:35:12.253Z"
   },
   {
    "duration": 9,
    "start_time": "2022-10-01T17:35:12.259Z"
   },
   {
    "duration": 4,
    "start_time": "2022-10-01T17:35:12.269Z"
   },
   {
    "duration": 8,
    "start_time": "2022-10-01T17:35:12.274Z"
   },
   {
    "duration": 6,
    "start_time": "2022-10-01T17:35:12.283Z"
   },
   {
    "duration": 2271,
    "start_time": "2022-10-01T17:35:12.290Z"
   },
   {
    "duration": 3,
    "start_time": "2022-10-01T17:35:14.563Z"
   },
   {
    "duration": 7,
    "start_time": "2022-10-01T17:35:14.567Z"
   },
   {
    "duration": 5,
    "start_time": "2022-10-01T17:35:14.575Z"
   },
   {
    "duration": 7,
    "start_time": "2022-10-01T17:35:14.581Z"
   },
   {
    "duration": 7,
    "start_time": "2022-10-01T17:35:14.592Z"
   },
   {
    "duration": 5,
    "start_time": "2022-10-01T17:35:14.601Z"
   },
   {
    "duration": 248,
    "start_time": "2022-10-01T17:35:14.607Z"
   },
   {
    "duration": 23,
    "start_time": "2022-10-01T17:35:14.856Z"
   },
   {
    "duration": 4,
    "start_time": "2022-10-01T17:35:14.881Z"
   },
   {
    "duration": 27,
    "start_time": "2022-10-01T17:35:14.886Z"
   },
   {
    "duration": 122,
    "start_time": "2022-10-01T17:35:14.939Z"
   },
   {
    "duration": 433,
    "start_time": "2022-10-01T17:35:15.063Z"
   },
   {
    "duration": 106,
    "start_time": "2022-10-01T17:35:15.498Z"
   },
   {
    "duration": 14,
    "start_time": "2022-10-01T17:35:15.605Z"
   },
   {
    "duration": 26,
    "start_time": "2022-10-01T17:35:15.621Z"
   },
   {
    "duration": 21,
    "start_time": "2022-10-01T17:35:15.649Z"
   },
   {
    "duration": 15,
    "start_time": "2022-10-01T17:35:15.672Z"
   },
   {
    "duration": 18,
    "start_time": "2022-10-01T17:35:15.689Z"
   },
   {
    "duration": 368,
    "start_time": "2022-10-01T17:35:15.709Z"
   }
  ],
  "kernelspec": {
   "display_name": "Python 3 (ipykernel)",
   "language": "python",
   "name": "python3"
  },
  "language_info": {
   "codemirror_mode": {
    "name": "ipython",
    "version": 3
   },
   "file_extension": ".py",
   "mimetype": "text/x-python",
   "name": "python",
   "nbconvert_exporter": "python",
   "pygments_lexer": "ipython3",
   "version": "3.9.13"
  },
  "toc": {
   "base_numbering": 1,
   "nav_menu": {},
   "number_sections": true,
   "sideBar": true,
   "skip_h1_title": true,
   "title_cell": "Table of Contents",
   "title_sidebar": "Contents",
   "toc_cell": false,
   "toc_position": {
    "height": "calc(100% - 180px)",
    "left": "10px",
    "top": "150px",
    "width": "224px"
   },
   "toc_section_display": true,
   "toc_window_display": false
  }
 },
 "nbformat": 4,
 "nbformat_minor": 2
}
